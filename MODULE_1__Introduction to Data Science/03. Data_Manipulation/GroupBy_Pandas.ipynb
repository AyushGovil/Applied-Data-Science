{
  "nbformat": 4,
  "nbformat_minor": 0,
  "metadata": {
    "colab": {
      "name": "GroupBy_Pandas.ipynb",
      "provenance": [],
      "collapsed_sections": [],
      "toc_visible": true
    },
    "kernelspec": {
      "name": "python3",
      "display_name": "Python 3"
    }
  },
  "cells": [
    {
      "cell_type": "markdown",
      "metadata": {
        "id": "ce1HbgnTu_T3",
        "colab_type": "text"
      },
      "source": [
        "# Groupby in Pandas\n",
        "\n",
        "In this notebook, we will learn about the groupby function in Pandas and how to create subsets of your existing dataframe by classifying the information that you need."
      ]
    },
    {
      "cell_type": "markdown",
      "metadata": {
        "id": "ofLjxZl7vKVA",
        "colab_type": "text"
      },
      "source": [
        "1. What is Groupby in Pandas?\n",
        "2. Groupby in Pandas: Plotting with Matplotlib"
      ]
    },
    {
      "cell_type": "markdown",
      "metadata": {
        "id": "2jTghqxUvPq3",
        "colab_type": "text"
      },
      "source": [
        "### What is Groupby in Pandas?\n",
        "\n",
        "Pandas is an awesome tool for classifying data into groups through the groupby() method. \n",
        "\n",
        "We can distribute the objects in pandas on any of their axis. \n",
        "\n",
        "In short, groupby means to analyze a pandas Series by some category.\n",
        "\n",
        "In short, **if you have repeated categories in your dataset, then you can create groups in order to classify your data into sub groups.** \n",
        "\n",
        "Remember, it won’t be wise to perform groupby method on unique values. \n",
        "\n",
        "Let’s look at the syntax of groupby to understand it in more depth:"
      ]
    },
    {
      "cell_type": "markdown",
      "metadata": {
        "id": "OTdGrjyuven0",
        "colab_type": "text"
      },
      "source": [
        "### Syntax:\n",
        "**DataFrame.groupby(self, by=None, axis=0, level=None, as_index=True, sort=True, group_keys=True, squeeze=False, observed=False, **kwargs)**"
      ]
    },
    {
      "cell_type": "markdown",
      "metadata": {
        "id": "qdYf0W66wPcn",
        "colab_type": "text"
      },
      "source": [
        "We will import a csv file by using the read_csv method. You can find the csv file here"
      ]
    },
    {
      "cell_type": "code",
      "metadata": {
        "id": "XQSW6zPSiIn0",
        "colab_type": "code",
        "colab": {
          "base_uri": "https://localhost:8080/",
          "height": 722
        },
        "outputId": "01323b65-cb6a-449c-9299-25e5dc5d14bd"
      },
      "source": [
        "import pandas as pd\n",
        "\n",
        "countries = pd.read_csv('countries.csv')\n",
        "\n",
        "countries"
      ],
      "execution_count": null,
      "outputs": [
        {
          "output_type": "execute_result",
          "data": {
            "text/html": [
              "<div>\n",
              "<style scoped>\n",
              "    .dataframe tbody tr th:only-of-type {\n",
              "        vertical-align: middle;\n",
              "    }\n",
              "\n",
              "    .dataframe tbody tr th {\n",
              "        vertical-align: top;\n",
              "    }\n",
              "\n",
              "    .dataframe thead th {\n",
              "        text-align: right;\n",
              "    }\n",
              "</style>\n",
              "<table border=\"1\" class=\"dataframe\">\n",
              "  <thead>\n",
              "    <tr style=\"text-align: right;\">\n",
              "      <th></th>\n",
              "      <th>Country</th>\n",
              "      <th>Region</th>\n",
              "      <th>Population</th>\n",
              "      <th>Area (sq. mi.)</th>\n",
              "      <th>Infant mortality (per 1000 births)</th>\n",
              "      <th>GDP ($ per capita)</th>\n",
              "      <th>Literacy (%)</th>\n",
              "      <th>Crops (%)</th>\n",
              "      <th>Climate</th>\n",
              "      <th>Birthrate</th>\n",
              "      <th>Deathrate</th>\n",
              "      <th>Agriculture</th>\n",
              "    </tr>\n",
              "  </thead>\n",
              "  <tbody>\n",
              "    <tr>\n",
              "      <th>0</th>\n",
              "      <td>Afghanistan</td>\n",
              "      <td>ASIA (EX. NEAR EAST)</td>\n",
              "      <td>31056997</td>\n",
              "      <td>647500</td>\n",
              "      <td>163,07</td>\n",
              "      <td>700.0</td>\n",
              "      <td>36,0</td>\n",
              "      <td>0,22</td>\n",
              "      <td>1</td>\n",
              "      <td>46,6</td>\n",
              "      <td>20,34</td>\n",
              "      <td>0,38</td>\n",
              "    </tr>\n",
              "    <tr>\n",
              "      <th>1</th>\n",
              "      <td>Albania</td>\n",
              "      <td>EASTERN EUROPE</td>\n",
              "      <td>3581655</td>\n",
              "      <td>28748</td>\n",
              "      <td>21,52</td>\n",
              "      <td>4500.0</td>\n",
              "      <td>86,5</td>\n",
              "      <td>4,42</td>\n",
              "      <td>3</td>\n",
              "      <td>15,11</td>\n",
              "      <td>5,22</td>\n",
              "      <td>0,232</td>\n",
              "    </tr>\n",
              "    <tr>\n",
              "      <th>2</th>\n",
              "      <td>Algeria</td>\n",
              "      <td>NORTHERN AFRICA</td>\n",
              "      <td>32930091</td>\n",
              "      <td>2381740</td>\n",
              "      <td>31</td>\n",
              "      <td>6000.0</td>\n",
              "      <td>70,0</td>\n",
              "      <td>0,25</td>\n",
              "      <td>1</td>\n",
              "      <td>17,14</td>\n",
              "      <td>4,61</td>\n",
              "      <td>0,101</td>\n",
              "    </tr>\n",
              "    <tr>\n",
              "      <th>3</th>\n",
              "      <td>American Samoa</td>\n",
              "      <td>OCEANIA</td>\n",
              "      <td>57794</td>\n",
              "      <td>199</td>\n",
              "      <td>9,27</td>\n",
              "      <td>8000.0</td>\n",
              "      <td>97,0</td>\n",
              "      <td>15</td>\n",
              "      <td>2</td>\n",
              "      <td>22,46</td>\n",
              "      <td>3,27</td>\n",
              "      <td>NaN</td>\n",
              "    </tr>\n",
              "    <tr>\n",
              "      <th>4</th>\n",
              "      <td>Andorra</td>\n",
              "      <td>WESTERN EUROPE</td>\n",
              "      <td>71201</td>\n",
              "      <td>468</td>\n",
              "      <td>4,05</td>\n",
              "      <td>19000.0</td>\n",
              "      <td>100,0</td>\n",
              "      <td>0</td>\n",
              "      <td>3</td>\n",
              "      <td>8,71</td>\n",
              "      <td>6,25</td>\n",
              "      <td>NaN</td>\n",
              "    </tr>\n",
              "    <tr>\n",
              "      <th>...</th>\n",
              "      <td>...</td>\n",
              "      <td>...</td>\n",
              "      <td>...</td>\n",
              "      <td>...</td>\n",
              "      <td>...</td>\n",
              "      <td>...</td>\n",
              "      <td>...</td>\n",
              "      <td>...</td>\n",
              "      <td>...</td>\n",
              "      <td>...</td>\n",
              "      <td>...</td>\n",
              "      <td>...</td>\n",
              "    </tr>\n",
              "    <tr>\n",
              "      <th>222</th>\n",
              "      <td>West Bank</td>\n",
              "      <td>NEAR EAST</td>\n",
              "      <td>2460492</td>\n",
              "      <td>5860</td>\n",
              "      <td>19,62</td>\n",
              "      <td>800.0</td>\n",
              "      <td>NaN</td>\n",
              "      <td>18,97</td>\n",
              "      <td>3</td>\n",
              "      <td>31,67</td>\n",
              "      <td>3,92</td>\n",
              "      <td>0,09</td>\n",
              "    </tr>\n",
              "    <tr>\n",
              "      <th>223</th>\n",
              "      <td>Western Sahara</td>\n",
              "      <td>NORTHERN AFRICA</td>\n",
              "      <td>273008</td>\n",
              "      <td>266000</td>\n",
              "      <td>NaN</td>\n",
              "      <td>NaN</td>\n",
              "      <td>NaN</td>\n",
              "      <td>0</td>\n",
              "      <td>1</td>\n",
              "      <td>NaN</td>\n",
              "      <td>NaN</td>\n",
              "      <td>NaN</td>\n",
              "    </tr>\n",
              "    <tr>\n",
              "      <th>224</th>\n",
              "      <td>Yemen</td>\n",
              "      <td>NEAR EAST</td>\n",
              "      <td>21456188</td>\n",
              "      <td>527970</td>\n",
              "      <td>61,5</td>\n",
              "      <td>800.0</td>\n",
              "      <td>50,2</td>\n",
              "      <td>0,24</td>\n",
              "      <td>1</td>\n",
              "      <td>42,89</td>\n",
              "      <td>8,3</td>\n",
              "      <td>0,135</td>\n",
              "    </tr>\n",
              "    <tr>\n",
              "      <th>225</th>\n",
              "      <td>Zambia</td>\n",
              "      <td>SUB-SAHARAN AFRICA</td>\n",
              "      <td>11502010</td>\n",
              "      <td>752614</td>\n",
              "      <td>88,29</td>\n",
              "      <td>800.0</td>\n",
              "      <td>80,6</td>\n",
              "      <td>0,03</td>\n",
              "      <td>2</td>\n",
              "      <td>41</td>\n",
              "      <td>19,93</td>\n",
              "      <td>0,22</td>\n",
              "    </tr>\n",
              "    <tr>\n",
              "      <th>226</th>\n",
              "      <td>Zimbabwe</td>\n",
              "      <td>SUB-SAHARAN AFRICA</td>\n",
              "      <td>12236805</td>\n",
              "      <td>390580</td>\n",
              "      <td>67,69</td>\n",
              "      <td>1900.0</td>\n",
              "      <td>90,7</td>\n",
              "      <td>0,34</td>\n",
              "      <td>2</td>\n",
              "      <td>28,01</td>\n",
              "      <td>21,84</td>\n",
              "      <td>0,179</td>\n",
              "    </tr>\n",
              "  </tbody>\n",
              "</table>\n",
              "<p>227 rows × 12 columns</p>\n",
              "</div>"
            ],
            "text/plain": [
              "             Country                               Region  ...  Deathrate  Agriculture\n",
              "0       Afghanistan         ASIA (EX. NEAR EAST)           ...      20,34         0,38\n",
              "1           Albania   EASTERN EUROPE                       ...       5,22        0,232\n",
              "2           Algeria   NORTHERN AFRICA                      ...       4,61        0,101\n",
              "3    American Samoa   OCEANIA                              ...       3,27          NaN\n",
              "4           Andorra   WESTERN EUROPE                       ...       6,25          NaN\n",
              "..               ...                                  ...  ...        ...          ...\n",
              "222       West Bank   NEAR EAST                            ...       3,92         0,09\n",
              "223  Western Sahara   NORTHERN AFRICA                      ...        NaN          NaN\n",
              "224           Yemen   NEAR EAST                            ...        8,3        0,135\n",
              "225          Zambia   SUB-SAHARAN AFRICA                   ...      19,93         0,22\n",
              "226        Zimbabwe   SUB-SAHARAN AFRICA                   ...      21,84        0,179\n",
              "\n",
              "[227 rows x 12 columns]"
            ]
          },
          "metadata": {
            "tags": []
          },
          "execution_count": 12
        }
      ]
    },
    {
      "cell_type": "markdown",
      "metadata": {
        "id": "bF0HhOcHwcwi",
        "colab_type": "text"
      },
      "source": [
        "Let’s say we want to group the dataframe by the region, so we can simply use the groupby() method:"
      ]
    },
    {
      "cell_type": "code",
      "metadata": {
        "id": "pFjB7uH5wbYX",
        "colab_type": "code",
        "colab": {
          "base_uri": "https://localhost:8080/",
          "height": 36
        },
        "outputId": "0cb3ac17-eece-4f30-b93b-46f3a7cba397"
      },
      "source": [
        "countries.groupby('Region')"
      ],
      "execution_count": null,
      "outputs": [
        {
          "output_type": "execute_result",
          "data": {
            "text/plain": [
              "<pandas.core.groupby.generic.DataFrameGroupBy object at 0x7f43728086d8>"
            ]
          },
          "metadata": {
            "tags": []
          },
          "execution_count": 2
        }
      ]
    },
    {
      "cell_type": "markdown",
      "metadata": {
        "id": "gnCxZItSwnAe",
        "colab_type": "text"
      },
      "source": [
        "**Output:**\n",
        "\n",
        "When we apply the groupby function, a pandas object is returned. So in order to work around that, we need to store the grouped dataframe in a variable:"
      ]
    },
    {
      "cell_type": "code",
      "metadata": {
        "id": "FQKqODQTwsTv",
        "colab_type": "code",
        "colab": {
          "base_uri": "https://localhost:8080/",
          "height": 36
        },
        "outputId": "78e1d4e9-f6bb-4e3a-9fbf-36d72f81bb46"
      },
      "source": [
        "region_groupby = countries.groupby('Region')\n",
        "region_groupby"
      ],
      "execution_count": null,
      "outputs": [
        {
          "output_type": "execute_result",
          "data": {
            "text/plain": [
              "<pandas.core.groupby.generic.DataFrameGroupBy object at 0x7f4371fe4cc0>"
            ]
          },
          "metadata": {
            "tags": []
          },
          "execution_count": 3
        }
      ]
    },
    {
      "cell_type": "markdown",
      "metadata": {
        "id": "TmewaUpIwvTl",
        "colab_type": "text"
      },
      "source": [
        "**Output:**\n",
        "\n",
        "It still is returned as an object, but now our pandas is stored inside a variable and we can call that variable with different methods as a grouped entity, so let’s look at the size of the grouped region dataframe:"
      ]
    },
    {
      "cell_type": "code",
      "metadata": {
        "id": "A6i2UwYww0bD",
        "colab_type": "code",
        "colab": {
          "base_uri": "https://localhost:8080/",
          "height": 261
        },
        "outputId": "c31ae80f-7deb-4536-b339-58e23d8e20ec"
      },
      "source": [
        "region_groupby.size()"
      ],
      "execution_count": null,
      "outputs": [
        {
          "output_type": "execute_result",
          "data": {
            "text/plain": [
              "Region\n",
              "ASIA (EX. NEAR EAST)                   28\n",
              "BALTICS                                 3\n",
              "C.W. OF IND. STATES                    12\n",
              "EASTERN EUROPE                         12\n",
              "LATIN AMER. & CARIB                    45\n",
              "NEAR EAST                              16\n",
              "NORTHERN AFRICA                         6\n",
              "NORTHERN AMERICA                        5\n",
              "OCEANIA                                21\n",
              "SUB-SAHARAN AFRICA                     51\n",
              "WESTERN EUROPE                         28\n",
              "dtype: int64"
            ]
          },
          "metadata": {
            "tags": []
          },
          "execution_count": 4
        }
      ]
    },
    {
      "cell_type": "markdown",
      "metadata": {
        "id": "E2Pmc5gDw5OC",
        "colab_type": "text"
      },
      "source": [
        "Let’s take out the population sum of distributed region area:"
      ]
    },
    {
      "cell_type": "code",
      "metadata": {
        "id": "20Xdzjc5w7QU",
        "colab_type": "code",
        "colab": {
          "base_uri": "https://localhost:8080/",
          "height": 261
        },
        "outputId": "cad26ea1-e3e1-495b-9ff0-4f7cd4853fff"
      },
      "source": [
        "region_groupby.Population.sum()"
      ],
      "execution_count": null,
      "outputs": [
        {
          "output_type": "execute_result",
          "data": {
            "text/plain": [
              "Region\n",
              "ASIA (EX. NEAR EAST)                   3687982236\n",
              "BALTICS                                   7184974\n",
              "C.W. OF IND. STATES                     280081548\n",
              "EASTERN EUROPE                          119914717\n",
              "LATIN AMER. & CARIB                     561824599\n",
              "NEAR EAST                               195068377\n",
              "NORTHERN AFRICA                         161407133\n",
              "NORTHERN AMERICA                        331672307\n",
              "OCEANIA                                  33131662\n",
              "SUB-SAHARAN AFRICA                      749437000\n",
              "WESTERN EUROPE                          396339998\n",
              "Name: Population, dtype: int64"
            ]
          },
          "metadata": {
            "tags": []
          },
          "execution_count": 5
        }
      ]
    },
    {
      "cell_type": "markdown",
      "metadata": {
        "id": "_zviD707w-m7",
        "colab_type": "text"
      },
      "source": [
        "You can apply the aggregation function on the population over the region category:"
      ]
    },
    {
      "cell_type": "code",
      "metadata": {
        "id": "Ml1XcVbJxAuQ",
        "colab_type": "code",
        "colab": {
          "base_uri": "https://localhost:8080/",
          "height": 426
        },
        "outputId": "9c1a2787-6309-4d0d-dcfc-f3c1930da235"
      },
      "source": [
        "region_groupby.Population.agg(['count','sum','min','max'])"
      ],
      "execution_count": null,
      "outputs": [
        {
          "output_type": "execute_result",
          "data": {
            "text/html": [
              "<div>\n",
              "<style scoped>\n",
              "    .dataframe tbody tr th:only-of-type {\n",
              "        vertical-align: middle;\n",
              "    }\n",
              "\n",
              "    .dataframe tbody tr th {\n",
              "        vertical-align: top;\n",
              "    }\n",
              "\n",
              "    .dataframe thead th {\n",
              "        text-align: right;\n",
              "    }\n",
              "</style>\n",
              "<table border=\"1\" class=\"dataframe\">\n",
              "  <thead>\n",
              "    <tr style=\"text-align: right;\">\n",
              "      <th></th>\n",
              "      <th>count</th>\n",
              "      <th>sum</th>\n",
              "      <th>min</th>\n",
              "      <th>max</th>\n",
              "    </tr>\n",
              "    <tr>\n",
              "      <th>Region</th>\n",
              "      <th></th>\n",
              "      <th></th>\n",
              "      <th></th>\n",
              "      <th></th>\n",
              "    </tr>\n",
              "  </thead>\n",
              "  <tbody>\n",
              "    <tr>\n",
              "      <th>ASIA (EX. NEAR EAST)</th>\n",
              "      <td>28</td>\n",
              "      <td>3687982236</td>\n",
              "      <td>359008</td>\n",
              "      <td>1313973713</td>\n",
              "    </tr>\n",
              "    <tr>\n",
              "      <th>BALTICS</th>\n",
              "      <td>3</td>\n",
              "      <td>7184974</td>\n",
              "      <td>1324333</td>\n",
              "      <td>3585906</td>\n",
              "    </tr>\n",
              "    <tr>\n",
              "      <th>C.W. OF IND. STATES</th>\n",
              "      <td>12</td>\n",
              "      <td>280081548</td>\n",
              "      <td>2976372</td>\n",
              "      <td>142893540</td>\n",
              "    </tr>\n",
              "    <tr>\n",
              "      <th>EASTERN EUROPE</th>\n",
              "      <td>12</td>\n",
              "      <td>119914717</td>\n",
              "      <td>2010347</td>\n",
              "      <td>38536869</td>\n",
              "    </tr>\n",
              "    <tr>\n",
              "      <th>LATIN AMER. &amp; CARIB</th>\n",
              "      <td>45</td>\n",
              "      <td>561824599</td>\n",
              "      <td>9439</td>\n",
              "      <td>188078227</td>\n",
              "    </tr>\n",
              "    <tr>\n",
              "      <th>NEAR EAST</th>\n",
              "      <td>16</td>\n",
              "      <td>195068377</td>\n",
              "      <td>698585</td>\n",
              "      <td>70413958</td>\n",
              "    </tr>\n",
              "    <tr>\n",
              "      <th>NORTHERN AFRICA</th>\n",
              "      <td>6</td>\n",
              "      <td>161407133</td>\n",
              "      <td>273008</td>\n",
              "      <td>78887007</td>\n",
              "    </tr>\n",
              "    <tr>\n",
              "      <th>NORTHERN AMERICA</th>\n",
              "      <td>5</td>\n",
              "      <td>331672307</td>\n",
              "      <td>7026</td>\n",
              "      <td>298444215</td>\n",
              "    </tr>\n",
              "    <tr>\n",
              "      <th>OCEANIA</th>\n",
              "      <td>21</td>\n",
              "      <td>33131662</td>\n",
              "      <td>11810</td>\n",
              "      <td>20264082</td>\n",
              "    </tr>\n",
              "    <tr>\n",
              "      <th>SUB-SAHARAN AFRICA</th>\n",
              "      <td>51</td>\n",
              "      <td>749437000</td>\n",
              "      <td>7502</td>\n",
              "      <td>131859731</td>\n",
              "    </tr>\n",
              "    <tr>\n",
              "      <th>WESTERN EUROPE</th>\n",
              "      <td>28</td>\n",
              "      <td>396339998</td>\n",
              "      <td>27928</td>\n",
              "      <td>82422299</td>\n",
              "    </tr>\n",
              "  </tbody>\n",
              "</table>\n",
              "</div>"
            ],
            "text/plain": [
              "                                     count         sum      min         max\n",
              "Region                                                                     \n",
              "ASIA (EX. NEAR EAST)                    28  3687982236   359008  1313973713\n",
              "BALTICS                                  3     7184974  1324333     3585906\n",
              "C.W. OF IND. STATES                     12   280081548  2976372   142893540\n",
              "EASTERN EUROPE                          12   119914717  2010347    38536869\n",
              "LATIN AMER. & CARIB                     45   561824599     9439   188078227\n",
              "NEAR EAST                               16   195068377   698585    70413958\n",
              "NORTHERN AFRICA                          6   161407133   273008    78887007\n",
              "NORTHERN AMERICA                         5   331672307     7026   298444215\n",
              "OCEANIA                                 21    33131662    11810    20264082\n",
              "SUB-SAHARAN AFRICA                      51   749437000     7502   131859731\n",
              "WESTERN EUROPE                          28   396339998    27928    82422299"
            ]
          },
          "metadata": {
            "tags": []
          },
          "execution_count": 6
        }
      ]
    },
    {
      "cell_type": "markdown",
      "metadata": {
        "id": "MNb1dNvSxED6",
        "colab_type": "text"
      },
      "source": [
        "### Groupby in Pandas: Plotting with Matplotlib\n",
        "\n",
        "You can create a visual display as well to make your analysis look more meaningful by importing matplotlib library. \n",
        "\n",
        "For example, you want to know the number of Countries present in each Region."
      ]
    },
    {
      "cell_type": "code",
      "metadata": {
        "id": "jTq2qupNxMbv",
        "colab_type": "code",
        "colab": {
          "base_uri": "https://localhost:8080/",
          "height": 261
        },
        "outputId": "e03bb292-2932-4363-9da7-ff0e12be622c"
      },
      "source": [
        "import matplotlib.pyplot as plt\n",
        "\n",
        "countries.groupby('Region')['Country'].count()"
      ],
      "execution_count": null,
      "outputs": [
        {
          "output_type": "execute_result",
          "data": {
            "text/plain": [
              "Region\n",
              "ASIA (EX. NEAR EAST)                   28\n",
              "BALTICS                                 3\n",
              "C.W. OF IND. STATES                    12\n",
              "EASTERN EUROPE                         12\n",
              "LATIN AMER. & CARIB                    45\n",
              "NEAR EAST                              16\n",
              "NORTHERN AFRICA                         6\n",
              "NORTHERN AMERICA                        5\n",
              "OCEANIA                                21\n",
              "SUB-SAHARAN AFRICA                     51\n",
              "WESTERN EUROPE                         28\n",
              "Name: Country, dtype: int64"
            ]
          },
          "metadata": {
            "tags": []
          },
          "execution_count": 10
        }
      ]
    },
    {
      "cell_type": "markdown",
      "metadata": {
        "id": "YoZkTHS8xSGy",
        "colab_type": "text"
      },
      "source": [
        "Let’s plot the result now:"
      ]
    },
    {
      "cell_type": "code",
      "metadata": {
        "id": "sFOkXnzcxU02",
        "colab_type": "code",
        "colab": {
          "base_uri": "https://localhost:8080/",
          "height": 265
        },
        "outputId": "508380b1-36c4-42db-b71a-8a66561d6888"
      },
      "source": [
        "countries.groupby('Region')['Country'].count().plot(kind=\"barh\")\n",
        "plt.show()"
      ],
      "execution_count": null,
      "outputs": [
        {
          "output_type": "display_data",
          "data": {
            "image/png": "[encoded data removed]",
            "text/plain": [
              "<Figure size 432x288 with 1 Axes>"
            ]
          },
          "metadata": {
            "tags": [],
            "needs_background": "light"
          }
        }
      ]
    }
  ]
}