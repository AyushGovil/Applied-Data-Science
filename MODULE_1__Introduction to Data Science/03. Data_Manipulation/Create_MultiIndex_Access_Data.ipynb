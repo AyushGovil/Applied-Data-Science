{
  "nbformat": 4,
  "nbformat_minor": 0,
  "metadata": {
    "colab": {
      "name": "Create_MultiIndex_Access_Data.ipynb",
      "provenance": [],
      "collapsed_sections": []
    },
    "kernelspec": {
      "name": "python3",
      "display_name": "Python 3"
    }
  },
  "cells": [
    {
      "cell_type": "markdown",
      "metadata": {
        "id": "ExWWU4iAAXSp",
        "colab_type": "text"
      },
      "source": [
        "# Creating a MultiIndex (Hierarchical Index) Objects - Forming DataFrame with MultiIndex - Accessing Data from a MultiIndexed DataFrame\n",
        "\n",
        "The MultiIndex object is the hierarchical analogue of the standard Index object which typically stores the axis labels in pandas objects. \n",
        "\n",
        "You can think of MultiIndex as an array of tuples where each tuple is unique. \n",
        "\n",
        "A MultiIndex can be created from a list of arrays (using **MultiIndex.from_arrays()**), \n",
        "\n",
        "an array of tuples (using **MultiIndex.from_tuples()**), \n",
        "\n",
        "a crossed set of iterables (using **MultiIndex.from_product()**), \n",
        "\n",
        "or a DataFrame (using **MultiIndex.from_frame()**). \n",
        "\n",
        "The Index constructor will attempt to return a MultiIndex when it is passed a list of tuples. \n",
        "\n",
        "The following examples demonstrate different ways to initialize MultiIndexes."
      ]
    },
    {
      "cell_type": "code",
      "metadata": {
        "id": "PxtbEnimA1AD",
        "colab_type": "code",
        "colab": {}
      },
      "source": [
        "import pandas as pd\n",
        "import numpy as np"
      ],
      "execution_count": 1,
      "outputs": []
    },
    {
      "cell_type": "code",
      "metadata": {
        "id": "mSZ36xMGAWb9",
        "colab_type": "code",
        "colab": {}
      },
      "source": [
        "arrays = [['bar', 'bar', 'baz', 'baz', 'foo', 'foo', 'qux', 'qux'],\n",
        "          ['one', 'two', 'one', 'two', 'one', 'two', 'one', 'two']]"
      ],
      "execution_count": 2,
      "outputs": []
    },
    {
      "cell_type": "code",
      "metadata": {
        "id": "a9g7cUI3Asbt",
        "colab_type": "code",
        "colab": {}
      },
      "source": [
        "tuples = list(zip(*arrays))"
      ],
      "execution_count": 3,
      "outputs": []
    },
    {
      "cell_type": "code",
      "metadata": {
        "id": "P3HkZdAJAu8T",
        "colab_type": "code",
        "colab": {
          "base_uri": "https://localhost:8080/",
          "height": 164
        },
        "outputId": "aa803d39-8269-40bf-ddfa-43f456d17785"
      },
      "source": [
        "tuples"
      ],
      "execution_count": 4,
      "outputs": [
        {
          "output_type": "execute_result",
          "data": {
            "text/plain": [
              "[('bar', 'one'),\n",
              " ('bar', 'two'),\n",
              " ('baz', 'one'),\n",
              " ('baz', 'two'),\n",
              " ('foo', 'one'),\n",
              " ('foo', 'two'),\n",
              " ('qux', 'one'),\n",
              " ('qux', 'two')]"
            ]
          },
          "metadata": {
            "tags": []
          },
          "execution_count": 4
        }
      ]
    },
    {
      "cell_type": "markdown",
      "metadata": {
        "id": "bly0pphzEQlZ",
        "colab_type": "text"
      },
      "source": [
        "### From Tuple"
      ]
    },
    {
      "cell_type": "code",
      "metadata": {
        "id": "ax32wB82Axik",
        "colab_type": "code",
        "colab": {
          "base_uri": "https://localhost:8080/",
          "height": 182
        },
        "outputId": "fc090f13-3c04-4eb2-ffb6-9ee00741088d"
      },
      "source": [
        "index = pd.MultiIndex.from_tuples(tuples, names=['first', 'second'])\n",
        "index"
      ],
      "execution_count": 5,
      "outputs": [
        {
          "output_type": "execute_result",
          "data": {
            "text/plain": [
              "MultiIndex([('bar', 'one'),\n",
              "            ('bar', 'two'),\n",
              "            ('baz', 'one'),\n",
              "            ('baz', 'two'),\n",
              "            ('foo', 'one'),\n",
              "            ('foo', 'two'),\n",
              "            ('qux', 'one'),\n",
              "            ('qux', 'two')],\n",
              "           names=['first', 'second'])"
            ]
          },
          "metadata": {
            "tags": []
          },
          "execution_count": 5
        }
      ]
    },
    {
      "cell_type": "code",
      "metadata": {
        "id": "ofodSu29A7Rg",
        "colab_type": "code",
        "colab": {
          "base_uri": "https://localhost:8080/",
          "height": 201
        },
        "outputId": "c39f3fca-89aa-49a7-c8e8-2c3ce27ae4c4"
      },
      "source": [
        "s = pd.Series(np.random.randn(8), index=index)\n",
        "s"
      ],
      "execution_count": 6,
      "outputs": [
        {
          "output_type": "execute_result",
          "data": {
            "text/plain": [
              "first  second\n",
              "bar    one       0.833750\n",
              "       two       0.097797\n",
              "baz    one      -0.340482\n",
              "       two       0.924362\n",
              "foo    one      -0.290514\n",
              "       two      -1.910361\n",
              "qux    one      -0.788704\n",
              "       two       0.511412\n",
              "dtype: float64"
            ]
          },
          "metadata": {
            "tags": []
          },
          "execution_count": 6
        }
      ]
    },
    {
      "cell_type": "markdown",
      "metadata": {
        "id": "Gn0MXHeAEJpZ",
        "colab_type": "text"
      },
      "source": [
        "### From Product"
      ]
    },
    {
      "cell_type": "markdown",
      "metadata": {
        "id": "NoQA7uwSBHGT",
        "colab_type": "text"
      },
      "source": [
        "When you want every pairing of the elements in two iterables, it can be easier to use the MultiIndex.from_product() method:"
      ]
    },
    {
      "cell_type": "code",
      "metadata": {
        "id": "3n5x6T1aBEdE",
        "colab_type": "code",
        "colab": {
          "base_uri": "https://localhost:8080/",
          "height": 182
        },
        "outputId": "a65054c5-741e-4742-975f-abf160c48291"
      },
      "source": [
        "iterables = [['bar', 'baz', 'foo', 'qux'], ['one', 'two']]\n",
        "mindex = pd.MultiIndex.from_product(iterables, names=['first', 'second'])\n",
        "mindex"
      ],
      "execution_count": 7,
      "outputs": [
        {
          "output_type": "execute_result",
          "data": {
            "text/plain": [
              "MultiIndex([('bar', 'one'),\n",
              "            ('bar', 'two'),\n",
              "            ('baz', 'one'),\n",
              "            ('baz', 'two'),\n",
              "            ('foo', 'one'),\n",
              "            ('foo', 'two'),\n",
              "            ('qux', 'one'),\n",
              "            ('qux', 'two')],\n",
              "           names=['first', 'second'])"
            ]
          },
          "metadata": {
            "tags": []
          },
          "execution_count": 7
        }
      ]
    },
    {
      "cell_type": "code",
      "metadata": {
        "id": "SR3pcD2DA6L8",
        "colab_type": "code",
        "colab": {
          "base_uri": "https://localhost:8080/",
          "height": 332
        },
        "outputId": "6d40d50b-fdfd-45d8-b8ac-487c0add9b8e"
      },
      "source": [
        "df = pd.DataFrame(np.random.randn(8), index=mindex, columns=['Value'])\n",
        "df"
      ],
      "execution_count": 8,
      "outputs": [
        {
          "output_type": "execute_result",
          "data": {
            "text/html": [
              "<div>\n",
              "<style scoped>\n",
              "    .dataframe tbody tr th:only-of-type {\n",
              "        vertical-align: middle;\n",
              "    }\n",
              "\n",
              "    .dataframe tbody tr th {\n",
              "        vertical-align: top;\n",
              "    }\n",
              "\n",
              "    .dataframe thead th {\n",
              "        text-align: right;\n",
              "    }\n",
              "</style>\n",
              "<table border=\"1\" class=\"dataframe\">\n",
              "  <thead>\n",
              "    <tr style=\"text-align: right;\">\n",
              "      <th></th>\n",
              "      <th></th>\n",
              "      <th>Value</th>\n",
              "    </tr>\n",
              "    <tr>\n",
              "      <th>first</th>\n",
              "      <th>second</th>\n",
              "      <th></th>\n",
              "    </tr>\n",
              "  </thead>\n",
              "  <tbody>\n",
              "    <tr>\n",
              "      <th rowspan=\"2\" valign=\"top\">bar</th>\n",
              "      <th>one</th>\n",
              "      <td>-0.168288</td>\n",
              "    </tr>\n",
              "    <tr>\n",
              "      <th>two</th>\n",
              "      <td>1.235525</td>\n",
              "    </tr>\n",
              "    <tr>\n",
              "      <th rowspan=\"2\" valign=\"top\">baz</th>\n",
              "      <th>one</th>\n",
              "      <td>0.106039</td>\n",
              "    </tr>\n",
              "    <tr>\n",
              "      <th>two</th>\n",
              "      <td>1.039472</td>\n",
              "    </tr>\n",
              "    <tr>\n",
              "      <th rowspan=\"2\" valign=\"top\">foo</th>\n",
              "      <th>one</th>\n",
              "      <td>0.570929</td>\n",
              "    </tr>\n",
              "    <tr>\n",
              "      <th>two</th>\n",
              "      <td>0.499319</td>\n",
              "    </tr>\n",
              "    <tr>\n",
              "      <th rowspan=\"2\" valign=\"top\">qux</th>\n",
              "      <th>one</th>\n",
              "      <td>-0.745725</td>\n",
              "    </tr>\n",
              "    <tr>\n",
              "      <th>two</th>\n",
              "      <td>0.668846</td>\n",
              "    </tr>\n",
              "  </tbody>\n",
              "</table>\n",
              "</div>"
            ],
            "text/plain": [
              "                 Value\n",
              "first second          \n",
              "bar   one    -0.168288\n",
              "      two     1.235525\n",
              "baz   one     0.106039\n",
              "      two     1.039472\n",
              "foo   one     0.570929\n",
              "      two     0.499319\n",
              "qux   one    -0.745725\n",
              "      two     0.668846"
            ]
          },
          "metadata": {
            "tags": []
          },
          "execution_count": 8
        }
      ]
    },
    {
      "cell_type": "markdown",
      "metadata": {
        "id": "r9q6OqzmEGKF",
        "colab_type": "text"
      },
      "source": [
        "### From DataFrame"
      ]
    },
    {
      "cell_type": "markdown",
      "metadata": {
        "id": "-bgF5IfJBPqK",
        "colab_type": "text"
      },
      "source": [
        "You can also construct a MultiIndex from a DataFrame directly, using the method MultiIndex.from_frame(). This is a complementary method to MultiIndex.to_frame()."
      ]
    },
    {
      "cell_type": "code",
      "metadata": {
        "id": "RlKmq3UeBSwZ",
        "colab_type": "code",
        "colab": {
          "base_uri": "https://localhost:8080/",
          "height": 109
        },
        "outputId": "318569c4-3f80-4477-b0dd-4c937deab2cd"
      },
      "source": [
        "df = pd.DataFrame([['bar', 'one'], ['bar', 'two'],\n",
        "                  ['foo', 'one'], ['foo', 'two']],\n",
        "                columns=['first', 'second'])\n",
        "\n",
        "\n",
        "pd.MultiIndex.from_frame(df)"
      ],
      "execution_count": 9,
      "outputs": [
        {
          "output_type": "execute_result",
          "data": {
            "text/plain": [
              "MultiIndex([('bar', 'one'),\n",
              "            ('bar', 'two'),\n",
              "            ('foo', 'one'),\n",
              "            ('foo', 'two')],\n",
              "           names=['first', 'second'])"
            ]
          },
          "metadata": {
            "tags": []
          },
          "execution_count": 9
        }
      ]
    },
    {
      "cell_type": "markdown",
      "metadata": {
        "id": "9QgoeOIEECBh",
        "colab_type": "text"
      },
      "source": [
        "### From Array"
      ]
    },
    {
      "cell_type": "markdown",
      "metadata": {
        "id": "c-Q3K1tJBaSc",
        "colab_type": "text"
      },
      "source": [
        "As a convenience, you can pass a list of arrays directly into Series or DataFrame to construct a MultiIndex automatically:"
      ]
    },
    {
      "cell_type": "code",
      "metadata": {
        "id": "vasRJkMqBcra",
        "colab_type": "code",
        "colab": {
          "base_uri": "https://localhost:8080/",
          "height": 182
        },
        "outputId": "3e5ecb9d-07cc-4a7f-da2d-cad82ca84b47"
      },
      "source": [
        "arrays = [np.array(['bar', 'bar', 'baz', 'baz', 'foo', 'foo', 'qux', 'qux']),\n",
        "np.array(['one', 'two', 'one', 'two', 'one', 'two', 'one', 'two'])]\n",
        "\n",
        "s = pd.Series(np.random.randn(8), index=arrays)\n",
        "s"
      ],
      "execution_count": 10,
      "outputs": [
        {
          "output_type": "execute_result",
          "data": {
            "text/plain": [
              "bar  one   -2.584272\n",
              "     two   -1.903928\n",
              "baz  one   -0.237914\n",
              "     two    0.371016\n",
              "foo  one    1.141270\n",
              "     two    0.585330\n",
              "qux  one    0.166543\n",
              "     two    0.269481\n",
              "dtype: float64"
            ]
          },
          "metadata": {
            "tags": []
          },
          "execution_count": 10
        }
      ]
    },
    {
      "cell_type": "code",
      "metadata": {
        "id": "6TWcUugpBrp9",
        "colab_type": "code",
        "colab": {
          "base_uri": "https://localhost:8080/",
          "height": 300
        },
        "outputId": "a497f0dd-40ef-4024-bc18-0c8699973e20"
      },
      "source": [
        "df = pd.DataFrame(np.random.randn(8, 4), index=arrays)\n",
        "df"
      ],
      "execution_count": 11,
      "outputs": [
        {
          "output_type": "execute_result",
          "data": {
            "text/html": [
              "<div>\n",
              "<style scoped>\n",
              "    .dataframe tbody tr th:only-of-type {\n",
              "        vertical-align: middle;\n",
              "    }\n",
              "\n",
              "    .dataframe tbody tr th {\n",
              "        vertical-align: top;\n",
              "    }\n",
              "\n",
              "    .dataframe thead th {\n",
              "        text-align: right;\n",
              "    }\n",
              "</style>\n",
              "<table border=\"1\" class=\"dataframe\">\n",
              "  <thead>\n",
              "    <tr style=\"text-align: right;\">\n",
              "      <th></th>\n",
              "      <th></th>\n",
              "      <th>0</th>\n",
              "      <th>1</th>\n",
              "      <th>2</th>\n",
              "      <th>3</th>\n",
              "    </tr>\n",
              "  </thead>\n",
              "  <tbody>\n",
              "    <tr>\n",
              "      <th rowspan=\"2\" valign=\"top\">bar</th>\n",
              "      <th>one</th>\n",
              "      <td>-0.831120</td>\n",
              "      <td>0.699244</td>\n",
              "      <td>0.829856</td>\n",
              "      <td>-1.476933</td>\n",
              "    </tr>\n",
              "    <tr>\n",
              "      <th>two</th>\n",
              "      <td>0.083280</td>\n",
              "      <td>0.649442</td>\n",
              "      <td>-1.018775</td>\n",
              "      <td>0.451348</td>\n",
              "    </tr>\n",
              "    <tr>\n",
              "      <th rowspan=\"2\" valign=\"top\">baz</th>\n",
              "      <th>one</th>\n",
              "      <td>0.047405</td>\n",
              "      <td>-0.607770</td>\n",
              "      <td>-0.726212</td>\n",
              "      <td>0.326543</td>\n",
              "    </tr>\n",
              "    <tr>\n",
              "      <th>two</th>\n",
              "      <td>-0.380054</td>\n",
              "      <td>-0.405311</td>\n",
              "      <td>-0.598826</td>\n",
              "      <td>0.667852</td>\n",
              "    </tr>\n",
              "    <tr>\n",
              "      <th rowspan=\"2\" valign=\"top\">foo</th>\n",
              "      <th>one</th>\n",
              "      <td>-1.286423</td>\n",
              "      <td>0.436432</td>\n",
              "      <td>1.825972</td>\n",
              "      <td>0.441394</td>\n",
              "    </tr>\n",
              "    <tr>\n",
              "      <th>two</th>\n",
              "      <td>-0.614868</td>\n",
              "      <td>-0.459946</td>\n",
              "      <td>1.101575</td>\n",
              "      <td>0.925332</td>\n",
              "    </tr>\n",
              "    <tr>\n",
              "      <th rowspan=\"2\" valign=\"top\">qux</th>\n",
              "      <th>one</th>\n",
              "      <td>-0.679105</td>\n",
              "      <td>0.489705</td>\n",
              "      <td>-1.064863</td>\n",
              "      <td>1.414558</td>\n",
              "    </tr>\n",
              "    <tr>\n",
              "      <th>two</th>\n",
              "      <td>-1.539423</td>\n",
              "      <td>0.259661</td>\n",
              "      <td>0.879745</td>\n",
              "      <td>-1.279806</td>\n",
              "    </tr>\n",
              "  </tbody>\n",
              "</table>\n",
              "</div>"
            ],
            "text/plain": [
              "                0         1         2         3\n",
              "bar one -0.831120  0.699244  0.829856 -1.476933\n",
              "    two  0.083280  0.649442 -1.018775  0.451348\n",
              "baz one  0.047405 -0.607770 -0.726212  0.326543\n",
              "    two -0.380054 -0.405311 -0.598826  0.667852\n",
              "foo one -1.286423  0.436432  1.825972  0.441394\n",
              "    two -0.614868 -0.459946  1.101575  0.925332\n",
              "qux one -0.679105  0.489705 -1.064863  1.414558\n",
              "    two -1.539423  0.259661  0.879745 -1.279806"
            ]
          },
          "metadata": {
            "tags": []
          },
          "execution_count": 11
        }
      ]
    },
    {
      "cell_type": "markdown",
      "metadata": {
        "id": "Tp49wM10B3cM",
        "colab_type": "text"
      },
      "source": [
        "## Setting Name to a MultiIndex Column\n",
        "\n",
        "All of the MultiIndex constructors accept a names argument which stores string names for the levels themselves. If no names are provided, None will be assigned:"
      ]
    },
    {
      "cell_type": "code",
      "metadata": {
        "id": "galKDNtfB5RJ",
        "colab_type": "code",
        "colab": {
          "base_uri": "https://localhost:8080/",
          "height": 35
        },
        "outputId": "c77f866c-67cf-4009-ab6a-650be35aa6cf"
      },
      "source": [
        "df.index.names"
      ],
      "execution_count": 12,
      "outputs": [
        {
          "output_type": "execute_result",
          "data": {
            "text/plain": [
              "FrozenList([None, None])"
            ]
          },
          "metadata": {
            "tags": []
          },
          "execution_count": 12
        }
      ]
    },
    {
      "cell_type": "code",
      "metadata": {
        "id": "QgKSJnpLB8TT",
        "colab_type": "code",
        "colab": {
          "base_uri": "https://localhost:8080/",
          "height": 332
        },
        "outputId": "e43a70ed-082e-4cd8-8cb1-07f69195a146"
      },
      "source": [
        "df.index.names=[\"First\", \"Second\"]\n",
        "df"
      ],
      "execution_count": 13,
      "outputs": [
        {
          "output_type": "execute_result",
          "data": {
            "text/html": [
              "<div>\n",
              "<style scoped>\n",
              "    .dataframe tbody tr th:only-of-type {\n",
              "        vertical-align: middle;\n",
              "    }\n",
              "\n",
              "    .dataframe tbody tr th {\n",
              "        vertical-align: top;\n",
              "    }\n",
              "\n",
              "    .dataframe thead th {\n",
              "        text-align: right;\n",
              "    }\n",
              "</style>\n",
              "<table border=\"1\" class=\"dataframe\">\n",
              "  <thead>\n",
              "    <tr style=\"text-align: right;\">\n",
              "      <th></th>\n",
              "      <th></th>\n",
              "      <th>0</th>\n",
              "      <th>1</th>\n",
              "      <th>2</th>\n",
              "      <th>3</th>\n",
              "    </tr>\n",
              "    <tr>\n",
              "      <th>First</th>\n",
              "      <th>Second</th>\n",
              "      <th></th>\n",
              "      <th></th>\n",
              "      <th></th>\n",
              "      <th></th>\n",
              "    </tr>\n",
              "  </thead>\n",
              "  <tbody>\n",
              "    <tr>\n",
              "      <th rowspan=\"2\" valign=\"top\">bar</th>\n",
              "      <th>one</th>\n",
              "      <td>-0.831120</td>\n",
              "      <td>0.699244</td>\n",
              "      <td>0.829856</td>\n",
              "      <td>-1.476933</td>\n",
              "    </tr>\n",
              "    <tr>\n",
              "      <th>two</th>\n",
              "      <td>0.083280</td>\n",
              "      <td>0.649442</td>\n",
              "      <td>-1.018775</td>\n",
              "      <td>0.451348</td>\n",
              "    </tr>\n",
              "    <tr>\n",
              "      <th rowspan=\"2\" valign=\"top\">baz</th>\n",
              "      <th>one</th>\n",
              "      <td>0.047405</td>\n",
              "      <td>-0.607770</td>\n",
              "      <td>-0.726212</td>\n",
              "      <td>0.326543</td>\n",
              "    </tr>\n",
              "    <tr>\n",
              "      <th>two</th>\n",
              "      <td>-0.380054</td>\n",
              "      <td>-0.405311</td>\n",
              "      <td>-0.598826</td>\n",
              "      <td>0.667852</td>\n",
              "    </tr>\n",
              "    <tr>\n",
              "      <th rowspan=\"2\" valign=\"top\">foo</th>\n",
              "      <th>one</th>\n",
              "      <td>-1.286423</td>\n",
              "      <td>0.436432</td>\n",
              "      <td>1.825972</td>\n",
              "      <td>0.441394</td>\n",
              "    </tr>\n",
              "    <tr>\n",
              "      <th>two</th>\n",
              "      <td>-0.614868</td>\n",
              "      <td>-0.459946</td>\n",
              "      <td>1.101575</td>\n",
              "      <td>0.925332</td>\n",
              "    </tr>\n",
              "    <tr>\n",
              "      <th rowspan=\"2\" valign=\"top\">qux</th>\n",
              "      <th>one</th>\n",
              "      <td>-0.679105</td>\n",
              "      <td>0.489705</td>\n",
              "      <td>-1.064863</td>\n",
              "      <td>1.414558</td>\n",
              "    </tr>\n",
              "    <tr>\n",
              "      <th>two</th>\n",
              "      <td>-1.539423</td>\n",
              "      <td>0.259661</td>\n",
              "      <td>0.879745</td>\n",
              "      <td>-1.279806</td>\n",
              "    </tr>\n",
              "  </tbody>\n",
              "</table>\n",
              "</div>"
            ],
            "text/plain": [
              "                     0         1         2         3\n",
              "First Second                                        \n",
              "bar   one    -0.831120  0.699244  0.829856 -1.476933\n",
              "      two     0.083280  0.649442 -1.018775  0.451348\n",
              "baz   one     0.047405 -0.607770 -0.726212  0.326543\n",
              "      two    -0.380054 -0.405311 -0.598826  0.667852\n",
              "foo   one    -1.286423  0.436432  1.825972  0.441394\n",
              "      two    -0.614868 -0.459946  1.101575  0.925332\n",
              "qux   one    -0.679105  0.489705 -1.064863  1.414558\n",
              "      two    -1.539423  0.259661  0.879745 -1.279806"
            ]
          },
          "metadata": {
            "tags": []
          },
          "execution_count": 13
        }
      ]
    },
    {
      "cell_type": "markdown",
      "metadata": {
        "id": "2y3IqBReCT-a",
        "colab_type": "text"
      },
      "source": [
        "## MultiIndex Columns"
      ]
    },
    {
      "cell_type": "markdown",
      "metadata": {
        "id": "Zmk7Z2yPB8C7",
        "colab_type": "text"
      },
      "source": [
        "This index can back any axis of a pandas object, and the number of levels of the index is up to you:"
      ]
    },
    {
      "cell_type": "code",
      "metadata": {
        "id": "7nhcMS23FhWr",
        "colab_type": "code",
        "colab": {
          "base_uri": "https://localhost:8080/",
          "height": 182
        },
        "outputId": "5b4e7e93-1dac-49e8-88e4-d44fa8636042"
      },
      "source": [
        "index"
      ],
      "execution_count": 14,
      "outputs": [
        {
          "output_type": "execute_result",
          "data": {
            "text/plain": [
              "MultiIndex([('bar', 'one'),\n",
              "            ('bar', 'two'),\n",
              "            ('baz', 'one'),\n",
              "            ('baz', 'two'),\n",
              "            ('foo', 'one'),\n",
              "            ('foo', 'two'),\n",
              "            ('qux', 'one'),\n",
              "            ('qux', 'two')],\n",
              "           names=['first', 'second'])"
            ]
          },
          "metadata": {
            "tags": []
          },
          "execution_count": 14
        }
      ]
    },
    {
      "cell_type": "code",
      "metadata": {
        "id": "4kC3T4onB-Fr",
        "colab_type": "code",
        "colab": {}
      },
      "source": [
        "df = pd.DataFrame(np.random.randn(3, 8), index=['A', 'B', 'C'], columns=index)"
      ],
      "execution_count": 15,
      "outputs": []
    },
    {
      "cell_type": "code",
      "metadata": {
        "id": "9hgt1YxBF1zN",
        "colab_type": "code",
        "colab": {
          "base_uri": "https://localhost:8080/",
          "height": 175
        },
        "outputId": "14331136-5397-4601-cf01-03706a93b26f"
      },
      "source": [
        "df"
      ],
      "execution_count": 16,
      "outputs": [
        {
          "output_type": "execute_result",
          "data": {
            "text/html": [
              "<div>\n",
              "<style scoped>\n",
              "    .dataframe tbody tr th:only-of-type {\n",
              "        vertical-align: middle;\n",
              "    }\n",
              "\n",
              "    .dataframe tbody tr th {\n",
              "        vertical-align: top;\n",
              "    }\n",
              "\n",
              "    .dataframe thead tr th {\n",
              "        text-align: left;\n",
              "    }\n",
              "</style>\n",
              "<table border=\"1\" class=\"dataframe\">\n",
              "  <thead>\n",
              "    <tr>\n",
              "      <th>first</th>\n",
              "      <th colspan=\"2\" halign=\"left\">bar</th>\n",
              "      <th colspan=\"2\" halign=\"left\">baz</th>\n",
              "      <th colspan=\"2\" halign=\"left\">foo</th>\n",
              "      <th colspan=\"2\" halign=\"left\">qux</th>\n",
              "    </tr>\n",
              "    <tr>\n",
              "      <th>second</th>\n",
              "      <th>one</th>\n",
              "      <th>two</th>\n",
              "      <th>one</th>\n",
              "      <th>two</th>\n",
              "      <th>one</th>\n",
              "      <th>two</th>\n",
              "      <th>one</th>\n",
              "      <th>two</th>\n",
              "    </tr>\n",
              "  </thead>\n",
              "  <tbody>\n",
              "    <tr>\n",
              "      <th>A</th>\n",
              "      <td>1.956486</td>\n",
              "      <td>2.151983</td>\n",
              "      <td>0.499499</td>\n",
              "      <td>-0.670543</td>\n",
              "      <td>0.218849</td>\n",
              "      <td>1.846146</td>\n",
              "      <td>1.522105</td>\n",
              "      <td>-0.130854</td>\n",
              "    </tr>\n",
              "    <tr>\n",
              "      <th>B</th>\n",
              "      <td>0.054652</td>\n",
              "      <td>-0.663455</td>\n",
              "      <td>-0.938688</td>\n",
              "      <td>0.417795</td>\n",
              "      <td>0.368269</td>\n",
              "      <td>-1.252605</td>\n",
              "      <td>-0.616281</td>\n",
              "      <td>-1.365875</td>\n",
              "    </tr>\n",
              "    <tr>\n",
              "      <th>C</th>\n",
              "      <td>-0.712757</td>\n",
              "      <td>1.145038</td>\n",
              "      <td>0.629326</td>\n",
              "      <td>-0.369060</td>\n",
              "      <td>1.191872</td>\n",
              "      <td>-1.643647</td>\n",
              "      <td>1.639173</td>\n",
              "      <td>-0.048317</td>\n",
              "    </tr>\n",
              "  </tbody>\n",
              "</table>\n",
              "</div>"
            ],
            "text/plain": [
              "first        bar                 baz  ...       foo       qux          \n",
              "second       one       two       one  ...       two       one       two\n",
              "A       1.956486  2.151983  0.499499  ...  1.846146  1.522105 -0.130854\n",
              "B       0.054652 -0.663455 -0.938688  ... -1.252605 -0.616281 -1.365875\n",
              "C      -0.712757  1.145038  0.629326  ... -1.643647  1.639173 -0.048317\n",
              "\n",
              "[3 rows x 8 columns]"
            ]
          },
          "metadata": {
            "tags": []
          },
          "execution_count": 16
        }
      ]
    },
    {
      "cell_type": "markdown",
      "metadata": {
        "id": "0Igl2XoNCMg_",
        "colab_type": "text"
      },
      "source": [
        "It’s worth keeping in mind that there’s nothing preventing you from using tuples as atomic labels on an axis:"
      ]
    },
    {
      "cell_type": "code",
      "metadata": {
        "id": "M4Bpl5M7COPs",
        "colab_type": "code",
        "colab": {
          "base_uri": "https://localhost:8080/",
          "height": 182
        },
        "outputId": "ebc436b8-276b-4c43-ab67-7a76dfff02ff"
      },
      "source": [
        "pd.Series(np.random.randn(8), index=tuples)"
      ],
      "execution_count": 17,
      "outputs": [
        {
          "output_type": "execute_result",
          "data": {
            "text/plain": [
              "(bar, one)    1.737675\n",
              "(bar, two)   -1.188568\n",
              "(baz, one)    0.267118\n",
              "(baz, two)   -0.944693\n",
              "(foo, one)   -1.862257\n",
              "(foo, two)    0.511478\n",
              "(qux, one)    0.807032\n",
              "(qux, two)    0.220280\n",
              "dtype: float64"
            ]
          },
          "metadata": {
            "tags": []
          },
          "execution_count": 17
        }
      ]
    },
    {
      "cell_type": "markdown",
      "metadata": {
        "id": "uHirhZHuCR_E",
        "colab_type": "text"
      },
      "source": [
        "The reason that the MultiIndex matters is that it can allow you to do grouping, selection, and reshaping operations as we will describe below and in subsequent areas of this notebook. \n",
        "\n",
        "However, when loading data from a file, you may wish to generate your own MultiIndex when preparing the data set."
      ]
    },
    {
      "cell_type": "markdown",
      "metadata": {
        "id": "eP4LNgLFduSv",
        "colab_type": "text"
      },
      "source": [
        "# ++++++++++++++++++++++++++++++++++++++++++++++++++++++\n",
        "## Accessing Data from a MultiIndexed DataFrame"
      ]
    },
    {
      "cell_type": "markdown",
      "metadata": {
        "id": "HFaLXwiMFQte",
        "colab_type": "text"
      },
      "source": [
        "### Access Data from  MultiIndexed Rows"
      ]
    },
    {
      "cell_type": "code",
      "metadata": {
        "id": "BpAD-yONFIlk",
        "colab_type": "code",
        "colab": {
          "base_uri": "https://localhost:8080/",
          "height": 182
        },
        "outputId": "f3d6811a-350d-430e-9d53-9ca91aeb4d15"
      },
      "source": [
        "tuples = [('bar', 'one'),\n",
        " ('bar', 'two'),\n",
        " ('baz', 'one'),\n",
        " ('baz', 'two'),\n",
        " ('foo', 'one'),\n",
        " ('foo', 'two'),\n",
        " ('qux', 'one'),\n",
        " ('qux', 'two')]\n",
        "\n",
        "mindex = pd.MultiIndex.from_tuples(tuples, names=['first', 'second'])\n",
        "mindex"
      ],
      "execution_count": 30,
      "outputs": [
        {
          "output_type": "execute_result",
          "data": {
            "text/plain": [
              "MultiIndex([('bar', 'one'),\n",
              "            ('bar', 'two'),\n",
              "            ('baz', 'one'),\n",
              "            ('baz', 'two'),\n",
              "            ('foo', 'one'),\n",
              "            ('foo', 'two'),\n",
              "            ('qux', 'one'),\n",
              "            ('qux', 'two')],\n",
              "           names=['first', 'second'])"
            ]
          },
          "metadata": {
            "tags": []
          },
          "execution_count": 30
        }
      ]
    },
    {
      "cell_type": "code",
      "metadata": {
        "id": "u3GJY9hVFMSl",
        "colab_type": "code",
        "colab": {
          "base_uri": "https://localhost:8080/",
          "height": 332
        },
        "outputId": "995548af-dfc2-48e0-c816-aeaa59539d04"
      },
      "source": [
        "df = pd.DataFrame(np.random.randn(8, 3), columns=['A', 'B', 'C'], index=mindex)\n",
        "df"
      ],
      "execution_count": 32,
      "outputs": [
        {
          "output_type": "execute_result",
          "data": {
            "text/html": [
              "<div>\n",
              "<style scoped>\n",
              "    .dataframe tbody tr th:only-of-type {\n",
              "        vertical-align: middle;\n",
              "    }\n",
              "\n",
              "    .dataframe tbody tr th {\n",
              "        vertical-align: top;\n",
              "    }\n",
              "\n",
              "    .dataframe thead th {\n",
              "        text-align: right;\n",
              "    }\n",
              "</style>\n",
              "<table border=\"1\" class=\"dataframe\">\n",
              "  <thead>\n",
              "    <tr style=\"text-align: right;\">\n",
              "      <th></th>\n",
              "      <th></th>\n",
              "      <th>A</th>\n",
              "      <th>B</th>\n",
              "      <th>C</th>\n",
              "    </tr>\n",
              "    <tr>\n",
              "      <th>first</th>\n",
              "      <th>second</th>\n",
              "      <th></th>\n",
              "      <th></th>\n",
              "      <th></th>\n",
              "    </tr>\n",
              "  </thead>\n",
              "  <tbody>\n",
              "    <tr>\n",
              "      <th rowspan=\"2\" valign=\"top\">bar</th>\n",
              "      <th>one</th>\n",
              "      <td>0.924473</td>\n",
              "      <td>-0.347282</td>\n",
              "      <td>-0.388588</td>\n",
              "    </tr>\n",
              "    <tr>\n",
              "      <th>two</th>\n",
              "      <td>1.206788</td>\n",
              "      <td>-0.364663</td>\n",
              "      <td>-1.173634</td>\n",
              "    </tr>\n",
              "    <tr>\n",
              "      <th rowspan=\"2\" valign=\"top\">baz</th>\n",
              "      <th>one</th>\n",
              "      <td>1.308784</td>\n",
              "      <td>-0.287066</td>\n",
              "      <td>0.208028</td>\n",
              "    </tr>\n",
              "    <tr>\n",
              "      <th>two</th>\n",
              "      <td>0.342473</td>\n",
              "      <td>-1.272328</td>\n",
              "      <td>0.298117</td>\n",
              "    </tr>\n",
              "    <tr>\n",
              "      <th rowspan=\"2\" valign=\"top\">foo</th>\n",
              "      <th>one</th>\n",
              "      <td>1.150158</td>\n",
              "      <td>-0.224495</td>\n",
              "      <td>-0.526445</td>\n",
              "    </tr>\n",
              "    <tr>\n",
              "      <th>two</th>\n",
              "      <td>0.135815</td>\n",
              "      <td>-0.731925</td>\n",
              "      <td>2.015287</td>\n",
              "    </tr>\n",
              "    <tr>\n",
              "      <th rowspan=\"2\" valign=\"top\">qux</th>\n",
              "      <th>one</th>\n",
              "      <td>1.511933</td>\n",
              "      <td>-0.461144</td>\n",
              "      <td>0.593067</td>\n",
              "    </tr>\n",
              "    <tr>\n",
              "      <th>two</th>\n",
              "      <td>1.200000</td>\n",
              "      <td>0.389731</td>\n",
              "      <td>-0.765996</td>\n",
              "    </tr>\n",
              "  </tbody>\n",
              "</table>\n",
              "</div>"
            ],
            "text/plain": [
              "                     A         B         C\n",
              "first second                              \n",
              "bar   one     0.924473 -0.347282 -0.388588\n",
              "      two     1.206788 -0.364663 -1.173634\n",
              "baz   one     1.308784 -0.287066  0.208028\n",
              "      two     0.342473 -1.272328  0.298117\n",
              "foo   one     1.150158 -0.224495 -0.526445\n",
              "      two     0.135815 -0.731925  2.015287\n",
              "qux   one     1.511933 -0.461144  0.593067\n",
              "      two     1.200000  0.389731 -0.765996"
            ]
          },
          "metadata": {
            "tags": []
          },
          "execution_count": 32
        }
      ]
    },
    {
      "cell_type": "code",
      "metadata": {
        "id": "OMq_KTwxFz7-",
        "colab_type": "code",
        "colab": {
          "base_uri": "https://localhost:8080/",
          "height": 90
        },
        "outputId": "7bddcc00-cf04-4f63-dd86-6b9fd0a55ee8"
      },
      "source": [
        "df.loc[('foo','one'),:]"
      ],
      "execution_count": 33,
      "outputs": [
        {
          "output_type": "execute_result",
          "data": {
            "text/plain": [
              "A    1.150158\n",
              "B   -0.224495\n",
              "C   -0.526445\n",
              "Name: (foo, one), dtype: float64"
            ]
          },
          "metadata": {
            "tags": []
          },
          "execution_count": 33
        }
      ]
    },
    {
      "cell_type": "code",
      "metadata": {
        "id": "vFszHIF-GHHn",
        "colab_type": "code",
        "colab": {
          "base_uri": "https://localhost:8080/",
          "height": 143
        },
        "outputId": "58f9985f-de7b-4420-f8c2-b47e18fc3925"
      },
      "source": [
        "df.loc[('foo',slice(None)),:]"
      ],
      "execution_count": 34,
      "outputs": [
        {
          "output_type": "execute_result",
          "data": {
            "text/html": [
              "<div>\n",
              "<style scoped>\n",
              "    .dataframe tbody tr th:only-of-type {\n",
              "        vertical-align: middle;\n",
              "    }\n",
              "\n",
              "    .dataframe tbody tr th {\n",
              "        vertical-align: top;\n",
              "    }\n",
              "\n",
              "    .dataframe thead th {\n",
              "        text-align: right;\n",
              "    }\n",
              "</style>\n",
              "<table border=\"1\" class=\"dataframe\">\n",
              "  <thead>\n",
              "    <tr style=\"text-align: right;\">\n",
              "      <th></th>\n",
              "      <th></th>\n",
              "      <th>A</th>\n",
              "      <th>B</th>\n",
              "      <th>C</th>\n",
              "    </tr>\n",
              "    <tr>\n",
              "      <th>first</th>\n",
              "      <th>second</th>\n",
              "      <th></th>\n",
              "      <th></th>\n",
              "      <th></th>\n",
              "    </tr>\n",
              "  </thead>\n",
              "  <tbody>\n",
              "    <tr>\n",
              "      <th rowspan=\"2\" valign=\"top\">foo</th>\n",
              "      <th>one</th>\n",
              "      <td>1.150158</td>\n",
              "      <td>-0.224495</td>\n",
              "      <td>-0.526445</td>\n",
              "    </tr>\n",
              "    <tr>\n",
              "      <th>two</th>\n",
              "      <td>0.135815</td>\n",
              "      <td>-0.731925</td>\n",
              "      <td>2.015287</td>\n",
              "    </tr>\n",
              "  </tbody>\n",
              "</table>\n",
              "</div>"
            ],
            "text/plain": [
              "                     A         B         C\n",
              "first second                              \n",
              "foo   one     1.150158 -0.224495 -0.526445\n",
              "      two     0.135815 -0.731925  2.015287"
            ]
          },
          "metadata": {
            "tags": []
          },
          "execution_count": 34
        }
      ]
    },
    {
      "cell_type": "code",
      "metadata": {
        "id": "fXEGAXS_GK-e",
        "colab_type": "code",
        "colab": {
          "base_uri": "https://localhost:8080/",
          "height": 35
        },
        "outputId": "01f705b2-a706-44ed-c4ca-b600b40044bb"
      },
      "source": [
        "df.loc[('foo','two'),'C']"
      ],
      "execution_count": 38,
      "outputs": [
        {
          "output_type": "execute_result",
          "data": {
            "text/plain": [
              "2.015286743798879"
            ]
          },
          "metadata": {
            "tags": []
          },
          "execution_count": 38
        }
      ]
    },
    {
      "cell_type": "code",
      "metadata": {
        "id": "pUZTNCfJGcoN",
        "colab_type": "code",
        "colab": {
          "base_uri": "https://localhost:8080/",
          "height": 143
        },
        "outputId": "6571ea9b-7ea7-4ba1-ca26-cd50475eb046"
      },
      "source": [
        "df.loc[(['foo','baz'],'one'),:]"
      ],
      "execution_count": 39,
      "outputs": [
        {
          "output_type": "execute_result",
          "data": {
            "text/html": [
              "<div>\n",
              "<style scoped>\n",
              "    .dataframe tbody tr th:only-of-type {\n",
              "        vertical-align: middle;\n",
              "    }\n",
              "\n",
              "    .dataframe tbody tr th {\n",
              "        vertical-align: top;\n",
              "    }\n",
              "\n",
              "    .dataframe thead th {\n",
              "        text-align: right;\n",
              "    }\n",
              "</style>\n",
              "<table border=\"1\" class=\"dataframe\">\n",
              "  <thead>\n",
              "    <tr style=\"text-align: right;\">\n",
              "      <th></th>\n",
              "      <th></th>\n",
              "      <th>A</th>\n",
              "      <th>B</th>\n",
              "      <th>C</th>\n",
              "    </tr>\n",
              "    <tr>\n",
              "      <th>first</th>\n",
              "      <th>second</th>\n",
              "      <th></th>\n",
              "      <th></th>\n",
              "      <th></th>\n",
              "    </tr>\n",
              "  </thead>\n",
              "  <tbody>\n",
              "    <tr>\n",
              "      <th>baz</th>\n",
              "      <th>one</th>\n",
              "      <td>1.308784</td>\n",
              "      <td>-0.287066</td>\n",
              "      <td>0.208028</td>\n",
              "    </tr>\n",
              "    <tr>\n",
              "      <th>foo</th>\n",
              "      <th>one</th>\n",
              "      <td>1.150158</td>\n",
              "      <td>-0.224495</td>\n",
              "      <td>-0.526445</td>\n",
              "    </tr>\n",
              "  </tbody>\n",
              "</table>\n",
              "</div>"
            ],
            "text/plain": [
              "                     A         B         C\n",
              "first second                              \n",
              "baz   one     1.308784 -0.287066  0.208028\n",
              "foo   one     1.150158 -0.224495 -0.526445"
            ]
          },
          "metadata": {
            "tags": []
          },
          "execution_count": 39
        }
      ]
    },
    {
      "cell_type": "code",
      "metadata": {
        "id": "Z3c1OBnNGrew",
        "colab_type": "code",
        "colab": {
          "base_uri": "https://localhost:8080/",
          "height": 206
        },
        "outputId": "db9075ea-065b-492d-f000-86843ac55926"
      },
      "source": [
        "df.loc[(['foo','baz'],slice(None)),:]"
      ],
      "execution_count": 40,
      "outputs": [
        {
          "output_type": "execute_result",
          "data": {
            "text/html": [
              "<div>\n",
              "<style scoped>\n",
              "    .dataframe tbody tr th:only-of-type {\n",
              "        vertical-align: middle;\n",
              "    }\n",
              "\n",
              "    .dataframe tbody tr th {\n",
              "        vertical-align: top;\n",
              "    }\n",
              "\n",
              "    .dataframe thead th {\n",
              "        text-align: right;\n",
              "    }\n",
              "</style>\n",
              "<table border=\"1\" class=\"dataframe\">\n",
              "  <thead>\n",
              "    <tr style=\"text-align: right;\">\n",
              "      <th></th>\n",
              "      <th></th>\n",
              "      <th>A</th>\n",
              "      <th>B</th>\n",
              "      <th>C</th>\n",
              "    </tr>\n",
              "    <tr>\n",
              "      <th>first</th>\n",
              "      <th>second</th>\n",
              "      <th></th>\n",
              "      <th></th>\n",
              "      <th></th>\n",
              "    </tr>\n",
              "  </thead>\n",
              "  <tbody>\n",
              "    <tr>\n",
              "      <th rowspan=\"2\" valign=\"top\">baz</th>\n",
              "      <th>one</th>\n",
              "      <td>1.308784</td>\n",
              "      <td>-0.287066</td>\n",
              "      <td>0.208028</td>\n",
              "    </tr>\n",
              "    <tr>\n",
              "      <th>two</th>\n",
              "      <td>0.342473</td>\n",
              "      <td>-1.272328</td>\n",
              "      <td>0.298117</td>\n",
              "    </tr>\n",
              "    <tr>\n",
              "      <th rowspan=\"2\" valign=\"top\">foo</th>\n",
              "      <th>one</th>\n",
              "      <td>1.150158</td>\n",
              "      <td>-0.224495</td>\n",
              "      <td>-0.526445</td>\n",
              "    </tr>\n",
              "    <tr>\n",
              "      <th>two</th>\n",
              "      <td>0.135815</td>\n",
              "      <td>-0.731925</td>\n",
              "      <td>2.015287</td>\n",
              "    </tr>\n",
              "  </tbody>\n",
              "</table>\n",
              "</div>"
            ],
            "text/plain": [
              "                     A         B         C\n",
              "first second                              \n",
              "baz   one     1.308784 -0.287066  0.208028\n",
              "      two     0.342473 -1.272328  0.298117\n",
              "foo   one     1.150158 -0.224495 -0.526445\n",
              "      two     0.135815 -0.731925  2.015287"
            ]
          },
          "metadata": {
            "tags": []
          },
          "execution_count": 40
        }
      ]
    },
    {
      "cell_type": "markdown",
      "metadata": {
        "id": "XYogevtzFVGu",
        "colab_type": "text"
      },
      "source": [
        "### Access Data from  MultiIndexed Columns"
      ]
    },
    {
      "cell_type": "code",
      "metadata": {
        "id": "OkTiyV2bDl6X",
        "colab_type": "code",
        "colab": {
          "base_uri": "https://localhost:8080/",
          "height": 182
        },
        "outputId": "f10ad00e-4c88-48d1-ded9-cd3c622254b3"
      },
      "source": [
        "tuples = [('bar', 'one'),\n",
        " ('bar', 'two'),\n",
        " ('baz', 'one'),\n",
        " ('baz', 'two'),\n",
        " ('foo', 'one'),\n",
        " ('foo', 'two'),\n",
        " ('qux', 'one'),\n",
        " ('qux', 'two')]\n",
        "\n",
        "mindex = pd.MultiIndex.from_tuples(tuples, names=['first', 'second'])\n",
        "mindex\n"
      ],
      "execution_count": 18,
      "outputs": [
        {
          "output_type": "execute_result",
          "data": {
            "text/plain": [
              "MultiIndex([('bar', 'one'),\n",
              "            ('bar', 'two'),\n",
              "            ('baz', 'one'),\n",
              "            ('baz', 'two'),\n",
              "            ('foo', 'one'),\n",
              "            ('foo', 'two'),\n",
              "            ('qux', 'one'),\n",
              "            ('qux', 'two')],\n",
              "           names=['first', 'second'])"
            ]
          },
          "metadata": {
            "tags": []
          },
          "execution_count": 18
        }
      ]
    },
    {
      "cell_type": "code",
      "metadata": {
        "id": "8hd3nTWTD8vn",
        "colab_type": "code",
        "colab": {
          "base_uri": "https://localhost:8080/",
          "height": 175
        },
        "outputId": "dd222652-706a-4ca3-8bb5-c94fc22c4508"
      },
      "source": [
        "df = pd.DataFrame(np.random.randn(3, 8), index=['A', 'B', 'C'], columns=mindex)\n",
        "df"
      ],
      "execution_count": 20,
      "outputs": [
        {
          "output_type": "execute_result",
          "data": {
            "text/html": [
              "<div>\n",
              "<style scoped>\n",
              "    .dataframe tbody tr th:only-of-type {\n",
              "        vertical-align: middle;\n",
              "    }\n",
              "\n",
              "    .dataframe tbody tr th {\n",
              "        vertical-align: top;\n",
              "    }\n",
              "\n",
              "    .dataframe thead tr th {\n",
              "        text-align: left;\n",
              "    }\n",
              "</style>\n",
              "<table border=\"1\" class=\"dataframe\">\n",
              "  <thead>\n",
              "    <tr>\n",
              "      <th>first</th>\n",
              "      <th colspan=\"2\" halign=\"left\">bar</th>\n",
              "      <th colspan=\"2\" halign=\"left\">baz</th>\n",
              "      <th colspan=\"2\" halign=\"left\">foo</th>\n",
              "      <th colspan=\"2\" halign=\"left\">qux</th>\n",
              "    </tr>\n",
              "    <tr>\n",
              "      <th>second</th>\n",
              "      <th>one</th>\n",
              "      <th>two</th>\n",
              "      <th>one</th>\n",
              "      <th>two</th>\n",
              "      <th>one</th>\n",
              "      <th>two</th>\n",
              "      <th>one</th>\n",
              "      <th>two</th>\n",
              "    </tr>\n",
              "  </thead>\n",
              "  <tbody>\n",
              "    <tr>\n",
              "      <th>A</th>\n",
              "      <td>-0.509925</td>\n",
              "      <td>0.855016</td>\n",
              "      <td>-0.082400</td>\n",
              "      <td>1.105906</td>\n",
              "      <td>-1.372405</td>\n",
              "      <td>-0.015421</td>\n",
              "      <td>0.537703</td>\n",
              "      <td>0.417029</td>\n",
              "    </tr>\n",
              "    <tr>\n",
              "      <th>B</th>\n",
              "      <td>-0.509291</td>\n",
              "      <td>-0.577665</td>\n",
              "      <td>0.916687</td>\n",
              "      <td>0.815328</td>\n",
              "      <td>1.971836</td>\n",
              "      <td>0.887451</td>\n",
              "      <td>1.819334</td>\n",
              "      <td>0.475621</td>\n",
              "    </tr>\n",
              "    <tr>\n",
              "      <th>C</th>\n",
              "      <td>0.642399</td>\n",
              "      <td>0.046598</td>\n",
              "      <td>0.536567</td>\n",
              "      <td>-0.556607</td>\n",
              "      <td>0.397714</td>\n",
              "      <td>-1.011728</td>\n",
              "      <td>1.111485</td>\n",
              "      <td>-0.455608</td>\n",
              "    </tr>\n",
              "  </tbody>\n",
              "</table>\n",
              "</div>"
            ],
            "text/plain": [
              "first        bar                 baz  ...       foo       qux          \n",
              "second       one       two       one  ...       two       one       two\n",
              "A      -0.509925  0.855016 -0.082400  ... -0.015421  0.537703  0.417029\n",
              "B      -0.509291 -0.577665  0.916687  ...  0.887451  1.819334  0.475621\n",
              "C       0.642399  0.046598  0.536567  ... -1.011728  1.111485 -0.455608\n",
              "\n",
              "[3 rows x 8 columns]"
            ]
          },
          "metadata": {
            "tags": []
          },
          "execution_count": 20
        }
      ]
    },
    {
      "cell_type": "code",
      "metadata": {
        "id": "I4_7k1cFD_t6",
        "colab_type": "code",
        "colab": {
          "base_uri": "https://localhost:8080/",
          "height": 201
        },
        "outputId": "aebc3f04-30bd-4ae9-905d-4f121dd25d61"
      },
      "source": [
        "df.loc['A',:]"
      ],
      "execution_count": 23,
      "outputs": [
        {
          "output_type": "execute_result",
          "data": {
            "text/plain": [
              "first  second\n",
              "bar    one      -0.509925\n",
              "       two       0.855016\n",
              "baz    one      -0.082400\n",
              "       two       1.105906\n",
              "foo    one      -1.372405\n",
              "       two      -0.015421\n",
              "qux    one       0.537703\n",
              "       two       0.417029\n",
              "Name: A, dtype: float64"
            ]
          },
          "metadata": {
            "tags": []
          },
          "execution_count": 23
        }
      ]
    },
    {
      "cell_type": "code",
      "metadata": {
        "id": "qBiWe6pvETdO",
        "colab_type": "code",
        "colab": {
          "base_uri": "https://localhost:8080/",
          "height": 35
        },
        "outputId": "b2c76d44-79f3-4f8c-8def-1b66cf9082b4"
      },
      "source": [
        "df.loc['A',('bar', 'one')]"
      ],
      "execution_count": 25,
      "outputs": [
        {
          "output_type": "execute_result",
          "data": {
            "text/plain": [
              "-0.5099250053323966"
            ]
          },
          "metadata": {
            "tags": []
          },
          "execution_count": 25
        }
      ]
    },
    {
      "cell_type": "code",
      "metadata": {
        "id": "pG3hTRTQEbzr",
        "colab_type": "code",
        "colab": {
          "base_uri": "https://localhost:8080/",
          "height": 90
        },
        "outputId": "64bfceda-c05a-4b5c-dae6-3032edb5dd86"
      },
      "source": [
        "df.loc['A',('bar', slice(None))]"
      ],
      "execution_count": 27,
      "outputs": [
        {
          "output_type": "execute_result",
          "data": {
            "text/plain": [
              "first  second\n",
              "bar    one      -0.509925\n",
              "       two       0.855016\n",
              "Name: A, dtype: float64"
            ]
          },
          "metadata": {
            "tags": []
          },
          "execution_count": 27
        }
      ]
    },
    {
      "cell_type": "code",
      "metadata": {
        "id": "rb70dQXmEoAh",
        "colab_type": "code",
        "colab": {
          "base_uri": "https://localhost:8080/",
          "height": 127
        },
        "outputId": "202d57a5-83dc-4cb0-ed97-3ed412922d7a"
      },
      "source": [
        "df.loc['A',(['bar','foo'], slice(None))]"
      ],
      "execution_count": 28,
      "outputs": [
        {
          "output_type": "execute_result",
          "data": {
            "text/plain": [
              "first  second\n",
              "bar    one      -0.509925\n",
              "       two       0.855016\n",
              "foo    one      -1.372405\n",
              "       two      -0.015421\n",
              "Name: A, dtype: float64"
            ]
          },
          "metadata": {
            "tags": []
          },
          "execution_count": 28
        }
      ]
    },
    {
      "cell_type": "code",
      "metadata": {
        "id": "0R_kzL5IExJv",
        "colab_type": "code",
        "colab": {
          "base_uri": "https://localhost:8080/",
          "height": 143
        },
        "outputId": "4c566ffb-3f40-466c-ef8b-d00fc725e47c"
      },
      "source": [
        "df.loc[['A','B'],(['bar','foo'], slice(None))]"
      ],
      "execution_count": 29,
      "outputs": [
        {
          "output_type": "execute_result",
          "data": {
            "text/html": [
              "<div>\n",
              "<style scoped>\n",
              "    .dataframe tbody tr th:only-of-type {\n",
              "        vertical-align: middle;\n",
              "    }\n",
              "\n",
              "    .dataframe tbody tr th {\n",
              "        vertical-align: top;\n",
              "    }\n",
              "\n",
              "    .dataframe thead tr th {\n",
              "        text-align: left;\n",
              "    }\n",
              "</style>\n",
              "<table border=\"1\" class=\"dataframe\">\n",
              "  <thead>\n",
              "    <tr>\n",
              "      <th>first</th>\n",
              "      <th colspan=\"2\" halign=\"left\">bar</th>\n",
              "      <th colspan=\"2\" halign=\"left\">foo</th>\n",
              "    </tr>\n",
              "    <tr>\n",
              "      <th>second</th>\n",
              "      <th>one</th>\n",
              "      <th>two</th>\n",
              "      <th>one</th>\n",
              "      <th>two</th>\n",
              "    </tr>\n",
              "  </thead>\n",
              "  <tbody>\n",
              "    <tr>\n",
              "      <th>A</th>\n",
              "      <td>-0.509925</td>\n",
              "      <td>0.855016</td>\n",
              "      <td>-1.372405</td>\n",
              "      <td>-0.015421</td>\n",
              "    </tr>\n",
              "    <tr>\n",
              "      <th>B</th>\n",
              "      <td>-0.509291</td>\n",
              "      <td>-0.577665</td>\n",
              "      <td>1.971836</td>\n",
              "      <td>0.887451</td>\n",
              "    </tr>\n",
              "  </tbody>\n",
              "</table>\n",
              "</div>"
            ],
            "text/plain": [
              "first        bar                 foo          \n",
              "second       one       two       one       two\n",
              "A      -0.509925  0.855016 -1.372405 -0.015421\n",
              "B      -0.509291 -0.577665  1.971836  0.887451"
            ]
          },
          "metadata": {
            "tags": []
          },
          "execution_count": 29
        }
      ]
    }
  ]
}