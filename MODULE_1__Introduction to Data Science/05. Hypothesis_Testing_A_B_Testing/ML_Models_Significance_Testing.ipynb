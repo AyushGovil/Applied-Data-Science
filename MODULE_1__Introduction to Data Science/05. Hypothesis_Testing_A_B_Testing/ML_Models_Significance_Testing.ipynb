{
  "nbformat": 4,
  "nbformat_minor": 0,
  "metadata": {
    "colab": {
      "name": "ML_Models_Significance_Testing.ipynb",
      "provenance": [],
      "collapsed_sections": []
    },
    "kernelspec": {
      "name": "python3",
      "display_name": "Python 3"
    }
  },
  "cells": [
    {
      "cell_type": "markdown",
      "metadata": {
        "id": "ODDgghVZ1PDN",
        "colab_type": "text"
      },
      "source": [
        "# Hypothesis Testing for Testing the Significance of the Difference of Performances of Two Machine Learning Models\n",
        "\n",
        "In this notebook, we will compare the performance of two machine learning algorithms on a binary classification task, then check if the observed difference is statistically significant or not.\n",
        "\n",
        "We will compare the performance of two linear algorithms on this dataset.\n",
        "\n",
        "Specifically, a **Logistic Regression** algorithm and a **Linear Discriminant Analysis (LDA)** algorithm.\n",
        "\n",
        "The procedure we will like to use is **repeated stratified k-fold cross-validation with 10 folds and 3 repeats (and 2 folds and 5 repeats)**. We will use this procedure to evaluate each algorithm and return and report the mean classification accuracy.\n"
      ]
    },
    {
      "cell_type": "code",
      "metadata": {
        "id": "VB_hZQqX0Qx3",
        "colab_type": "code",
        "colab": {
          "base_uri": "https://localhost:8080/",
          "height": 294
        },
        "outputId": "3ea0a0a3-d99e-4784-f70b-5ef26fa400e7"
      },
      "source": [
        "!pip install mlxtend"
      ],
      "execution_count": 2,
      "outputs": [
        {
          "output_type": "stream",
          "text": [
            "Requirement already satisfied: mlxtend in /usr/local/lib/python3.6/dist-packages (0.14.0)\n",
            "Requirement already satisfied: scikit-learn>=0.18 in /usr/local/lib/python3.6/dist-packages (from mlxtend) (0.22.2.post1)\n",
            "Requirement already satisfied: numpy>=1.10.4 in /usr/local/lib/python3.6/dist-packages (from mlxtend) (1.18.5)\n",
            "Requirement already satisfied: matplotlib>=1.5.1 in /usr/local/lib/python3.6/dist-packages (from mlxtend) (3.2.2)\n",
            "Requirement already satisfied: scipy>=0.17 in /usr/local/lib/python3.6/dist-packages (from mlxtend) (1.4.1)\n",
            "Requirement already satisfied: setuptools in /usr/local/lib/python3.6/dist-packages (from mlxtend) (49.6.0)\n",
            "Requirement already satisfied: pandas>=0.17.1 in /usr/local/lib/python3.6/dist-packages (from mlxtend) (1.0.5)\n",
            "Requirement already satisfied: joblib>=0.11 in /usr/local/lib/python3.6/dist-packages (from scikit-learn>=0.18->mlxtend) (0.16.0)\n",
            "Requirement already satisfied: pyparsing!=2.0.4,!=2.1.2,!=2.1.6,>=2.0.1 in /usr/local/lib/python3.6/dist-packages (from matplotlib>=1.5.1->mlxtend) (2.4.7)\n",
            "Requirement already satisfied: python-dateutil>=2.1 in /usr/local/lib/python3.6/dist-packages (from matplotlib>=1.5.1->mlxtend) (2.8.1)\n",
            "Requirement already satisfied: cycler>=0.10 in /usr/local/lib/python3.6/dist-packages (from matplotlib>=1.5.1->mlxtend) (0.10.0)\n",
            "Requirement already satisfied: kiwisolver>=1.0.1 in /usr/local/lib/python3.6/dist-packages (from matplotlib>=1.5.1->mlxtend) (1.2.0)\n",
            "Requirement already satisfied: pytz>=2017.2 in /usr/local/lib/python3.6/dist-packages (from pandas>=0.17.1->mlxtend) (2018.9)\n",
            "Requirement already satisfied: six>=1.5 in /usr/local/lib/python3.6/dist-packages (from python-dateutil>=2.1->matplotlib>=1.5.1->mlxtend) (1.15.0)\n"
          ],
          "name": "stdout"
        }
      ]
    },
    {
      "cell_type": "code",
      "metadata": {
        "id": "tFu-3jpS0Nh9",
        "colab_type": "code",
        "colab": {}
      },
      "source": [
        "from numpy import mean\n",
        "from numpy import std\n",
        "from sklearn.datasets import make_classification\n",
        "from sklearn.model_selection import cross_val_score\n",
        "from sklearn.model_selection import RepeatedStratifiedKFold\n",
        "\n",
        "from sklearn.linear_model import LogisticRegression\n",
        "from sklearn.discriminant_analysis import LinearDiscriminantAnalysis\n",
        "\n",
        "# Use 5x2 statistical hypothesis testing procedure to compare two machine learning algorithms\n",
        "from mlxtend.evaluate import paired_ttest_5x2cv"
      ],
      "execution_count": 3,
      "outputs": []
    },
    {
      "cell_type": "markdown",
      "metadata": {
        "id": "At2gH2XC19vR",
        "colab_type": "text"
      },
      "source": [
        "## Define Dataset\n",
        "\n",
        "First, we can use the make_classification() function to create a synthetic dataset with 1,000 samples and 10 input variables."
      ]
    },
    {
      "cell_type": "code",
      "metadata": {
        "id": "Fs5bGycP0Ivv",
        "colab_type": "code",
        "colab": {}
      },
      "source": [
        "X, y = make_classification(n_samples=1000, n_features=10, n_informative=10, n_redundant=0, random_state=1)"
      ],
      "execution_count": 4,
      "outputs": []
    },
    {
      "cell_type": "code",
      "metadata": {
        "id": "sgHa2PRK7a4U",
        "colab_type": "code",
        "colab": {
          "base_uri": "https://localhost:8080/",
          "height": 35
        },
        "outputId": "974d514c-ca9b-467e-9946-112b96a103f8"
      },
      "source": [
        "X.shape"
      ],
      "execution_count": 14,
      "outputs": [
        {
          "output_type": "execute_result",
          "data": {
            "text/plain": [
              "(1000, 10)"
            ]
          },
          "metadata": {
            "tags": []
          },
          "execution_count": 14
        }
      ]
    },
    {
      "cell_type": "code",
      "metadata": {
        "id": "krdNn2087nfp",
        "colab_type": "code",
        "colab": {
          "base_uri": "https://localhost:8080/",
          "height": 35
        },
        "outputId": "27e0005c-4d5f-4f48-a901-ea472bb00d8c"
      },
      "source": [
        "y.shape"
      ],
      "execution_count": 15,
      "outputs": [
        {
          "output_type": "execute_result",
          "data": {
            "text/plain": [
              "(1000,)"
            ]
          },
          "metadata": {
            "tags": []
          },
          "execution_count": 15
        }
      ]
    },
    {
      "cell_type": "markdown",
      "metadata": {
        "id": "2fwvbx3v1MV_",
        "colab_type": "text"
      },
      "source": [
        "# First Try - with 3-Repeats 10-Fold-Cross-Validation\n",
        "\n",
        "You can then call the paired_ttest_5x2cv() function and pass in your data and models and it will report the t-statistic value and the p-value as to whether the difference in the performance of the two algorithms is significant or not."
      ]
    },
    {
      "cell_type": "markdown",
      "metadata": {
        "id": "44h3EIjY15CL",
        "colab_type": "text"
      },
      "source": [
        "## Evaluate the First Model"
      ]
    },
    {
      "cell_type": "code",
      "metadata": {
        "id": "kgooWWjA1nrU",
        "colab_type": "code",
        "colab": {
          "base_uri": "https://localhost:8080/",
          "height": 35
        },
        "outputId": "535a4ece-03d3-4b6d-f8d8-0235f0221e14"
      },
      "source": [
        "model1 = LogisticRegression()\n",
        "cv1 = RepeatedStratifiedKFold(n_splits=10, n_repeats=3, random_state=1)\n",
        "scores1 = cross_val_score(model1, X, y, scoring='accuracy', cv=cv1, n_jobs=-1)\n",
        "print('LogisticRegression Mean Accuracy: %.3f (%.3f)' % (mean(scores1), std(scores1)))"
      ],
      "execution_count": 5,
      "outputs": [
        {
          "output_type": "stream",
          "text": [
            "LogisticRegression Mean Accuracy: 0.892 (0.036)\n"
          ],
          "name": "stdout"
        }
      ]
    },
    {
      "cell_type": "markdown",
      "metadata": {
        "id": "jNJrpIX710jz",
        "colab_type": "text"
      },
      "source": [
        "## Evaluate the Second Model"
      ]
    },
    {
      "cell_type": "code",
      "metadata": {
        "id": "jXRcacyb1pt6",
        "colab_type": "code",
        "colab": {
          "base_uri": "https://localhost:8080/",
          "height": 35
        },
        "outputId": "a192057c-13f1-46f5-a230-3d4296b762ac"
      },
      "source": [
        "model2 = LinearDiscriminantAnalysis()\n",
        "cv2 = RepeatedStratifiedKFold(n_splits=10, n_repeats=3, random_state=1)\n",
        "scores2 = cross_val_score(model2, X, y, scoring='accuracy', cv=cv2, n_jobs=-1)\n",
        "print('LinearDiscriminantAnalysis Mean Accuracy: %.3f (%.3f)' % (mean(scores2), std(scores2)))"
      ],
      "execution_count": 6,
      "outputs": [
        {
          "output_type": "stream",
          "text": [
            "LinearDiscriminantAnalysis Mean Accuracy: 0.893 (0.033)\n"
          ],
          "name": "stdout"
        }
      ]
    },
    {
      "cell_type": "markdown",
      "metadata": {
        "id": "cdDcmwuJ_6OK",
        "colab_type": "text"
      },
      "source": [
        "We can see that the mean performance for the two algorithms are 89.3 percent and 89.2 percent for LDA and Logistic Regression respectively."
      ]
    },
    {
      "cell_type": "markdown",
      "metadata": {
        "id": "xnvzcyHW2DBk",
        "colab_type": "text"
      },
      "source": [
        "## Check if Difference between Algorithms is Real"
      ]
    },
    {
      "cell_type": "code",
      "metadata": {
        "id": "syr-zlTS1rmU",
        "colab_type": "code",
        "colab": {}
      },
      "source": [
        "t, p = paired_ttest_5x2cv(estimator1=model1, estimator2=model2, X=X, y=y, scoring='accuracy', random_seed=1)"
      ],
      "execution_count": 7,
      "outputs": []
    },
    {
      "cell_type": "markdown",
      "metadata": {
        "id": "gy8Hpf8M1x_E",
        "colab_type": "text"
      },
      "source": [
        "## Summarize"
      ]
    },
    {
      "cell_type": "code",
      "metadata": {
        "id": "Q926-zCM1tSm",
        "colab_type": "code",
        "colab": {
          "base_uri": "https://localhost:8080/",
          "height": 35
        },
        "outputId": "390c91da-4980-4ed1-f258-42da9e4b3358"
      },
      "source": [
        "print('P-value: %.3f, t-Statistic: %.3f' % (p, t))"
      ],
      "execution_count": 8,
      "outputs": [
        {
          "output_type": "stream",
          "text": [
            "P-value: 0.328, t-Statistic: 1.085\n"
          ],
          "name": "stdout"
        }
      ]
    },
    {
      "cell_type": "markdown",
      "metadata": {
        "id": "AvsaLCLm2PTY",
        "colab_type": "text"
      },
      "source": [
        "## Interpret the Result\n",
        "\n",
        "The p-value must be interpreted using an alpha value, which is the significance level that you are willing to accept.\n",
        "\n",
        "**If the p-value is less or equal to the chosen alpha, we reject the null hypothesis** that the models have the same mean performance, which means the difference is probably real. \n",
        "\n",
        "**If the *p-value* is greater than alpha, we fail to reject the null hypothesis** that the models have the same mean performance and any observed difference in the mean accuracies is probability a statistical fluke.\n",
        "\n",
        "The smaller the alpha value, the better, and a common value is 5 percent (0.05)."
      ]
    },
    {
      "cell_type": "code",
      "metadata": {
        "id": "LvbxsEJ11vGz",
        "colab_type": "code",
        "colab": {
          "base_uri": "https://localhost:8080/",
          "height": 35
        },
        "outputId": "b9cc3566-224e-4b44-811c-4a9d678437e3"
      },
      "source": [
        "if p <= 0.05:\n",
        "\tprint('The Null Hypothesis Rejected : Difference between mean performance is probably real')\n",
        "else:\n",
        "\tprint('Fail to Reject the Null Hypothesis : Algorithms probably have the same performance')"
      ],
      "execution_count": 11,
      "outputs": [
        {
          "output_type": "stream",
          "text": [
            "Fail to Reject the Null Hypothesis : Algorithms probably have the same performance\n"
          ],
          "name": "stdout"
        }
      ]
    },
    {
      "cell_type": "markdown",
      "metadata": {
        "id": "KS0F60l18w-R",
        "colab_type": "text"
      },
      "source": [
        "#### **Note:** Your results may vary given the stochastic nature of the algorithm or evaluation procedure, or differences in numerical precision. \n",
        "Consider running the example a few times and compare the average outcome.\n"
      ]
    },
    {
      "cell_type": "markdown",
      "metadata": {
        "id": "YiIKApcc8xLi",
        "colab_type": "text"
      },
      "source": [
        "# Second Try - with 5-Repeats and 2-Fold-Cross-Validation\n",
        "\n",
        "Recall that we are reporting performance using a different procedure (3×10 CV) than the procedure used to estimate the performance in the statistical test (5×2 CV). Perhaps results would be different if we looked at scores using five repeats of two-fold cross-validation?\n",
        "\n",
        "The example below is updated to report classification accuracy for each algorithm using 5×2 CV."
      ]
    },
    {
      "cell_type": "code",
      "metadata": {
        "id": "rKhJAJZh9ZEQ",
        "colab_type": "code",
        "colab": {
          "base_uri": "https://localhost:8080/",
          "height": 35
        },
        "outputId": "3ac73405-d22a-4e20-8655-d336ca309302"
      },
      "source": [
        "# Evaluate model 1\n",
        "model1 = LogisticRegression()\n",
        "cv1 = RepeatedStratifiedKFold(n_splits=2, n_repeats=5, random_state=1)\n",
        "scores1 = cross_val_score(model1, X, y, scoring='accuracy', cv=cv1, n_jobs=-1)\n",
        "print('LogisticRegression Mean Accuracy: %.3f (%.3f)' % (mean(scores1), std(scores1)))"
      ],
      "execution_count": 20,
      "outputs": [
        {
          "output_type": "stream",
          "text": [
            "LogisticRegression Mean Accuracy: 0.894 (0.012)\n"
          ],
          "name": "stdout"
        }
      ]
    },
    {
      "cell_type": "code",
      "metadata": {
        "id": "iR0QCSxj9be6",
        "colab_type": "code",
        "colab": {
          "base_uri": "https://localhost:8080/",
          "height": 35
        },
        "outputId": "94c595ca-0b86-4960-c805-0dcbdb46886b"
      },
      "source": [
        "# Evaluate model 2\n",
        "model2 = LinearDiscriminantAnalysis()\n",
        "cv2 = RepeatedStratifiedKFold(n_splits=2, n_repeats=5, random_state=1)\n",
        "scores2 = cross_val_score(model2, X, y, scoring='accuracy', cv=cv2, n_jobs=-1)\n",
        "print('LinearDiscriminantAnalysis Mean Accuracy: %.3f (%.3f)' % (mean(scores2), std(scores2)))\n"
      ],
      "execution_count": 21,
      "outputs": [
        {
          "output_type": "stream",
          "text": [
            "LinearDiscriminantAnalysis Mean Accuracy: 0.890 (0.013)\n"
          ],
          "name": "stdout"
        }
      ]
    },
    {
      "cell_type": "markdown",
      "metadata": {
        "id": "9k9S90-c_ty7",
        "colab_type": "text"
      },
      "source": [
        "In this case, we can see that the difference in the mean performance for the two algorithms is even larger, 89.4 percent vs. 89.0 percent in favor of Logistic Regression instead of LDA as we saw with 3×10 CV."
      ]
    },
    {
      "cell_type": "code",
      "metadata": {
        "id": "NrxpKwGh8x7O",
        "colab_type": "code",
        "colab": {
          "base_uri": "https://localhost:8080/",
          "height": 54
        },
        "outputId": "2cb83cbd-9767-4134-8c65-2485a0b249e8"
      },
      "source": [
        "# check if difference between algorithms is real\n",
        "t, p = paired_ttest_5x2cv(estimator1=model1, estimator2=model2, X=X, y=y, scoring='accuracy', random_seed=1)\n",
        "# summarize\n",
        "print('P-value: %.3f, t-Statistic: %.3f' % (p, t))\n",
        "# interpret the result\n",
        "if p <= 0.05:\n",
        "\tprint('Reject the Null Hypothesis : Difference between mean performance is probably real')\n",
        "else:\n",
        "\tprint('Fail to Reject the Null Hypothesis : Algorithms probably have the same performance')"
      ],
      "execution_count": 23,
      "outputs": [
        {
          "output_type": "stream",
          "text": [
            "P-value: 0.328, t-Statistic: 1.085\n",
            "Fail to Reject the Null Hypothesis : Algorithms probably have the same performance\n"
          ],
          "name": "stdout"
        }
      ]
    },
    {
      "cell_type": "markdown",
      "metadata": {
        "id": "aTyjyfve-34F",
        "colab_type": "text"
      },
      "source": [
        "In this case, we can see that the p-value is about 0.32, which is much larger than 0.05. \n",
        "\n",
        "**This leads us to fail to reject the null hypothesis, suggesting that any observed difference between the algorithms is probably not real.**\n",
        "\n",
        "We could just as easily choose logistic regression or LDA and both would perform about the same on average.\n",
        "\n",
        "**This highlights that performing model selection based only on the mean performance may not be sufficient.**"
      ]
    }
  ]
}