{
  "nbformat": 4,
  "nbformat_minor": 0,
  "metadata": {
    "colab": {
      "name": "Model_Coefficients_p-Value.ipynb",
      "provenance": [],
      "collapsed_sections": []
    },
    "kernelspec": {
      "name": "python3",
      "display_name": "Python 3"
    }
  },
  "cells": [
    {
      "cell_type": "markdown",
      "metadata": {
        "id": "QjawUZsqFNtB",
        "colab_type": "text"
      },
      "source": [
        "# Regression Analysis - Importance of Model Coefficients - p-Values - Hypothesis Testing\n"
      ]
    },
    {
      "cell_type": "code",
      "metadata": {
        "id": "iHBFGtBiMfWN",
        "colab_type": "code",
        "colab": {}
      },
      "source": [
        "import numpy as np\n",
        "import pandas as pd\n",
        "import matplotlib.pyplot as plt\n",
        "\n",
        "import statsmodels.api as sm\n",
        "from statsmodels.sandbox.regression.predstd import wls_prediction_std"
      ],
      "execution_count": 9,
      "outputs": []
    },
    {
      "cell_type": "markdown",
      "metadata": {
        "id": "9MZkSczKMkfm",
        "colab_type": "text"
      },
      "source": [
        "## OLS Estimation - Example 1\n",
        "\n",
        "#### Generate Artificial Data"
      ]
    },
    {
      "cell_type": "code",
      "metadata": {
        "id": "Hym9SfKfMiIO",
        "colab_type": "code",
        "colab": {}
      },
      "source": [
        "nsample = 100\n",
        "x = np.linspace(0, 10, 100)\n",
        "X = np.column_stack((x, x**2))\n",
        "beta = np.array([1, 0.1, 10])\n",
        "e = np.random.normal(size=nsample)"
      ],
      "execution_count": 10,
      "outputs": []
    },
    {
      "cell_type": "markdown",
      "metadata": {
        "id": "Fxd5VcYcMtUg",
        "colab_type": "text"
      },
      "source": [
        "Our model needs an intercept so we add a column of 1s:"
      ]
    },
    {
      "cell_type": "code",
      "metadata": {
        "id": "PSQD_OpYMxAd",
        "colab_type": "code",
        "colab": {
          "base_uri": "https://localhost:8080/",
          "height": 72
        },
        "outputId": "5cea6aff-58a8-46b2-ac7c-f1e6e4497f10"
      },
      "source": [
        "X = sm.add_constant(X)\n",
        "X[:3,:]"
      ],
      "execution_count": 16,
      "outputs": [
        {
          "output_type": "execute_result",
          "data": {
            "text/plain": [
              "array([[1.        , 0.        , 0.        ],\n",
              "       [1.        , 0.1010101 , 0.01020304],\n",
              "       [1.        , 0.2020202 , 0.04081216]])"
            ]
          },
          "metadata": {
            "tags": []
          },
          "execution_count": 16
        }
      ]
    },
    {
      "cell_type": "code",
      "metadata": {
        "id": "sDr3jY24NAvL",
        "colab_type": "code",
        "colab": {
          "base_uri": "https://localhost:8080/",
          "height": 35
        },
        "outputId": "57f0fc94-e4fe-4df6-87b8-d58a8f81803f"
      },
      "source": [
        "y = np.dot(X, beta) + e\n",
        "y[:3]"
      ],
      "execution_count": 18,
      "outputs": [
        {
          "output_type": "execute_result",
          "data": {
            "text/plain": [
              "array([2.22684216, 0.60739185, 0.59169934])"
            ]
          },
          "metadata": {
            "tags": []
          },
          "execution_count": 18
        }
      ]
    },
    {
      "cell_type": "markdown",
      "metadata": {
        "id": "6_av1UmFM0aI",
        "colab_type": "text"
      },
      "source": [
        "#### Fit and Summarize"
      ]
    },
    {
      "cell_type": "code",
      "metadata": {
        "id": "80pDTL3OM50g",
        "colab_type": "code",
        "colab": {
          "base_uri": "https://localhost:8080/",
          "height": 495
        },
        "outputId": "29384a4f-ac6c-4f5a-f7a5-672fcf5e864f"
      },
      "source": [
        "model = sm.OLS(y, X)\n",
        "results = model.fit()\n",
        "print(results.summary())"
      ],
      "execution_count": 12,
      "outputs": [
        {
          "output_type": "stream",
          "text": [
            "                            OLS Regression Results                            \n",
            "==============================================================================\n",
            "Dep. Variable:                      y   R-squared:                       1.000\n",
            "Model:                            OLS   Adj. R-squared:                  1.000\n",
            "Method:                 Least Squares   F-statistic:                 4.787e+06\n",
            "Date:                Thu, 10 Sep 2020   Prob (F-statistic):          5.98e-243\n",
            "Time:                        13:26:09   Log-Likelihood:                -137.80\n",
            "No. Observations:                 100   AIC:                             281.6\n",
            "Df Residuals:                      97   BIC:                             289.4\n",
            "Df Model:                           2                                         \n",
            "Covariance Type:            nonrobust                                         \n",
            "==============================================================================\n",
            "                 coef    std err          t      P>|t|      [0.025      0.975]\n",
            "------------------------------------------------------------------------------\n",
            "const          0.6345      0.287      2.214      0.029       0.066       1.203\n",
            "x1             0.3798      0.132      2.867      0.005       0.117       0.643\n",
            "x2             9.9724      0.013    777.917      0.000       9.947       9.998\n",
            "==============================================================================\n",
            "Omnibus:                        0.978   Durbin-Watson:                   1.781\n",
            "Prob(Omnibus):                  0.613   Jarque-Bera (JB):                0.883\n",
            "Skew:                          -0.227   Prob(JB):                        0.643\n",
            "Kurtosis:                       2.925   Cond. No.                         144.\n",
            "==============================================================================\n",
            "\n",
            "Warnings:\n",
            "[1] Standard Errors assume that the covariance matrix of the errors is correctly specified.\n"
          ],
          "name": "stdout"
        }
      ]
    },
    {
      "cell_type": "markdown",
      "metadata": {
        "id": "HDyhEmnWNXZ2",
        "colab_type": "text"
      },
      "source": [
        "Quantities of interest can be extracted directly from the fitted model. Type dir(results) for a full list. Here are some examples:"
      ]
    },
    {
      "cell_type": "code",
      "metadata": {
        "id": "TFGtpgweP5PB",
        "colab_type": "code",
        "colab": {}
      },
      "source": [
        "#dir(results)"
      ],
      "execution_count": 21,
      "outputs": []
    },
    {
      "cell_type": "code",
      "metadata": {
        "id": "1PC-mHaVNV5t",
        "colab_type": "code",
        "colab": {
          "base_uri": "https://localhost:8080/",
          "height": 54
        },
        "outputId": "14503221-dfb1-479d-8e1d-718048eb399a"
      },
      "source": [
        "print('Parameters: ', results.params)\n",
        "print('R2: ', results.rsquared)"
      ],
      "execution_count": 19,
      "outputs": [
        {
          "output_type": "stream",
          "text": [
            "Parameters:  [0.63450072 0.37979982 9.97236965]\n",
            "R2:  0.9999898677859683\n"
          ],
          "name": "stdout"
        }
      ]
    },
    {
      "cell_type": "markdown",
      "metadata": {
        "id": "HLsmNK0zN850",
        "colab_type": "text"
      },
      "source": [
        "## OLS Estimation - Example 2 - Dataset with Multicollinear Features"
      ]
    },
    {
      "cell_type": "markdown",
      "metadata": {
        "id": "CkVClxGoLGfu",
        "colab_type": "text"
      },
      "source": [
        "\n",
        "The Longley dataset contains various US macroeconomic variables. It is well known to have high multicollinearity. \n",
        "\n",
        "That is, the exogenous predictors are highly correlated. \n",
        "\n",
        "This is problematic because it can affect the stability of our coefficient estimates as we make minor changes to model specification."
      ]
    },
    {
      "cell_type": "code",
      "metadata": {
        "id": "Pn5Pv1F-KtFJ",
        "colab_type": "code",
        "colab": {}
      },
      "source": [
        "from statsmodels.datasets.longley import load_pandas\n",
        "y = load_pandas().endog\n",
        "X = load_pandas().exog\n",
        "X = sm.add_constant(X)"
      ],
      "execution_count": 7,
      "outputs": []
    },
    {
      "cell_type": "code",
      "metadata": {
        "id": "iKRK-5S1EaAy",
        "colab_type": "code",
        "colab": {
          "base_uri": "https://localhost:8080/",
          "height": 641
        },
        "outputId": "226da432-b3b2-45ed-afef-d2b05182cea5"
      },
      "source": [
        "ols_model = sm.OLS(y, X)\n",
        "ols_results = ols_model.fit()\n",
        "print(ols_results.summary())"
      ],
      "execution_count": 8,
      "outputs": [
        {
          "output_type": "stream",
          "text": [
            "                            OLS Regression Results                            \n",
            "==============================================================================\n",
            "Dep. Variable:                 TOTEMP   R-squared:                       0.995\n",
            "Model:                            OLS   Adj. R-squared:                  0.992\n",
            "Method:                 Least Squares   F-statistic:                     330.3\n",
            "Date:                Thu, 10 Sep 2020   Prob (F-statistic):           4.98e-10\n",
            "Time:                        13:16:54   Log-Likelihood:                -109.62\n",
            "No. Observations:                  16   AIC:                             233.2\n",
            "Df Residuals:                       9   BIC:                             238.6\n",
            "Df Model:                           6                                         \n",
            "Covariance Type:            nonrobust                                         \n",
            "==============================================================================\n",
            "                 coef    std err          t      P>|t|      [0.025      0.975]\n",
            "------------------------------------------------------------------------------\n",
            "const      -3.482e+06    8.9e+05     -3.911      0.004    -5.5e+06   -1.47e+06\n",
            "GNPDEFL       15.0619     84.915      0.177      0.863    -177.029     207.153\n",
            "GNP           -0.0358      0.033     -1.070      0.313      -0.112       0.040\n",
            "UNEMP         -2.0202      0.488     -4.136      0.003      -3.125      -0.915\n",
            "ARMED         -1.0332      0.214     -4.822      0.001      -1.518      -0.549\n",
            "POP           -0.0511      0.226     -0.226      0.826      -0.563       0.460\n",
            "YEAR        1829.1515    455.478      4.016      0.003     798.788    2859.515\n",
            "==============================================================================\n",
            "Omnibus:                        0.749   Durbin-Watson:                   2.559\n",
            "Prob(Omnibus):                  0.688   Jarque-Bera (JB):                0.684\n",
            "Skew:                           0.420   Prob(JB):                        0.710\n",
            "Kurtosis:                       2.434   Cond. No.                     4.86e+09\n",
            "==============================================================================\n",
            "\n",
            "Warnings:\n",
            "[1] Standard Errors assume that the covariance matrix of the errors is correctly specified.\n",
            "[2] The condition number is large, 4.86e+09. This might indicate that there are\n",
            "strong multicollinearity or other numerical problems.\n"
          ],
          "name": "stdout"
        },
        {
          "output_type": "stream",
          "text": [
            "/usr/local/lib/python3.6/dist-packages/scipy/stats/stats.py:1535: UserWarning: kurtosistest only valid for n>=20 ... continuing anyway, n=16\n",
            "  \"anyway, n=%i\" % int(n))\n"
          ],
          "name": "stderr"
        }
      ]
    }
  ]
}