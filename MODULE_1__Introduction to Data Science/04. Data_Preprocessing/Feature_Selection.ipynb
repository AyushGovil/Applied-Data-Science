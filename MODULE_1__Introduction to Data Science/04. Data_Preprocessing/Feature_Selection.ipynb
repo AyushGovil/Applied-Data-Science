{
  "nbformat": 4,
  "nbformat_minor": 0,
  "metadata": {
    "colab": {
      "name": "Feature_Selection.ipynb",
      "provenance": [],
      "collapsed_sections": []
    },
    "kernelspec": {
      "name": "python3",
      "display_name": "Python 3"
    }
  },
  "cells": [
    {
      "cell_type": "markdown",
      "metadata": {
        "id": "uA-bvLYwdszs",
        "colab_type": "text"
      },
      "source": [
        "# **Feature Selection**"
      ]
    },
    {
      "cell_type": "markdown",
      "metadata": {
        "id": "wMcRPBnvhi-u",
        "colab_type": "text"
      },
      "source": [
        "# **Wrapper Method**\n",
        "## Recursive Feature Elimination with Automatic Tuning of the number of Features Selected with Cross-validation."
      ]
    },
    {
      "cell_type": "code",
      "metadata": {
        "id": "mq95JjsgdrmT",
        "colab_type": "code",
        "colab": {}
      },
      "source": [
        "import matplotlib.pyplot as plt\n",
        "from sklearn.svm import SVC\n",
        "from sklearn.model_selection import StratifiedKFold\n",
        "from sklearn.feature_selection import RFECV\n",
        "from sklearn.datasets import make_classification"
      ],
      "execution_count": 1,
      "outputs": []
    },
    {
      "cell_type": "markdown",
      "metadata": {
        "id": "H4hazoxtdzXc",
        "colab_type": "text"
      },
      "source": [
        "### Create Synthetic Data for Classification"
      ]
    },
    {
      "cell_type": "code",
      "metadata": {
        "id": "wpLektK6d1ri",
        "colab_type": "code",
        "colab": {}
      },
      "source": [
        "# Build a classification task using 3 informative features\n",
        "X, y = make_classification(n_samples=1000, n_features=25, n_informative=3,\n",
        "                           n_redundant=2, n_repeated=0, n_classes=8,\n",
        "                           n_clusters_per_class=1, random_state=0)"
      ],
      "execution_count": 2,
      "outputs": []
    },
    {
      "cell_type": "markdown",
      "metadata": {
        "id": "sdNscJL-eUxW",
        "colab_type": "text"
      },
      "source": [
        "### Recursive Feature Elimination with Automatic Tuning of the number of Features Selected with Cross-validation.\n",
        "\n",
        "\n",
        "Given an external estimator that assigns weights to features (e.g., the coefficients of a linear model), recursive feature elimination (RFE) is to select features by recursively considering smaller and smaller sets of features. \n",
        "\n",
        "First, the estimator is trained on the initial set of features and the importance of each feature is obtained either through a **coef_ attribute** or through a **feature_importances_** attribute. \n",
        "\n",
        "Then, the least important features are pruned from current set of features.\n",
        "\n",
        "That procedure is recursively repeated on the pruned set until the desired number of features to select is eventually reached.\n",
        "\n",
        "RFECV performs RFE in a cross-validation loop to find the optimal number of features."
      ]
    },
    {
      "cell_type": "code",
      "metadata": {
        "id": "0SZWJIB2dnMx",
        "colab_type": "code",
        "colab": {
          "base_uri": "https://localhost:8080/",
          "height": 164
        },
        "outputId": "c3d55bac-4635-4c73-e3cf-5912e8d0accf"
      },
      "source": [
        "# Create the RFE object and compute a cross-validated score.\n",
        "svc = SVC(kernel=\"linear\")\n",
        "\n",
        "# The \"accuracy\" scoring is proportional to the number of correct classifications\n",
        "rfecv = RFECV(estimator=svc, step=1, cv=StratifiedKFold(2), scoring='accuracy')\n",
        "rfecv.fit(X, y)"
      ],
      "execution_count": 3,
      "outputs": [
        {
          "output_type": "execute_result",
          "data": {
            "text/plain": [
              "RFECV(cv=StratifiedKFold(n_splits=2, random_state=None, shuffle=False),\n",
              "      estimator=SVC(C=1.0, break_ties=False, cache_size=200, class_weight=None,\n",
              "                    coef0=0.0, decision_function_shape='ovr', degree=3,\n",
              "                    gamma='scale', kernel='linear', max_iter=-1,\n",
              "                    probability=False, random_state=None, shrinking=True,\n",
              "                    tol=0.001, verbose=False),\n",
              "      min_features_to_select=1, n_jobs=None, scoring='accuracy', step=1,\n",
              "      verbose=0)"
            ]
          },
          "metadata": {
            "tags": []
          },
          "execution_count": 3
        }
      ]
    },
    {
      "cell_type": "code",
      "metadata": {
        "id": "wOXU8VoieAxl",
        "colab_type": "code",
        "colab": {
          "base_uri": "https://localhost:8080/",
          "height": 35
        },
        "outputId": "2c09631e-ff40-4426-f587-ef80f9b3bfa5"
      },
      "source": [
        "print(\"Optimal number of features : %d\" % rfecv.n_features_)"
      ],
      "execution_count": 4,
      "outputs": [
        {
          "output_type": "stream",
          "text": [
            "Optimal number of features : 3\n"
          ],
          "name": "stdout"
        }
      ]
    },
    {
      "cell_type": "code",
      "metadata": {
        "id": "cV4MYbRRT5l3",
        "colab_type": "code",
        "colab": {
          "base_uri": "https://localhost:8080/",
          "height": 72
        },
        "outputId": "c7c48d77-6251-4df0-9ce8-693a1282a1bf"
      },
      "source": [
        "# The mask of selected features.\n",
        "# support_array of shape [n_features]\n",
        "\n",
        "rfecv.support_"
      ],
      "execution_count": 5,
      "outputs": [
        {
          "output_type": "execute_result",
          "data": {
            "text/plain": [
              "array([False,  True, False, False, False, False, False,  True, False,\n",
              "       False, False, False, False, False, False, False, False, False,\n",
              "        True, False, False, False, False, False, False])"
            ]
          },
          "metadata": {
            "tags": []
          },
          "execution_count": 5
        }
      ]
    },
    {
      "cell_type": "code",
      "metadata": {
        "id": "bnDy_qneUKqF",
        "colab_type": "code",
        "colab": {
          "base_uri": "https://localhost:8080/",
          "height": 54
        },
        "outputId": "a8f53af2-254b-445f-a011-ce90ed191f4d"
      },
      "source": [
        "# The feature ranking, such that ranking_[i] corresponds to the ranking position of the i-th feature. \n",
        "# Selected (i.e., estimated best) features are assigned rank 1.\n",
        "# ranking_array of shape [n_features]\n",
        "rfecv.ranking_"
      ],
      "execution_count": 7,
      "outputs": [
        {
          "output_type": "execute_result",
          "data": {
            "text/plain": [
              "array([ 5,  1, 12, 19, 15,  6, 17,  1,  2, 21, 23, 11, 16, 10, 13, 22,  8,\n",
              "       14,  1, 20,  7,  9,  3,  4, 18])"
            ]
          },
          "metadata": {
            "tags": []
          },
          "execution_count": 7
        }
      ]
    },
    {
      "cell_type": "code",
      "metadata": {
        "id": "Fw_MKHuWd-lG",
        "colab_type": "code",
        "colab": {}
      },
      "source": [
        "# Plot number of features VS. cross-validation scores\n",
        "plt.figure()\n",
        "plt.xlabel(\"Number of features selected\")\n",
        "plt.ylabel(\"Cross validation score (nb of correct classifications)\")\n",
        "plt.plot(range(1, len(rfecv.grid_scores_) + 1), rfecv.grid_scores_)\n",
        "plt.show()"
      ],
      "execution_count": null,
      "outputs": []
    },
    {
      "cell_type": "markdown",
      "metadata": {
        "id": "sAyJdj0pfxjj",
        "colab_type": "text"
      },
      "source": [
        "# ++++++++++++++++++++++++++++++++++++++++++++++++++++++++++++++++++++\n",
        "\n",
        "# Feature Selection using SelectFromModel and LassoCV"
      ]
    },
    {
      "cell_type": "markdown",
      "metadata": {
        "id": "SJC6rkHKf6KK",
        "colab_type": "text"
      },
      "source": [
        "Use SelectFromModel meta-transformer along with Lasso to select the best couple of features from the diabetes dataset.\n",
        "\n",
        "Since the **L1 norm promotes sparsity of features** we might be interested in selecting only a subset of the most interesting features from the dataset. \n",
        "\n",
        "This example shows how to select two the most interesting features from the diabetes dataset.\n",
        "\n",
        "\n",
        "**Diabetes dataset** consists of 10 variables (features) collected from 442 diabetes patients. \n",
        "\n",
        "This example shows how to use SelectFromModel and LassoCv to find the best two features predicting disease progression after one year from the baseline."
      ]
    },
    {
      "cell_type": "code",
      "metadata": {
        "id": "KVw_voywgIjP",
        "colab_type": "code",
        "colab": {}
      },
      "source": [
        "import matplotlib.pyplot as plt\n",
        "import numpy as np\n",
        "\n",
        "from sklearn.datasets import load_diabetes\n",
        "from sklearn.feature_selection import SelectFromModel\n",
        "from sklearn.linear_model import LassoCV"
      ],
      "execution_count": 8,
      "outputs": []
    },
    {
      "cell_type": "markdown",
      "metadata": {
        "id": "pwWz1jb1gMJP",
        "colab_type": "text"
      },
      "source": [
        "## Load Diabetes Dataset\n",
        "\n",
        "First, let’s load the diabetes dataset which is available from within sklearn. \n",
        "\n",
        "Then, we will look what features are collected for the diabates patients:\n"
      ]
    },
    {
      "cell_type": "code",
      "metadata": {
        "id": "U0aI-WffgN2S",
        "colab_type": "code",
        "colab": {
          "base_uri": "https://localhost:8080/",
          "height": 35
        },
        "outputId": "56a4d6fb-ccd0-4256-b8ac-feac1ea528a3"
      },
      "source": [
        "diabetes = load_diabetes()\n",
        "\n",
        "X = diabetes.data\n",
        "y = diabetes.target\n",
        "\n",
        "feature_names = diabetes.feature_names\n",
        "print(feature_names)"
      ],
      "execution_count": 9,
      "outputs": [
        {
          "output_type": "stream",
          "text": [
            "['age', 'sex', 'bmi', 'bp', 's1', 's2', 's3', 's4', 's5', 's6']\n"
          ],
          "name": "stdout"
        }
      ]
    },
    {
      "cell_type": "markdown",
      "metadata": {
        "id": "cGv183JpgVWK",
        "colab_type": "text"
      },
      "source": [
        "## Find Importance of the Features\n",
        "\n",
        "To decide on the importance of the features we are going to use **LassoCV** estimator. \n",
        "\n",
        "The features with the highest absolute coef_ value are considered the most important"
      ]
    },
    {
      "cell_type": "code",
      "metadata": {
        "id": "oeemv3khguyH",
        "colab_type": "code",
        "colab": {
          "base_uri": "https://localhost:8080/",
          "height": 54
        },
        "outputId": "99c1980a-2c32-410d-fe6e-b04d2ccc4206"
      },
      "source": [
        "clf = LassoCV().fit(X, y)\n",
        "importance = np.abs(clf.coef_)\n",
        "\n",
        "print(importance)"
      ],
      "execution_count": 10,
      "outputs": [
        {
          "output_type": "stream",
          "text": [
            "[  6.49684455 235.99640534 521.73854261 321.06689245 569.4426838\n",
            " 302.45627915   0.         143.6995665  669.92633112  66.83430445]\n"
          ],
          "name": "stdout"
        }
      ]
    },
    {
      "cell_type": "markdown",
      "metadata": {
        "id": "1oifgun5gax2",
        "colab_type": "text"
      },
      "source": [
        "## Select from the model features with the Highest Score\n",
        "\n",
        "Now we want to select the two features which are the most important. \n",
        "\n",
        "SelectFromModel() allows for setting the threshold. \n",
        "\n",
        "Only the features with the coef_ higher than the threshold will remain. \n",
        "\n",
        "Here, we want to set the threshold slightly above the third highest coef_ calculated by LassoCV() from our data."
      ]
    },
    {
      "cell_type": "code",
      "metadata": {
        "id": "C-0pmsO9hD99",
        "colab_type": "code",
        "colab": {
          "base_uri": "https://localhost:8080/",
          "height": 35
        },
        "outputId": "c0f5fcb2-18c4-498b-ee32-325c7728fafc"
      },
      "source": [
        "idx_third = importance.argsort()[-3]\n",
        "threshold = importance[idx_third] + 0.01\n",
        "\n",
        "idx_features = (-importance).argsort()[:2]\n",
        "name_features = np.array(feature_names)[idx_features]\n",
        "print('Selected features: {}'.format(name_features))\n",
        "\n",
        "sfm = SelectFromModel(clf, threshold=threshold)\n",
        "sfm.fit(X, y)\n",
        "X_transform = sfm.transform(X)\n",
        "\n",
        "n_features = sfm.transform(X).shape[1]"
      ],
      "execution_count": 11,
      "outputs": [
        {
          "output_type": "stream",
          "text": [
            "Selected features: ['s5' 's1']\n"
          ],
          "name": "stdout"
        }
      ]
    },
    {
      "cell_type": "markdown",
      "metadata": {
        "id": "g4TlYIrghL8Y",
        "colab_type": "text"
      },
      "source": [
        "## Plot Data wrt the two most Important Features\n",
        "\n",
        "Finally we will plot the selected two features from the data.\n"
      ]
    },
    {
      "cell_type": "code",
      "metadata": {
        "id": "aDNkhmjnhS5L",
        "colab_type": "code",
        "colab": {
          "base_uri": "https://localhost:8080/",
          "height": 295
        },
        "outputId": "4c4b3422-4764-41e3-9678-02a8b4f5c30e"
      },
      "source": [
        "plt.title(\"Features from diabets using SelectFromModel with threshold %0.3f.\" % sfm.threshold)\n",
        "feature1 = X_transform[:, 0]\n",
        "feature2 = X_transform[:, 1]\n",
        "plt.plot(feature1, feature2, 'r.')\n",
        "plt.xlabel(\"First feature: {}\".format(name_features[0]))\n",
        "plt.ylabel(\"Second feature: {}\".format(name_features[1]))\n",
        "plt.ylim([np.min(feature2), np.max(feature2)])\n",
        "plt.show()"
      ],
      "execution_count": 12,
      "outputs": [
        {
          "output_type": "display_data",
          "data": {
            "image/png": "[encoded data removed]",
            "text/plain": [
              "<Figure size 432x288 with 1 Axes>"
            ]
          },
          "metadata": {
            "tags": [],
            "needs_background": "light"
          }
        }
      ]
    },
    {
      "cell_type": "markdown",
      "metadata": {
        "id": "7XhWqA8TiWoV",
        "colab_type": "text"
      },
      "source": [
        "# +++++++++++++++++++++++++++++++++++++++++++++++++++++++++++"
      ]
    },
    {
      "cell_type": "markdown",
      "metadata": {
        "id": "iJZgeIW2iYDD",
        "colab_type": "text"
      },
      "source": [
        "# **Intrinsic Method**\n",
        "## Tree-based Feature Selection"
      ]
    },
    {
      "cell_type": "code",
      "metadata": {
        "id": "HbaifI4sionk",
        "colab_type": "code",
        "colab": {}
      },
      "source": [
        "from sklearn.ensemble import ExtraTreesClassifier\n",
        "from sklearn.datasets import load_iris\n",
        "from sklearn.feature_selection import SelectFromModel"
      ],
      "execution_count": 13,
      "outputs": []
    },
    {
      "cell_type": "code",
      "metadata": {
        "id": "65u1WNi0ieLc",
        "colab_type": "code",
        "colab": {
          "base_uri": "https://localhost:8080/",
          "height": 35
        },
        "outputId": "6bd07b65-9e62-4eb1-c0dc-2b194d440b64"
      },
      "source": [
        "X, y = load_iris(return_X_y=True)\n",
        "X.shape"
      ],
      "execution_count": 14,
      "outputs": [
        {
          "output_type": "execute_result",
          "data": {
            "text/plain": [
              "(150, 4)"
            ]
          },
          "metadata": {
            "tags": []
          },
          "execution_count": 14
        }
      ]
    },
    {
      "cell_type": "code",
      "metadata": {
        "id": "Tk3fpdZVirON",
        "colab_type": "code",
        "colab": {
          "base_uri": "https://localhost:8080/",
          "height": 35
        },
        "outputId": "b7fa4910-6d4e-4833-b608-74730f790ddd"
      },
      "source": [
        "clf = ExtraTreesClassifier(n_estimators=50)\n",
        "clf = clf.fit(X, y)\n",
        "clf.feature_importances_  "
      ],
      "execution_count": 15,
      "outputs": [
        {
          "output_type": "execute_result",
          "data": {
            "text/plain": [
              "array([0.09784413, 0.0552699 , 0.37433316, 0.47255281])"
            ]
          },
          "metadata": {
            "tags": []
          },
          "execution_count": 15
        }
      ]
    },
    {
      "cell_type": "code",
      "metadata": {
        "id": "_Wv2TuuKis2L",
        "colab_type": "code",
        "colab": {
          "base_uri": "https://localhost:8080/",
          "height": 35
        },
        "outputId": "ab7d91fa-03f2-4957-ce5a-2671080885e1"
      },
      "source": [
        "model = SelectFromModel(clf, prefit=True)\n",
        "X_new = model.transform(X)\n",
        "X_new.shape               "
      ],
      "execution_count": 16,
      "outputs": [
        {
          "output_type": "execute_result",
          "data": {
            "text/plain": [
              "(150, 2)"
            ]
          },
          "metadata": {
            "tags": []
          },
          "execution_count": 16
        }
      ]
    },
    {
      "cell_type": "markdown",
      "metadata": {
        "id": "kU8uwcnokOEe",
        "colab_type": "text"
      },
      "source": [
        "# ++++++++++++++++++++++++++++++++++++++++++++++++++++++++++++++++++++"
      ]
    },
    {
      "cell_type": "markdown",
      "metadata": {
        "id": "b2kziJtbkRfV",
        "colab_type": "text"
      },
      "source": [
        "# **Filter Method**\n",
        "## Univariate Feature Selection\n",
        "\n",
        "Univariate feature selection works by selecting the best features based on **univariate statistical tests**. \n",
        "\n",
        "It can be seen as a preprocessing step to an estimator. Scikit-learn exposes feature selection routines as objects that implement the transform method:\n",
        "\n",
        "**SelectKBest removes all but the  highest scoring features.**\n",
        "\n",
        "For instance, we can perform a  test to the samples to retrieve only the two best features as follows:"
      ]
    },
    {
      "cell_type": "code",
      "metadata": {
        "id": "esALOBgfkQg4",
        "colab_type": "code",
        "colab": {}
      },
      "source": [
        "from sklearn.datasets import load_iris\n",
        "from sklearn.feature_selection import SelectKBest\n",
        "from sklearn.feature_selection import chi2"
      ],
      "execution_count": 17,
      "outputs": []
    },
    {
      "cell_type": "code",
      "metadata": {
        "id": "WI46y5lykbUs",
        "colab_type": "code",
        "colab": {
          "base_uri": "https://localhost:8080/",
          "height": 35
        },
        "outputId": "5c67cd33-48b3-4b32-85df-2aa9f4b263a5"
      },
      "source": [
        "X, y = load_iris(return_X_y=True)\n",
        "X.shape"
      ],
      "execution_count": 18,
      "outputs": [
        {
          "output_type": "execute_result",
          "data": {
            "text/plain": [
              "(150, 4)"
            ]
          },
          "metadata": {
            "tags": []
          },
          "execution_count": 18
        }
      ]
    },
    {
      "cell_type": "code",
      "metadata": {
        "id": "7i0Ld8apkci6",
        "colab_type": "code",
        "colab": {
          "base_uri": "https://localhost:8080/",
          "height": 35
        },
        "outputId": "e43c766b-f429-44b6-f1dd-7f1975abe09a"
      },
      "source": [
        "X_new = SelectKBest(chi2, k=2).fit_transform(X, y)\n",
        "X_new.shape"
      ],
      "execution_count": 19,
      "outputs": [
        {
          "output_type": "execute_result",
          "data": {
            "text/plain": [
              "(150, 2)"
            ]
          },
          "metadata": {
            "tags": []
          },
          "execution_count": 19
        }
      ]
    },
    {
      "cell_type": "markdown",
      "metadata": {
        "id": "WecMYpUJk6Fr",
        "colab_type": "text"
      },
      "source": [
        "These objects take as input a scoring function that returns univariate scores and p-values (or only scores for SelectKBest and SelectPercentile):\n",
        "\n",
        "For regression: f_regression, mutual_info_regression\n",
        "\n",
        "For classification: chi2, f_classif, mutual_info_classif\n",
        "\n",
        "The methods based on F-test estimate the degree of linear dependency between two random variables. \n",
        "\n",
        "On the other hand, mutual information methods can capture any kind of statistical dependency, but being nonparametric, they require more samples for accurate estimation."
      ]
    }
  ]
}