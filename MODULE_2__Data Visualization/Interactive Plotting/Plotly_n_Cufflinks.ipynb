{
 "cells": [
  {
   "cell_type": "markdown",
   "metadata": {},
   "source": [
    "# Plotly and Cufflinks"
   ]
  },
  {
   "cell_type": "markdown",
   "metadata": {},
   "source": [
    "Plotly is a library that allows you to **create interactive plots** that you can use in dashboards or websites (you can save them as html files or static images).\n",
    "\n",
    "## Installation\n",
    "\n",
    "In order for this all to work, you'll need to install plotly and cufflinks to call plots directly off of a pandas dataframe. These libraries are not currently available through **conda** but are available through **pip**. Install the libraries at your command line/terminal using:\n",
    "\n",
    "    pip install plotly\n",
    "    pip install cufflinks\n",
    "\n",
    "** NOTE: Make sure you only have one installation of Python on your computer when you do this, otherwise the installation may not work. **\n",
    "\n",
    "## Imports and Set-up"
   ]
  },
  {
   "cell_type": "code",
   "execution_count": 4,
   "metadata": {},
   "outputs": [],
   "source": [
    "import pandas as pd\n",
    "import numpy as np\n",
    "%matplotlib inline"
   ]
  },
  {
   "cell_type": "code",
   "execution_count": 5,
   "metadata": {},
   "outputs": [
    {
     "name": "stdout",
     "output_type": "stream",
     "text": [
      "4.8.1\n"
     ]
    }
   ],
   "source": [
    "from plotly import __version__\n",
    "from plotly.offline import download_plotlyjs, init_notebook_mode, plot, iplot\n",
    "\n",
    "print(__version__) # requires version >= 1.9.0"
   ]
  },
  {
   "cell_type": "code",
   "execution_count": 6,
   "metadata": {},
   "outputs": [],
   "source": [
    "import cufflinks as cf"
   ]
  },
  {
   "cell_type": "code",
   "execution_count": 7,
   "metadata": {},
   "outputs": [
    {
     "data": {
      "text/html": [
       "        <script type=\"text/javascript\">\n",
       "        window.PlotlyConfig = {MathJaxConfig: 'local'};\n",
       "        if (window.MathJax) {MathJax.Hub.Config({SVG: {font: \"STIX-Web\"}});}\n",
       "        if (typeof require !== 'undefined') {\n",
       "        require.undef(\"plotly\");\n",
       "        requirejs.config({\n",
       "            paths: {\n",
       "                'plotly': ['https://cdn.plot.ly/plotly-latest.min']\n",
       "            }\n",
       "        });\n",
       "        require(['plotly'], function(Plotly) {\n",
       "            window._Plotly = Plotly;\n",
       "        });\n",
       "        }\n",
       "        </script>\n",
       "        "
      ]
     },
     "metadata": {},
     "output_type": "display_data"
    }
   ],
   "source": [
    "# For Notebooks\n",
    "init_notebook_mode(connected=True)"
   ]
  },
  {
   "cell_type": "code",
   "execution_count": 8,
   "metadata": {},
   "outputs": [
    {
     "data": {
      "text/html": [
       "        <script type=\"text/javascript\">\n",
       "        window.PlotlyConfig = {MathJaxConfig: 'local'};\n",
       "        if (window.MathJax) {MathJax.Hub.Config({SVG: {font: \"STIX-Web\"}});}\n",
       "        if (typeof require !== 'undefined') {\n",
       "        require.undef(\"plotly\");\n",
       "        requirejs.config({\n",
       "            paths: {\n",
       "                'plotly': ['https://cdn.plot.ly/plotly-latest.min']\n",
       "            }\n",
       "        });\n",
       "        require(['plotly'], function(Plotly) {\n",
       "            window._Plotly = Plotly;\n",
       "        });\n",
       "        }\n",
       "        </script>\n",
       "        "
      ]
     },
     "metadata": {},
     "output_type": "display_data"
    }
   ],
   "source": [
    "# For offline use\n",
    "cf.go_offline()"
   ]
  },
  {
   "cell_type": "markdown",
   "metadata": {},
   "source": [
    "### Fake Data"
   ]
  },
  {
   "cell_type": "code",
   "execution_count": 9,
   "metadata": {},
   "outputs": [],
   "source": [
    "df = pd.DataFrame(np.random.randn(100,4),columns='A B C D'.split())"
   ]
  },
  {
   "cell_type": "code",
   "execution_count": 10,
   "metadata": {},
   "outputs": [
    {
     "data": {
      "text/html": [
       "<div>\n",
       "<style scoped>\n",
       "    .dataframe tbody tr th:only-of-type {\n",
       "        vertical-align: middle;\n",
       "    }\n",
       "\n",
       "    .dataframe tbody tr th {\n",
       "        vertical-align: top;\n",
       "    }\n",
       "\n",
       "    .dataframe thead th {\n",
       "        text-align: right;\n",
       "    }\n",
       "</style>\n",
       "<table border=\"1\" class=\"dataframe\">\n",
       "  <thead>\n",
       "    <tr style=\"text-align: right;\">\n",
       "      <th></th>\n",
       "      <th>A</th>\n",
       "      <th>B</th>\n",
       "      <th>C</th>\n",
       "      <th>D</th>\n",
       "    </tr>\n",
       "  </thead>\n",
       "  <tbody>\n",
       "    <tr>\n",
       "      <th>0</th>\n",
       "      <td>-0.052001</td>\n",
       "      <td>-0.303531</td>\n",
       "      <td>1.825782</td>\n",
       "      <td>-1.132648</td>\n",
       "    </tr>\n",
       "    <tr>\n",
       "      <th>1</th>\n",
       "      <td>-0.811316</td>\n",
       "      <td>1.811584</td>\n",
       "      <td>-1.273519</td>\n",
       "      <td>0.188529</td>\n",
       "    </tr>\n",
       "    <tr>\n",
       "      <th>2</th>\n",
       "      <td>0.325451</td>\n",
       "      <td>-1.879228</td>\n",
       "      <td>0.742134</td>\n",
       "      <td>1.061529</td>\n",
       "    </tr>\n",
       "    <tr>\n",
       "      <th>3</th>\n",
       "      <td>2.024372</td>\n",
       "      <td>1.143910</td>\n",
       "      <td>-0.266005</td>\n",
       "      <td>0.780992</td>\n",
       "    </tr>\n",
       "    <tr>\n",
       "      <th>4</th>\n",
       "      <td>-0.691155</td>\n",
       "      <td>0.092354</td>\n",
       "      <td>0.792219</td>\n",
       "      <td>0.884696</td>\n",
       "    </tr>\n",
       "  </tbody>\n",
       "</table>\n",
       "</div>"
      ],
      "text/plain": [
       "          A         B         C         D\n",
       "0 -0.052001 -0.303531  1.825782 -1.132648\n",
       "1 -0.811316  1.811584 -1.273519  0.188529\n",
       "2  0.325451 -1.879228  0.742134  1.061529\n",
       "3  2.024372  1.143910 -0.266005  0.780992\n",
       "4 -0.691155  0.092354  0.792219  0.884696"
      ]
     },
     "execution_count": 10,
     "metadata": {},
     "output_type": "execute_result"
    }
   ],
   "source": [
    "df.head()"
   ]
  },
  {
   "cell_type": "code",
   "execution_count": 11,
   "metadata": {},
   "outputs": [],
   "source": [
    "df2 = pd.DataFrame({'Category':['A','B','C'],'Values':[32,43,50]})"
   ]
  },
  {
   "cell_type": "code",
   "execution_count": 12,
   "metadata": {},
   "outputs": [
    {
     "data": {
      "text/html": [
       "<div>\n",
       "<style scoped>\n",
       "    .dataframe tbody tr th:only-of-type {\n",
       "        vertical-align: middle;\n",
       "    }\n",
       "\n",
       "    .dataframe tbody tr th {\n",
       "        vertical-align: top;\n",
       "    }\n",
       "\n",
       "    .dataframe thead th {\n",
       "        text-align: right;\n",
       "    }\n",
       "</style>\n",
       "<table border=\"1\" class=\"dataframe\">\n",
       "  <thead>\n",
       "    <tr style=\"text-align: right;\">\n",
       "      <th></th>\n",
       "      <th>Category</th>\n",
       "      <th>Values</th>\n",
       "    </tr>\n",
       "  </thead>\n",
       "  <tbody>\n",
       "    <tr>\n",
       "      <th>0</th>\n",
       "      <td>A</td>\n",
       "      <td>32</td>\n",
       "    </tr>\n",
       "    <tr>\n",
       "      <th>1</th>\n",
       "      <td>B</td>\n",
       "      <td>43</td>\n",
       "    </tr>\n",
       "    <tr>\n",
       "      <th>2</th>\n",
       "      <td>C</td>\n",
       "      <td>50</td>\n",
       "    </tr>\n",
       "  </tbody>\n",
       "</table>\n",
       "</div>"
      ],
      "text/plain": [
       "  Category  Values\n",
       "0        A      32\n",
       "1        B      43\n",
       "2        C      50"
      ]
     },
     "execution_count": 12,
     "metadata": {},
     "output_type": "execute_result"
    }
   ],
   "source": [
    "df2.head()"
   ]
  },
  {
   "cell_type": "markdown",
   "metadata": {},
   "source": [
    "## Using Cufflinks and iplot()\n",
    "\n",
    "* scatter\n",
    "* bar\n",
    "* box\n",
    "* spread\n",
    "* ratio\n",
    "* heatmap\n",
    "* surface\n",
    "* histogram\n",
    "* bubble"
   ]
  },
  {
   "cell_type": "markdown",
   "metadata": {},
   "source": [
    "## Scatter"
   ]
  },
  {
   "cell_type": "code",
   "execution_count": 13,
   "metadata": {},
   "outputs": [
    {
     "data": {
      "application/vnd.plotly.v1+json": {
       "config": {
        "linkText": "Export to plot.ly",
        "plotlyServerURL": "https://plot.ly",
        "showLink": true
       },
       "data": [
        {
         "line": {
          "color": "rgba(255, 153, 51, 1.0)",
          "dash": "solid",
          "shape": "linear",
          "width": 1.3
         },
         "marker": {
          "size": 10,
          "symbol": "circle"
         },
         "mode": "markers",
         "name": "B",
         "text": "",
         "type": "scatter",
         "x": [
          -0.05200064226874029,
          -0.8113159106118665,
          0.3254513160889677,
          2.0243719651519982,
          -0.6911553098570636,
          0.14711298464909714,
          -0.35157182034498624,
          0.9532879835105003,
          -0.8216704344288754,
          0.5175801753746321,
          0.41567356984435533,
          -1.0844866973884586,
          -0.9725846811504144,
          1.700149892346811,
          0.6279829967620165,
          -0.5123058776570327,
          -1.074696149080149,
          -0.09302038535197567,
          1.4751683628167978,
          -0.5773238782912412,
          -0.09364536193895204,
          0.2681233002905114,
          -0.08199555259223776,
          0.9869233120457995,
          -0.9880212646580928,
          -0.39813389302184454,
          0.8355498904749294,
          1.115790672079572,
          0.36267502782180355,
          1.1181862543468475,
          -0.4189076767146306,
          -1.2153237513520625,
          -0.015024636036437649,
          -1.5506822070192006,
          0.7532059219095608,
          0.18240660304253964,
          1.2455834496116378,
          -0.03574479357530669,
          1.2037655493754456,
          -1.2899520019302864,
          -0.8014563612286134,
          -1.0339031667320415,
          0.3236806753652299,
          1.7106993971064204,
          0.6337221256461304,
          -0.2264012497122301,
          0.24491822787195103,
          0.5793968204959391,
          -0.34421215526457355,
          -0.046221892173959805,
          -1.2834202820087908,
          -0.1668613538033284,
          0.3530568801885448,
          0.0709962577140452,
          1.2704092433144563,
          -0.6400890854430192,
          2.0218498444532718,
          -1.7029255316020437,
          -0.16160730377732366,
          -0.3324363184731455,
          1.1092756550592138,
          -2.944437862373772,
          -1.587029132621606,
          -0.9030179130414271,
          0.09540976105920948,
          -1.6095452818271105,
          0.008031270192345178,
          1.1400678957010764,
          0.1029859128666487,
          0.2981919450460108,
          -1.3883363125564128,
          -1.1114416335765926,
          0.2903191896259501,
          1.2576586424029736,
          -1.2635782258578823,
          -1.3584173862735214,
          0.4601351131538541,
          -1.22363477749503,
          -1.4816683242901991,
          0.09952494040979772,
          -0.9927180045443987,
          1.7831281471414724,
          -1.5125446989452476,
          -0.12862030833779978,
          -2.464692567289804,
          1.9359339222011969,
          0.5744016876350877,
          -0.764371866302306,
          -0.48132549368563415,
          0.8871383768027442,
          1.3143968176324412,
          -0.5844808311773532,
          1.0384195926025745,
          -0.4420780596397459,
          1.4657803745339457,
          -0.7100001138145122,
          -1.1579221829233695,
          0.17407486591736138,
          -0.3361105830791442,
          0.4809916958319887
         ],
         "y": [
          -0.3035309217997338,
          1.8115843850413655,
          -1.8792276036095135,
          1.143909537806382,
          0.0923541450056231,
          0.13177410792440244,
          -1.644887018775058,
          2.0831971657948625,
          1.599452683208107,
          -0.0069964248626790074,
          0.8243911969905283,
          0.5956007854062508,
          0.39862711624745445,
          -1.666634755718817,
          -0.4089336921506136,
          -0.16298439036927434,
          1.0479183949966526,
          -0.9165492282798984,
          -0.4892264761249731,
          0.5123066799262901,
          0.7584021541015817,
          -0.08593360496991281,
          -0.24021553116689526,
          2.5039169522158864,
          -1.512037975593897,
          0.49113801984285316,
          -0.31871938863922766,
          0.7128543675798462,
          -0.14479570326040525,
          0.5279038708585918,
          1.0794313887626623,
          1.7106227788566175,
          -0.530919857654775,
          1.2540574714983195,
          0.7413750828160827,
          0.18458536123716268,
          1.0624029825522627,
          0.742424688303108,
          1.645819200054811,
          -1.1308745123092925,
          0.48757750365959723,
          0.04891773652933975,
          -0.6083669341853393,
          -0.5558964652700791,
          2.179562344673998,
          0.6487864256900213,
          0.7046774107134081,
          -1.8275035997285698,
          -1.2561220814441574,
          0.8648079555785866,
          1.2398062390269777,
          1.5470834554212618,
          -0.4454825332388899,
          -1.4880689915828327,
          -0.738397634159601,
          -0.36732803174497464,
          -0.5219859018248537,
          -0.10793021508035824,
          1.6030720602940183,
          1.1981071665048801,
          -0.0009961029876620706,
          0.111212367996999,
          -0.7986756374835384,
          -0.3126649986611836,
          -0.5904948556513827,
          -1.3826204461674614,
          2.6788582132331387,
          0.7839573434679493,
          -0.047862984084776475,
          0.6889032871954877,
          0.39966616125392346,
          -0.43566971474227745,
          2.0861224961894766,
          -0.4776941244058906,
          -1.1511082972505302,
          -0.4710654454917627,
          -0.18175710734427944,
          -0.6855040312566344,
          -1.5412892891831538,
          0.8311464475440197,
          -0.818964281498889,
          1.037211685095319,
          1.117239715972962,
          -0.29232705347009696,
          0.9038496269295024,
          0.611628653407918,
          0.9367173662598217,
          -0.2715131674594367,
          -0.24274004412887631,
          0.12403688842619563,
          -0.5676803256100553,
          2.598349746359133,
          -0.7335625073991564,
          2.19935547566327,
          1.2247442665380743,
          -1.3895443215751322,
          -1.9959607836346613,
          -0.5055580229875679,
          0.08932547950890063,
          -1.1497354981510886
         ]
        }
       ],
       "layout": {
        "legend": {
         "bgcolor": "#F5F6F9",
         "font": {
          "color": "#4D5663"
         }
        },
        "paper_bgcolor": "#F5F6F9",
        "plot_bgcolor": "#F5F6F9",
        "template": {
         "data": {
          "bar": [
           {
            "error_x": {
             "color": "#2a3f5f"
            },
            "error_y": {
             "color": "#2a3f5f"
            },
            "marker": {
             "line": {
              "color": "#E5ECF6",
              "width": 0.5
             }
            },
            "type": "bar"
           }
          ],
          "barpolar": [
           {
            "marker": {
             "line": {
              "color": "#E5ECF6",
              "width": 0.5
             }
            },
            "type": "barpolar"
           }
          ],
          "carpet": [
           {
            "aaxis": {
             "endlinecolor": "#2a3f5f",
             "gridcolor": "white",
             "linecolor": "white",
             "minorgridcolor": "white",
             "startlinecolor": "#2a3f5f"
            },
            "baxis": {
             "endlinecolor": "#2a3f5f",
             "gridcolor": "white",
             "linecolor": "white",
             "minorgridcolor": "white",
             "startlinecolor": "#2a3f5f"
            },
            "type": "carpet"
           }
          ],
          "choropleth": [
           {
            "colorbar": {
             "outlinewidth": 0,
             "ticks": ""
            },
            "type": "choropleth"
           }
          ],
          "contour": [
           {
            "colorbar": {
             "outlinewidth": 0,
             "ticks": ""
            },
            "colorscale": [
             [
              0,
              "#0d0887"
             ],
             [
              0.1111111111111111,
              "#46039f"
             ],
             [
              0.2222222222222222,
              "#7201a8"
             ],
             [
              0.3333333333333333,
              "#9c179e"
             ],
             [
              0.4444444444444444,
              "#bd3786"
             ],
             [
              0.5555555555555556,
              "#d8576b"
             ],
             [
              0.6666666666666666,
              "#ed7953"
             ],
             [
              0.7777777777777778,
              "#fb9f3a"
             ],
             [
              0.8888888888888888,
              "#fdca26"
             ],
             [
              1,
              "#f0f921"
             ]
            ],
            "type": "contour"
           }
          ],
          "contourcarpet": [
           {
            "colorbar": {
             "outlinewidth": 0,
             "ticks": ""
            },
            "type": "contourcarpet"
           }
          ],
          "heatmap": [
           {
            "colorbar": {
             "outlinewidth": 0,
             "ticks": ""
            },
            "colorscale": [
             [
              0,
              "#0d0887"
             ],
             [
              0.1111111111111111,
              "#46039f"
             ],
             [
              0.2222222222222222,
              "#7201a8"
             ],
             [
              0.3333333333333333,
              "#9c179e"
             ],
             [
              0.4444444444444444,
              "#bd3786"
             ],
             [
              0.5555555555555556,
              "#d8576b"
             ],
             [
              0.6666666666666666,
              "#ed7953"
             ],
             [
              0.7777777777777778,
              "#fb9f3a"
             ],
             [
              0.8888888888888888,
              "#fdca26"
             ],
             [
              1,
              "#f0f921"
             ]
            ],
            "type": "heatmap"
           }
          ],
          "heatmapgl": [
           {
            "colorbar": {
             "outlinewidth": 0,
             "ticks": ""
            },
            "colorscale": [
             [
              0,
              "#0d0887"
             ],
             [
              0.1111111111111111,
              "#46039f"
             ],
             [
              0.2222222222222222,
              "#7201a8"
             ],
             [
              0.3333333333333333,
              "#9c179e"
             ],
             [
              0.4444444444444444,
              "#bd3786"
             ],
             [
              0.5555555555555556,
              "#d8576b"
             ],
             [
              0.6666666666666666,
              "#ed7953"
             ],
             [
              0.7777777777777778,
              "#fb9f3a"
             ],
             [
              0.8888888888888888,
              "#fdca26"
             ],
             [
              1,
              "#f0f921"
             ]
            ],
            "type": "heatmapgl"
           }
          ],
          "histogram": [
           {
            "marker": {
             "colorbar": {
              "outlinewidth": 0,
              "ticks": ""
             }
            },
            "type": "histogram"
           }
          ],
          "histogram2d": [
           {
            "colorbar": {
             "outlinewidth": 0,
             "ticks": ""
            },
            "colorscale": [
             [
              0,
              "#0d0887"
             ],
             [
              0.1111111111111111,
              "#46039f"
             ],
             [
              0.2222222222222222,
              "#7201a8"
             ],
             [
              0.3333333333333333,
              "#9c179e"
             ],
             [
              0.4444444444444444,
              "#bd3786"
             ],
             [
              0.5555555555555556,
              "#d8576b"
             ],
             [
              0.6666666666666666,
              "#ed7953"
             ],
             [
              0.7777777777777778,
              "#fb9f3a"
             ],
             [
              0.8888888888888888,
              "#fdca26"
             ],
             [
              1,
              "#f0f921"
             ]
            ],
            "type": "histogram2d"
           }
          ],
          "histogram2dcontour": [
           {
            "colorbar": {
             "outlinewidth": 0,
             "ticks": ""
            },
            "colorscale": [
             [
              0,
              "#0d0887"
             ],
             [
              0.1111111111111111,
              "#46039f"
             ],
             [
              0.2222222222222222,
              "#7201a8"
             ],
             [
              0.3333333333333333,
              "#9c179e"
             ],
             [
              0.4444444444444444,
              "#bd3786"
             ],
             [
              0.5555555555555556,
              "#d8576b"
             ],
             [
              0.6666666666666666,
              "#ed7953"
             ],
             [
              0.7777777777777778,
              "#fb9f3a"
             ],
             [
              0.8888888888888888,
              "#fdca26"
             ],
             [
              1,
              "#f0f921"
             ]
            ],
            "type": "histogram2dcontour"
           }
          ],
          "mesh3d": [
           {
            "colorbar": {
             "outlinewidth": 0,
             "ticks": ""
            },
            "type": "mesh3d"
           }
          ],
          "parcoords": [
           {
            "line": {
             "colorbar": {
              "outlinewidth": 0,
              "ticks": ""
             }
            },
            "type": "parcoords"
           }
          ],
          "pie": [
           {
            "automargin": true,
            "type": "pie"
           }
          ],
          "scatter": [
           {
            "marker": {
             "colorbar": {
              "outlinewidth": 0,
              "ticks": ""
             }
            },
            "type": "scatter"
           }
          ],
          "scatter3d": [
           {
            "line": {
             "colorbar": {
              "outlinewidth": 0,
              "ticks": ""
             }
            },
            "marker": {
             "colorbar": {
              "outlinewidth": 0,
              "ticks": ""
             }
            },
            "type": "scatter3d"
           }
          ],
          "scattercarpet": [
           {
            "marker": {
             "colorbar": {
              "outlinewidth": 0,
              "ticks": ""
             }
            },
            "type": "scattercarpet"
           }
          ],
          "scattergeo": [
           {
            "marker": {
             "colorbar": {
              "outlinewidth": 0,
              "ticks": ""
             }
            },
            "type": "scattergeo"
           }
          ],
          "scattergl": [
           {
            "marker": {
             "colorbar": {
              "outlinewidth": 0,
              "ticks": ""
             }
            },
            "type": "scattergl"
           }
          ],
          "scattermapbox": [
           {
            "marker": {
             "colorbar": {
              "outlinewidth": 0,
              "ticks": ""
             }
            },
            "type": "scattermapbox"
           }
          ],
          "scatterpolar": [
           {
            "marker": {
             "colorbar": {
              "outlinewidth": 0,
              "ticks": ""
             }
            },
            "type": "scatterpolar"
           }
          ],
          "scatterpolargl": [
           {
            "marker": {
             "colorbar": {
              "outlinewidth": 0,
              "ticks": ""
             }
            },
            "type": "scatterpolargl"
           }
          ],
          "scatterternary": [
           {
            "marker": {
             "colorbar": {
              "outlinewidth": 0,
              "ticks": ""
             }
            },
            "type": "scatterternary"
           }
          ],
          "surface": [
           {
            "colorbar": {
             "outlinewidth": 0,
             "ticks": ""
            },
            "colorscale": [
             [
              0,
              "#0d0887"
             ],
             [
              0.1111111111111111,
              "#46039f"
             ],
             [
              0.2222222222222222,
              "#7201a8"
             ],
             [
              0.3333333333333333,
              "#9c179e"
             ],
             [
              0.4444444444444444,
              "#bd3786"
             ],
             [
              0.5555555555555556,
              "#d8576b"
             ],
             [
              0.6666666666666666,
              "#ed7953"
             ],
             [
              0.7777777777777778,
              "#fb9f3a"
             ],
             [
              0.8888888888888888,
              "#fdca26"
             ],
             [
              1,
              "#f0f921"
             ]
            ],
            "type": "surface"
           }
          ],
          "table": [
           {
            "cells": {
             "fill": {
              "color": "#EBF0F8"
             },
             "line": {
              "color": "white"
             }
            },
            "header": {
             "fill": {
              "color": "#C8D4E3"
             },
             "line": {
              "color": "white"
             }
            },
            "type": "table"
           }
          ]
         },
         "layout": {
          "annotationdefaults": {
           "arrowcolor": "#2a3f5f",
           "arrowhead": 0,
           "arrowwidth": 1
          },
          "coloraxis": {
           "colorbar": {
            "outlinewidth": 0,
            "ticks": ""
           }
          },
          "colorscale": {
           "diverging": [
            [
             0,
             "#8e0152"
            ],
            [
             0.1,
             "#c51b7d"
            ],
            [
             0.2,
             "#de77ae"
            ],
            [
             0.3,
             "#f1b6da"
            ],
            [
             0.4,
             "#fde0ef"
            ],
            [
             0.5,
             "#f7f7f7"
            ],
            [
             0.6,
             "#e6f5d0"
            ],
            [
             0.7,
             "#b8e186"
            ],
            [
             0.8,
             "#7fbc41"
            ],
            [
             0.9,
             "#4d9221"
            ],
            [
             1,
             "#276419"
            ]
           ],
           "sequential": [
            [
             0,
             "#0d0887"
            ],
            [
             0.1111111111111111,
             "#46039f"
            ],
            [
             0.2222222222222222,
             "#7201a8"
            ],
            [
             0.3333333333333333,
             "#9c179e"
            ],
            [
             0.4444444444444444,
             "#bd3786"
            ],
            [
             0.5555555555555556,
             "#d8576b"
            ],
            [
             0.6666666666666666,
             "#ed7953"
            ],
            [
             0.7777777777777778,
             "#fb9f3a"
            ],
            [
             0.8888888888888888,
             "#fdca26"
            ],
            [
             1,
             "#f0f921"
            ]
           ],
           "sequentialminus": [
            [
             0,
             "#0d0887"
            ],
            [
             0.1111111111111111,
             "#46039f"
            ],
            [
             0.2222222222222222,
             "#7201a8"
            ],
            [
             0.3333333333333333,
             "#9c179e"
            ],
            [
             0.4444444444444444,
             "#bd3786"
            ],
            [
             0.5555555555555556,
             "#d8576b"
            ],
            [
             0.6666666666666666,
             "#ed7953"
            ],
            [
             0.7777777777777778,
             "#fb9f3a"
            ],
            [
             0.8888888888888888,
             "#fdca26"
            ],
            [
             1,
             "#f0f921"
            ]
           ]
          },
          "colorway": [
           "#636efa",
           "#EF553B",
           "#00cc96",
           "#ab63fa",
           "#FFA15A",
           "#19d3f3",
           "#FF6692",
           "#B6E880",
           "#FF97FF",
           "#FECB52"
          ],
          "font": {
           "color": "#2a3f5f"
          },
          "geo": {
           "bgcolor": "white",
           "lakecolor": "white",
           "landcolor": "#E5ECF6",
           "showlakes": true,
           "showland": true,
           "subunitcolor": "white"
          },
          "hoverlabel": {
           "align": "left"
          },
          "hovermode": "closest",
          "mapbox": {
           "style": "light"
          },
          "paper_bgcolor": "white",
          "plot_bgcolor": "#E5ECF6",
          "polar": {
           "angularaxis": {
            "gridcolor": "white",
            "linecolor": "white",
            "ticks": ""
           },
           "bgcolor": "#E5ECF6",
           "radialaxis": {
            "gridcolor": "white",
            "linecolor": "white",
            "ticks": ""
           }
          },
          "scene": {
           "xaxis": {
            "backgroundcolor": "#E5ECF6",
            "gridcolor": "white",
            "gridwidth": 2,
            "linecolor": "white",
            "showbackground": true,
            "ticks": "",
            "zerolinecolor": "white"
           },
           "yaxis": {
            "backgroundcolor": "#E5ECF6",
            "gridcolor": "white",
            "gridwidth": 2,
            "linecolor": "white",
            "showbackground": true,
            "ticks": "",
            "zerolinecolor": "white"
           },
           "zaxis": {
            "backgroundcolor": "#E5ECF6",
            "gridcolor": "white",
            "gridwidth": 2,
            "linecolor": "white",
            "showbackground": true,
            "ticks": "",
            "zerolinecolor": "white"
           }
          },
          "shapedefaults": {
           "line": {
            "color": "#2a3f5f"
           }
          },
          "ternary": {
           "aaxis": {
            "gridcolor": "white",
            "linecolor": "white",
            "ticks": ""
           },
           "baxis": {
            "gridcolor": "white",
            "linecolor": "white",
            "ticks": ""
           },
           "bgcolor": "#E5ECF6",
           "caxis": {
            "gridcolor": "white",
            "linecolor": "white",
            "ticks": ""
           }
          },
          "title": {
           "x": 0.05
          },
          "xaxis": {
           "automargin": true,
           "gridcolor": "white",
           "linecolor": "white",
           "ticks": "",
           "title": {
            "standoff": 15
           },
           "zerolinecolor": "white",
           "zerolinewidth": 2
          },
          "yaxis": {
           "automargin": true,
           "gridcolor": "white",
           "linecolor": "white",
           "ticks": "",
           "title": {
            "standoff": 15
           },
           "zerolinecolor": "white",
           "zerolinewidth": 2
          }
         }
        },
        "title": {
         "font": {
          "color": "#4D5663"
         }
        },
        "xaxis": {
         "gridcolor": "#E1E5ED",
         "showgrid": true,
         "tickfont": {
          "color": "#4D5663"
         },
         "title": {
          "font": {
           "color": "#4D5663"
          },
          "text": ""
         },
         "zerolinecolor": "#E1E5ED"
        },
        "yaxis": {
         "gridcolor": "#E1E5ED",
         "showgrid": true,
         "tickfont": {
          "color": "#4D5663"
         },
         "title": {
          "font": {
           "color": "#4D5663"
          },
          "text": ""
         },
         "zerolinecolor": "#E1E5ED"
        }
       }
      },
      "text/html": [
       "<div>\n",
       "        \n",
       "        \n",
       "            <div id=\"c0a677b4-9d1a-45c7-83b7-f11711598324\" class=\"plotly-graph-div\" style=\"height:525px; width:100%;\"></div>\n",
       "            <script type=\"text/javascript\">\n",
       "                require([\"plotly\"], function(Plotly) {\n",
       "                    window.PLOTLYENV=window.PLOTLYENV || {};\n",
       "                    window.PLOTLYENV.BASE_URL='https://plot.ly';\n",
       "                    \n",
       "                if (document.getElementById(\"c0a677b4-9d1a-45c7-83b7-f11711598324\")) {\n",
       "                    Plotly.newPlot(\n",
       "                        'c0a677b4-9d1a-45c7-83b7-f11711598324',\n",
       "                        [{\"line\": {\"color\": \"rgba(255, 153, 51, 1.0)\", \"dash\": \"solid\", \"shape\": \"linear\", \"width\": 1.3}, \"marker\": {\"size\": 10, \"symbol\": \"circle\"}, \"mode\": \"markers\", \"name\": \"B\", \"text\": \"\", \"type\": \"scatter\", \"x\": [-0.05200064226874029, -0.8113159106118665, 0.3254513160889677, 2.0243719651519982, -0.6911553098570636, 0.14711298464909714, -0.35157182034498624, 0.9532879835105003, -0.8216704344288754, 0.5175801753746321, 0.41567356984435533, -1.0844866973884586, -0.9725846811504144, 1.700149892346811, 0.6279829967620165, -0.5123058776570327, -1.074696149080149, -0.09302038535197567, 1.4751683628167978, -0.5773238782912412, -0.09364536193895204, 0.2681233002905114, -0.08199555259223776, 0.9869233120457995, -0.9880212646580928, -0.39813389302184454, 0.8355498904749294, 1.115790672079572, 0.36267502782180355, 1.1181862543468475, -0.4189076767146306, -1.2153237513520625, -0.015024636036437649, -1.5506822070192006, 0.7532059219095608, 0.18240660304253964, 1.2455834496116378, -0.03574479357530669, 1.2037655493754456, -1.2899520019302864, -0.8014563612286134, -1.0339031667320415, 0.3236806753652299, 1.7106993971064204, 0.6337221256461304, -0.2264012497122301, 0.24491822787195103, 0.5793968204959391, -0.34421215526457355, -0.046221892173959805, -1.2834202820087908, -0.1668613538033284, 0.3530568801885448, 0.0709962577140452, 1.2704092433144563, -0.6400890854430192, 2.0218498444532718, -1.7029255316020437, -0.16160730377732366, -0.3324363184731455, 1.1092756550592138, -2.944437862373772, -1.587029132621606, -0.9030179130414271, 0.09540976105920948, -1.6095452818271105, 0.008031270192345178, 1.1400678957010764, 0.1029859128666487, 0.2981919450460108, -1.3883363125564128, -1.1114416335765926, 0.2903191896259501, 1.2576586424029736, -1.2635782258578823, -1.3584173862735214, 0.4601351131538541, -1.22363477749503, -1.4816683242901991, 0.09952494040979772, -0.9927180045443987, 1.7831281471414724, -1.5125446989452476, -0.12862030833779978, -2.464692567289804, 1.9359339222011969, 0.5744016876350877, -0.764371866302306, -0.48132549368563415, 0.8871383768027442, 1.3143968176324412, -0.5844808311773532, 1.0384195926025745, -0.4420780596397459, 1.4657803745339457, -0.7100001138145122, -1.1579221829233695, 0.17407486591736138, -0.3361105830791442, 0.4809916958319887], \"y\": [-0.3035309217997338, 1.8115843850413655, -1.8792276036095135, 1.143909537806382, 0.0923541450056231, 0.13177410792440244, -1.644887018775058, 2.0831971657948625, 1.599452683208107, -0.0069964248626790074, 0.8243911969905283, 0.5956007854062508, 0.39862711624745445, -1.666634755718817, -0.4089336921506136, -0.16298439036927434, 1.0479183949966526, -0.9165492282798984, -0.4892264761249731, 0.5123066799262901, 0.7584021541015817, -0.08593360496991281, -0.24021553116689526, 2.5039169522158864, -1.512037975593897, 0.49113801984285316, -0.31871938863922766, 0.7128543675798462, -0.14479570326040525, 0.5279038708585918, 1.0794313887626623, 1.7106227788566175, -0.530919857654775, 1.2540574714983195, 0.7413750828160827, 0.18458536123716268, 1.0624029825522627, 0.742424688303108, 1.645819200054811, -1.1308745123092925, 0.48757750365959723, 0.04891773652933975, -0.6083669341853393, -0.5558964652700791, 2.179562344673998, 0.6487864256900213, 0.7046774107134081, -1.8275035997285698, -1.2561220814441574, 0.8648079555785866, 1.2398062390269777, 1.5470834554212618, -0.4454825332388899, -1.4880689915828327, -0.738397634159601, -0.36732803174497464, -0.5219859018248537, -0.10793021508035824, 1.6030720602940183, 1.1981071665048801, -0.0009961029876620706, 0.111212367996999, -0.7986756374835384, -0.3126649986611836, -0.5904948556513827, -1.3826204461674614, 2.6788582132331387, 0.7839573434679493, -0.047862984084776475, 0.6889032871954877, 0.39966616125392346, -0.43566971474227745, 2.0861224961894766, -0.4776941244058906, -1.1511082972505302, -0.4710654454917627, -0.18175710734427944, -0.6855040312566344, -1.5412892891831538, 0.8311464475440197, -0.818964281498889, 1.037211685095319, 1.117239715972962, -0.29232705347009696, 0.9038496269295024, 0.611628653407918, 0.9367173662598217, -0.2715131674594367, -0.24274004412887631, 0.12403688842619563, -0.5676803256100553, 2.598349746359133, -0.7335625073991564, 2.19935547566327, 1.2247442665380743, -1.3895443215751322, -1.9959607836346613, -0.5055580229875679, 0.08932547950890063, -1.1497354981510886]}],\n",
       "                        {\"legend\": {\"bgcolor\": \"#F5F6F9\", \"font\": {\"color\": \"#4D5663\"}}, \"paper_bgcolor\": \"#F5F6F9\", \"plot_bgcolor\": \"#F5F6F9\", \"template\": {\"data\": {\"bar\": [{\"error_x\": {\"color\": \"#2a3f5f\"}, \"error_y\": {\"color\": \"#2a3f5f\"}, \"marker\": {\"line\": {\"color\": \"#E5ECF6\", \"width\": 0.5}}, \"type\": \"bar\"}], \"barpolar\": [{\"marker\": {\"line\": {\"color\": \"#E5ECF6\", \"width\": 0.5}}, \"type\": \"barpolar\"}], \"carpet\": [{\"aaxis\": {\"endlinecolor\": \"#2a3f5f\", \"gridcolor\": \"white\", \"linecolor\": \"white\", \"minorgridcolor\": \"white\", \"startlinecolor\": \"#2a3f5f\"}, \"baxis\": {\"endlinecolor\": \"#2a3f5f\", \"gridcolor\": \"white\", \"linecolor\": \"white\", \"minorgridcolor\": \"white\", \"startlinecolor\": \"#2a3f5f\"}, \"type\": \"carpet\"}], \"choropleth\": [{\"colorbar\": {\"outlinewidth\": 0, \"ticks\": \"\"}, \"type\": \"choropleth\"}], \"contour\": [{\"colorbar\": {\"outlinewidth\": 0, \"ticks\": \"\"}, \"colorscale\": [[0.0, \"#0d0887\"], [0.1111111111111111, \"#46039f\"], [0.2222222222222222, \"#7201a8\"], [0.3333333333333333, \"#9c179e\"], [0.4444444444444444, \"#bd3786\"], [0.5555555555555556, \"#d8576b\"], [0.6666666666666666, \"#ed7953\"], [0.7777777777777778, \"#fb9f3a\"], [0.8888888888888888, \"#fdca26\"], [1.0, \"#f0f921\"]], \"type\": \"contour\"}], \"contourcarpet\": [{\"colorbar\": {\"outlinewidth\": 0, \"ticks\": \"\"}, \"type\": \"contourcarpet\"}], \"heatmap\": [{\"colorbar\": {\"outlinewidth\": 0, \"ticks\": \"\"}, \"colorscale\": [[0.0, \"#0d0887\"], [0.1111111111111111, \"#46039f\"], [0.2222222222222222, \"#7201a8\"], [0.3333333333333333, \"#9c179e\"], [0.4444444444444444, \"#bd3786\"], [0.5555555555555556, \"#d8576b\"], [0.6666666666666666, \"#ed7953\"], [0.7777777777777778, \"#fb9f3a\"], [0.8888888888888888, \"#fdca26\"], [1.0, \"#f0f921\"]], \"type\": \"heatmap\"}], \"heatmapgl\": [{\"colorbar\": {\"outlinewidth\": 0, \"ticks\": \"\"}, \"colorscale\": [[0.0, \"#0d0887\"], [0.1111111111111111, \"#46039f\"], [0.2222222222222222, \"#7201a8\"], [0.3333333333333333, \"#9c179e\"], [0.4444444444444444, \"#bd3786\"], [0.5555555555555556, \"#d8576b\"], [0.6666666666666666, \"#ed7953\"], [0.7777777777777778, \"#fb9f3a\"], [0.8888888888888888, \"#fdca26\"], [1.0, \"#f0f921\"]], \"type\": \"heatmapgl\"}], \"histogram\": [{\"marker\": {\"colorbar\": {\"outlinewidth\": 0, \"ticks\": \"\"}}, \"type\": \"histogram\"}], \"histogram2d\": [{\"colorbar\": {\"outlinewidth\": 0, \"ticks\": \"\"}, \"colorscale\": [[0.0, \"#0d0887\"], [0.1111111111111111, \"#46039f\"], [0.2222222222222222, \"#7201a8\"], [0.3333333333333333, \"#9c179e\"], [0.4444444444444444, \"#bd3786\"], [0.5555555555555556, \"#d8576b\"], [0.6666666666666666, \"#ed7953\"], [0.7777777777777778, \"#fb9f3a\"], [0.8888888888888888, \"#fdca26\"], [1.0, \"#f0f921\"]], \"type\": \"histogram2d\"}], \"histogram2dcontour\": [{\"colorbar\": {\"outlinewidth\": 0, \"ticks\": \"\"}, \"colorscale\": [[0.0, \"#0d0887\"], [0.1111111111111111, \"#46039f\"], [0.2222222222222222, \"#7201a8\"], [0.3333333333333333, \"#9c179e\"], [0.4444444444444444, \"#bd3786\"], [0.5555555555555556, \"#d8576b\"], [0.6666666666666666, \"#ed7953\"], [0.7777777777777778, \"#fb9f3a\"], [0.8888888888888888, \"#fdca26\"], [1.0, \"#f0f921\"]], \"type\": \"histogram2dcontour\"}], \"mesh3d\": [{\"colorbar\": {\"outlinewidth\": 0, \"ticks\": \"\"}, \"type\": \"mesh3d\"}], \"parcoords\": [{\"line\": {\"colorbar\": {\"outlinewidth\": 0, \"ticks\": \"\"}}, \"type\": \"parcoords\"}], \"pie\": [{\"automargin\": true, \"type\": \"pie\"}], \"scatter\": [{\"marker\": {\"colorbar\": {\"outlinewidth\": 0, \"ticks\": \"\"}}, \"type\": \"scatter\"}], \"scatter3d\": [{\"line\": {\"colorbar\": {\"outlinewidth\": 0, \"ticks\": \"\"}}, \"marker\": {\"colorbar\": {\"outlinewidth\": 0, \"ticks\": \"\"}}, \"type\": \"scatter3d\"}], \"scattercarpet\": [{\"marker\": {\"colorbar\": {\"outlinewidth\": 0, \"ticks\": \"\"}}, \"type\": \"scattercarpet\"}], \"scattergeo\": [{\"marker\": {\"colorbar\": {\"outlinewidth\": 0, \"ticks\": \"\"}}, \"type\": \"scattergeo\"}], \"scattergl\": [{\"marker\": {\"colorbar\": {\"outlinewidth\": 0, \"ticks\": \"\"}}, \"type\": \"scattergl\"}], \"scattermapbox\": [{\"marker\": {\"colorbar\": {\"outlinewidth\": 0, \"ticks\": \"\"}}, \"type\": \"scattermapbox\"}], \"scatterpolar\": [{\"marker\": {\"colorbar\": {\"outlinewidth\": 0, \"ticks\": \"\"}}, \"type\": \"scatterpolar\"}], \"scatterpolargl\": [{\"marker\": {\"colorbar\": {\"outlinewidth\": 0, \"ticks\": \"\"}}, \"type\": \"scatterpolargl\"}], \"scatterternary\": [{\"marker\": {\"colorbar\": {\"outlinewidth\": 0, \"ticks\": \"\"}}, \"type\": \"scatterternary\"}], \"surface\": [{\"colorbar\": {\"outlinewidth\": 0, \"ticks\": \"\"}, \"colorscale\": [[0.0, \"#0d0887\"], [0.1111111111111111, \"#46039f\"], [0.2222222222222222, \"#7201a8\"], [0.3333333333333333, \"#9c179e\"], [0.4444444444444444, \"#bd3786\"], [0.5555555555555556, \"#d8576b\"], [0.6666666666666666, \"#ed7953\"], [0.7777777777777778, \"#fb9f3a\"], [0.8888888888888888, \"#fdca26\"], [1.0, \"#f0f921\"]], \"type\": \"surface\"}], \"table\": [{\"cells\": {\"fill\": {\"color\": \"#EBF0F8\"}, \"line\": {\"color\": \"white\"}}, \"header\": {\"fill\": {\"color\": \"#C8D4E3\"}, \"line\": {\"color\": \"white\"}}, \"type\": \"table\"}]}, \"layout\": {\"annotationdefaults\": {\"arrowcolor\": \"#2a3f5f\", \"arrowhead\": 0, \"arrowwidth\": 1}, \"coloraxis\": {\"colorbar\": {\"outlinewidth\": 0, \"ticks\": \"\"}}, \"colorscale\": {\"diverging\": [[0, \"#8e0152\"], [0.1, \"#c51b7d\"], [0.2, \"#de77ae\"], [0.3, \"#f1b6da\"], [0.4, \"#fde0ef\"], [0.5, \"#f7f7f7\"], [0.6, \"#e6f5d0\"], [0.7, \"#b8e186\"], [0.8, \"#7fbc41\"], [0.9, \"#4d9221\"], [1, \"#276419\"]], \"sequential\": [[0.0, \"#0d0887\"], [0.1111111111111111, \"#46039f\"], [0.2222222222222222, \"#7201a8\"], [0.3333333333333333, \"#9c179e\"], [0.4444444444444444, \"#bd3786\"], [0.5555555555555556, \"#d8576b\"], [0.6666666666666666, \"#ed7953\"], [0.7777777777777778, \"#fb9f3a\"], [0.8888888888888888, \"#fdca26\"], [1.0, \"#f0f921\"]], \"sequentialminus\": [[0.0, \"#0d0887\"], [0.1111111111111111, \"#46039f\"], [0.2222222222222222, \"#7201a8\"], [0.3333333333333333, \"#9c179e\"], [0.4444444444444444, \"#bd3786\"], [0.5555555555555556, \"#d8576b\"], [0.6666666666666666, \"#ed7953\"], [0.7777777777777778, \"#fb9f3a\"], [0.8888888888888888, \"#fdca26\"], [1.0, \"#f0f921\"]]}, \"colorway\": [\"#636efa\", \"#EF553B\", \"#00cc96\", \"#ab63fa\", \"#FFA15A\", \"#19d3f3\", \"#FF6692\", \"#B6E880\", \"#FF97FF\", \"#FECB52\"], \"font\": {\"color\": \"#2a3f5f\"}, \"geo\": {\"bgcolor\": \"white\", \"lakecolor\": \"white\", \"landcolor\": \"#E5ECF6\", \"showlakes\": true, \"showland\": true, \"subunitcolor\": \"white\"}, \"hoverlabel\": {\"align\": \"left\"}, \"hovermode\": \"closest\", \"mapbox\": {\"style\": \"light\"}, \"paper_bgcolor\": \"white\", \"plot_bgcolor\": \"#E5ECF6\", \"polar\": {\"angularaxis\": {\"gridcolor\": \"white\", \"linecolor\": \"white\", \"ticks\": \"\"}, \"bgcolor\": \"#E5ECF6\", \"radialaxis\": {\"gridcolor\": \"white\", \"linecolor\": \"white\", \"ticks\": \"\"}}, \"scene\": {\"xaxis\": {\"backgroundcolor\": \"#E5ECF6\", \"gridcolor\": \"white\", \"gridwidth\": 2, \"linecolor\": \"white\", \"showbackground\": true, \"ticks\": \"\", \"zerolinecolor\": \"white\"}, \"yaxis\": {\"backgroundcolor\": \"#E5ECF6\", \"gridcolor\": \"white\", \"gridwidth\": 2, \"linecolor\": \"white\", \"showbackground\": true, \"ticks\": \"\", \"zerolinecolor\": \"white\"}, \"zaxis\": {\"backgroundcolor\": \"#E5ECF6\", \"gridcolor\": \"white\", \"gridwidth\": 2, \"linecolor\": \"white\", \"showbackground\": true, \"ticks\": \"\", \"zerolinecolor\": \"white\"}}, \"shapedefaults\": {\"line\": {\"color\": \"#2a3f5f\"}}, \"ternary\": {\"aaxis\": {\"gridcolor\": \"white\", \"linecolor\": \"white\", \"ticks\": \"\"}, \"baxis\": {\"gridcolor\": \"white\", \"linecolor\": \"white\", \"ticks\": \"\"}, \"bgcolor\": \"#E5ECF6\", \"caxis\": {\"gridcolor\": \"white\", \"linecolor\": \"white\", \"ticks\": \"\"}}, \"title\": {\"x\": 0.05}, \"xaxis\": {\"automargin\": true, \"gridcolor\": \"white\", \"linecolor\": \"white\", \"ticks\": \"\", \"title\": {\"standoff\": 15}, \"zerolinecolor\": \"white\", \"zerolinewidth\": 2}, \"yaxis\": {\"automargin\": true, \"gridcolor\": \"white\", \"linecolor\": \"white\", \"ticks\": \"\", \"title\": {\"standoff\": 15}, \"zerolinecolor\": \"white\", \"zerolinewidth\": 2}}}, \"title\": {\"font\": {\"color\": \"#4D5663\"}}, \"xaxis\": {\"gridcolor\": \"#E1E5ED\", \"showgrid\": true, \"tickfont\": {\"color\": \"#4D5663\"}, \"title\": {\"font\": {\"color\": \"#4D5663\"}, \"text\": \"\"}, \"zerolinecolor\": \"#E1E5ED\"}, \"yaxis\": {\"gridcolor\": \"#E1E5ED\", \"showgrid\": true, \"tickfont\": {\"color\": \"#4D5663\"}, \"title\": {\"font\": {\"color\": \"#4D5663\"}, \"text\": \"\"}, \"zerolinecolor\": \"#E1E5ED\"}},\n",
       "                        {\"showLink\": true, \"linkText\": \"Export to plot.ly\", \"plotlyServerURL\": \"https://plot.ly\", \"responsive\": true}\n",
       "                    ).then(function(){\n",
       "                            \n",
       "var gd = document.getElementById('c0a677b4-9d1a-45c7-83b7-f11711598324');\n",
       "var x = new MutationObserver(function (mutations, observer) {{\n",
       "        var display = window.getComputedStyle(gd).display;\n",
       "        if (!display || display === 'none') {{\n",
       "            console.log([gd, 'removed!']);\n",
       "            Plotly.purge(gd);\n",
       "            observer.disconnect();\n",
       "        }}\n",
       "}});\n",
       "\n",
       "// Listen for the removal of the full notebook cells\n",
       "var notebookContainer = gd.closest('#notebook-container');\n",
       "if (notebookContainer) {{\n",
       "    x.observe(notebookContainer, {childList: true});\n",
       "}}\n",
       "\n",
       "// Listen for the clearing of the current output cell\n",
       "var outputEl = gd.closest('.output');\n",
       "if (outputEl) {{\n",
       "    x.observe(outputEl, {childList: true});\n",
       "}}\n",
       "\n",
       "                        })\n",
       "                };\n",
       "                });\n",
       "            </script>\n",
       "        </div>"
      ]
     },
     "metadata": {},
     "output_type": "display_data"
    }
   ],
   "source": [
    "df.iplot(kind='scatter',x='A',y='B',mode='markers',size=10)"
   ]
  },
  {
   "cell_type": "markdown",
   "metadata": {},
   "source": [
    "## Bar Plots"
   ]
  },
  {
   "cell_type": "code",
   "execution_count": 14,
   "metadata": {},
   "outputs": [
    {
     "data": {
      "application/vnd.plotly.v1+json": {
       "config": {
        "linkText": "Export to plot.ly",
        "plotlyServerURL": "https://plot.ly",
        "showLink": true
       },
       "data": [
        {
         "marker": {
          "color": "rgba(255, 153, 51, 0.6)",
          "line": {
           "color": "rgba(255, 153, 51, 1.0)",
           "width": 1
          }
         },
         "name": "Values",
         "orientation": "v",
         "text": "",
         "type": "bar",
         "x": [
          "A",
          "B",
          "C"
         ],
         "y": [
          32,
          43,
          50
         ]
        }
       ],
       "layout": {
        "legend": {
         "bgcolor": "#F5F6F9",
         "font": {
          "color": "#4D5663"
         }
        },
        "paper_bgcolor": "#F5F6F9",
        "plot_bgcolor": "#F5F6F9",
        "template": {
         "data": {
          "bar": [
           {
            "error_x": {
             "color": "#2a3f5f"
            },
            "error_y": {
             "color": "#2a3f5f"
            },
            "marker": {
             "line": {
              "color": "#E5ECF6",
              "width": 0.5
             }
            },
            "type": "bar"
           }
          ],
          "barpolar": [
           {
            "marker": {
             "line": {
              "color": "#E5ECF6",
              "width": 0.5
             }
            },
            "type": "barpolar"
           }
          ],
          "carpet": [
           {
            "aaxis": {
             "endlinecolor": "#2a3f5f",
             "gridcolor": "white",
             "linecolor": "white",
             "minorgridcolor": "white",
             "startlinecolor": "#2a3f5f"
            },
            "baxis": {
             "endlinecolor": "#2a3f5f",
             "gridcolor": "white",
             "linecolor": "white",
             "minorgridcolor": "white",
             "startlinecolor": "#2a3f5f"
            },
            "type": "carpet"
           }
          ],
          "choropleth": [
           {
            "colorbar": {
             "outlinewidth": 0,
             "ticks": ""
            },
            "type": "choropleth"
           }
          ],
          "contour": [
           {
            "colorbar": {
             "outlinewidth": 0,
             "ticks": ""
            },
            "colorscale": [
             [
              0,
              "#0d0887"
             ],
             [
              0.1111111111111111,
              "#46039f"
             ],
             [
              0.2222222222222222,
              "#7201a8"
             ],
             [
              0.3333333333333333,
              "#9c179e"
             ],
             [
              0.4444444444444444,
              "#bd3786"
             ],
             [
              0.5555555555555556,
              "#d8576b"
             ],
             [
              0.6666666666666666,
              "#ed7953"
             ],
             [
              0.7777777777777778,
              "#fb9f3a"
             ],
             [
              0.8888888888888888,
              "#fdca26"
             ],
             [
              1,
              "#f0f921"
             ]
            ],
            "type": "contour"
           }
          ],
          "contourcarpet": [
           {
            "colorbar": {
             "outlinewidth": 0,
             "ticks": ""
            },
            "type": "contourcarpet"
           }
          ],
          "heatmap": [
           {
            "colorbar": {
             "outlinewidth": 0,
             "ticks": ""
            },
            "colorscale": [
             [
              0,
              "#0d0887"
             ],
             [
              0.1111111111111111,
              "#46039f"
             ],
             [
              0.2222222222222222,
              "#7201a8"
             ],
             [
              0.3333333333333333,
              "#9c179e"
             ],
             [
              0.4444444444444444,
              "#bd3786"
             ],
             [
              0.5555555555555556,
              "#d8576b"
             ],
             [
              0.6666666666666666,
              "#ed7953"
             ],
             [
              0.7777777777777778,
              "#fb9f3a"
             ],
             [
              0.8888888888888888,
              "#fdca26"
             ],
             [
              1,
              "#f0f921"
             ]
            ],
            "type": "heatmap"
           }
          ],
          "heatmapgl": [
           {
            "colorbar": {
             "outlinewidth": 0,
             "ticks": ""
            },
            "colorscale": [
             [
              0,
              "#0d0887"
             ],
             [
              0.1111111111111111,
              "#46039f"
             ],
             [
              0.2222222222222222,
              "#7201a8"
             ],
             [
              0.3333333333333333,
              "#9c179e"
             ],
             [
              0.4444444444444444,
              "#bd3786"
             ],
             [
              0.5555555555555556,
              "#d8576b"
             ],
             [
              0.6666666666666666,
              "#ed7953"
             ],
             [
              0.7777777777777778,
              "#fb9f3a"
             ],
             [
              0.8888888888888888,
              "#fdca26"
             ],
             [
              1,
              "#f0f921"
             ]
            ],
            "type": "heatmapgl"
           }
          ],
          "histogram": [
           {
            "marker": {
             "colorbar": {
              "outlinewidth": 0,
              "ticks": ""
             }
            },
            "type": "histogram"
           }
          ],
          "histogram2d": [
           {
            "colorbar": {
             "outlinewidth": 0,
             "ticks": ""
            },
            "colorscale": [
             [
              0,
              "#0d0887"
             ],
             [
              0.1111111111111111,
              "#46039f"
             ],
             [
              0.2222222222222222,
              "#7201a8"
             ],
             [
              0.3333333333333333,
              "#9c179e"
             ],
             [
              0.4444444444444444,
              "#bd3786"
             ],
             [
              0.5555555555555556,
              "#d8576b"
             ],
             [
              0.6666666666666666,
              "#ed7953"
             ],
             [
              0.7777777777777778,
              "#fb9f3a"
             ],
             [
              0.8888888888888888,
              "#fdca26"
             ],
             [
              1,
              "#f0f921"
             ]
            ],
            "type": "histogram2d"
           }
          ],
          "histogram2dcontour": [
           {
            "colorbar": {
             "outlinewidth": 0,
             "ticks": ""
            },
            "colorscale": [
             [
              0,
              "#0d0887"
             ],
             [
              0.1111111111111111,
              "#46039f"
             ],
             [
              0.2222222222222222,
              "#7201a8"
             ],
             [
              0.3333333333333333,
              "#9c179e"
             ],
             [
              0.4444444444444444,
              "#bd3786"
             ],
             [
              0.5555555555555556,
              "#d8576b"
             ],
             [
              0.6666666666666666,
              "#ed7953"
             ],
             [
              0.7777777777777778,
              "#fb9f3a"
             ],
             [
              0.8888888888888888,
              "#fdca26"
             ],
             [
              1,
              "#f0f921"
             ]
            ],
            "type": "histogram2dcontour"
           }
          ],
          "mesh3d": [
           {
            "colorbar": {
             "outlinewidth": 0,
             "ticks": ""
            },
            "type": "mesh3d"
           }
          ],
          "parcoords": [
           {
            "line": {
             "colorbar": {
              "outlinewidth": 0,
              "ticks": ""
             }
            },
            "type": "parcoords"
           }
          ],
          "pie": [
           {
            "automargin": true,
            "type": "pie"
           }
          ],
          "scatter": [
           {
            "marker": {
             "colorbar": {
              "outlinewidth": 0,
              "ticks": ""
             }
            },
            "type": "scatter"
           }
          ],
          "scatter3d": [
           {
            "line": {
             "colorbar": {
              "outlinewidth": 0,
              "ticks": ""
             }
            },
            "marker": {
             "colorbar": {
              "outlinewidth": 0,
              "ticks": ""
             }
            },
            "type": "scatter3d"
           }
          ],
          "scattercarpet": [
           {
            "marker": {
             "colorbar": {
              "outlinewidth": 0,
              "ticks": ""
             }
            },
            "type": "scattercarpet"
           }
          ],
          "scattergeo": [
           {
            "marker": {
             "colorbar": {
              "outlinewidth": 0,
              "ticks": ""
             }
            },
            "type": "scattergeo"
           }
          ],
          "scattergl": [
           {
            "marker": {
             "colorbar": {
              "outlinewidth": 0,
              "ticks": ""
             }
            },
            "type": "scattergl"
           }
          ],
          "scattermapbox": [
           {
            "marker": {
             "colorbar": {
              "outlinewidth": 0,
              "ticks": ""
             }
            },
            "type": "scattermapbox"
           }
          ],
          "scatterpolar": [
           {
            "marker": {
             "colorbar": {
              "outlinewidth": 0,
              "ticks": ""
             }
            },
            "type": "scatterpolar"
           }
          ],
          "scatterpolargl": [
           {
            "marker": {
             "colorbar": {
              "outlinewidth": 0,
              "ticks": ""
             }
            },
            "type": "scatterpolargl"
           }
          ],
          "scatterternary": [
           {
            "marker": {
             "colorbar": {
              "outlinewidth": 0,
              "ticks": ""
             }
            },
            "type": "scatterternary"
           }
          ],
          "surface": [
           {
            "colorbar": {
             "outlinewidth": 0,
             "ticks": ""
            },
            "colorscale": [
             [
              0,
              "#0d0887"
             ],
             [
              0.1111111111111111,
              "#46039f"
             ],
             [
              0.2222222222222222,
              "#7201a8"
             ],
             [
              0.3333333333333333,
              "#9c179e"
             ],
             [
              0.4444444444444444,
              "#bd3786"
             ],
             [
              0.5555555555555556,
              "#d8576b"
             ],
             [
              0.6666666666666666,
              "#ed7953"
             ],
             [
              0.7777777777777778,
              "#fb9f3a"
             ],
             [
              0.8888888888888888,
              "#fdca26"
             ],
             [
              1,
              "#f0f921"
             ]
            ],
            "type": "surface"
           }
          ],
          "table": [
           {
            "cells": {
             "fill": {
              "color": "#EBF0F8"
             },
             "line": {
              "color": "white"
             }
            },
            "header": {
             "fill": {
              "color": "#C8D4E3"
             },
             "line": {
              "color": "white"
             }
            },
            "type": "table"
           }
          ]
         },
         "layout": {
          "annotationdefaults": {
           "arrowcolor": "#2a3f5f",
           "arrowhead": 0,
           "arrowwidth": 1
          },
          "coloraxis": {
           "colorbar": {
            "outlinewidth": 0,
            "ticks": ""
           }
          },
          "colorscale": {
           "diverging": [
            [
             0,
             "#8e0152"
            ],
            [
             0.1,
             "#c51b7d"
            ],
            [
             0.2,
             "#de77ae"
            ],
            [
             0.3,
             "#f1b6da"
            ],
            [
             0.4,
             "#fde0ef"
            ],
            [
             0.5,
             "#f7f7f7"
            ],
            [
             0.6,
             "#e6f5d0"
            ],
            [
             0.7,
             "#b8e186"
            ],
            [
             0.8,
             "#7fbc41"
            ],
            [
             0.9,
             "#4d9221"
            ],
            [
             1,
             "#276419"
            ]
           ],
           "sequential": [
            [
             0,
             "#0d0887"
            ],
            [
             0.1111111111111111,
             "#46039f"
            ],
            [
             0.2222222222222222,
             "#7201a8"
            ],
            [
             0.3333333333333333,
             "#9c179e"
            ],
            [
             0.4444444444444444,
             "#bd3786"
            ],
            [
             0.5555555555555556,
             "#d8576b"
            ],
            [
             0.6666666666666666,
             "#ed7953"
            ],
            [
             0.7777777777777778,
             "#fb9f3a"
            ],
            [
             0.8888888888888888,
             "#fdca26"
            ],
            [
             1,
             "#f0f921"
            ]
           ],
           "sequentialminus": [
            [
             0,
             "#0d0887"
            ],
            [
             0.1111111111111111,
             "#46039f"
            ],
            [
             0.2222222222222222,
             "#7201a8"
            ],
            [
             0.3333333333333333,
             "#9c179e"
            ],
            [
             0.4444444444444444,
             "#bd3786"
            ],
            [
             0.5555555555555556,
             "#d8576b"
            ],
            [
             0.6666666666666666,
             "#ed7953"
            ],
            [
             0.7777777777777778,
             "#fb9f3a"
            ],
            [
             0.8888888888888888,
             "#fdca26"
            ],
            [
             1,
             "#f0f921"
            ]
           ]
          },
          "colorway": [
           "#636efa",
           "#EF553B",
           "#00cc96",
           "#ab63fa",
           "#FFA15A",
           "#19d3f3",
           "#FF6692",
           "#B6E880",
           "#FF97FF",
           "#FECB52"
          ],
          "font": {
           "color": "#2a3f5f"
          },
          "geo": {
           "bgcolor": "white",
           "lakecolor": "white",
           "landcolor": "#E5ECF6",
           "showlakes": true,
           "showland": true,
           "subunitcolor": "white"
          },
          "hoverlabel": {
           "align": "left"
          },
          "hovermode": "closest",
          "mapbox": {
           "style": "light"
          },
          "paper_bgcolor": "white",
          "plot_bgcolor": "#E5ECF6",
          "polar": {
           "angularaxis": {
            "gridcolor": "white",
            "linecolor": "white",
            "ticks": ""
           },
           "bgcolor": "#E5ECF6",
           "radialaxis": {
            "gridcolor": "white",
            "linecolor": "white",
            "ticks": ""
           }
          },
          "scene": {
           "xaxis": {
            "backgroundcolor": "#E5ECF6",
            "gridcolor": "white",
            "gridwidth": 2,
            "linecolor": "white",
            "showbackground": true,
            "ticks": "",
            "zerolinecolor": "white"
           },
           "yaxis": {
            "backgroundcolor": "#E5ECF6",
            "gridcolor": "white",
            "gridwidth": 2,
            "linecolor": "white",
            "showbackground": true,
            "ticks": "",
            "zerolinecolor": "white"
           },
           "zaxis": {
            "backgroundcolor": "#E5ECF6",
            "gridcolor": "white",
            "gridwidth": 2,
            "linecolor": "white",
            "showbackground": true,
            "ticks": "",
            "zerolinecolor": "white"
           }
          },
          "shapedefaults": {
           "line": {
            "color": "#2a3f5f"
           }
          },
          "ternary": {
           "aaxis": {
            "gridcolor": "white",
            "linecolor": "white",
            "ticks": ""
           },
           "baxis": {
            "gridcolor": "white",
            "linecolor": "white",
            "ticks": ""
           },
           "bgcolor": "#E5ECF6",
           "caxis": {
            "gridcolor": "white",
            "linecolor": "white",
            "ticks": ""
           }
          },
          "title": {
           "x": 0.05
          },
          "xaxis": {
           "automargin": true,
           "gridcolor": "white",
           "linecolor": "white",
           "ticks": "",
           "title": {
            "standoff": 15
           },
           "zerolinecolor": "white",
           "zerolinewidth": 2
          },
          "yaxis": {
           "automargin": true,
           "gridcolor": "white",
           "linecolor": "white",
           "ticks": "",
           "title": {
            "standoff": 15
           },
           "zerolinecolor": "white",
           "zerolinewidth": 2
          }
         }
        },
        "title": {
         "font": {
          "color": "#4D5663"
         }
        },
        "xaxis": {
         "gridcolor": "#E1E5ED",
         "showgrid": true,
         "tickfont": {
          "color": "#4D5663"
         },
         "title": {
          "font": {
           "color": "#4D5663"
          },
          "text": ""
         },
         "zerolinecolor": "#E1E5ED"
        },
        "yaxis": {
         "gridcolor": "#E1E5ED",
         "showgrid": true,
         "tickfont": {
          "color": "#4D5663"
         },
         "title": {
          "font": {
           "color": "#4D5663"
          },
          "text": ""
         },
         "zerolinecolor": "#E1E5ED"
        }
       }
      },
      "text/html": [
       "<div>\n",
       "        \n",
       "        \n",
       "            <div id=\"f43d582f-294e-4034-ab14-380aa9617978\" class=\"plotly-graph-div\" style=\"height:525px; width:100%;\"></div>\n",
       "            <script type=\"text/javascript\">\n",
       "                require([\"plotly\"], function(Plotly) {\n",
       "                    window.PLOTLYENV=window.PLOTLYENV || {};\n",
       "                    window.PLOTLYENV.BASE_URL='https://plot.ly';\n",
       "                    \n",
       "                if (document.getElementById(\"f43d582f-294e-4034-ab14-380aa9617978\")) {\n",
       "                    Plotly.newPlot(\n",
       "                        'f43d582f-294e-4034-ab14-380aa9617978',\n",
       "                        [{\"marker\": {\"color\": \"rgba(255, 153, 51, 0.6)\", \"line\": {\"color\": \"rgba(255, 153, 51, 1.0)\", \"width\": 1}}, \"name\": \"Values\", \"orientation\": \"v\", \"text\": \"\", \"type\": \"bar\", \"x\": [\"A\", \"B\", \"C\"], \"y\": [32, 43, 50]}],\n",
       "                        {\"legend\": {\"bgcolor\": \"#F5F6F9\", \"font\": {\"color\": \"#4D5663\"}}, \"paper_bgcolor\": \"#F5F6F9\", \"plot_bgcolor\": \"#F5F6F9\", \"template\": {\"data\": {\"bar\": [{\"error_x\": {\"color\": \"#2a3f5f\"}, \"error_y\": {\"color\": \"#2a3f5f\"}, \"marker\": {\"line\": {\"color\": \"#E5ECF6\", \"width\": 0.5}}, \"type\": \"bar\"}], \"barpolar\": [{\"marker\": {\"line\": {\"color\": \"#E5ECF6\", \"width\": 0.5}}, \"type\": \"barpolar\"}], \"carpet\": [{\"aaxis\": {\"endlinecolor\": \"#2a3f5f\", \"gridcolor\": \"white\", \"linecolor\": \"white\", \"minorgridcolor\": \"white\", \"startlinecolor\": \"#2a3f5f\"}, \"baxis\": {\"endlinecolor\": \"#2a3f5f\", \"gridcolor\": \"white\", \"linecolor\": \"white\", \"minorgridcolor\": \"white\", \"startlinecolor\": \"#2a3f5f\"}, \"type\": \"carpet\"}], \"choropleth\": [{\"colorbar\": {\"outlinewidth\": 0, \"ticks\": \"\"}, \"type\": \"choropleth\"}], \"contour\": [{\"colorbar\": {\"outlinewidth\": 0, \"ticks\": \"\"}, \"colorscale\": [[0.0, \"#0d0887\"], [0.1111111111111111, \"#46039f\"], [0.2222222222222222, \"#7201a8\"], [0.3333333333333333, \"#9c179e\"], [0.4444444444444444, \"#bd3786\"], [0.5555555555555556, \"#d8576b\"], [0.6666666666666666, \"#ed7953\"], [0.7777777777777778, \"#fb9f3a\"], [0.8888888888888888, \"#fdca26\"], [1.0, \"#f0f921\"]], \"type\": \"contour\"}], \"contourcarpet\": [{\"colorbar\": {\"outlinewidth\": 0, \"ticks\": \"\"}, \"type\": \"contourcarpet\"}], \"heatmap\": [{\"colorbar\": {\"outlinewidth\": 0, \"ticks\": \"\"}, \"colorscale\": [[0.0, \"#0d0887\"], [0.1111111111111111, \"#46039f\"], [0.2222222222222222, \"#7201a8\"], [0.3333333333333333, \"#9c179e\"], [0.4444444444444444, \"#bd3786\"], [0.5555555555555556, \"#d8576b\"], [0.6666666666666666, \"#ed7953\"], [0.7777777777777778, \"#fb9f3a\"], [0.8888888888888888, \"#fdca26\"], [1.0, \"#f0f921\"]], \"type\": \"heatmap\"}], \"heatmapgl\": [{\"colorbar\": {\"outlinewidth\": 0, \"ticks\": \"\"}, \"colorscale\": [[0.0, \"#0d0887\"], [0.1111111111111111, \"#46039f\"], [0.2222222222222222, \"#7201a8\"], [0.3333333333333333, \"#9c179e\"], [0.4444444444444444, \"#bd3786\"], [0.5555555555555556, \"#d8576b\"], [0.6666666666666666, \"#ed7953\"], [0.7777777777777778, \"#fb9f3a\"], [0.8888888888888888, \"#fdca26\"], [1.0, \"#f0f921\"]], \"type\": \"heatmapgl\"}], \"histogram\": [{\"marker\": {\"colorbar\": {\"outlinewidth\": 0, \"ticks\": \"\"}}, \"type\": \"histogram\"}], \"histogram2d\": [{\"colorbar\": {\"outlinewidth\": 0, \"ticks\": \"\"}, \"colorscale\": [[0.0, \"#0d0887\"], [0.1111111111111111, \"#46039f\"], [0.2222222222222222, \"#7201a8\"], [0.3333333333333333, \"#9c179e\"], [0.4444444444444444, \"#bd3786\"], [0.5555555555555556, \"#d8576b\"], [0.6666666666666666, \"#ed7953\"], [0.7777777777777778, \"#fb9f3a\"], [0.8888888888888888, \"#fdca26\"], [1.0, \"#f0f921\"]], \"type\": \"histogram2d\"}], \"histogram2dcontour\": [{\"colorbar\": {\"outlinewidth\": 0, \"ticks\": \"\"}, \"colorscale\": [[0.0, \"#0d0887\"], [0.1111111111111111, \"#46039f\"], [0.2222222222222222, \"#7201a8\"], [0.3333333333333333, \"#9c179e\"], [0.4444444444444444, \"#bd3786\"], [0.5555555555555556, \"#d8576b\"], [0.6666666666666666, \"#ed7953\"], [0.7777777777777778, \"#fb9f3a\"], [0.8888888888888888, \"#fdca26\"], [1.0, \"#f0f921\"]], \"type\": \"histogram2dcontour\"}], \"mesh3d\": [{\"colorbar\": {\"outlinewidth\": 0, \"ticks\": \"\"}, \"type\": \"mesh3d\"}], \"parcoords\": [{\"line\": {\"colorbar\": {\"outlinewidth\": 0, \"ticks\": \"\"}}, \"type\": \"parcoords\"}], \"pie\": [{\"automargin\": true, \"type\": \"pie\"}], \"scatter\": [{\"marker\": {\"colorbar\": {\"outlinewidth\": 0, \"ticks\": \"\"}}, \"type\": \"scatter\"}], \"scatter3d\": [{\"line\": {\"colorbar\": {\"outlinewidth\": 0, \"ticks\": \"\"}}, \"marker\": {\"colorbar\": {\"outlinewidth\": 0, \"ticks\": \"\"}}, \"type\": \"scatter3d\"}], \"scattercarpet\": [{\"marker\": {\"colorbar\": {\"outlinewidth\": 0, \"ticks\": \"\"}}, \"type\": \"scattercarpet\"}], \"scattergeo\": [{\"marker\": {\"colorbar\": {\"outlinewidth\": 0, \"ticks\": \"\"}}, \"type\": \"scattergeo\"}], \"scattergl\": [{\"marker\": {\"colorbar\": {\"outlinewidth\": 0, \"ticks\": \"\"}}, \"type\": \"scattergl\"}], \"scattermapbox\": [{\"marker\": {\"colorbar\": {\"outlinewidth\": 0, \"ticks\": \"\"}}, \"type\": \"scattermapbox\"}], \"scatterpolar\": [{\"marker\": {\"colorbar\": {\"outlinewidth\": 0, \"ticks\": \"\"}}, \"type\": \"scatterpolar\"}], \"scatterpolargl\": [{\"marker\": {\"colorbar\": {\"outlinewidth\": 0, \"ticks\": \"\"}}, \"type\": \"scatterpolargl\"}], \"scatterternary\": [{\"marker\": {\"colorbar\": {\"outlinewidth\": 0, \"ticks\": \"\"}}, \"type\": \"scatterternary\"}], \"surface\": [{\"colorbar\": {\"outlinewidth\": 0, \"ticks\": \"\"}, \"colorscale\": [[0.0, \"#0d0887\"], [0.1111111111111111, \"#46039f\"], [0.2222222222222222, \"#7201a8\"], [0.3333333333333333, \"#9c179e\"], [0.4444444444444444, \"#bd3786\"], [0.5555555555555556, \"#d8576b\"], [0.6666666666666666, \"#ed7953\"], [0.7777777777777778, \"#fb9f3a\"], [0.8888888888888888, \"#fdca26\"], [1.0, \"#f0f921\"]], \"type\": \"surface\"}], \"table\": [{\"cells\": {\"fill\": {\"color\": \"#EBF0F8\"}, \"line\": {\"color\": \"white\"}}, \"header\": {\"fill\": {\"color\": \"#C8D4E3\"}, \"line\": {\"color\": \"white\"}}, \"type\": \"table\"}]}, \"layout\": {\"annotationdefaults\": {\"arrowcolor\": \"#2a3f5f\", \"arrowhead\": 0, \"arrowwidth\": 1}, \"coloraxis\": {\"colorbar\": {\"outlinewidth\": 0, \"ticks\": \"\"}}, \"colorscale\": {\"diverging\": [[0, \"#8e0152\"], [0.1, \"#c51b7d\"], [0.2, \"#de77ae\"], [0.3, \"#f1b6da\"], [0.4, \"#fde0ef\"], [0.5, \"#f7f7f7\"], [0.6, \"#e6f5d0\"], [0.7, \"#b8e186\"], [0.8, \"#7fbc41\"], [0.9, \"#4d9221\"], [1, \"#276419\"]], \"sequential\": [[0.0, \"#0d0887\"], [0.1111111111111111, \"#46039f\"], [0.2222222222222222, \"#7201a8\"], [0.3333333333333333, \"#9c179e\"], [0.4444444444444444, \"#bd3786\"], [0.5555555555555556, \"#d8576b\"], [0.6666666666666666, \"#ed7953\"], [0.7777777777777778, \"#fb9f3a\"], [0.8888888888888888, \"#fdca26\"], [1.0, \"#f0f921\"]], \"sequentialminus\": [[0.0, \"#0d0887\"], [0.1111111111111111, \"#46039f\"], [0.2222222222222222, \"#7201a8\"], [0.3333333333333333, \"#9c179e\"], [0.4444444444444444, \"#bd3786\"], [0.5555555555555556, \"#d8576b\"], [0.6666666666666666, \"#ed7953\"], [0.7777777777777778, \"#fb9f3a\"], [0.8888888888888888, \"#fdca26\"], [1.0, \"#f0f921\"]]}, \"colorway\": [\"#636efa\", \"#EF553B\", \"#00cc96\", \"#ab63fa\", \"#FFA15A\", \"#19d3f3\", \"#FF6692\", \"#B6E880\", \"#FF97FF\", \"#FECB52\"], \"font\": {\"color\": \"#2a3f5f\"}, \"geo\": {\"bgcolor\": \"white\", \"lakecolor\": \"white\", \"landcolor\": \"#E5ECF6\", \"showlakes\": true, \"showland\": true, \"subunitcolor\": \"white\"}, \"hoverlabel\": {\"align\": \"left\"}, \"hovermode\": \"closest\", \"mapbox\": {\"style\": \"light\"}, \"paper_bgcolor\": \"white\", \"plot_bgcolor\": \"#E5ECF6\", \"polar\": {\"angularaxis\": {\"gridcolor\": \"white\", \"linecolor\": \"white\", \"ticks\": \"\"}, \"bgcolor\": \"#E5ECF6\", \"radialaxis\": {\"gridcolor\": \"white\", \"linecolor\": \"white\", \"ticks\": \"\"}}, \"scene\": {\"xaxis\": {\"backgroundcolor\": \"#E5ECF6\", \"gridcolor\": \"white\", \"gridwidth\": 2, \"linecolor\": \"white\", \"showbackground\": true, \"ticks\": \"\", \"zerolinecolor\": \"white\"}, \"yaxis\": {\"backgroundcolor\": \"#E5ECF6\", \"gridcolor\": \"white\", \"gridwidth\": 2, \"linecolor\": \"white\", \"showbackground\": true, \"ticks\": \"\", \"zerolinecolor\": \"white\"}, \"zaxis\": {\"backgroundcolor\": \"#E5ECF6\", \"gridcolor\": \"white\", \"gridwidth\": 2, \"linecolor\": \"white\", \"showbackground\": true, \"ticks\": \"\", \"zerolinecolor\": \"white\"}}, \"shapedefaults\": {\"line\": {\"color\": \"#2a3f5f\"}}, \"ternary\": {\"aaxis\": {\"gridcolor\": \"white\", \"linecolor\": \"white\", \"ticks\": \"\"}, \"baxis\": {\"gridcolor\": \"white\", \"linecolor\": \"white\", \"ticks\": \"\"}, \"bgcolor\": \"#E5ECF6\", \"caxis\": {\"gridcolor\": \"white\", \"linecolor\": \"white\", \"ticks\": \"\"}}, \"title\": {\"x\": 0.05}, \"xaxis\": {\"automargin\": true, \"gridcolor\": \"white\", \"linecolor\": \"white\", \"ticks\": \"\", \"title\": {\"standoff\": 15}, \"zerolinecolor\": \"white\", \"zerolinewidth\": 2}, \"yaxis\": {\"automargin\": true, \"gridcolor\": \"white\", \"linecolor\": \"white\", \"ticks\": \"\", \"title\": {\"standoff\": 15}, \"zerolinecolor\": \"white\", \"zerolinewidth\": 2}}}, \"title\": {\"font\": {\"color\": \"#4D5663\"}}, \"xaxis\": {\"gridcolor\": \"#E1E5ED\", \"showgrid\": true, \"tickfont\": {\"color\": \"#4D5663\"}, \"title\": {\"font\": {\"color\": \"#4D5663\"}, \"text\": \"\"}, \"zerolinecolor\": \"#E1E5ED\"}, \"yaxis\": {\"gridcolor\": \"#E1E5ED\", \"showgrid\": true, \"tickfont\": {\"color\": \"#4D5663\"}, \"title\": {\"font\": {\"color\": \"#4D5663\"}, \"text\": \"\"}, \"zerolinecolor\": \"#E1E5ED\"}},\n",
       "                        {\"showLink\": true, \"linkText\": \"Export to plot.ly\", \"plotlyServerURL\": \"https://plot.ly\", \"responsive\": true}\n",
       "                    ).then(function(){\n",
       "                            \n",
       "var gd = document.getElementById('f43d582f-294e-4034-ab14-380aa9617978');\n",
       "var x = new MutationObserver(function (mutations, observer) {{\n",
       "        var display = window.getComputedStyle(gd).display;\n",
       "        if (!display || display === 'none') {{\n",
       "            console.log([gd, 'removed!']);\n",
       "            Plotly.purge(gd);\n",
       "            observer.disconnect();\n",
       "        }}\n",
       "}});\n",
       "\n",
       "// Listen for the removal of the full notebook cells\n",
       "var notebookContainer = gd.closest('#notebook-container');\n",
       "if (notebookContainer) {{\n",
       "    x.observe(notebookContainer, {childList: true});\n",
       "}}\n",
       "\n",
       "// Listen for the clearing of the current output cell\n",
       "var outputEl = gd.closest('.output');\n",
       "if (outputEl) {{\n",
       "    x.observe(outputEl, {childList: true});\n",
       "}}\n",
       "\n",
       "                        })\n",
       "                };\n",
       "                });\n",
       "            </script>\n",
       "        </div>"
      ]
     },
     "metadata": {},
     "output_type": "display_data"
    }
   ],
   "source": [
    "df2.iplot(kind='bar',x='Category',y='Values')"
   ]
  },
  {
   "cell_type": "code",
   "execution_count": 15,
   "metadata": {},
   "outputs": [
    {
     "data": {
      "application/vnd.plotly.v1+json": {
       "config": {
        "linkText": "Export to plot.ly",
        "plotlyServerURL": "https://plot.ly",
        "showLink": true
       },
       "data": [
        {
         "marker": {
          "color": "rgba(255, 153, 51, 0.6)",
          "line": {
           "color": "rgba(255, 153, 51, 1.0)",
           "width": 1
          }
         },
         "name": "None",
         "orientation": "v",
         "text": "",
         "type": "bar",
         "x": [
          "A",
          "B",
          "C",
          "D"
         ],
         "y": [
          100,
          100,
          100,
          100
         ]
        }
       ],
       "layout": {
        "legend": {
         "bgcolor": "#F5F6F9",
         "font": {
          "color": "#4D5663"
         }
        },
        "paper_bgcolor": "#F5F6F9",
        "plot_bgcolor": "#F5F6F9",
        "template": {
         "data": {
          "bar": [
           {
            "error_x": {
             "color": "#2a3f5f"
            },
            "error_y": {
             "color": "#2a3f5f"
            },
            "marker": {
             "line": {
              "color": "#E5ECF6",
              "width": 0.5
             }
            },
            "type": "bar"
           }
          ],
          "barpolar": [
           {
            "marker": {
             "line": {
              "color": "#E5ECF6",
              "width": 0.5
             }
            },
            "type": "barpolar"
           }
          ],
          "carpet": [
           {
            "aaxis": {
             "endlinecolor": "#2a3f5f",
             "gridcolor": "white",
             "linecolor": "white",
             "minorgridcolor": "white",
             "startlinecolor": "#2a3f5f"
            },
            "baxis": {
             "endlinecolor": "#2a3f5f",
             "gridcolor": "white",
             "linecolor": "white",
             "minorgridcolor": "white",
             "startlinecolor": "#2a3f5f"
            },
            "type": "carpet"
           }
          ],
          "choropleth": [
           {
            "colorbar": {
             "outlinewidth": 0,
             "ticks": ""
            },
            "type": "choropleth"
           }
          ],
          "contour": [
           {
            "colorbar": {
             "outlinewidth": 0,
             "ticks": ""
            },
            "colorscale": [
             [
              0,
              "#0d0887"
             ],
             [
              0.1111111111111111,
              "#46039f"
             ],
             [
              0.2222222222222222,
              "#7201a8"
             ],
             [
              0.3333333333333333,
              "#9c179e"
             ],
             [
              0.4444444444444444,
              "#bd3786"
             ],
             [
              0.5555555555555556,
              "#d8576b"
             ],
             [
              0.6666666666666666,
              "#ed7953"
             ],
             [
              0.7777777777777778,
              "#fb9f3a"
             ],
             [
              0.8888888888888888,
              "#fdca26"
             ],
             [
              1,
              "#f0f921"
             ]
            ],
            "type": "contour"
           }
          ],
          "contourcarpet": [
           {
            "colorbar": {
             "outlinewidth": 0,
             "ticks": ""
            },
            "type": "contourcarpet"
           }
          ],
          "heatmap": [
           {
            "colorbar": {
             "outlinewidth": 0,
             "ticks": ""
            },
            "colorscale": [
             [
              0,
              "#0d0887"
             ],
             [
              0.1111111111111111,
              "#46039f"
             ],
             [
              0.2222222222222222,
              "#7201a8"
             ],
             [
              0.3333333333333333,
              "#9c179e"
             ],
             [
              0.4444444444444444,
              "#bd3786"
             ],
             [
              0.5555555555555556,
              "#d8576b"
             ],
             [
              0.6666666666666666,
              "#ed7953"
             ],
             [
              0.7777777777777778,
              "#fb9f3a"
             ],
             [
              0.8888888888888888,
              "#fdca26"
             ],
             [
              1,
              "#f0f921"
             ]
            ],
            "type": "heatmap"
           }
          ],
          "heatmapgl": [
           {
            "colorbar": {
             "outlinewidth": 0,
             "ticks": ""
            },
            "colorscale": [
             [
              0,
              "#0d0887"
             ],
             [
              0.1111111111111111,
              "#46039f"
             ],
             [
              0.2222222222222222,
              "#7201a8"
             ],
             [
              0.3333333333333333,
              "#9c179e"
             ],
             [
              0.4444444444444444,
              "#bd3786"
             ],
             [
              0.5555555555555556,
              "#d8576b"
             ],
             [
              0.6666666666666666,
              "#ed7953"
             ],
             [
              0.7777777777777778,
              "#fb9f3a"
             ],
             [
              0.8888888888888888,
              "#fdca26"
             ],
             [
              1,
              "#f0f921"
             ]
            ],
            "type": "heatmapgl"
           }
          ],
          "histogram": [
           {
            "marker": {
             "colorbar": {
              "outlinewidth": 0,
              "ticks": ""
             }
            },
            "type": "histogram"
           }
          ],
          "histogram2d": [
           {
            "colorbar": {
             "outlinewidth": 0,
             "ticks": ""
            },
            "colorscale": [
             [
              0,
              "#0d0887"
             ],
             [
              0.1111111111111111,
              "#46039f"
             ],
             [
              0.2222222222222222,
              "#7201a8"
             ],
             [
              0.3333333333333333,
              "#9c179e"
             ],
             [
              0.4444444444444444,
              "#bd3786"
             ],
             [
              0.5555555555555556,
              "#d8576b"
             ],
             [
              0.6666666666666666,
              "#ed7953"
             ],
             [
              0.7777777777777778,
              "#fb9f3a"
             ],
             [
              0.8888888888888888,
              "#fdca26"
             ],
             [
              1,
              "#f0f921"
             ]
            ],
            "type": "histogram2d"
           }
          ],
          "histogram2dcontour": [
           {
            "colorbar": {
             "outlinewidth": 0,
             "ticks": ""
            },
            "colorscale": [
             [
              0,
              "#0d0887"
             ],
             [
              0.1111111111111111,
              "#46039f"
             ],
             [
              0.2222222222222222,
              "#7201a8"
             ],
             [
              0.3333333333333333,
              "#9c179e"
             ],
             [
              0.4444444444444444,
              "#bd3786"
             ],
             [
              0.5555555555555556,
              "#d8576b"
             ],
             [
              0.6666666666666666,
              "#ed7953"
             ],
             [
              0.7777777777777778,
              "#fb9f3a"
             ],
             [
              0.8888888888888888,
              "#fdca26"
             ],
             [
              1,
              "#f0f921"
             ]
            ],
            "type": "histogram2dcontour"
           }
          ],
          "mesh3d": [
           {
            "colorbar": {
             "outlinewidth": 0,
             "ticks": ""
            },
            "type": "mesh3d"
           }
          ],
          "parcoords": [
           {
            "line": {
             "colorbar": {
              "outlinewidth": 0,
              "ticks": ""
             }
            },
            "type": "parcoords"
           }
          ],
          "pie": [
           {
            "automargin": true,
            "type": "pie"
           }
          ],
          "scatter": [
           {
            "marker": {
             "colorbar": {
              "outlinewidth": 0,
              "ticks": ""
             }
            },
            "type": "scatter"
           }
          ],
          "scatter3d": [
           {
            "line": {
             "colorbar": {
              "outlinewidth": 0,
              "ticks": ""
             }
            },
            "marker": {
             "colorbar": {
              "outlinewidth": 0,
              "ticks": ""
             }
            },
            "type": "scatter3d"
           }
          ],
          "scattercarpet": [
           {
            "marker": {
             "colorbar": {
              "outlinewidth": 0,
              "ticks": ""
             }
            },
            "type": "scattercarpet"
           }
          ],
          "scattergeo": [
           {
            "marker": {
             "colorbar": {
              "outlinewidth": 0,
              "ticks": ""
             }
            },
            "type": "scattergeo"
           }
          ],
          "scattergl": [
           {
            "marker": {
             "colorbar": {
              "outlinewidth": 0,
              "ticks": ""
             }
            },
            "type": "scattergl"
           }
          ],
          "scattermapbox": [
           {
            "marker": {
             "colorbar": {
              "outlinewidth": 0,
              "ticks": ""
             }
            },
            "type": "scattermapbox"
           }
          ],
          "scatterpolar": [
           {
            "marker": {
             "colorbar": {
              "outlinewidth": 0,
              "ticks": ""
             }
            },
            "type": "scatterpolar"
           }
          ],
          "scatterpolargl": [
           {
            "marker": {
             "colorbar": {
              "outlinewidth": 0,
              "ticks": ""
             }
            },
            "type": "scatterpolargl"
           }
          ],
          "scatterternary": [
           {
            "marker": {
             "colorbar": {
              "outlinewidth": 0,
              "ticks": ""
             }
            },
            "type": "scatterternary"
           }
          ],
          "surface": [
           {
            "colorbar": {
             "outlinewidth": 0,
             "ticks": ""
            },
            "colorscale": [
             [
              0,
              "#0d0887"
             ],
             [
              0.1111111111111111,
              "#46039f"
             ],
             [
              0.2222222222222222,
              "#7201a8"
             ],
             [
              0.3333333333333333,
              "#9c179e"
             ],
             [
              0.4444444444444444,
              "#bd3786"
             ],
             [
              0.5555555555555556,
              "#d8576b"
             ],
             [
              0.6666666666666666,
              "#ed7953"
             ],
             [
              0.7777777777777778,
              "#fb9f3a"
             ],
             [
              0.8888888888888888,
              "#fdca26"
             ],
             [
              1,
              "#f0f921"
             ]
            ],
            "type": "surface"
           }
          ],
          "table": [
           {
            "cells": {
             "fill": {
              "color": "#EBF0F8"
             },
             "line": {
              "color": "white"
             }
            },
            "header": {
             "fill": {
              "color": "#C8D4E3"
             },
             "line": {
              "color": "white"
             }
            },
            "type": "table"
           }
          ]
         },
         "layout": {
          "annotationdefaults": {
           "arrowcolor": "#2a3f5f",
           "arrowhead": 0,
           "arrowwidth": 1
          },
          "coloraxis": {
           "colorbar": {
            "outlinewidth": 0,
            "ticks": ""
           }
          },
          "colorscale": {
           "diverging": [
            [
             0,
             "#8e0152"
            ],
            [
             0.1,
             "#c51b7d"
            ],
            [
             0.2,
             "#de77ae"
            ],
            [
             0.3,
             "#f1b6da"
            ],
            [
             0.4,
             "#fde0ef"
            ],
            [
             0.5,
             "#f7f7f7"
            ],
            [
             0.6,
             "#e6f5d0"
            ],
            [
             0.7,
             "#b8e186"
            ],
            [
             0.8,
             "#7fbc41"
            ],
            [
             0.9,
             "#4d9221"
            ],
            [
             1,
             "#276419"
            ]
           ],
           "sequential": [
            [
             0,
             "#0d0887"
            ],
            [
             0.1111111111111111,
             "#46039f"
            ],
            [
             0.2222222222222222,
             "#7201a8"
            ],
            [
             0.3333333333333333,
             "#9c179e"
            ],
            [
             0.4444444444444444,
             "#bd3786"
            ],
            [
             0.5555555555555556,
             "#d8576b"
            ],
            [
             0.6666666666666666,
             "#ed7953"
            ],
            [
             0.7777777777777778,
             "#fb9f3a"
            ],
            [
             0.8888888888888888,
             "#fdca26"
            ],
            [
             1,
             "#f0f921"
            ]
           ],
           "sequentialminus": [
            [
             0,
             "#0d0887"
            ],
            [
             0.1111111111111111,
             "#46039f"
            ],
            [
             0.2222222222222222,
             "#7201a8"
            ],
            [
             0.3333333333333333,
             "#9c179e"
            ],
            [
             0.4444444444444444,
             "#bd3786"
            ],
            [
             0.5555555555555556,
             "#d8576b"
            ],
            [
             0.6666666666666666,
             "#ed7953"
            ],
            [
             0.7777777777777778,
             "#fb9f3a"
            ],
            [
             0.8888888888888888,
             "#fdca26"
            ],
            [
             1,
             "#f0f921"
            ]
           ]
          },
          "colorway": [
           "#636efa",
           "#EF553B",
           "#00cc96",
           "#ab63fa",
           "#FFA15A",
           "#19d3f3",
           "#FF6692",
           "#B6E880",
           "#FF97FF",
           "#FECB52"
          ],
          "font": {
           "color": "#2a3f5f"
          },
          "geo": {
           "bgcolor": "white",
           "lakecolor": "white",
           "landcolor": "#E5ECF6",
           "showlakes": true,
           "showland": true,
           "subunitcolor": "white"
          },
          "hoverlabel": {
           "align": "left"
          },
          "hovermode": "closest",
          "mapbox": {
           "style": "light"
          },
          "paper_bgcolor": "white",
          "plot_bgcolor": "#E5ECF6",
          "polar": {
           "angularaxis": {
            "gridcolor": "white",
            "linecolor": "white",
            "ticks": ""
           },
           "bgcolor": "#E5ECF6",
           "radialaxis": {
            "gridcolor": "white",
            "linecolor": "white",
            "ticks": ""
           }
          },
          "scene": {
           "xaxis": {
            "backgroundcolor": "#E5ECF6",
            "gridcolor": "white",
            "gridwidth": 2,
            "linecolor": "white",
            "showbackground": true,
            "ticks": "",
            "zerolinecolor": "white"
           },
           "yaxis": {
            "backgroundcolor": "#E5ECF6",
            "gridcolor": "white",
            "gridwidth": 2,
            "linecolor": "white",
            "showbackground": true,
            "ticks": "",
            "zerolinecolor": "white"
           },
           "zaxis": {
            "backgroundcolor": "#E5ECF6",
            "gridcolor": "white",
            "gridwidth": 2,
            "linecolor": "white",
            "showbackground": true,
            "ticks": "",
            "zerolinecolor": "white"
           }
          },
          "shapedefaults": {
           "line": {
            "color": "#2a3f5f"
           }
          },
          "ternary": {
           "aaxis": {
            "gridcolor": "white",
            "linecolor": "white",
            "ticks": ""
           },
           "baxis": {
            "gridcolor": "white",
            "linecolor": "white",
            "ticks": ""
           },
           "bgcolor": "#E5ECF6",
           "caxis": {
            "gridcolor": "white",
            "linecolor": "white",
            "ticks": ""
           }
          },
          "title": {
           "x": 0.05
          },
          "xaxis": {
           "automargin": true,
           "gridcolor": "white",
           "linecolor": "white",
           "ticks": "",
           "title": {
            "standoff": 15
           },
           "zerolinecolor": "white",
           "zerolinewidth": 2
          },
          "yaxis": {
           "automargin": true,
           "gridcolor": "white",
           "linecolor": "white",
           "ticks": "",
           "title": {
            "standoff": 15
           },
           "zerolinecolor": "white",
           "zerolinewidth": 2
          }
         }
        },
        "title": {
         "font": {
          "color": "#4D5663"
         }
        },
        "xaxis": {
         "gridcolor": "#E1E5ED",
         "showgrid": true,
         "tickfont": {
          "color": "#4D5663"
         },
         "title": {
          "font": {
           "color": "#4D5663"
          },
          "text": ""
         },
         "zerolinecolor": "#E1E5ED"
        },
        "yaxis": {
         "gridcolor": "#E1E5ED",
         "showgrid": true,
         "tickfont": {
          "color": "#4D5663"
         },
         "title": {
          "font": {
           "color": "#4D5663"
          },
          "text": ""
         },
         "zerolinecolor": "#E1E5ED"
        }
       }
      },
      "text/html": [
       "<div>\n",
       "        \n",
       "        \n",
       "            <div id=\"1c8ca8d4-d5fe-49f5-b99a-555938de3c63\" class=\"plotly-graph-div\" style=\"height:525px; width:100%;\"></div>\n",
       "            <script type=\"text/javascript\">\n",
       "                require([\"plotly\"], function(Plotly) {\n",
       "                    window.PLOTLYENV=window.PLOTLYENV || {};\n",
       "                    window.PLOTLYENV.BASE_URL='https://plot.ly';\n",
       "                    \n",
       "                if (document.getElementById(\"1c8ca8d4-d5fe-49f5-b99a-555938de3c63\")) {\n",
       "                    Plotly.newPlot(\n",
       "                        '1c8ca8d4-d5fe-49f5-b99a-555938de3c63',\n",
       "                        [{\"marker\": {\"color\": \"rgba(255, 153, 51, 0.6)\", \"line\": {\"color\": \"rgba(255, 153, 51, 1.0)\", \"width\": 1}}, \"name\": \"None\", \"orientation\": \"v\", \"text\": \"\", \"type\": \"bar\", \"x\": [\"A\", \"B\", \"C\", \"D\"], \"y\": [100, 100, 100, 100]}],\n",
       "                        {\"legend\": {\"bgcolor\": \"#F5F6F9\", \"font\": {\"color\": \"#4D5663\"}}, \"paper_bgcolor\": \"#F5F6F9\", \"plot_bgcolor\": \"#F5F6F9\", \"template\": {\"data\": {\"bar\": [{\"error_x\": {\"color\": \"#2a3f5f\"}, \"error_y\": {\"color\": \"#2a3f5f\"}, \"marker\": {\"line\": {\"color\": \"#E5ECF6\", \"width\": 0.5}}, \"type\": \"bar\"}], \"barpolar\": [{\"marker\": {\"line\": {\"color\": \"#E5ECF6\", \"width\": 0.5}}, \"type\": \"barpolar\"}], \"carpet\": [{\"aaxis\": {\"endlinecolor\": \"#2a3f5f\", \"gridcolor\": \"white\", \"linecolor\": \"white\", \"minorgridcolor\": \"white\", \"startlinecolor\": \"#2a3f5f\"}, \"baxis\": {\"endlinecolor\": \"#2a3f5f\", \"gridcolor\": \"white\", \"linecolor\": \"white\", \"minorgridcolor\": \"white\", \"startlinecolor\": \"#2a3f5f\"}, \"type\": \"carpet\"}], \"choropleth\": [{\"colorbar\": {\"outlinewidth\": 0, \"ticks\": \"\"}, \"type\": \"choropleth\"}], \"contour\": [{\"colorbar\": {\"outlinewidth\": 0, \"ticks\": \"\"}, \"colorscale\": [[0.0, \"#0d0887\"], [0.1111111111111111, \"#46039f\"], [0.2222222222222222, \"#7201a8\"], [0.3333333333333333, \"#9c179e\"], [0.4444444444444444, \"#bd3786\"], [0.5555555555555556, \"#d8576b\"], [0.6666666666666666, \"#ed7953\"], [0.7777777777777778, \"#fb9f3a\"], [0.8888888888888888, \"#fdca26\"], [1.0, \"#f0f921\"]], \"type\": \"contour\"}], \"contourcarpet\": [{\"colorbar\": {\"outlinewidth\": 0, \"ticks\": \"\"}, \"type\": \"contourcarpet\"}], \"heatmap\": [{\"colorbar\": {\"outlinewidth\": 0, \"ticks\": \"\"}, \"colorscale\": [[0.0, \"#0d0887\"], [0.1111111111111111, \"#46039f\"], [0.2222222222222222, \"#7201a8\"], [0.3333333333333333, \"#9c179e\"], [0.4444444444444444, \"#bd3786\"], [0.5555555555555556, \"#d8576b\"], [0.6666666666666666, \"#ed7953\"], [0.7777777777777778, \"#fb9f3a\"], [0.8888888888888888, \"#fdca26\"], [1.0, \"#f0f921\"]], \"type\": \"heatmap\"}], \"heatmapgl\": [{\"colorbar\": {\"outlinewidth\": 0, \"ticks\": \"\"}, \"colorscale\": [[0.0, \"#0d0887\"], [0.1111111111111111, \"#46039f\"], [0.2222222222222222, \"#7201a8\"], [0.3333333333333333, \"#9c179e\"], [0.4444444444444444, \"#bd3786\"], [0.5555555555555556, \"#d8576b\"], [0.6666666666666666, \"#ed7953\"], [0.7777777777777778, \"#fb9f3a\"], [0.8888888888888888, \"#fdca26\"], [1.0, \"#f0f921\"]], \"type\": \"heatmapgl\"}], \"histogram\": [{\"marker\": {\"colorbar\": {\"outlinewidth\": 0, \"ticks\": \"\"}}, \"type\": \"histogram\"}], \"histogram2d\": [{\"colorbar\": {\"outlinewidth\": 0, \"ticks\": \"\"}, \"colorscale\": [[0.0, \"#0d0887\"], [0.1111111111111111, \"#46039f\"], [0.2222222222222222, \"#7201a8\"], [0.3333333333333333, \"#9c179e\"], [0.4444444444444444, \"#bd3786\"], [0.5555555555555556, \"#d8576b\"], [0.6666666666666666, \"#ed7953\"], [0.7777777777777778, \"#fb9f3a\"], [0.8888888888888888, \"#fdca26\"], [1.0, \"#f0f921\"]], \"type\": \"histogram2d\"}], \"histogram2dcontour\": [{\"colorbar\": {\"outlinewidth\": 0, \"ticks\": \"\"}, \"colorscale\": [[0.0, \"#0d0887\"], [0.1111111111111111, \"#46039f\"], [0.2222222222222222, \"#7201a8\"], [0.3333333333333333, \"#9c179e\"], [0.4444444444444444, \"#bd3786\"], [0.5555555555555556, \"#d8576b\"], [0.6666666666666666, \"#ed7953\"], [0.7777777777777778, \"#fb9f3a\"], [0.8888888888888888, \"#fdca26\"], [1.0, \"#f0f921\"]], \"type\": \"histogram2dcontour\"}], \"mesh3d\": [{\"colorbar\": {\"outlinewidth\": 0, \"ticks\": \"\"}, \"type\": \"mesh3d\"}], \"parcoords\": [{\"line\": {\"colorbar\": {\"outlinewidth\": 0, \"ticks\": \"\"}}, \"type\": \"parcoords\"}], \"pie\": [{\"automargin\": true, \"type\": \"pie\"}], \"scatter\": [{\"marker\": {\"colorbar\": {\"outlinewidth\": 0, \"ticks\": \"\"}}, \"type\": \"scatter\"}], \"scatter3d\": [{\"line\": {\"colorbar\": {\"outlinewidth\": 0, \"ticks\": \"\"}}, \"marker\": {\"colorbar\": {\"outlinewidth\": 0, \"ticks\": \"\"}}, \"type\": \"scatter3d\"}], \"scattercarpet\": [{\"marker\": {\"colorbar\": {\"outlinewidth\": 0, \"ticks\": \"\"}}, \"type\": \"scattercarpet\"}], \"scattergeo\": [{\"marker\": {\"colorbar\": {\"outlinewidth\": 0, \"ticks\": \"\"}}, \"type\": \"scattergeo\"}], \"scattergl\": [{\"marker\": {\"colorbar\": {\"outlinewidth\": 0, \"ticks\": \"\"}}, \"type\": \"scattergl\"}], \"scattermapbox\": [{\"marker\": {\"colorbar\": {\"outlinewidth\": 0, \"ticks\": \"\"}}, \"type\": \"scattermapbox\"}], \"scatterpolar\": [{\"marker\": {\"colorbar\": {\"outlinewidth\": 0, \"ticks\": \"\"}}, \"type\": \"scatterpolar\"}], \"scatterpolargl\": [{\"marker\": {\"colorbar\": {\"outlinewidth\": 0, \"ticks\": \"\"}}, \"type\": \"scatterpolargl\"}], \"scatterternary\": [{\"marker\": {\"colorbar\": {\"outlinewidth\": 0, \"ticks\": \"\"}}, \"type\": \"scatterternary\"}], \"surface\": [{\"colorbar\": {\"outlinewidth\": 0, \"ticks\": \"\"}, \"colorscale\": [[0.0, \"#0d0887\"], [0.1111111111111111, \"#46039f\"], [0.2222222222222222, \"#7201a8\"], [0.3333333333333333, \"#9c179e\"], [0.4444444444444444, \"#bd3786\"], [0.5555555555555556, \"#d8576b\"], [0.6666666666666666, \"#ed7953\"], [0.7777777777777778, \"#fb9f3a\"], [0.8888888888888888, \"#fdca26\"], [1.0, \"#f0f921\"]], \"type\": \"surface\"}], \"table\": [{\"cells\": {\"fill\": {\"color\": \"#EBF0F8\"}, \"line\": {\"color\": \"white\"}}, \"header\": {\"fill\": {\"color\": \"#C8D4E3\"}, \"line\": {\"color\": \"white\"}}, \"type\": \"table\"}]}, \"layout\": {\"annotationdefaults\": {\"arrowcolor\": \"#2a3f5f\", \"arrowhead\": 0, \"arrowwidth\": 1}, \"coloraxis\": {\"colorbar\": {\"outlinewidth\": 0, \"ticks\": \"\"}}, \"colorscale\": {\"diverging\": [[0, \"#8e0152\"], [0.1, \"#c51b7d\"], [0.2, \"#de77ae\"], [0.3, \"#f1b6da\"], [0.4, \"#fde0ef\"], [0.5, \"#f7f7f7\"], [0.6, \"#e6f5d0\"], [0.7, \"#b8e186\"], [0.8, \"#7fbc41\"], [0.9, \"#4d9221\"], [1, \"#276419\"]], \"sequential\": [[0.0, \"#0d0887\"], [0.1111111111111111, \"#46039f\"], [0.2222222222222222, \"#7201a8\"], [0.3333333333333333, \"#9c179e\"], [0.4444444444444444, \"#bd3786\"], [0.5555555555555556, \"#d8576b\"], [0.6666666666666666, \"#ed7953\"], [0.7777777777777778, \"#fb9f3a\"], [0.8888888888888888, \"#fdca26\"], [1.0, \"#f0f921\"]], \"sequentialminus\": [[0.0, \"#0d0887\"], [0.1111111111111111, \"#46039f\"], [0.2222222222222222, \"#7201a8\"], [0.3333333333333333, \"#9c179e\"], [0.4444444444444444, \"#bd3786\"], [0.5555555555555556, \"#d8576b\"], [0.6666666666666666, \"#ed7953\"], [0.7777777777777778, \"#fb9f3a\"], [0.8888888888888888, \"#fdca26\"], [1.0, \"#f0f921\"]]}, \"colorway\": [\"#636efa\", \"#EF553B\", \"#00cc96\", \"#ab63fa\", \"#FFA15A\", \"#19d3f3\", \"#FF6692\", \"#B6E880\", \"#FF97FF\", \"#FECB52\"], \"font\": {\"color\": \"#2a3f5f\"}, \"geo\": {\"bgcolor\": \"white\", \"lakecolor\": \"white\", \"landcolor\": \"#E5ECF6\", \"showlakes\": true, \"showland\": true, \"subunitcolor\": \"white\"}, \"hoverlabel\": {\"align\": \"left\"}, \"hovermode\": \"closest\", \"mapbox\": {\"style\": \"light\"}, \"paper_bgcolor\": \"white\", \"plot_bgcolor\": \"#E5ECF6\", \"polar\": {\"angularaxis\": {\"gridcolor\": \"white\", \"linecolor\": \"white\", \"ticks\": \"\"}, \"bgcolor\": \"#E5ECF6\", \"radialaxis\": {\"gridcolor\": \"white\", \"linecolor\": \"white\", \"ticks\": \"\"}}, \"scene\": {\"xaxis\": {\"backgroundcolor\": \"#E5ECF6\", \"gridcolor\": \"white\", \"gridwidth\": 2, \"linecolor\": \"white\", \"showbackground\": true, \"ticks\": \"\", \"zerolinecolor\": \"white\"}, \"yaxis\": {\"backgroundcolor\": \"#E5ECF6\", \"gridcolor\": \"white\", \"gridwidth\": 2, \"linecolor\": \"white\", \"showbackground\": true, \"ticks\": \"\", \"zerolinecolor\": \"white\"}, \"zaxis\": {\"backgroundcolor\": \"#E5ECF6\", \"gridcolor\": \"white\", \"gridwidth\": 2, \"linecolor\": \"white\", \"showbackground\": true, \"ticks\": \"\", \"zerolinecolor\": \"white\"}}, \"shapedefaults\": {\"line\": {\"color\": \"#2a3f5f\"}}, \"ternary\": {\"aaxis\": {\"gridcolor\": \"white\", \"linecolor\": \"white\", \"ticks\": \"\"}, \"baxis\": {\"gridcolor\": \"white\", \"linecolor\": \"white\", \"ticks\": \"\"}, \"bgcolor\": \"#E5ECF6\", \"caxis\": {\"gridcolor\": \"white\", \"linecolor\": \"white\", \"ticks\": \"\"}}, \"title\": {\"x\": 0.05}, \"xaxis\": {\"automargin\": true, \"gridcolor\": \"white\", \"linecolor\": \"white\", \"ticks\": \"\", \"title\": {\"standoff\": 15}, \"zerolinecolor\": \"white\", \"zerolinewidth\": 2}, \"yaxis\": {\"automargin\": true, \"gridcolor\": \"white\", \"linecolor\": \"white\", \"ticks\": \"\", \"title\": {\"standoff\": 15}, \"zerolinecolor\": \"white\", \"zerolinewidth\": 2}}}, \"title\": {\"font\": {\"color\": \"#4D5663\"}}, \"xaxis\": {\"gridcolor\": \"#E1E5ED\", \"showgrid\": true, \"tickfont\": {\"color\": \"#4D5663\"}, \"title\": {\"font\": {\"color\": \"#4D5663\"}, \"text\": \"\"}, \"zerolinecolor\": \"#E1E5ED\"}, \"yaxis\": {\"gridcolor\": \"#E1E5ED\", \"showgrid\": true, \"tickfont\": {\"color\": \"#4D5663\"}, \"title\": {\"font\": {\"color\": \"#4D5663\"}, \"text\": \"\"}, \"zerolinecolor\": \"#E1E5ED\"}},\n",
       "                        {\"showLink\": true, \"linkText\": \"Export to plot.ly\", \"plotlyServerURL\": \"https://plot.ly\", \"responsive\": true}\n",
       "                    ).then(function(){\n",
       "                            \n",
       "var gd = document.getElementById('1c8ca8d4-d5fe-49f5-b99a-555938de3c63');\n",
       "var x = new MutationObserver(function (mutations, observer) {{\n",
       "        var display = window.getComputedStyle(gd).display;\n",
       "        if (!display || display === 'none') {{\n",
       "            console.log([gd, 'removed!']);\n",
       "            Plotly.purge(gd);\n",
       "            observer.disconnect();\n",
       "        }}\n",
       "}});\n",
       "\n",
       "// Listen for the removal of the full notebook cells\n",
       "var notebookContainer = gd.closest('#notebook-container');\n",
       "if (notebookContainer) {{\n",
       "    x.observe(notebookContainer, {childList: true});\n",
       "}}\n",
       "\n",
       "// Listen for the clearing of the current output cell\n",
       "var outputEl = gd.closest('.output');\n",
       "if (outputEl) {{\n",
       "    x.observe(outputEl, {childList: true});\n",
       "}}\n",
       "\n",
       "                        })\n",
       "                };\n",
       "                });\n",
       "            </script>\n",
       "        </div>"
      ]
     },
     "metadata": {},
     "output_type": "display_data"
    }
   ],
   "source": [
    "df.count().iplot(kind='bar')"
   ]
  },
  {
   "cell_type": "markdown",
   "metadata": {},
   "source": [
    "## Boxplots"
   ]
  },
  {
   "cell_type": "code",
   "execution_count": 16,
   "metadata": {},
   "outputs": [
    {
     "data": {
      "application/vnd.plotly.v1+json": {
       "config": {
        "linkText": "Export to plot.ly",
        "plotlyServerURL": "https://plot.ly",
        "showLink": true
       },
       "data": [
        {
         "boxpoints": false,
         "line": {
          "width": 1.3
         },
         "marker": {
          "color": "rgba(255, 153, 51, 1.0)"
         },
         "name": "A",
         "orientation": "v",
         "type": "box",
         "y": [
          -0.05200064226874029,
          -0.8113159106118665,
          0.3254513160889677,
          2.0243719651519982,
          -0.6911553098570636,
          0.14711298464909714,
          -0.35157182034498624,
          0.9532879835105003,
          -0.8216704344288754,
          0.5175801753746321,
          0.41567356984435533,
          -1.0844866973884586,
          -0.9725846811504144,
          1.700149892346811,
          0.6279829967620165,
          -0.5123058776570327,
          -1.074696149080149,
          -0.09302038535197567,
          1.4751683628167978,
          -0.5773238782912412,
          -0.09364536193895204,
          0.2681233002905114,
          -0.08199555259223776,
          0.9869233120457995,
          -0.9880212646580928,
          -0.39813389302184454,
          0.8355498904749294,
          1.115790672079572,
          0.36267502782180355,
          1.1181862543468475,
          -0.4189076767146306,
          -1.2153237513520625,
          -0.015024636036437649,
          -1.5506822070192006,
          0.7532059219095608,
          0.18240660304253964,
          1.2455834496116378,
          -0.03574479357530669,
          1.2037655493754456,
          -1.2899520019302864,
          -0.8014563612286134,
          -1.0339031667320415,
          0.3236806753652299,
          1.7106993971064204,
          0.6337221256461304,
          -0.2264012497122301,
          0.24491822787195103,
          0.5793968204959391,
          -0.34421215526457355,
          -0.046221892173959805,
          -1.2834202820087908,
          -0.1668613538033284,
          0.3530568801885448,
          0.0709962577140452,
          1.2704092433144563,
          -0.6400890854430192,
          2.0218498444532718,
          -1.7029255316020437,
          -0.16160730377732366,
          -0.3324363184731455,
          1.1092756550592138,
          -2.944437862373772,
          -1.587029132621606,
          -0.9030179130414271,
          0.09540976105920948,
          -1.6095452818271105,
          0.008031270192345178,
          1.1400678957010764,
          0.1029859128666487,
          0.2981919450460108,
          -1.3883363125564128,
          -1.1114416335765926,
          0.2903191896259501,
          1.2576586424029736,
          -1.2635782258578823,
          -1.3584173862735214,
          0.4601351131538541,
          -1.22363477749503,
          -1.4816683242901991,
          0.09952494040979772,
          -0.9927180045443987,
          1.7831281471414724,
          -1.5125446989452476,
          -0.12862030833779978,
          -2.464692567289804,
          1.9359339222011969,
          0.5744016876350877,
          -0.764371866302306,
          -0.48132549368563415,
          0.8871383768027442,
          1.3143968176324412,
          -0.5844808311773532,
          1.0384195926025745,
          -0.4420780596397459,
          1.4657803745339457,
          -0.7100001138145122,
          -1.1579221829233695,
          0.17407486591736138,
          -0.3361105830791442,
          0.4809916958319887
         ]
        },
        {
         "boxpoints": false,
         "line": {
          "width": 1.3
         },
         "marker": {
          "color": "rgba(55, 128, 191, 1.0)"
         },
         "name": "B",
         "orientation": "v",
         "type": "box",
         "y": [
          -0.3035309217997338,
          1.8115843850413655,
          -1.8792276036095135,
          1.143909537806382,
          0.0923541450056231,
          0.13177410792440244,
          -1.644887018775058,
          2.0831971657948625,
          1.599452683208107,
          -0.0069964248626790074,
          0.8243911969905283,
          0.5956007854062508,
          0.39862711624745445,
          -1.666634755718817,
          -0.4089336921506136,
          -0.16298439036927434,
          1.0479183949966526,
          -0.9165492282798984,
          -0.4892264761249731,
          0.5123066799262901,
          0.7584021541015817,
          -0.08593360496991281,
          -0.24021553116689526,
          2.5039169522158864,
          -1.512037975593897,
          0.49113801984285316,
          -0.31871938863922766,
          0.7128543675798462,
          -0.14479570326040525,
          0.5279038708585918,
          1.0794313887626623,
          1.7106227788566175,
          -0.530919857654775,
          1.2540574714983195,
          0.7413750828160827,
          0.18458536123716268,
          1.0624029825522627,
          0.742424688303108,
          1.645819200054811,
          -1.1308745123092925,
          0.48757750365959723,
          0.04891773652933975,
          -0.6083669341853393,
          -0.5558964652700791,
          2.179562344673998,
          0.6487864256900213,
          0.7046774107134081,
          -1.8275035997285698,
          -1.2561220814441574,
          0.8648079555785866,
          1.2398062390269777,
          1.5470834554212618,
          -0.4454825332388899,
          -1.4880689915828327,
          -0.738397634159601,
          -0.36732803174497464,
          -0.5219859018248537,
          -0.10793021508035824,
          1.6030720602940183,
          1.1981071665048801,
          -0.0009961029876620706,
          0.111212367996999,
          -0.7986756374835384,
          -0.3126649986611836,
          -0.5904948556513827,
          -1.3826204461674614,
          2.6788582132331387,
          0.7839573434679493,
          -0.047862984084776475,
          0.6889032871954877,
          0.39966616125392346,
          -0.43566971474227745,
          2.0861224961894766,
          -0.4776941244058906,
          -1.1511082972505302,
          -0.4710654454917627,
          -0.18175710734427944,
          -0.6855040312566344,
          -1.5412892891831538,
          0.8311464475440197,
          -0.818964281498889,
          1.037211685095319,
          1.117239715972962,
          -0.29232705347009696,
          0.9038496269295024,
          0.611628653407918,
          0.9367173662598217,
          -0.2715131674594367,
          -0.24274004412887631,
          0.12403688842619563,
          -0.5676803256100553,
          2.598349746359133,
          -0.7335625073991564,
          2.19935547566327,
          1.2247442665380743,
          -1.3895443215751322,
          -1.9959607836346613,
          -0.5055580229875679,
          0.08932547950890063,
          -1.1497354981510886
         ]
        },
        {
         "boxpoints": false,
         "line": {
          "width": 1.3
         },
         "marker": {
          "color": "rgba(50, 171, 96, 1.0)"
         },
         "name": "C",
         "orientation": "v",
         "type": "box",
         "y": [
          1.8257820565977334,
          -1.2735188378536204,
          0.7421338632914705,
          -0.26600503410857973,
          0.7922190533416104,
          0.8645852434050854,
          0.8248179849550689,
          -0.5633619928569527,
          0.24610510343448525,
          -0.9987284646444614,
          2.287940166044065,
          0.8062963717131537,
          -0.8934882978202076,
          -1.847176195184458,
          1.4720897086734064,
          1.5430244867715297,
          -0.84836931142563,
          1.1550990118605282,
          0.2918932917473354,
          0.7162477689567067,
          -0.9550265479628989,
          0.2521499994616166,
          -0.9939267568693048,
          0.24460112067766868,
          -0.5373252380583823,
          -1.0230532664606373,
          -0.9424681824067453,
          2.3426852155752456,
          -0.8920188830841775,
          0.5053181531378398,
          -2.1661872118166463,
          0.9708746207590014,
          0.06254801668454595,
          -1.9078668275518464,
          0.555159307106861,
          -2.16428187320761,
          -0.34560365011416877,
          -0.6837291461236665,
          -0.1634739592475344,
          0.2831706477830234,
          0.685246531863252,
          -0.9321228484676077,
          0.18315511904931162,
          -1.6267239569131882,
          1.694082509037288,
          0.5717073607861783,
          -1.7526967465512522,
          1.0460853003128228,
          0.01544291945912684,
          2.496407692774929,
          -0.5410046785615663,
          0.0683056909792122,
          0.9782736486727258,
          1.023525600709707,
          -1.206316287456762,
          -0.5685741503938172,
          1.1298551244844603,
          0.22408918915199863,
          -0.9374326793795863,
          0.587579043248385,
          1.3849914586037737,
          -0.24063283213448555,
          -1.6960932691511483,
          0.2886989196592537,
          0.80193843648745,
          2.084539988577566,
          -0.2334718304088673,
          -0.9716337613375888,
          -0.9853914916970022,
          -0.8370293811151239,
          0.882419018319776,
          -1.236429394123926,
          1.7140446214832983,
          -1.2869849485488811,
          0.9077359622624505,
          0.661988774323941,
          -1.0493749718367194,
          0.9494353260009003,
          0.9115781857995494,
          1.6685939029093948,
          -0.2785883516581504,
          -0.5381588512536185,
          -0.704378831015469,
          -1.375137724271894,
          0.057939601706218466,
          0.6140934720168916,
          1.535439446301107,
          0.5023467131899262,
          -0.9650822153038995,
          -0.6525239240020165,
          -0.3180906590768329,
          -1.1092731258949458,
          0.145404038644625,
          0.32870676388611253,
          -0.008068834877558549,
          1.4682066980932378,
          -0.43949674370711,
          -0.43700047416309373,
          -1.0334340839901797,
          0.12261326014475976
         ]
        },
        {
         "boxpoints": false,
         "line": {
          "width": 1.3
         },
         "marker": {
          "color": "rgba(128, 0, 128, 1.0)"
         },
         "name": "D",
         "orientation": "v",
         "type": "box",
         "y": [
          -1.1326481896719922,
          0.1885285818821884,
          1.0615292256120825,
          0.7809924239741028,
          0.8846964539089548,
          -0.9638545186415155,
          0.42086911955493667,
          1.2703691019691992,
          -1.3432331767219712,
          -1.0617993243707724,
          -1.8738496846904225,
          -0.11035088901470516,
          0.01546715467452033,
          -0.17632698335353136,
          0.7846340068087184,
          -0.20410872749059217,
          -0.5124727574309572,
          0.7711721011305227,
          0.3833044177475341,
          -0.27620215114831587,
          0.476632711081902,
          1.242897752429488,
          0.20127685439850612,
          0.23926589187498173,
          1.3721356333552794,
          0.45826528623040114,
          1.3091091644228308,
          0.6688287083095635,
          0.22354423506614307,
          0.5852027283493123,
          -1.532962735776844,
          0.24921425517137355,
          -0.7137083457306289,
          0.4578703319745816,
          -0.31286430611348254,
          -1.0404156744613575,
          -1.586694038565997,
          -0.5686161440828263,
          -0.45756233083759756,
          -0.4227049109356685,
          -1.9465995354023924,
          0.6010810396017673,
          -1.0872993381337408,
          1.6194316472392092,
          -0.7353964645930996,
          0.5966962006557646,
          0.28063564122756046,
          -0.6837196770834758,
          0.14722364570920157,
          -0.843811889967784,
          0.878043649206904,
          0.14766266762213434,
          -0.9417354415967973,
          1.7213928967786376,
          -0.9462751724787105,
          -0.04929166585125539,
          -0.20203221216333722,
          -1.0571002846578563,
          -0.4692756562304136,
          -1.5579732655543514,
          1.5341487128337716,
          -0.4529126678589696,
          -1.1674162718780299,
          -0.3669715522395409,
          0.5338343926292213,
          -0.5904890435986665,
          0.5880358473792844,
          0.18660546692090088,
          -0.6636077409449973,
          -0.4048675150255209,
          -0.15177822188704793,
          0.7271275309865648,
          0.8614177379139359,
          0.4862245134942477,
          0.7721574048318677,
          0.36893386998757294,
          -0.8708467086378487,
          0.8827036407013427,
          -0.23239578123966403,
          -2.3948271350592756,
          -0.7502782791825553,
          0.40389530605411045,
          0.1276427715052904,
          0.08847746546697365,
          -0.09714902305423827,
          -1.2907930321018086,
          -1.6093014493617885,
          0.9780070300867476,
          -1.408912628778127,
          0.8141484306884554,
          0.3779161194107192,
          0.7048601183584742,
          1.1860105629668631,
          -0.5045163571109417,
          0.4454471220079421,
          0.3854514039259868,
          -1.1051886838676843,
          0.8837033351939465,
          -0.495930574033308,
          -0.4240159220291364
         ]
        }
       ],
       "layout": {
        "legend": {
         "bgcolor": "#F5F6F9",
         "font": {
          "color": "#4D5663"
         }
        },
        "paper_bgcolor": "#F5F6F9",
        "plot_bgcolor": "#F5F6F9",
        "template": {
         "data": {
          "bar": [
           {
            "error_x": {
             "color": "#2a3f5f"
            },
            "error_y": {
             "color": "#2a3f5f"
            },
            "marker": {
             "line": {
              "color": "#E5ECF6",
              "width": 0.5
             }
            },
            "type": "bar"
           }
          ],
          "barpolar": [
           {
            "marker": {
             "line": {
              "color": "#E5ECF6",
              "width": 0.5
             }
            },
            "type": "barpolar"
           }
          ],
          "carpet": [
           {
            "aaxis": {
             "endlinecolor": "#2a3f5f",
             "gridcolor": "white",
             "linecolor": "white",
             "minorgridcolor": "white",
             "startlinecolor": "#2a3f5f"
            },
            "baxis": {
             "endlinecolor": "#2a3f5f",
             "gridcolor": "white",
             "linecolor": "white",
             "minorgridcolor": "white",
             "startlinecolor": "#2a3f5f"
            },
            "type": "carpet"
           }
          ],
          "choropleth": [
           {
            "colorbar": {
             "outlinewidth": 0,
             "ticks": ""
            },
            "type": "choropleth"
           }
          ],
          "contour": [
           {
            "colorbar": {
             "outlinewidth": 0,
             "ticks": ""
            },
            "colorscale": [
             [
              0,
              "#0d0887"
             ],
             [
              0.1111111111111111,
              "#46039f"
             ],
             [
              0.2222222222222222,
              "#7201a8"
             ],
             [
              0.3333333333333333,
              "#9c179e"
             ],
             [
              0.4444444444444444,
              "#bd3786"
             ],
             [
              0.5555555555555556,
              "#d8576b"
             ],
             [
              0.6666666666666666,
              "#ed7953"
             ],
             [
              0.7777777777777778,
              "#fb9f3a"
             ],
             [
              0.8888888888888888,
              "#fdca26"
             ],
             [
              1,
              "#f0f921"
             ]
            ],
            "type": "contour"
           }
          ],
          "contourcarpet": [
           {
            "colorbar": {
             "outlinewidth": 0,
             "ticks": ""
            },
            "type": "contourcarpet"
           }
          ],
          "heatmap": [
           {
            "colorbar": {
             "outlinewidth": 0,
             "ticks": ""
            },
            "colorscale": [
             [
              0,
              "#0d0887"
             ],
             [
              0.1111111111111111,
              "#46039f"
             ],
             [
              0.2222222222222222,
              "#7201a8"
             ],
             [
              0.3333333333333333,
              "#9c179e"
             ],
             [
              0.4444444444444444,
              "#bd3786"
             ],
             [
              0.5555555555555556,
              "#d8576b"
             ],
             [
              0.6666666666666666,
              "#ed7953"
             ],
             [
              0.7777777777777778,
              "#fb9f3a"
             ],
             [
              0.8888888888888888,
              "#fdca26"
             ],
             [
              1,
              "#f0f921"
             ]
            ],
            "type": "heatmap"
           }
          ],
          "heatmapgl": [
           {
            "colorbar": {
             "outlinewidth": 0,
             "ticks": ""
            },
            "colorscale": [
             [
              0,
              "#0d0887"
             ],
             [
              0.1111111111111111,
              "#46039f"
             ],
             [
              0.2222222222222222,
              "#7201a8"
             ],
             [
              0.3333333333333333,
              "#9c179e"
             ],
             [
              0.4444444444444444,
              "#bd3786"
             ],
             [
              0.5555555555555556,
              "#d8576b"
             ],
             [
              0.6666666666666666,
              "#ed7953"
             ],
             [
              0.7777777777777778,
              "#fb9f3a"
             ],
             [
              0.8888888888888888,
              "#fdca26"
             ],
             [
              1,
              "#f0f921"
             ]
            ],
            "type": "heatmapgl"
           }
          ],
          "histogram": [
           {
            "marker": {
             "colorbar": {
              "outlinewidth": 0,
              "ticks": ""
             }
            },
            "type": "histogram"
           }
          ],
          "histogram2d": [
           {
            "colorbar": {
             "outlinewidth": 0,
             "ticks": ""
            },
            "colorscale": [
             [
              0,
              "#0d0887"
             ],
             [
              0.1111111111111111,
              "#46039f"
             ],
             [
              0.2222222222222222,
              "#7201a8"
             ],
             [
              0.3333333333333333,
              "#9c179e"
             ],
             [
              0.4444444444444444,
              "#bd3786"
             ],
             [
              0.5555555555555556,
              "#d8576b"
             ],
             [
              0.6666666666666666,
              "#ed7953"
             ],
             [
              0.7777777777777778,
              "#fb9f3a"
             ],
             [
              0.8888888888888888,
              "#fdca26"
             ],
             [
              1,
              "#f0f921"
             ]
            ],
            "type": "histogram2d"
           }
          ],
          "histogram2dcontour": [
           {
            "colorbar": {
             "outlinewidth": 0,
             "ticks": ""
            },
            "colorscale": [
             [
              0,
              "#0d0887"
             ],
             [
              0.1111111111111111,
              "#46039f"
             ],
             [
              0.2222222222222222,
              "#7201a8"
             ],
             [
              0.3333333333333333,
              "#9c179e"
             ],
             [
              0.4444444444444444,
              "#bd3786"
             ],
             [
              0.5555555555555556,
              "#d8576b"
             ],
             [
              0.6666666666666666,
              "#ed7953"
             ],
             [
              0.7777777777777778,
              "#fb9f3a"
             ],
             [
              0.8888888888888888,
              "#fdca26"
             ],
             [
              1,
              "#f0f921"
             ]
            ],
            "type": "histogram2dcontour"
           }
          ],
          "mesh3d": [
           {
            "colorbar": {
             "outlinewidth": 0,
             "ticks": ""
            },
            "type": "mesh3d"
           }
          ],
          "parcoords": [
           {
            "line": {
             "colorbar": {
              "outlinewidth": 0,
              "ticks": ""
             }
            },
            "type": "parcoords"
           }
          ],
          "pie": [
           {
            "automargin": true,
            "type": "pie"
           }
          ],
          "scatter": [
           {
            "marker": {
             "colorbar": {
              "outlinewidth": 0,
              "ticks": ""
             }
            },
            "type": "scatter"
           }
          ],
          "scatter3d": [
           {
            "line": {
             "colorbar": {
              "outlinewidth": 0,
              "ticks": ""
             }
            },
            "marker": {
             "colorbar": {
              "outlinewidth": 0,
              "ticks": ""
             }
            },
            "type": "scatter3d"
           }
          ],
          "scattercarpet": [
           {
            "marker": {
             "colorbar": {
              "outlinewidth": 0,
              "ticks": ""
             }
            },
            "type": "scattercarpet"
           }
          ],
          "scattergeo": [
           {
            "marker": {
             "colorbar": {
              "outlinewidth": 0,
              "ticks": ""
             }
            },
            "type": "scattergeo"
           }
          ],
          "scattergl": [
           {
            "marker": {
             "colorbar": {
              "outlinewidth": 0,
              "ticks": ""
             }
            },
            "type": "scattergl"
           }
          ],
          "scattermapbox": [
           {
            "marker": {
             "colorbar": {
              "outlinewidth": 0,
              "ticks": ""
             }
            },
            "type": "scattermapbox"
           }
          ],
          "scatterpolar": [
           {
            "marker": {
             "colorbar": {
              "outlinewidth": 0,
              "ticks": ""
             }
            },
            "type": "scatterpolar"
           }
          ],
          "scatterpolargl": [
           {
            "marker": {
             "colorbar": {
              "outlinewidth": 0,
              "ticks": ""
             }
            },
            "type": "scatterpolargl"
           }
          ],
          "scatterternary": [
           {
            "marker": {
             "colorbar": {
              "outlinewidth": 0,
              "ticks": ""
             }
            },
            "type": "scatterternary"
           }
          ],
          "surface": [
           {
            "colorbar": {
             "outlinewidth": 0,
             "ticks": ""
            },
            "colorscale": [
             [
              0,
              "#0d0887"
             ],
             [
              0.1111111111111111,
              "#46039f"
             ],
             [
              0.2222222222222222,
              "#7201a8"
             ],
             [
              0.3333333333333333,
              "#9c179e"
             ],
             [
              0.4444444444444444,
              "#bd3786"
             ],
             [
              0.5555555555555556,
              "#d8576b"
             ],
             [
              0.6666666666666666,
              "#ed7953"
             ],
             [
              0.7777777777777778,
              "#fb9f3a"
             ],
             [
              0.8888888888888888,
              "#fdca26"
             ],
             [
              1,
              "#f0f921"
             ]
            ],
            "type": "surface"
           }
          ],
          "table": [
           {
            "cells": {
             "fill": {
              "color": "#EBF0F8"
             },
             "line": {
              "color": "white"
             }
            },
            "header": {
             "fill": {
              "color": "#C8D4E3"
             },
             "line": {
              "color": "white"
             }
            },
            "type": "table"
           }
          ]
         },
         "layout": {
          "annotationdefaults": {
           "arrowcolor": "#2a3f5f",
           "arrowhead": 0,
           "arrowwidth": 1
          },
          "coloraxis": {
           "colorbar": {
            "outlinewidth": 0,
            "ticks": ""
           }
          },
          "colorscale": {
           "diverging": [
            [
             0,
             "#8e0152"
            ],
            [
             0.1,
             "#c51b7d"
            ],
            [
             0.2,
             "#de77ae"
            ],
            [
             0.3,
             "#f1b6da"
            ],
            [
             0.4,
             "#fde0ef"
            ],
            [
             0.5,
             "#f7f7f7"
            ],
            [
             0.6,
             "#e6f5d0"
            ],
            [
             0.7,
             "#b8e186"
            ],
            [
             0.8,
             "#7fbc41"
            ],
            [
             0.9,
             "#4d9221"
            ],
            [
             1,
             "#276419"
            ]
           ],
           "sequential": [
            [
             0,
             "#0d0887"
            ],
            [
             0.1111111111111111,
             "#46039f"
            ],
            [
             0.2222222222222222,
             "#7201a8"
            ],
            [
             0.3333333333333333,
             "#9c179e"
            ],
            [
             0.4444444444444444,
             "#bd3786"
            ],
            [
             0.5555555555555556,
             "#d8576b"
            ],
            [
             0.6666666666666666,
             "#ed7953"
            ],
            [
             0.7777777777777778,
             "#fb9f3a"
            ],
            [
             0.8888888888888888,
             "#fdca26"
            ],
            [
             1,
             "#f0f921"
            ]
           ],
           "sequentialminus": [
            [
             0,
             "#0d0887"
            ],
            [
             0.1111111111111111,
             "#46039f"
            ],
            [
             0.2222222222222222,
             "#7201a8"
            ],
            [
             0.3333333333333333,
             "#9c179e"
            ],
            [
             0.4444444444444444,
             "#bd3786"
            ],
            [
             0.5555555555555556,
             "#d8576b"
            ],
            [
             0.6666666666666666,
             "#ed7953"
            ],
            [
             0.7777777777777778,
             "#fb9f3a"
            ],
            [
             0.8888888888888888,
             "#fdca26"
            ],
            [
             1,
             "#f0f921"
            ]
           ]
          },
          "colorway": [
           "#636efa",
           "#EF553B",
           "#00cc96",
           "#ab63fa",
           "#FFA15A",
           "#19d3f3",
           "#FF6692",
           "#B6E880",
           "#FF97FF",
           "#FECB52"
          ],
          "font": {
           "color": "#2a3f5f"
          },
          "geo": {
           "bgcolor": "white",
           "lakecolor": "white",
           "landcolor": "#E5ECF6",
           "showlakes": true,
           "showland": true,
           "subunitcolor": "white"
          },
          "hoverlabel": {
           "align": "left"
          },
          "hovermode": "closest",
          "mapbox": {
           "style": "light"
          },
          "paper_bgcolor": "white",
          "plot_bgcolor": "#E5ECF6",
          "polar": {
           "angularaxis": {
            "gridcolor": "white",
            "linecolor": "white",
            "ticks": ""
           },
           "bgcolor": "#E5ECF6",
           "radialaxis": {
            "gridcolor": "white",
            "linecolor": "white",
            "ticks": ""
           }
          },
          "scene": {
           "xaxis": {
            "backgroundcolor": "#E5ECF6",
            "gridcolor": "white",
            "gridwidth": 2,
            "linecolor": "white",
            "showbackground": true,
            "ticks": "",
            "zerolinecolor": "white"
           },
           "yaxis": {
            "backgroundcolor": "#E5ECF6",
            "gridcolor": "white",
            "gridwidth": 2,
            "linecolor": "white",
            "showbackground": true,
            "ticks": "",
            "zerolinecolor": "white"
           },
           "zaxis": {
            "backgroundcolor": "#E5ECF6",
            "gridcolor": "white",
            "gridwidth": 2,
            "linecolor": "white",
            "showbackground": true,
            "ticks": "",
            "zerolinecolor": "white"
           }
          },
          "shapedefaults": {
           "line": {
            "color": "#2a3f5f"
           }
          },
          "ternary": {
           "aaxis": {
            "gridcolor": "white",
            "linecolor": "white",
            "ticks": ""
           },
           "baxis": {
            "gridcolor": "white",
            "linecolor": "white",
            "ticks": ""
           },
           "bgcolor": "#E5ECF6",
           "caxis": {
            "gridcolor": "white",
            "linecolor": "white",
            "ticks": ""
           }
          },
          "title": {
           "x": 0.05
          },
          "xaxis": {
           "automargin": true,
           "gridcolor": "white",
           "linecolor": "white",
           "ticks": "",
           "title": {
            "standoff": 15
           },
           "zerolinecolor": "white",
           "zerolinewidth": 2
          },
          "yaxis": {
           "automargin": true,
           "gridcolor": "white",
           "linecolor": "white",
           "ticks": "",
           "title": {
            "standoff": 15
           },
           "zerolinecolor": "white",
           "zerolinewidth": 2
          }
         }
        },
        "title": {
         "font": {
          "color": "#4D5663"
         }
        },
        "xaxis": {
         "gridcolor": "#E1E5ED",
         "showgrid": true,
         "tickfont": {
          "color": "#4D5663"
         },
         "title": {
          "font": {
           "color": "#4D5663"
          },
          "text": ""
         },
         "zerolinecolor": "#E1E5ED"
        },
        "yaxis": {
         "gridcolor": "#E1E5ED",
         "showgrid": true,
         "tickfont": {
          "color": "#4D5663"
         },
         "title": {
          "font": {
           "color": "#4D5663"
          },
          "text": ""
         },
         "zerolinecolor": "#E1E5ED"
        }
       }
      },
      "text/html": [
       "<div>\n",
       "        \n",
       "        \n",
       "            <div id=\"48655688-82df-4656-b54b-14dfd6a40727\" class=\"plotly-graph-div\" style=\"height:525px; width:100%;\"></div>\n",
       "            <script type=\"text/javascript\">\n",
       "                require([\"plotly\"], function(Plotly) {\n",
       "                    window.PLOTLYENV=window.PLOTLYENV || {};\n",
       "                    window.PLOTLYENV.BASE_URL='https://plot.ly';\n",
       "                    \n",
       "                if (document.getElementById(\"48655688-82df-4656-b54b-14dfd6a40727\")) {\n",
       "                    Plotly.newPlot(\n",
       "                        '48655688-82df-4656-b54b-14dfd6a40727',\n",
       "                        [{\"boxpoints\": false, \"line\": {\"width\": 1.3}, \"marker\": {\"color\": \"rgba(255, 153, 51, 1.0)\"}, \"name\": \"A\", \"orientation\": \"v\", \"type\": \"box\", \"y\": [-0.05200064226874029, -0.8113159106118665, 0.3254513160889677, 2.0243719651519982, -0.6911553098570636, 0.14711298464909714, -0.35157182034498624, 0.9532879835105003, -0.8216704344288754, 0.5175801753746321, 0.41567356984435533, -1.0844866973884586, -0.9725846811504144, 1.700149892346811, 0.6279829967620165, -0.5123058776570327, -1.074696149080149, -0.09302038535197567, 1.4751683628167978, -0.5773238782912412, -0.09364536193895204, 0.2681233002905114, -0.08199555259223776, 0.9869233120457995, -0.9880212646580928, -0.39813389302184454, 0.8355498904749294, 1.115790672079572, 0.36267502782180355, 1.1181862543468475, -0.4189076767146306, -1.2153237513520625, -0.015024636036437649, -1.5506822070192006, 0.7532059219095608, 0.18240660304253964, 1.2455834496116378, -0.03574479357530669, 1.2037655493754456, -1.2899520019302864, -0.8014563612286134, -1.0339031667320415, 0.3236806753652299, 1.7106993971064204, 0.6337221256461304, -0.2264012497122301, 0.24491822787195103, 0.5793968204959391, -0.34421215526457355, -0.046221892173959805, -1.2834202820087908, -0.1668613538033284, 0.3530568801885448, 0.0709962577140452, 1.2704092433144563, -0.6400890854430192, 2.0218498444532718, -1.7029255316020437, -0.16160730377732366, -0.3324363184731455, 1.1092756550592138, -2.944437862373772, -1.587029132621606, -0.9030179130414271, 0.09540976105920948, -1.6095452818271105, 0.008031270192345178, 1.1400678957010764, 0.1029859128666487, 0.2981919450460108, -1.3883363125564128, -1.1114416335765926, 0.2903191896259501, 1.2576586424029736, -1.2635782258578823, -1.3584173862735214, 0.4601351131538541, -1.22363477749503, -1.4816683242901991, 0.09952494040979772, -0.9927180045443987, 1.7831281471414724, -1.5125446989452476, -0.12862030833779978, -2.464692567289804, 1.9359339222011969, 0.5744016876350877, -0.764371866302306, -0.48132549368563415, 0.8871383768027442, 1.3143968176324412, -0.5844808311773532, 1.0384195926025745, -0.4420780596397459, 1.4657803745339457, -0.7100001138145122, -1.1579221829233695, 0.17407486591736138, -0.3361105830791442, 0.4809916958319887]}, {\"boxpoints\": false, \"line\": {\"width\": 1.3}, \"marker\": {\"color\": \"rgba(55, 128, 191, 1.0)\"}, \"name\": \"B\", \"orientation\": \"v\", \"type\": \"box\", \"y\": [-0.3035309217997338, 1.8115843850413655, -1.8792276036095135, 1.143909537806382, 0.0923541450056231, 0.13177410792440244, -1.644887018775058, 2.0831971657948625, 1.599452683208107, -0.0069964248626790074, 0.8243911969905283, 0.5956007854062508, 0.39862711624745445, -1.666634755718817, -0.4089336921506136, -0.16298439036927434, 1.0479183949966526, -0.9165492282798984, -0.4892264761249731, 0.5123066799262901, 0.7584021541015817, -0.08593360496991281, -0.24021553116689526, 2.5039169522158864, -1.512037975593897, 0.49113801984285316, -0.31871938863922766, 0.7128543675798462, -0.14479570326040525, 0.5279038708585918, 1.0794313887626623, 1.7106227788566175, -0.530919857654775, 1.2540574714983195, 0.7413750828160827, 0.18458536123716268, 1.0624029825522627, 0.742424688303108, 1.645819200054811, -1.1308745123092925, 0.48757750365959723, 0.04891773652933975, -0.6083669341853393, -0.5558964652700791, 2.179562344673998, 0.6487864256900213, 0.7046774107134081, -1.8275035997285698, -1.2561220814441574, 0.8648079555785866, 1.2398062390269777, 1.5470834554212618, -0.4454825332388899, -1.4880689915828327, -0.738397634159601, -0.36732803174497464, -0.5219859018248537, -0.10793021508035824, 1.6030720602940183, 1.1981071665048801, -0.0009961029876620706, 0.111212367996999, -0.7986756374835384, -0.3126649986611836, -0.5904948556513827, -1.3826204461674614, 2.6788582132331387, 0.7839573434679493, -0.047862984084776475, 0.6889032871954877, 0.39966616125392346, -0.43566971474227745, 2.0861224961894766, -0.4776941244058906, -1.1511082972505302, -0.4710654454917627, -0.18175710734427944, -0.6855040312566344, -1.5412892891831538, 0.8311464475440197, -0.818964281498889, 1.037211685095319, 1.117239715972962, -0.29232705347009696, 0.9038496269295024, 0.611628653407918, 0.9367173662598217, -0.2715131674594367, -0.24274004412887631, 0.12403688842619563, -0.5676803256100553, 2.598349746359133, -0.7335625073991564, 2.19935547566327, 1.2247442665380743, -1.3895443215751322, -1.9959607836346613, -0.5055580229875679, 0.08932547950890063, -1.1497354981510886]}, {\"boxpoints\": false, \"line\": {\"width\": 1.3}, \"marker\": {\"color\": \"rgba(50, 171, 96, 1.0)\"}, \"name\": \"C\", \"orientation\": \"v\", \"type\": \"box\", \"y\": [1.8257820565977334, -1.2735188378536204, 0.7421338632914705, -0.26600503410857973, 0.7922190533416104, 0.8645852434050854, 0.8248179849550689, -0.5633619928569527, 0.24610510343448525, -0.9987284646444614, 2.287940166044065, 0.8062963717131537, -0.8934882978202076, -1.847176195184458, 1.4720897086734064, 1.5430244867715297, -0.84836931142563, 1.1550990118605282, 0.2918932917473354, 0.7162477689567067, -0.9550265479628989, 0.2521499994616166, -0.9939267568693048, 0.24460112067766868, -0.5373252380583823, -1.0230532664606373, -0.9424681824067453, 2.3426852155752456, -0.8920188830841775, 0.5053181531378398, -2.1661872118166463, 0.9708746207590014, 0.06254801668454595, -1.9078668275518464, 0.555159307106861, -2.16428187320761, -0.34560365011416877, -0.6837291461236665, -0.1634739592475344, 0.2831706477830234, 0.685246531863252, -0.9321228484676077, 0.18315511904931162, -1.6267239569131882, 1.694082509037288, 0.5717073607861783, -1.7526967465512522, 1.0460853003128228, 0.01544291945912684, 2.496407692774929, -0.5410046785615663, 0.0683056909792122, 0.9782736486727258, 1.023525600709707, -1.206316287456762, -0.5685741503938172, 1.1298551244844603, 0.22408918915199863, -0.9374326793795863, 0.587579043248385, 1.3849914586037737, -0.24063283213448555, -1.6960932691511483, 0.2886989196592537, 0.80193843648745, 2.084539988577566, -0.2334718304088673, -0.9716337613375888, -0.9853914916970022, -0.8370293811151239, 0.882419018319776, -1.236429394123926, 1.7140446214832983, -1.2869849485488811, 0.9077359622624505, 0.661988774323941, -1.0493749718367194, 0.9494353260009003, 0.9115781857995494, 1.6685939029093948, -0.2785883516581504, -0.5381588512536185, -0.704378831015469, -1.375137724271894, 0.057939601706218466, 0.6140934720168916, 1.535439446301107, 0.5023467131899262, -0.9650822153038995, -0.6525239240020165, -0.3180906590768329, -1.1092731258949458, 0.145404038644625, 0.32870676388611253, -0.008068834877558549, 1.4682066980932378, -0.43949674370711, -0.43700047416309373, -1.0334340839901797, 0.12261326014475976]}, {\"boxpoints\": false, \"line\": {\"width\": 1.3}, \"marker\": {\"color\": \"rgba(128, 0, 128, 1.0)\"}, \"name\": \"D\", \"orientation\": \"v\", \"type\": \"box\", \"y\": [-1.1326481896719922, 0.1885285818821884, 1.0615292256120825, 0.7809924239741028, 0.8846964539089548, -0.9638545186415155, 0.42086911955493667, 1.2703691019691992, -1.3432331767219712, -1.0617993243707724, -1.8738496846904225, -0.11035088901470516, 0.01546715467452033, -0.17632698335353136, 0.7846340068087184, -0.20410872749059217, -0.5124727574309572, 0.7711721011305227, 0.3833044177475341, -0.27620215114831587, 0.476632711081902, 1.242897752429488, 0.20127685439850612, 0.23926589187498173, 1.3721356333552794, 0.45826528623040114, 1.3091091644228308, 0.6688287083095635, 0.22354423506614307, 0.5852027283493123, -1.532962735776844, 0.24921425517137355, -0.7137083457306289, 0.4578703319745816, -0.31286430611348254, -1.0404156744613575, -1.586694038565997, -0.5686161440828263, -0.45756233083759756, -0.4227049109356685, -1.9465995354023924, 0.6010810396017673, -1.0872993381337408, 1.6194316472392092, -0.7353964645930996, 0.5966962006557646, 0.28063564122756046, -0.6837196770834758, 0.14722364570920157, -0.843811889967784, 0.878043649206904, 0.14766266762213434, -0.9417354415967973, 1.7213928967786376, -0.9462751724787105, -0.04929166585125539, -0.20203221216333722, -1.0571002846578563, -0.4692756562304136, -1.5579732655543514, 1.5341487128337716, -0.4529126678589696, -1.1674162718780299, -0.3669715522395409, 0.5338343926292213, -0.5904890435986665, 0.5880358473792844, 0.18660546692090088, -0.6636077409449973, -0.4048675150255209, -0.15177822188704793, 0.7271275309865648, 0.8614177379139359, 0.4862245134942477, 0.7721574048318677, 0.36893386998757294, -0.8708467086378487, 0.8827036407013427, -0.23239578123966403, -2.3948271350592756, -0.7502782791825553, 0.40389530605411045, 0.1276427715052904, 0.08847746546697365, -0.09714902305423827, -1.2907930321018086, -1.6093014493617885, 0.9780070300867476, -1.408912628778127, 0.8141484306884554, 0.3779161194107192, 0.7048601183584742, 1.1860105629668631, -0.5045163571109417, 0.4454471220079421, 0.3854514039259868, -1.1051886838676843, 0.8837033351939465, -0.495930574033308, -0.4240159220291364]}],\n",
       "                        {\"legend\": {\"bgcolor\": \"#F5F6F9\", \"font\": {\"color\": \"#4D5663\"}}, \"paper_bgcolor\": \"#F5F6F9\", \"plot_bgcolor\": \"#F5F6F9\", \"template\": {\"data\": {\"bar\": [{\"error_x\": {\"color\": \"#2a3f5f\"}, \"error_y\": {\"color\": \"#2a3f5f\"}, \"marker\": {\"line\": {\"color\": \"#E5ECF6\", \"width\": 0.5}}, \"type\": \"bar\"}], \"barpolar\": [{\"marker\": {\"line\": {\"color\": \"#E5ECF6\", \"width\": 0.5}}, \"type\": \"barpolar\"}], \"carpet\": [{\"aaxis\": {\"endlinecolor\": \"#2a3f5f\", \"gridcolor\": \"white\", \"linecolor\": \"white\", \"minorgridcolor\": \"white\", \"startlinecolor\": \"#2a3f5f\"}, \"baxis\": {\"endlinecolor\": \"#2a3f5f\", \"gridcolor\": \"white\", \"linecolor\": \"white\", \"minorgridcolor\": \"white\", \"startlinecolor\": \"#2a3f5f\"}, \"type\": \"carpet\"}], \"choropleth\": [{\"colorbar\": {\"outlinewidth\": 0, \"ticks\": \"\"}, \"type\": \"choropleth\"}], \"contour\": [{\"colorbar\": {\"outlinewidth\": 0, \"ticks\": \"\"}, \"colorscale\": [[0.0, \"#0d0887\"], [0.1111111111111111, \"#46039f\"], [0.2222222222222222, \"#7201a8\"], [0.3333333333333333, \"#9c179e\"], [0.4444444444444444, \"#bd3786\"], [0.5555555555555556, \"#d8576b\"], [0.6666666666666666, \"#ed7953\"], [0.7777777777777778, \"#fb9f3a\"], [0.8888888888888888, \"#fdca26\"], [1.0, \"#f0f921\"]], \"type\": \"contour\"}], \"contourcarpet\": [{\"colorbar\": {\"outlinewidth\": 0, \"ticks\": \"\"}, \"type\": \"contourcarpet\"}], \"heatmap\": [{\"colorbar\": {\"outlinewidth\": 0, \"ticks\": \"\"}, \"colorscale\": [[0.0, \"#0d0887\"], [0.1111111111111111, \"#46039f\"], [0.2222222222222222, \"#7201a8\"], [0.3333333333333333, \"#9c179e\"], [0.4444444444444444, \"#bd3786\"], [0.5555555555555556, \"#d8576b\"], [0.6666666666666666, \"#ed7953\"], [0.7777777777777778, \"#fb9f3a\"], [0.8888888888888888, \"#fdca26\"], [1.0, \"#f0f921\"]], \"type\": \"heatmap\"}], \"heatmapgl\": [{\"colorbar\": {\"outlinewidth\": 0, \"ticks\": \"\"}, \"colorscale\": [[0.0, \"#0d0887\"], [0.1111111111111111, \"#46039f\"], [0.2222222222222222, \"#7201a8\"], [0.3333333333333333, \"#9c179e\"], [0.4444444444444444, \"#bd3786\"], [0.5555555555555556, \"#d8576b\"], [0.6666666666666666, \"#ed7953\"], [0.7777777777777778, \"#fb9f3a\"], [0.8888888888888888, \"#fdca26\"], [1.0, \"#f0f921\"]], \"type\": \"heatmapgl\"}], \"histogram\": [{\"marker\": {\"colorbar\": {\"outlinewidth\": 0, \"ticks\": \"\"}}, \"type\": \"histogram\"}], \"histogram2d\": [{\"colorbar\": {\"outlinewidth\": 0, \"ticks\": \"\"}, \"colorscale\": [[0.0, \"#0d0887\"], [0.1111111111111111, \"#46039f\"], [0.2222222222222222, \"#7201a8\"], [0.3333333333333333, \"#9c179e\"], [0.4444444444444444, \"#bd3786\"], [0.5555555555555556, \"#d8576b\"], [0.6666666666666666, \"#ed7953\"], [0.7777777777777778, \"#fb9f3a\"], [0.8888888888888888, \"#fdca26\"], [1.0, \"#f0f921\"]], \"type\": \"histogram2d\"}], \"histogram2dcontour\": [{\"colorbar\": {\"outlinewidth\": 0, \"ticks\": \"\"}, \"colorscale\": [[0.0, \"#0d0887\"], [0.1111111111111111, \"#46039f\"], [0.2222222222222222, \"#7201a8\"], [0.3333333333333333, \"#9c179e\"], [0.4444444444444444, \"#bd3786\"], [0.5555555555555556, \"#d8576b\"], [0.6666666666666666, \"#ed7953\"], [0.7777777777777778, \"#fb9f3a\"], [0.8888888888888888, \"#fdca26\"], [1.0, \"#f0f921\"]], \"type\": \"histogram2dcontour\"}], \"mesh3d\": [{\"colorbar\": {\"outlinewidth\": 0, \"ticks\": \"\"}, \"type\": \"mesh3d\"}], \"parcoords\": [{\"line\": {\"colorbar\": {\"outlinewidth\": 0, \"ticks\": \"\"}}, \"type\": \"parcoords\"}], \"pie\": [{\"automargin\": true, \"type\": \"pie\"}], \"scatter\": [{\"marker\": {\"colorbar\": {\"outlinewidth\": 0, \"ticks\": \"\"}}, \"type\": \"scatter\"}], \"scatter3d\": [{\"line\": {\"colorbar\": {\"outlinewidth\": 0, \"ticks\": \"\"}}, \"marker\": {\"colorbar\": {\"outlinewidth\": 0, \"ticks\": \"\"}}, \"type\": \"scatter3d\"}], \"scattercarpet\": [{\"marker\": {\"colorbar\": {\"outlinewidth\": 0, \"ticks\": \"\"}}, \"type\": \"scattercarpet\"}], \"scattergeo\": [{\"marker\": {\"colorbar\": {\"outlinewidth\": 0, \"ticks\": \"\"}}, \"type\": \"scattergeo\"}], \"scattergl\": [{\"marker\": {\"colorbar\": {\"outlinewidth\": 0, \"ticks\": \"\"}}, \"type\": \"scattergl\"}], \"scattermapbox\": [{\"marker\": {\"colorbar\": {\"outlinewidth\": 0, \"ticks\": \"\"}}, \"type\": \"scattermapbox\"}], \"scatterpolar\": [{\"marker\": {\"colorbar\": {\"outlinewidth\": 0, \"ticks\": \"\"}}, \"type\": \"scatterpolar\"}], \"scatterpolargl\": [{\"marker\": {\"colorbar\": {\"outlinewidth\": 0, \"ticks\": \"\"}}, \"type\": \"scatterpolargl\"}], \"scatterternary\": [{\"marker\": {\"colorbar\": {\"outlinewidth\": 0, \"ticks\": \"\"}}, \"type\": \"scatterternary\"}], \"surface\": [{\"colorbar\": {\"outlinewidth\": 0, \"ticks\": \"\"}, \"colorscale\": [[0.0, \"#0d0887\"], [0.1111111111111111, \"#46039f\"], [0.2222222222222222, \"#7201a8\"], [0.3333333333333333, \"#9c179e\"], [0.4444444444444444, \"#bd3786\"], [0.5555555555555556, \"#d8576b\"], [0.6666666666666666, \"#ed7953\"], [0.7777777777777778, \"#fb9f3a\"], [0.8888888888888888, \"#fdca26\"], [1.0, \"#f0f921\"]], \"type\": \"surface\"}], \"table\": [{\"cells\": {\"fill\": {\"color\": \"#EBF0F8\"}, \"line\": {\"color\": \"white\"}}, \"header\": {\"fill\": {\"color\": \"#C8D4E3\"}, \"line\": {\"color\": \"white\"}}, \"type\": \"table\"}]}, \"layout\": {\"annotationdefaults\": {\"arrowcolor\": \"#2a3f5f\", \"arrowhead\": 0, \"arrowwidth\": 1}, \"coloraxis\": {\"colorbar\": {\"outlinewidth\": 0, \"ticks\": \"\"}}, \"colorscale\": {\"diverging\": [[0, \"#8e0152\"], [0.1, \"#c51b7d\"], [0.2, \"#de77ae\"], [0.3, \"#f1b6da\"], [0.4, \"#fde0ef\"], [0.5, \"#f7f7f7\"], [0.6, \"#e6f5d0\"], [0.7, \"#b8e186\"], [0.8, \"#7fbc41\"], [0.9, \"#4d9221\"], [1, \"#276419\"]], \"sequential\": [[0.0, \"#0d0887\"], [0.1111111111111111, \"#46039f\"], [0.2222222222222222, \"#7201a8\"], [0.3333333333333333, \"#9c179e\"], [0.4444444444444444, \"#bd3786\"], [0.5555555555555556, \"#d8576b\"], [0.6666666666666666, \"#ed7953\"], [0.7777777777777778, \"#fb9f3a\"], [0.8888888888888888, \"#fdca26\"], [1.0, \"#f0f921\"]], \"sequentialminus\": [[0.0, \"#0d0887\"], [0.1111111111111111, \"#46039f\"], [0.2222222222222222, \"#7201a8\"], [0.3333333333333333, \"#9c179e\"], [0.4444444444444444, \"#bd3786\"], [0.5555555555555556, \"#d8576b\"], [0.6666666666666666, \"#ed7953\"], [0.7777777777777778, \"#fb9f3a\"], [0.8888888888888888, \"#fdca26\"], [1.0, \"#f0f921\"]]}, \"colorway\": [\"#636efa\", \"#EF553B\", \"#00cc96\", \"#ab63fa\", \"#FFA15A\", \"#19d3f3\", \"#FF6692\", \"#B6E880\", \"#FF97FF\", \"#FECB52\"], \"font\": {\"color\": \"#2a3f5f\"}, \"geo\": {\"bgcolor\": \"white\", \"lakecolor\": \"white\", \"landcolor\": \"#E5ECF6\", \"showlakes\": true, \"showland\": true, \"subunitcolor\": \"white\"}, \"hoverlabel\": {\"align\": \"left\"}, \"hovermode\": \"closest\", \"mapbox\": {\"style\": \"light\"}, \"paper_bgcolor\": \"white\", \"plot_bgcolor\": \"#E5ECF6\", \"polar\": {\"angularaxis\": {\"gridcolor\": \"white\", \"linecolor\": \"white\", \"ticks\": \"\"}, \"bgcolor\": \"#E5ECF6\", \"radialaxis\": {\"gridcolor\": \"white\", \"linecolor\": \"white\", \"ticks\": \"\"}}, \"scene\": {\"xaxis\": {\"backgroundcolor\": \"#E5ECF6\", \"gridcolor\": \"white\", \"gridwidth\": 2, \"linecolor\": \"white\", \"showbackground\": true, \"ticks\": \"\", \"zerolinecolor\": \"white\"}, \"yaxis\": {\"backgroundcolor\": \"#E5ECF6\", \"gridcolor\": \"white\", \"gridwidth\": 2, \"linecolor\": \"white\", \"showbackground\": true, \"ticks\": \"\", \"zerolinecolor\": \"white\"}, \"zaxis\": {\"backgroundcolor\": \"#E5ECF6\", \"gridcolor\": \"white\", \"gridwidth\": 2, \"linecolor\": \"white\", \"showbackground\": true, \"ticks\": \"\", \"zerolinecolor\": \"white\"}}, \"shapedefaults\": {\"line\": {\"color\": \"#2a3f5f\"}}, \"ternary\": {\"aaxis\": {\"gridcolor\": \"white\", \"linecolor\": \"white\", \"ticks\": \"\"}, \"baxis\": {\"gridcolor\": \"white\", \"linecolor\": \"white\", \"ticks\": \"\"}, \"bgcolor\": \"#E5ECF6\", \"caxis\": {\"gridcolor\": \"white\", \"linecolor\": \"white\", \"ticks\": \"\"}}, \"title\": {\"x\": 0.05}, \"xaxis\": {\"automargin\": true, \"gridcolor\": \"white\", \"linecolor\": \"white\", \"ticks\": \"\", \"title\": {\"standoff\": 15}, \"zerolinecolor\": \"white\", \"zerolinewidth\": 2}, \"yaxis\": {\"automargin\": true, \"gridcolor\": \"white\", \"linecolor\": \"white\", \"ticks\": \"\", \"title\": {\"standoff\": 15}, \"zerolinecolor\": \"white\", \"zerolinewidth\": 2}}}, \"title\": {\"font\": {\"color\": \"#4D5663\"}}, \"xaxis\": {\"gridcolor\": \"#E1E5ED\", \"showgrid\": true, \"tickfont\": {\"color\": \"#4D5663\"}, \"title\": {\"font\": {\"color\": \"#4D5663\"}, \"text\": \"\"}, \"zerolinecolor\": \"#E1E5ED\"}, \"yaxis\": {\"gridcolor\": \"#E1E5ED\", \"showgrid\": true, \"tickfont\": {\"color\": \"#4D5663\"}, \"title\": {\"font\": {\"color\": \"#4D5663\"}, \"text\": \"\"}, \"zerolinecolor\": \"#E1E5ED\"}},\n",
       "                        {\"showLink\": true, \"linkText\": \"Export to plot.ly\", \"plotlyServerURL\": \"https://plot.ly\", \"responsive\": true}\n",
       "                    ).then(function(){\n",
       "                            \n",
       "var gd = document.getElementById('48655688-82df-4656-b54b-14dfd6a40727');\n",
       "var x = new MutationObserver(function (mutations, observer) {{\n",
       "        var display = window.getComputedStyle(gd).display;\n",
       "        if (!display || display === 'none') {{\n",
       "            console.log([gd, 'removed!']);\n",
       "            Plotly.purge(gd);\n",
       "            observer.disconnect();\n",
       "        }}\n",
       "}});\n",
       "\n",
       "// Listen for the removal of the full notebook cells\n",
       "var notebookContainer = gd.closest('#notebook-container');\n",
       "if (notebookContainer) {{\n",
       "    x.observe(notebookContainer, {childList: true});\n",
       "}}\n",
       "\n",
       "// Listen for the clearing of the current output cell\n",
       "var outputEl = gd.closest('.output');\n",
       "if (outputEl) {{\n",
       "    x.observe(outputEl, {childList: true});\n",
       "}}\n",
       "\n",
       "                        })\n",
       "                };\n",
       "                });\n",
       "            </script>\n",
       "        </div>"
      ]
     },
     "metadata": {},
     "output_type": "display_data"
    }
   ],
   "source": [
    "df.iplot(kind='box')"
   ]
  },
  {
   "cell_type": "markdown",
   "metadata": {},
   "source": [
    "## 3d Surface"
   ]
  },
  {
   "cell_type": "code",
   "execution_count": 17,
   "metadata": {},
   "outputs": [
    {
     "data": {
      "application/vnd.plotly.v1+json": {
       "config": {
        "linkText": "Export to plot.ly",
        "plotlyServerURL": "https://plot.ly",
        "showLink": true
       },
       "data": [
        {
         "colorscale": [
          [
           0,
           "rgb(165,0,38)"
          ],
          [
           0.1,
           "rgb(215,48,39)"
          ],
          [
           0.2,
           "rgb(244,109,67)"
          ],
          [
           0.3,
           "rgb(253,174,97)"
          ],
          [
           0.4,
           "rgb(254,224,144)"
          ],
          [
           0.5,
           "rgb(255,255,191)"
          ],
          [
           0.6,
           "rgb(224,243,248)"
          ],
          [
           0.7,
           "rgb(171,217,233)"
          ],
          [
           0.8,
           "rgb(116,173,209)"
          ],
          [
           0.9,
           "rgb(69,117,180)"
          ],
          [
           1,
           "rgb(49,54,149)"
          ]
         ],
         "type": "surface",
         "x": [
          0,
          1,
          2,
          3,
          4
         ],
         "y": [
          "x",
          "y",
          "z"
         ],
         "z": [
          [
           1,
           2,
           3,
           4,
           5
          ],
          [
           10,
           20,
           30,
           20,
           10
          ],
          [
           5,
           4,
           3,
           2,
           1
          ]
         ]
        }
       ],
       "layout": {
        "legend": {
         "bgcolor": "#F5F6F9",
         "font": {
          "color": "#4D5663"
         }
        },
        "paper_bgcolor": "#F5F6F9",
        "plot_bgcolor": "#F5F6F9",
        "template": {
         "data": {
          "bar": [
           {
            "error_x": {
             "color": "#2a3f5f"
            },
            "error_y": {
             "color": "#2a3f5f"
            },
            "marker": {
             "line": {
              "color": "#E5ECF6",
              "width": 0.5
             }
            },
            "type": "bar"
           }
          ],
          "barpolar": [
           {
            "marker": {
             "line": {
              "color": "#E5ECF6",
              "width": 0.5
             }
            },
            "type": "barpolar"
           }
          ],
          "carpet": [
           {
            "aaxis": {
             "endlinecolor": "#2a3f5f",
             "gridcolor": "white",
             "linecolor": "white",
             "minorgridcolor": "white",
             "startlinecolor": "#2a3f5f"
            },
            "baxis": {
             "endlinecolor": "#2a3f5f",
             "gridcolor": "white",
             "linecolor": "white",
             "minorgridcolor": "white",
             "startlinecolor": "#2a3f5f"
            },
            "type": "carpet"
           }
          ],
          "choropleth": [
           {
            "colorbar": {
             "outlinewidth": 0,
             "ticks": ""
            },
            "type": "choropleth"
           }
          ],
          "contour": [
           {
            "colorbar": {
             "outlinewidth": 0,
             "ticks": ""
            },
            "colorscale": [
             [
              0,
              "#0d0887"
             ],
             [
              0.1111111111111111,
              "#46039f"
             ],
             [
              0.2222222222222222,
              "#7201a8"
             ],
             [
              0.3333333333333333,
              "#9c179e"
             ],
             [
              0.4444444444444444,
              "#bd3786"
             ],
             [
              0.5555555555555556,
              "#d8576b"
             ],
             [
              0.6666666666666666,
              "#ed7953"
             ],
             [
              0.7777777777777778,
              "#fb9f3a"
             ],
             [
              0.8888888888888888,
              "#fdca26"
             ],
             [
              1,
              "#f0f921"
             ]
            ],
            "type": "contour"
           }
          ],
          "contourcarpet": [
           {
            "colorbar": {
             "outlinewidth": 0,
             "ticks": ""
            },
            "type": "contourcarpet"
           }
          ],
          "heatmap": [
           {
            "colorbar": {
             "outlinewidth": 0,
             "ticks": ""
            },
            "colorscale": [
             [
              0,
              "#0d0887"
             ],
             [
              0.1111111111111111,
              "#46039f"
             ],
             [
              0.2222222222222222,
              "#7201a8"
             ],
             [
              0.3333333333333333,
              "#9c179e"
             ],
             [
              0.4444444444444444,
              "#bd3786"
             ],
             [
              0.5555555555555556,
              "#d8576b"
             ],
             [
              0.6666666666666666,
              "#ed7953"
             ],
             [
              0.7777777777777778,
              "#fb9f3a"
             ],
             [
              0.8888888888888888,
              "#fdca26"
             ],
             [
              1,
              "#f0f921"
             ]
            ],
            "type": "heatmap"
           }
          ],
          "heatmapgl": [
           {
            "colorbar": {
             "outlinewidth": 0,
             "ticks": ""
            },
            "colorscale": [
             [
              0,
              "#0d0887"
             ],
             [
              0.1111111111111111,
              "#46039f"
             ],
             [
              0.2222222222222222,
              "#7201a8"
             ],
             [
              0.3333333333333333,
              "#9c179e"
             ],
             [
              0.4444444444444444,
              "#bd3786"
             ],
             [
              0.5555555555555556,
              "#d8576b"
             ],
             [
              0.6666666666666666,
              "#ed7953"
             ],
             [
              0.7777777777777778,
              "#fb9f3a"
             ],
             [
              0.8888888888888888,
              "#fdca26"
             ],
             [
              1,
              "#f0f921"
             ]
            ],
            "type": "heatmapgl"
           }
          ],
          "histogram": [
           {
            "marker": {
             "colorbar": {
              "outlinewidth": 0,
              "ticks": ""
             }
            },
            "type": "histogram"
           }
          ],
          "histogram2d": [
           {
            "colorbar": {
             "outlinewidth": 0,
             "ticks": ""
            },
            "colorscale": [
             [
              0,
              "#0d0887"
             ],
             [
              0.1111111111111111,
              "#46039f"
             ],
             [
              0.2222222222222222,
              "#7201a8"
             ],
             [
              0.3333333333333333,
              "#9c179e"
             ],
             [
              0.4444444444444444,
              "#bd3786"
             ],
             [
              0.5555555555555556,
              "#d8576b"
             ],
             [
              0.6666666666666666,
              "#ed7953"
             ],
             [
              0.7777777777777778,
              "#fb9f3a"
             ],
             [
              0.8888888888888888,
              "#fdca26"
             ],
             [
              1,
              "#f0f921"
             ]
            ],
            "type": "histogram2d"
           }
          ],
          "histogram2dcontour": [
           {
            "colorbar": {
             "outlinewidth": 0,
             "ticks": ""
            },
            "colorscale": [
             [
              0,
              "#0d0887"
             ],
             [
              0.1111111111111111,
              "#46039f"
             ],
             [
              0.2222222222222222,
              "#7201a8"
             ],
             [
              0.3333333333333333,
              "#9c179e"
             ],
             [
              0.4444444444444444,
              "#bd3786"
             ],
             [
              0.5555555555555556,
              "#d8576b"
             ],
             [
              0.6666666666666666,
              "#ed7953"
             ],
             [
              0.7777777777777778,
              "#fb9f3a"
             ],
             [
              0.8888888888888888,
              "#fdca26"
             ],
             [
              1,
              "#f0f921"
             ]
            ],
            "type": "histogram2dcontour"
           }
          ],
          "mesh3d": [
           {
            "colorbar": {
             "outlinewidth": 0,
             "ticks": ""
            },
            "type": "mesh3d"
           }
          ],
          "parcoords": [
           {
            "line": {
             "colorbar": {
              "outlinewidth": 0,
              "ticks": ""
             }
            },
            "type": "parcoords"
           }
          ],
          "pie": [
           {
            "automargin": true,
            "type": "pie"
           }
          ],
          "scatter": [
           {
            "marker": {
             "colorbar": {
              "outlinewidth": 0,
              "ticks": ""
             }
            },
            "type": "scatter"
           }
          ],
          "scatter3d": [
           {
            "line": {
             "colorbar": {
              "outlinewidth": 0,
              "ticks": ""
             }
            },
            "marker": {
             "colorbar": {
              "outlinewidth": 0,
              "ticks": ""
             }
            },
            "type": "scatter3d"
           }
          ],
          "scattercarpet": [
           {
            "marker": {
             "colorbar": {
              "outlinewidth": 0,
              "ticks": ""
             }
            },
            "type": "scattercarpet"
           }
          ],
          "scattergeo": [
           {
            "marker": {
             "colorbar": {
              "outlinewidth": 0,
              "ticks": ""
             }
            },
            "type": "scattergeo"
           }
          ],
          "scattergl": [
           {
            "marker": {
             "colorbar": {
              "outlinewidth": 0,
              "ticks": ""
             }
            },
            "type": "scattergl"
           }
          ],
          "scattermapbox": [
           {
            "marker": {
             "colorbar": {
              "outlinewidth": 0,
              "ticks": ""
             }
            },
            "type": "scattermapbox"
           }
          ],
          "scatterpolar": [
           {
            "marker": {
             "colorbar": {
              "outlinewidth": 0,
              "ticks": ""
             }
            },
            "type": "scatterpolar"
           }
          ],
          "scatterpolargl": [
           {
            "marker": {
             "colorbar": {
              "outlinewidth": 0,
              "ticks": ""
             }
            },
            "type": "scatterpolargl"
           }
          ],
          "scatterternary": [
           {
            "marker": {
             "colorbar": {
              "outlinewidth": 0,
              "ticks": ""
             }
            },
            "type": "scatterternary"
           }
          ],
          "surface": [
           {
            "colorbar": {
             "outlinewidth": 0,
             "ticks": ""
            },
            "colorscale": [
             [
              0,
              "#0d0887"
             ],
             [
              0.1111111111111111,
              "#46039f"
             ],
             [
              0.2222222222222222,
              "#7201a8"
             ],
             [
              0.3333333333333333,
              "#9c179e"
             ],
             [
              0.4444444444444444,
              "#bd3786"
             ],
             [
              0.5555555555555556,
              "#d8576b"
             ],
             [
              0.6666666666666666,
              "#ed7953"
             ],
             [
              0.7777777777777778,
              "#fb9f3a"
             ],
             [
              0.8888888888888888,
              "#fdca26"
             ],
             [
              1,
              "#f0f921"
             ]
            ],
            "type": "surface"
           }
          ],
          "table": [
           {
            "cells": {
             "fill": {
              "color": "#EBF0F8"
             },
             "line": {
              "color": "white"
             }
            },
            "header": {
             "fill": {
              "color": "#C8D4E3"
             },
             "line": {
              "color": "white"
             }
            },
            "type": "table"
           }
          ]
         },
         "layout": {
          "annotationdefaults": {
           "arrowcolor": "#2a3f5f",
           "arrowhead": 0,
           "arrowwidth": 1
          },
          "coloraxis": {
           "colorbar": {
            "outlinewidth": 0,
            "ticks": ""
           }
          },
          "colorscale": {
           "diverging": [
            [
             0,
             "#8e0152"
            ],
            [
             0.1,
             "#c51b7d"
            ],
            [
             0.2,
             "#de77ae"
            ],
            [
             0.3,
             "#f1b6da"
            ],
            [
             0.4,
             "#fde0ef"
            ],
            [
             0.5,
             "#f7f7f7"
            ],
            [
             0.6,
             "#e6f5d0"
            ],
            [
             0.7,
             "#b8e186"
            ],
            [
             0.8,
             "#7fbc41"
            ],
            [
             0.9,
             "#4d9221"
            ],
            [
             1,
             "#276419"
            ]
           ],
           "sequential": [
            [
             0,
             "#0d0887"
            ],
            [
             0.1111111111111111,
             "#46039f"
            ],
            [
             0.2222222222222222,
             "#7201a8"
            ],
            [
             0.3333333333333333,
             "#9c179e"
            ],
            [
             0.4444444444444444,
             "#bd3786"
            ],
            [
             0.5555555555555556,
             "#d8576b"
            ],
            [
             0.6666666666666666,
             "#ed7953"
            ],
            [
             0.7777777777777778,
             "#fb9f3a"
            ],
            [
             0.8888888888888888,
             "#fdca26"
            ],
            [
             1,
             "#f0f921"
            ]
           ],
           "sequentialminus": [
            [
             0,
             "#0d0887"
            ],
            [
             0.1111111111111111,
             "#46039f"
            ],
            [
             0.2222222222222222,
             "#7201a8"
            ],
            [
             0.3333333333333333,
             "#9c179e"
            ],
            [
             0.4444444444444444,
             "#bd3786"
            ],
            [
             0.5555555555555556,
             "#d8576b"
            ],
            [
             0.6666666666666666,
             "#ed7953"
            ],
            [
             0.7777777777777778,
             "#fb9f3a"
            ],
            [
             0.8888888888888888,
             "#fdca26"
            ],
            [
             1,
             "#f0f921"
            ]
           ]
          },
          "colorway": [
           "#636efa",
           "#EF553B",
           "#00cc96",
           "#ab63fa",
           "#FFA15A",
           "#19d3f3",
           "#FF6692",
           "#B6E880",
           "#FF97FF",
           "#FECB52"
          ],
          "font": {
           "color": "#2a3f5f"
          },
          "geo": {
           "bgcolor": "white",
           "lakecolor": "white",
           "landcolor": "#E5ECF6",
           "showlakes": true,
           "showland": true,
           "subunitcolor": "white"
          },
          "hoverlabel": {
           "align": "left"
          },
          "hovermode": "closest",
          "mapbox": {
           "style": "light"
          },
          "paper_bgcolor": "white",
          "plot_bgcolor": "#E5ECF6",
          "polar": {
           "angularaxis": {
            "gridcolor": "white",
            "linecolor": "white",
            "ticks": ""
           },
           "bgcolor": "#E5ECF6",
           "radialaxis": {
            "gridcolor": "white",
            "linecolor": "white",
            "ticks": ""
           }
          },
          "scene": {
           "xaxis": {
            "backgroundcolor": "#E5ECF6",
            "gridcolor": "white",
            "gridwidth": 2,
            "linecolor": "white",
            "showbackground": true,
            "ticks": "",
            "zerolinecolor": "white"
           },
           "yaxis": {
            "backgroundcolor": "#E5ECF6",
            "gridcolor": "white",
            "gridwidth": 2,
            "linecolor": "white",
            "showbackground": true,
            "ticks": "",
            "zerolinecolor": "white"
           },
           "zaxis": {
            "backgroundcolor": "#E5ECF6",
            "gridcolor": "white",
            "gridwidth": 2,
            "linecolor": "white",
            "showbackground": true,
            "ticks": "",
            "zerolinecolor": "white"
           }
          },
          "shapedefaults": {
           "line": {
            "color": "#2a3f5f"
           }
          },
          "ternary": {
           "aaxis": {
            "gridcolor": "white",
            "linecolor": "white",
            "ticks": ""
           },
           "baxis": {
            "gridcolor": "white",
            "linecolor": "white",
            "ticks": ""
           },
           "bgcolor": "#E5ECF6",
           "caxis": {
            "gridcolor": "white",
            "linecolor": "white",
            "ticks": ""
           }
          },
          "title": {
           "x": 0.05
          },
          "xaxis": {
           "automargin": true,
           "gridcolor": "white",
           "linecolor": "white",
           "ticks": "",
           "title": {
            "standoff": 15
           },
           "zerolinecolor": "white",
           "zerolinewidth": 2
          },
          "yaxis": {
           "automargin": true,
           "gridcolor": "white",
           "linecolor": "white",
           "ticks": "",
           "title": {
            "standoff": 15
           },
           "zerolinecolor": "white",
           "zerolinewidth": 2
          }
         }
        },
        "title": {
         "font": {
          "color": "#4D5663"
         }
        },
        "xaxis": {
         "gridcolor": "#E1E5ED",
         "showgrid": true,
         "tickfont": {
          "color": "#4D5663"
         },
         "title": {
          "font": {
           "color": "#4D5663"
          },
          "text": ""
         },
         "zerolinecolor": "#E1E5ED"
        },
        "yaxis": {
         "gridcolor": "#E1E5ED",
         "showgrid": true,
         "tickfont": {
          "color": "#4D5663"
         },
         "title": {
          "font": {
           "color": "#4D5663"
          },
          "text": ""
         },
         "zerolinecolor": "#E1E5ED"
        }
       }
      },
      "text/html": [
       "<div>\n",
       "        \n",
       "        \n",
       "            <div id=\"4a354dd5-1fb4-41d4-b8e5-499d2dd2f2fd\" class=\"plotly-graph-div\" style=\"height:525px; width:100%;\"></div>\n",
       "            <script type=\"text/javascript\">\n",
       "                require([\"plotly\"], function(Plotly) {\n",
       "                    window.PLOTLYENV=window.PLOTLYENV || {};\n",
       "                    window.PLOTLYENV.BASE_URL='https://plot.ly';\n",
       "                    \n",
       "                if (document.getElementById(\"4a354dd5-1fb4-41d4-b8e5-499d2dd2f2fd\")) {\n",
       "                    Plotly.newPlot(\n",
       "                        '4a354dd5-1fb4-41d4-b8e5-499d2dd2f2fd',\n",
       "                        [{\"colorscale\": [[0.0, \"rgb(165,0,38)\"], [0.1, \"rgb(215,48,39)\"], [0.2, \"rgb(244,109,67)\"], [0.3, \"rgb(253,174,97)\"], [0.4, \"rgb(254,224,144)\"], [0.5, \"rgb(255,255,191)\"], [0.6, \"rgb(224,243,248)\"], [0.7, \"rgb(171,217,233)\"], [0.8, \"rgb(116,173,209)\"], [0.9, \"rgb(69,117,180)\"], [1.0, \"rgb(49,54,149)\"]], \"type\": \"surface\", \"x\": [0, 1, 2, 3, 4], \"y\": [\"x\", \"y\", \"z\"], \"z\": [[1, 2, 3, 4, 5], [10, 20, 30, 20, 10], [5, 4, 3, 2, 1]]}],\n",
       "                        {\"legend\": {\"bgcolor\": \"#F5F6F9\", \"font\": {\"color\": \"#4D5663\"}}, \"paper_bgcolor\": \"#F5F6F9\", \"plot_bgcolor\": \"#F5F6F9\", \"template\": {\"data\": {\"bar\": [{\"error_x\": {\"color\": \"#2a3f5f\"}, \"error_y\": {\"color\": \"#2a3f5f\"}, \"marker\": {\"line\": {\"color\": \"#E5ECF6\", \"width\": 0.5}}, \"type\": \"bar\"}], \"barpolar\": [{\"marker\": {\"line\": {\"color\": \"#E5ECF6\", \"width\": 0.5}}, \"type\": \"barpolar\"}], \"carpet\": [{\"aaxis\": {\"endlinecolor\": \"#2a3f5f\", \"gridcolor\": \"white\", \"linecolor\": \"white\", \"minorgridcolor\": \"white\", \"startlinecolor\": \"#2a3f5f\"}, \"baxis\": {\"endlinecolor\": \"#2a3f5f\", \"gridcolor\": \"white\", \"linecolor\": \"white\", \"minorgridcolor\": \"white\", \"startlinecolor\": \"#2a3f5f\"}, \"type\": \"carpet\"}], \"choropleth\": [{\"colorbar\": {\"outlinewidth\": 0, \"ticks\": \"\"}, \"type\": \"choropleth\"}], \"contour\": [{\"colorbar\": {\"outlinewidth\": 0, \"ticks\": \"\"}, \"colorscale\": [[0.0, \"#0d0887\"], [0.1111111111111111, \"#46039f\"], [0.2222222222222222, \"#7201a8\"], [0.3333333333333333, \"#9c179e\"], [0.4444444444444444, \"#bd3786\"], [0.5555555555555556, \"#d8576b\"], [0.6666666666666666, \"#ed7953\"], [0.7777777777777778, \"#fb9f3a\"], [0.8888888888888888, \"#fdca26\"], [1.0, \"#f0f921\"]], \"type\": \"contour\"}], \"contourcarpet\": [{\"colorbar\": {\"outlinewidth\": 0, \"ticks\": \"\"}, \"type\": \"contourcarpet\"}], \"heatmap\": [{\"colorbar\": {\"outlinewidth\": 0, \"ticks\": \"\"}, \"colorscale\": [[0.0, \"#0d0887\"], [0.1111111111111111, \"#46039f\"], [0.2222222222222222, \"#7201a8\"], [0.3333333333333333, \"#9c179e\"], [0.4444444444444444, \"#bd3786\"], [0.5555555555555556, \"#d8576b\"], [0.6666666666666666, \"#ed7953\"], [0.7777777777777778, \"#fb9f3a\"], [0.8888888888888888, \"#fdca26\"], [1.0, \"#f0f921\"]], \"type\": \"heatmap\"}], \"heatmapgl\": [{\"colorbar\": {\"outlinewidth\": 0, \"ticks\": \"\"}, \"colorscale\": [[0.0, \"#0d0887\"], [0.1111111111111111, \"#46039f\"], [0.2222222222222222, \"#7201a8\"], [0.3333333333333333, \"#9c179e\"], [0.4444444444444444, \"#bd3786\"], [0.5555555555555556, \"#d8576b\"], [0.6666666666666666, \"#ed7953\"], [0.7777777777777778, \"#fb9f3a\"], [0.8888888888888888, \"#fdca26\"], [1.0, \"#f0f921\"]], \"type\": \"heatmapgl\"}], \"histogram\": [{\"marker\": {\"colorbar\": {\"outlinewidth\": 0, \"ticks\": \"\"}}, \"type\": \"histogram\"}], \"histogram2d\": [{\"colorbar\": {\"outlinewidth\": 0, \"ticks\": \"\"}, \"colorscale\": [[0.0, \"#0d0887\"], [0.1111111111111111, \"#46039f\"], [0.2222222222222222, \"#7201a8\"], [0.3333333333333333, \"#9c179e\"], [0.4444444444444444, \"#bd3786\"], [0.5555555555555556, \"#d8576b\"], [0.6666666666666666, \"#ed7953\"], [0.7777777777777778, \"#fb9f3a\"], [0.8888888888888888, \"#fdca26\"], [1.0, \"#f0f921\"]], \"type\": \"histogram2d\"}], \"histogram2dcontour\": [{\"colorbar\": {\"outlinewidth\": 0, \"ticks\": \"\"}, \"colorscale\": [[0.0, \"#0d0887\"], [0.1111111111111111, \"#46039f\"], [0.2222222222222222, \"#7201a8\"], [0.3333333333333333, \"#9c179e\"], [0.4444444444444444, \"#bd3786\"], [0.5555555555555556, \"#d8576b\"], [0.6666666666666666, \"#ed7953\"], [0.7777777777777778, \"#fb9f3a\"], [0.8888888888888888, \"#fdca26\"], [1.0, \"#f0f921\"]], \"type\": \"histogram2dcontour\"}], \"mesh3d\": [{\"colorbar\": {\"outlinewidth\": 0, \"ticks\": \"\"}, \"type\": \"mesh3d\"}], \"parcoords\": [{\"line\": {\"colorbar\": {\"outlinewidth\": 0, \"ticks\": \"\"}}, \"type\": \"parcoords\"}], \"pie\": [{\"automargin\": true, \"type\": \"pie\"}], \"scatter\": [{\"marker\": {\"colorbar\": {\"outlinewidth\": 0, \"ticks\": \"\"}}, \"type\": \"scatter\"}], \"scatter3d\": [{\"line\": {\"colorbar\": {\"outlinewidth\": 0, \"ticks\": \"\"}}, \"marker\": {\"colorbar\": {\"outlinewidth\": 0, \"ticks\": \"\"}}, \"type\": \"scatter3d\"}], \"scattercarpet\": [{\"marker\": {\"colorbar\": {\"outlinewidth\": 0, \"ticks\": \"\"}}, \"type\": \"scattercarpet\"}], \"scattergeo\": [{\"marker\": {\"colorbar\": {\"outlinewidth\": 0, \"ticks\": \"\"}}, \"type\": \"scattergeo\"}], \"scattergl\": [{\"marker\": {\"colorbar\": {\"outlinewidth\": 0, \"ticks\": \"\"}}, \"type\": \"scattergl\"}], \"scattermapbox\": [{\"marker\": {\"colorbar\": {\"outlinewidth\": 0, \"ticks\": \"\"}}, \"type\": \"scattermapbox\"}], \"scatterpolar\": [{\"marker\": {\"colorbar\": {\"outlinewidth\": 0, \"ticks\": \"\"}}, \"type\": \"scatterpolar\"}], \"scatterpolargl\": [{\"marker\": {\"colorbar\": {\"outlinewidth\": 0, \"ticks\": \"\"}}, \"type\": \"scatterpolargl\"}], \"scatterternary\": [{\"marker\": {\"colorbar\": {\"outlinewidth\": 0, \"ticks\": \"\"}}, \"type\": \"scatterternary\"}], \"surface\": [{\"colorbar\": {\"outlinewidth\": 0, \"ticks\": \"\"}, \"colorscale\": [[0.0, \"#0d0887\"], [0.1111111111111111, \"#46039f\"], [0.2222222222222222, \"#7201a8\"], [0.3333333333333333, \"#9c179e\"], [0.4444444444444444, \"#bd3786\"], [0.5555555555555556, \"#d8576b\"], [0.6666666666666666, \"#ed7953\"], [0.7777777777777778, \"#fb9f3a\"], [0.8888888888888888, \"#fdca26\"], [1.0, \"#f0f921\"]], \"type\": \"surface\"}], \"table\": [{\"cells\": {\"fill\": {\"color\": \"#EBF0F8\"}, \"line\": {\"color\": \"white\"}}, \"header\": {\"fill\": {\"color\": \"#C8D4E3\"}, \"line\": {\"color\": \"white\"}}, \"type\": \"table\"}]}, \"layout\": {\"annotationdefaults\": {\"arrowcolor\": \"#2a3f5f\", \"arrowhead\": 0, \"arrowwidth\": 1}, \"coloraxis\": {\"colorbar\": {\"outlinewidth\": 0, \"ticks\": \"\"}}, \"colorscale\": {\"diverging\": [[0, \"#8e0152\"], [0.1, \"#c51b7d\"], [0.2, \"#de77ae\"], [0.3, \"#f1b6da\"], [0.4, \"#fde0ef\"], [0.5, \"#f7f7f7\"], [0.6, \"#e6f5d0\"], [0.7, \"#b8e186\"], [0.8, \"#7fbc41\"], [0.9, \"#4d9221\"], [1, \"#276419\"]], \"sequential\": [[0.0, \"#0d0887\"], [0.1111111111111111, \"#46039f\"], [0.2222222222222222, \"#7201a8\"], [0.3333333333333333, \"#9c179e\"], [0.4444444444444444, \"#bd3786\"], [0.5555555555555556, \"#d8576b\"], [0.6666666666666666, \"#ed7953\"], [0.7777777777777778, \"#fb9f3a\"], [0.8888888888888888, \"#fdca26\"], [1.0, \"#f0f921\"]], \"sequentialminus\": [[0.0, \"#0d0887\"], [0.1111111111111111, \"#46039f\"], [0.2222222222222222, \"#7201a8\"], [0.3333333333333333, \"#9c179e\"], [0.4444444444444444, \"#bd3786\"], [0.5555555555555556, \"#d8576b\"], [0.6666666666666666, \"#ed7953\"], [0.7777777777777778, \"#fb9f3a\"], [0.8888888888888888, \"#fdca26\"], [1.0, \"#f0f921\"]]}, \"colorway\": [\"#636efa\", \"#EF553B\", \"#00cc96\", \"#ab63fa\", \"#FFA15A\", \"#19d3f3\", \"#FF6692\", \"#B6E880\", \"#FF97FF\", \"#FECB52\"], \"font\": {\"color\": \"#2a3f5f\"}, \"geo\": {\"bgcolor\": \"white\", \"lakecolor\": \"white\", \"landcolor\": \"#E5ECF6\", \"showlakes\": true, \"showland\": true, \"subunitcolor\": \"white\"}, \"hoverlabel\": {\"align\": \"left\"}, \"hovermode\": \"closest\", \"mapbox\": {\"style\": \"light\"}, \"paper_bgcolor\": \"white\", \"plot_bgcolor\": \"#E5ECF6\", \"polar\": {\"angularaxis\": {\"gridcolor\": \"white\", \"linecolor\": \"white\", \"ticks\": \"\"}, \"bgcolor\": \"#E5ECF6\", \"radialaxis\": {\"gridcolor\": \"white\", \"linecolor\": \"white\", \"ticks\": \"\"}}, \"scene\": {\"xaxis\": {\"backgroundcolor\": \"#E5ECF6\", \"gridcolor\": \"white\", \"gridwidth\": 2, \"linecolor\": \"white\", \"showbackground\": true, \"ticks\": \"\", \"zerolinecolor\": \"white\"}, \"yaxis\": {\"backgroundcolor\": \"#E5ECF6\", \"gridcolor\": \"white\", \"gridwidth\": 2, \"linecolor\": \"white\", \"showbackground\": true, \"ticks\": \"\", \"zerolinecolor\": \"white\"}, \"zaxis\": {\"backgroundcolor\": \"#E5ECF6\", \"gridcolor\": \"white\", \"gridwidth\": 2, \"linecolor\": \"white\", \"showbackground\": true, \"ticks\": \"\", \"zerolinecolor\": \"white\"}}, \"shapedefaults\": {\"line\": {\"color\": \"#2a3f5f\"}}, \"ternary\": {\"aaxis\": {\"gridcolor\": \"white\", \"linecolor\": \"white\", \"ticks\": \"\"}, \"baxis\": {\"gridcolor\": \"white\", \"linecolor\": \"white\", \"ticks\": \"\"}, \"bgcolor\": \"#E5ECF6\", \"caxis\": {\"gridcolor\": \"white\", \"linecolor\": \"white\", \"ticks\": \"\"}}, \"title\": {\"x\": 0.05}, \"xaxis\": {\"automargin\": true, \"gridcolor\": \"white\", \"linecolor\": \"white\", \"ticks\": \"\", \"title\": {\"standoff\": 15}, \"zerolinecolor\": \"white\", \"zerolinewidth\": 2}, \"yaxis\": {\"automargin\": true, \"gridcolor\": \"white\", \"linecolor\": \"white\", \"ticks\": \"\", \"title\": {\"standoff\": 15}, \"zerolinecolor\": \"white\", \"zerolinewidth\": 2}}}, \"title\": {\"font\": {\"color\": \"#4D5663\"}}, \"xaxis\": {\"gridcolor\": \"#E1E5ED\", \"showgrid\": true, \"tickfont\": {\"color\": \"#4D5663\"}, \"title\": {\"font\": {\"color\": \"#4D5663\"}, \"text\": \"\"}, \"zerolinecolor\": \"#E1E5ED\"}, \"yaxis\": {\"gridcolor\": \"#E1E5ED\", \"showgrid\": true, \"tickfont\": {\"color\": \"#4D5663\"}, \"title\": {\"font\": {\"color\": \"#4D5663\"}, \"text\": \"\"}, \"zerolinecolor\": \"#E1E5ED\"}},\n",
       "                        {\"showLink\": true, \"linkText\": \"Export to plot.ly\", \"plotlyServerURL\": \"https://plot.ly\", \"responsive\": true}\n",
       "                    ).then(function(){\n",
       "                            \n",
       "var gd = document.getElementById('4a354dd5-1fb4-41d4-b8e5-499d2dd2f2fd');\n",
       "var x = new MutationObserver(function (mutations, observer) {{\n",
       "        var display = window.getComputedStyle(gd).display;\n",
       "        if (!display || display === 'none') {{\n",
       "            console.log([gd, 'removed!']);\n",
       "            Plotly.purge(gd);\n",
       "            observer.disconnect();\n",
       "        }}\n",
       "}});\n",
       "\n",
       "// Listen for the removal of the full notebook cells\n",
       "var notebookContainer = gd.closest('#notebook-container');\n",
       "if (notebookContainer) {{\n",
       "    x.observe(notebookContainer, {childList: true});\n",
       "}}\n",
       "\n",
       "// Listen for the clearing of the current output cell\n",
       "var outputEl = gd.closest('.output');\n",
       "if (outputEl) {{\n",
       "    x.observe(outputEl, {childList: true});\n",
       "}}\n",
       "\n",
       "                        })\n",
       "                };\n",
       "                });\n",
       "            </script>\n",
       "        </div>"
      ]
     },
     "metadata": {},
     "output_type": "display_data"
    }
   ],
   "source": [
    "df3 = pd.DataFrame({'x':[1,2,3,4,5],'y':[10,20,30,20,10],'z':[5,4,3,2,1]})\n",
    "df3.iplot(kind='surface',colorscale='rdylbu')"
   ]
  },
  {
   "cell_type": "markdown",
   "metadata": {},
   "source": [
    "## Spread"
   ]
  },
  {
   "cell_type": "code",
   "execution_count": 18,
   "metadata": {},
   "outputs": [
    {
     "data": {
      "application/vnd.plotly.v1+json": {
       "config": {
        "linkText": "Export to plot.ly",
        "plotlyServerURL": "https://plot.ly",
        "showLink": true
       },
       "data": [
        {
         "line": {
          "color": "rgba(255, 153, 51, 1.0)",
          "dash": "solid",
          "shape": "linear",
          "width": 1.3
         },
         "mode": "lines",
         "name": "A",
         "text": "",
         "type": "scatter",
         "x": [
          0,
          1,
          2,
          3,
          4,
          5,
          6,
          7,
          8,
          9,
          10,
          11,
          12,
          13,
          14,
          15,
          16,
          17,
          18,
          19,
          20,
          21,
          22,
          23,
          24,
          25,
          26,
          27,
          28,
          29,
          30,
          31,
          32,
          33,
          34,
          35,
          36,
          37,
          38,
          39,
          40,
          41,
          42,
          43,
          44,
          45,
          46,
          47,
          48,
          49,
          50,
          51,
          52,
          53,
          54,
          55,
          56,
          57,
          58,
          59,
          60,
          61,
          62,
          63,
          64,
          65,
          66,
          67,
          68,
          69,
          70,
          71,
          72,
          73,
          74,
          75,
          76,
          77,
          78,
          79,
          80,
          81,
          82,
          83,
          84,
          85,
          86,
          87,
          88,
          89,
          90,
          91,
          92,
          93,
          94,
          95,
          96,
          97,
          98,
          99
         ],
         "y": [
          -0.05200064226874029,
          -0.8113159106118665,
          0.3254513160889677,
          2.0243719651519982,
          -0.6911553098570636,
          0.14711298464909714,
          -0.35157182034498624,
          0.9532879835105003,
          -0.8216704344288754,
          0.5175801753746321,
          0.41567356984435533,
          -1.0844866973884586,
          -0.9725846811504144,
          1.700149892346811,
          0.6279829967620165,
          -0.5123058776570327,
          -1.074696149080149,
          -0.09302038535197567,
          1.4751683628167978,
          -0.5773238782912412,
          -0.09364536193895204,
          0.2681233002905114,
          -0.08199555259223776,
          0.9869233120457995,
          -0.9880212646580928,
          -0.39813389302184454,
          0.8355498904749294,
          1.115790672079572,
          0.36267502782180355,
          1.1181862543468475,
          -0.4189076767146306,
          -1.2153237513520625,
          -0.015024636036437649,
          -1.5506822070192006,
          0.7532059219095608,
          0.18240660304253964,
          1.2455834496116378,
          -0.03574479357530669,
          1.2037655493754456,
          -1.2899520019302864,
          -0.8014563612286134,
          -1.0339031667320415,
          0.3236806753652299,
          1.7106993971064204,
          0.6337221256461304,
          -0.2264012497122301,
          0.24491822787195103,
          0.5793968204959391,
          -0.34421215526457355,
          -0.046221892173959805,
          -1.2834202820087908,
          -0.1668613538033284,
          0.3530568801885448,
          0.0709962577140452,
          1.2704092433144563,
          -0.6400890854430192,
          2.0218498444532718,
          -1.7029255316020437,
          -0.16160730377732366,
          -0.3324363184731455,
          1.1092756550592138,
          -2.944437862373772,
          -1.587029132621606,
          -0.9030179130414271,
          0.09540976105920948,
          -1.6095452818271105,
          0.008031270192345178,
          1.1400678957010764,
          0.1029859128666487,
          0.2981919450460108,
          -1.3883363125564128,
          -1.1114416335765926,
          0.2903191896259501,
          1.2576586424029736,
          -1.2635782258578823,
          -1.3584173862735214,
          0.4601351131538541,
          -1.22363477749503,
          -1.4816683242901991,
          0.09952494040979772,
          -0.9927180045443987,
          1.7831281471414724,
          -1.5125446989452476,
          -0.12862030833779978,
          -2.464692567289804,
          1.9359339222011969,
          0.5744016876350877,
          -0.764371866302306,
          -0.48132549368563415,
          0.8871383768027442,
          1.3143968176324412,
          -0.5844808311773532,
          1.0384195926025745,
          -0.4420780596397459,
          1.4657803745339457,
          -0.7100001138145122,
          -1.1579221829233695,
          0.17407486591736138,
          -0.3361105830791442,
          0.4809916958319887
         ]
        },
        {
         "line": {
          "color": "rgba(55, 128, 191, 1.0)",
          "dash": "solid",
          "shape": "linear",
          "width": 1.3
         },
         "mode": "lines",
         "name": "B",
         "text": "",
         "type": "scatter",
         "x": [
          0,
          1,
          2,
          3,
          4,
          5,
          6,
          7,
          8,
          9,
          10,
          11,
          12,
          13,
          14,
          15,
          16,
          17,
          18,
          19,
          20,
          21,
          22,
          23,
          24,
          25,
          26,
          27,
          28,
          29,
          30,
          31,
          32,
          33,
          34,
          35,
          36,
          37,
          38,
          39,
          40,
          41,
          42,
          43,
          44,
          45,
          46,
          47,
          48,
          49,
          50,
          51,
          52,
          53,
          54,
          55,
          56,
          57,
          58,
          59,
          60,
          61,
          62,
          63,
          64,
          65,
          66,
          67,
          68,
          69,
          70,
          71,
          72,
          73,
          74,
          75,
          76,
          77,
          78,
          79,
          80,
          81,
          82,
          83,
          84,
          85,
          86,
          87,
          88,
          89,
          90,
          91,
          92,
          93,
          94,
          95,
          96,
          97,
          98,
          99
         ],
         "y": [
          -0.3035309217997338,
          1.8115843850413655,
          -1.8792276036095135,
          1.143909537806382,
          0.0923541450056231,
          0.13177410792440244,
          -1.644887018775058,
          2.0831971657948625,
          1.599452683208107,
          -0.0069964248626790074,
          0.8243911969905283,
          0.5956007854062508,
          0.39862711624745445,
          -1.666634755718817,
          -0.4089336921506136,
          -0.16298439036927434,
          1.0479183949966526,
          -0.9165492282798984,
          -0.4892264761249731,
          0.5123066799262901,
          0.7584021541015817,
          -0.08593360496991281,
          -0.24021553116689526,
          2.5039169522158864,
          -1.512037975593897,
          0.49113801984285316,
          -0.31871938863922766,
          0.7128543675798462,
          -0.14479570326040525,
          0.5279038708585918,
          1.0794313887626623,
          1.7106227788566175,
          -0.530919857654775,
          1.2540574714983195,
          0.7413750828160827,
          0.18458536123716268,
          1.0624029825522627,
          0.742424688303108,
          1.645819200054811,
          -1.1308745123092925,
          0.48757750365959723,
          0.04891773652933975,
          -0.6083669341853393,
          -0.5558964652700791,
          2.179562344673998,
          0.6487864256900213,
          0.7046774107134081,
          -1.8275035997285698,
          -1.2561220814441574,
          0.8648079555785866,
          1.2398062390269777,
          1.5470834554212618,
          -0.4454825332388899,
          -1.4880689915828327,
          -0.738397634159601,
          -0.36732803174497464,
          -0.5219859018248537,
          -0.10793021508035824,
          1.6030720602940183,
          1.1981071665048801,
          -0.0009961029876620706,
          0.111212367996999,
          -0.7986756374835384,
          -0.3126649986611836,
          -0.5904948556513827,
          -1.3826204461674614,
          2.6788582132331387,
          0.7839573434679493,
          -0.047862984084776475,
          0.6889032871954877,
          0.39966616125392346,
          -0.43566971474227745,
          2.0861224961894766,
          -0.4776941244058906,
          -1.1511082972505302,
          -0.4710654454917627,
          -0.18175710734427944,
          -0.6855040312566344,
          -1.5412892891831538,
          0.8311464475440197,
          -0.818964281498889,
          1.037211685095319,
          1.117239715972962,
          -0.29232705347009696,
          0.9038496269295024,
          0.611628653407918,
          0.9367173662598217,
          -0.2715131674594367,
          -0.24274004412887631,
          0.12403688842619563,
          -0.5676803256100553,
          2.598349746359133,
          -0.7335625073991564,
          2.19935547566327,
          1.2247442665380743,
          -1.3895443215751322,
          -1.9959607836346613,
          -0.5055580229875679,
          0.08932547950890063,
          -1.1497354981510886
         ]
        },
        {
         "connectgaps": false,
         "fill": "tozeroy",
         "line": {
          "color": "green",
          "dash": "solid",
          "shape": "linear",
          "width": 0.5
         },
         "mode": "lines",
         "name": "Spread",
         "showlegend": false,
         "type": "scatter",
         "x": [
          0,
          1,
          2,
          3,
          4,
          5,
          6,
          7,
          8,
          9,
          10,
          11,
          12,
          13,
          14,
          15,
          16,
          17,
          18,
          19,
          20,
          21,
          22,
          23,
          24,
          25,
          26,
          27,
          28,
          29,
          30,
          31,
          32,
          33,
          34,
          35,
          36,
          37,
          38,
          39,
          40,
          41,
          42,
          43,
          44,
          45,
          46,
          47,
          48,
          49,
          50,
          51,
          52,
          53,
          54,
          55,
          56,
          57,
          58,
          59,
          60,
          61,
          62,
          63,
          64,
          65,
          66,
          67,
          68,
          69,
          70,
          71,
          72,
          73,
          74,
          75,
          76,
          77,
          78,
          79,
          80,
          81,
          82,
          83,
          84,
          85,
          86,
          87,
          88,
          89,
          90,
          91,
          92,
          93,
          94,
          95,
          96,
          97,
          98,
          99
         ],
         "xaxis": "x2",
         "y": [
          0.2515302795309935,
          "",
          2.2046789196984813,
          0.8804624273456163,
          "",
          0.015338876724694694,
          1.2933151984300717,
          "",
          "",
          0.5245766002373111,
          "",
          "",
          "",
          3.366784648065628,
          1.0369166889126302,
          "",
          "",
          0.8235288429279227,
          1.964394838941771,
          "",
          "",
          0.3540569052604242,
          0.1582199785746575,
          "",
          0.5240167109358043,
          "",
          1.154269279114157,
          0.40293630449972584,
          0.5074707310822089,
          0.5902823834882557,
          "",
          "",
          0.5158952216183373,
          "",
          0.011830839093478152,
          "",
          0.18318046705937507,
          "",
          "",
          "",
          "",
          "",
          0.9320476095505692,
          2.2665958623764997,
          "",
          "",
          "",
          2.406900420224509,
          0.9119099261795838,
          "",
          "",
          "",
          0.7985394134274347,
          1.559065249296878,
          2.0088068774740573,
          "",
          2.5438357462781256,
          "",
          "",
          "",
          1.110271758046876,
          "",
          "",
          "",
          0.6859046167105922,
          "",
          "",
          0.35611055223312704,
          0.15084889695142517,
          "",
          "",
          "",
          "",
          1.7353527668088642,
          "",
          "",
          0.6418922204981335,
          "",
          0.05962096489295465,
          "",
          "",
          0.7459164620461534,
          "",
          0.1637067451322972,
          "",
          1.3243052687932788,
          "",
          "",
          "",
          0.7631014883765486,
          1.8820771432424965,
          "",
          1.7719821000017308,
          "",
          0.24103610799587138,
          0.67954420776062,
          0.8380386007112919,
          0.6796328889049292,
          "",
          1.6307271939830772
         ],
         "yaxis": "y2"
        },
        {
         "connectgaps": false,
         "fill": "tozeroy",
         "line": {
          "color": "red",
          "dash": "solid",
          "shape": "linear",
          "width": 0.5
         },
         "mode": "lines",
         "name": "Spread",
         "showlegend": false,
         "type": "scatter",
         "x": [
          0,
          1,
          2,
          3,
          4,
          5,
          6,
          7,
          8,
          9,
          10,
          11,
          12,
          13,
          14,
          15,
          16,
          17,
          18,
          19,
          20,
          21,
          22,
          23,
          24,
          25,
          26,
          27,
          28,
          29,
          30,
          31,
          32,
          33,
          34,
          35,
          36,
          37,
          38,
          39,
          40,
          41,
          42,
          43,
          44,
          45,
          46,
          47,
          48,
          49,
          50,
          51,
          52,
          53,
          54,
          55,
          56,
          57,
          58,
          59,
          60,
          61,
          62,
          63,
          64,
          65,
          66,
          67,
          68,
          69,
          70,
          71,
          72,
          73,
          74,
          75,
          76,
          77,
          78,
          79,
          80,
          81,
          82,
          83,
          84,
          85,
          86,
          87,
          88,
          89,
          90,
          91,
          92,
          93,
          94,
          95,
          96,
          97,
          98,
          99
         ],
         "xaxis": "x2",
         "y": [
          "",
          -2.622900295653232,
          "",
          "",
          -0.7835094548626867,
          "",
          "",
          -1.1299091822843623,
          -2.4211231176369825,
          "",
          -0.408717627146173,
          -1.6800874827947094,
          -1.3712117973978688,
          "",
          "",
          -0.34932148728775836,
          -2.122614544076802,
          "",
          "",
          -1.0896305582175314,
          -0.8520475160405337,
          "",
          "",
          -1.516993640170087,
          "",
          -0.8892719128646978,
          "",
          "",
          "",
          "",
          -1.498339065477293,
          -2.9259465302086802,
          "",
          -2.80473967851752,
          "",
          -0.0021787581946230428,
          "",
          -0.7781694818784147,
          -0.44205365067936553,
          -0.15907748962099388,
          -1.2890338648882107,
          -1.0828209032613814,
          "",
          "",
          -1.5458402190278675,
          -0.8751876754022514,
          -0.459759182841457,
          "",
          "",
          -0.9110298477525464,
          -2.5232265210357685,
          -1.7139448092245901,
          "",
          "",
          "",
          -0.2727610536980446,
          "",
          -1.5949953165216855,
          -1.7646793640713418,
          -1.5305434849780255,
          "",
          -3.0556502303707713,
          -0.7883534951380675,
          -0.5903529143802435,
          "",
          -0.22692483565964916,
          -2.6708269430407934,
          "",
          "",
          -0.39071134214947684,
          -1.7880024738103362,
          -0.6757719188343152,
          -1.7958033065635266,
          "",
          -0.11246992860735205,
          -0.8873519407817587,
          "",
          -0.5381307462383956,
          "",
          -0.7316215071342219,
          -0.17375372304550973,
          "",
          -2.6297844149182095,
          "",
          -3.368542194219306,
          "",
          -0.362315678624734,
          -0.4928586988428693,
          -0.23858544955675784,
          "",
          "",
          -3.1828305775364862,
          "",
          -2.641433535303016,
          "",
          "",
          "",
          "",
          -0.42543606258804484,
          ""
         ],
         "yaxis": "y2"
        }
       ],
       "layout": {
        "hovermode": "x",
        "legend": {
         "bgcolor": "#F5F6F9",
         "font": {
          "color": "#4D5663"
         }
        },
        "paper_bgcolor": "#F5F6F9",
        "plot_bgcolor": "#F5F6F9",
        "template": {
         "data": {
          "bar": [
           {
            "error_x": {
             "color": "#2a3f5f"
            },
            "error_y": {
             "color": "#2a3f5f"
            },
            "marker": {
             "line": {
              "color": "#E5ECF6",
              "width": 0.5
             }
            },
            "type": "bar"
           }
          ],
          "barpolar": [
           {
            "marker": {
             "line": {
              "color": "#E5ECF6",
              "width": 0.5
             }
            },
            "type": "barpolar"
           }
          ],
          "carpet": [
           {
            "aaxis": {
             "endlinecolor": "#2a3f5f",
             "gridcolor": "white",
             "linecolor": "white",
             "minorgridcolor": "white",
             "startlinecolor": "#2a3f5f"
            },
            "baxis": {
             "endlinecolor": "#2a3f5f",
             "gridcolor": "white",
             "linecolor": "white",
             "minorgridcolor": "white",
             "startlinecolor": "#2a3f5f"
            },
            "type": "carpet"
           }
          ],
          "choropleth": [
           {
            "colorbar": {
             "outlinewidth": 0,
             "ticks": ""
            },
            "type": "choropleth"
           }
          ],
          "contour": [
           {
            "colorbar": {
             "outlinewidth": 0,
             "ticks": ""
            },
            "colorscale": [
             [
              0,
              "#0d0887"
             ],
             [
              0.1111111111111111,
              "#46039f"
             ],
             [
              0.2222222222222222,
              "#7201a8"
             ],
             [
              0.3333333333333333,
              "#9c179e"
             ],
             [
              0.4444444444444444,
              "#bd3786"
             ],
             [
              0.5555555555555556,
              "#d8576b"
             ],
             [
              0.6666666666666666,
              "#ed7953"
             ],
             [
              0.7777777777777778,
              "#fb9f3a"
             ],
             [
              0.8888888888888888,
              "#fdca26"
             ],
             [
              1,
              "#f0f921"
             ]
            ],
            "type": "contour"
           }
          ],
          "contourcarpet": [
           {
            "colorbar": {
             "outlinewidth": 0,
             "ticks": ""
            },
            "type": "contourcarpet"
           }
          ],
          "heatmap": [
           {
            "colorbar": {
             "outlinewidth": 0,
             "ticks": ""
            },
            "colorscale": [
             [
              0,
              "#0d0887"
             ],
             [
              0.1111111111111111,
              "#46039f"
             ],
             [
              0.2222222222222222,
              "#7201a8"
             ],
             [
              0.3333333333333333,
              "#9c179e"
             ],
             [
              0.4444444444444444,
              "#bd3786"
             ],
             [
              0.5555555555555556,
              "#d8576b"
             ],
             [
              0.6666666666666666,
              "#ed7953"
             ],
             [
              0.7777777777777778,
              "#fb9f3a"
             ],
             [
              0.8888888888888888,
              "#fdca26"
             ],
             [
              1,
              "#f0f921"
             ]
            ],
            "type": "heatmap"
           }
          ],
          "heatmapgl": [
           {
            "colorbar": {
             "outlinewidth": 0,
             "ticks": ""
            },
            "colorscale": [
             [
              0,
              "#0d0887"
             ],
             [
              0.1111111111111111,
              "#46039f"
             ],
             [
              0.2222222222222222,
              "#7201a8"
             ],
             [
              0.3333333333333333,
              "#9c179e"
             ],
             [
              0.4444444444444444,
              "#bd3786"
             ],
             [
              0.5555555555555556,
              "#d8576b"
             ],
             [
              0.6666666666666666,
              "#ed7953"
             ],
             [
              0.7777777777777778,
              "#fb9f3a"
             ],
             [
              0.8888888888888888,
              "#fdca26"
             ],
             [
              1,
              "#f0f921"
             ]
            ],
            "type": "heatmapgl"
           }
          ],
          "histogram": [
           {
            "marker": {
             "colorbar": {
              "outlinewidth": 0,
              "ticks": ""
             }
            },
            "type": "histogram"
           }
          ],
          "histogram2d": [
           {
            "colorbar": {
             "outlinewidth": 0,
             "ticks": ""
            },
            "colorscale": [
             [
              0,
              "#0d0887"
             ],
             [
              0.1111111111111111,
              "#46039f"
             ],
             [
              0.2222222222222222,
              "#7201a8"
             ],
             [
              0.3333333333333333,
              "#9c179e"
             ],
             [
              0.4444444444444444,
              "#bd3786"
             ],
             [
              0.5555555555555556,
              "#d8576b"
             ],
             [
              0.6666666666666666,
              "#ed7953"
             ],
             [
              0.7777777777777778,
              "#fb9f3a"
             ],
             [
              0.8888888888888888,
              "#fdca26"
             ],
             [
              1,
              "#f0f921"
             ]
            ],
            "type": "histogram2d"
           }
          ],
          "histogram2dcontour": [
           {
            "colorbar": {
             "outlinewidth": 0,
             "ticks": ""
            },
            "colorscale": [
             [
              0,
              "#0d0887"
             ],
             [
              0.1111111111111111,
              "#46039f"
             ],
             [
              0.2222222222222222,
              "#7201a8"
             ],
             [
              0.3333333333333333,
              "#9c179e"
             ],
             [
              0.4444444444444444,
              "#bd3786"
             ],
             [
              0.5555555555555556,
              "#d8576b"
             ],
             [
              0.6666666666666666,
              "#ed7953"
             ],
             [
              0.7777777777777778,
              "#fb9f3a"
             ],
             [
              0.8888888888888888,
              "#fdca26"
             ],
             [
              1,
              "#f0f921"
             ]
            ],
            "type": "histogram2dcontour"
           }
          ],
          "mesh3d": [
           {
            "colorbar": {
             "outlinewidth": 0,
             "ticks": ""
            },
            "type": "mesh3d"
           }
          ],
          "parcoords": [
           {
            "line": {
             "colorbar": {
              "outlinewidth": 0,
              "ticks": ""
             }
            },
            "type": "parcoords"
           }
          ],
          "pie": [
           {
            "automargin": true,
            "type": "pie"
           }
          ],
          "scatter": [
           {
            "marker": {
             "colorbar": {
              "outlinewidth": 0,
              "ticks": ""
             }
            },
            "type": "scatter"
           }
          ],
          "scatter3d": [
           {
            "line": {
             "colorbar": {
              "outlinewidth": 0,
              "ticks": ""
             }
            },
            "marker": {
             "colorbar": {
              "outlinewidth": 0,
              "ticks": ""
             }
            },
            "type": "scatter3d"
           }
          ],
          "scattercarpet": [
           {
            "marker": {
             "colorbar": {
              "outlinewidth": 0,
              "ticks": ""
             }
            },
            "type": "scattercarpet"
           }
          ],
          "scattergeo": [
           {
            "marker": {
             "colorbar": {
              "outlinewidth": 0,
              "ticks": ""
             }
            },
            "type": "scattergeo"
           }
          ],
          "scattergl": [
           {
            "marker": {
             "colorbar": {
              "outlinewidth": 0,
              "ticks": ""
             }
            },
            "type": "scattergl"
           }
          ],
          "scattermapbox": [
           {
            "marker": {
             "colorbar": {
              "outlinewidth": 0,
              "ticks": ""
             }
            },
            "type": "scattermapbox"
           }
          ],
          "scatterpolar": [
           {
            "marker": {
             "colorbar": {
              "outlinewidth": 0,
              "ticks": ""
             }
            },
            "type": "scatterpolar"
           }
          ],
          "scatterpolargl": [
           {
            "marker": {
             "colorbar": {
              "outlinewidth": 0,
              "ticks": ""
             }
            },
            "type": "scatterpolargl"
           }
          ],
          "scatterternary": [
           {
            "marker": {
             "colorbar": {
              "outlinewidth": 0,
              "ticks": ""
             }
            },
            "type": "scatterternary"
           }
          ],
          "surface": [
           {
            "colorbar": {
             "outlinewidth": 0,
             "ticks": ""
            },
            "colorscale": [
             [
              0,
              "#0d0887"
             ],
             [
              0.1111111111111111,
              "#46039f"
             ],
             [
              0.2222222222222222,
              "#7201a8"
             ],
             [
              0.3333333333333333,
              "#9c179e"
             ],
             [
              0.4444444444444444,
              "#bd3786"
             ],
             [
              0.5555555555555556,
              "#d8576b"
             ],
             [
              0.6666666666666666,
              "#ed7953"
             ],
             [
              0.7777777777777778,
              "#fb9f3a"
             ],
             [
              0.8888888888888888,
              "#fdca26"
             ],
             [
              1,
              "#f0f921"
             ]
            ],
            "type": "surface"
           }
          ],
          "table": [
           {
            "cells": {
             "fill": {
              "color": "#EBF0F8"
             },
             "line": {
              "color": "white"
             }
            },
            "header": {
             "fill": {
              "color": "#C8D4E3"
             },
             "line": {
              "color": "white"
             }
            },
            "type": "table"
           }
          ]
         },
         "layout": {
          "annotationdefaults": {
           "arrowcolor": "#2a3f5f",
           "arrowhead": 0,
           "arrowwidth": 1
          },
          "coloraxis": {
           "colorbar": {
            "outlinewidth": 0,
            "ticks": ""
           }
          },
          "colorscale": {
           "diverging": [
            [
             0,
             "#8e0152"
            ],
            [
             0.1,
             "#c51b7d"
            ],
            [
             0.2,
             "#de77ae"
            ],
            [
             0.3,
             "#f1b6da"
            ],
            [
             0.4,
             "#fde0ef"
            ],
            [
             0.5,
             "#f7f7f7"
            ],
            [
             0.6,
             "#e6f5d0"
            ],
            [
             0.7,
             "#b8e186"
            ],
            [
             0.8,
             "#7fbc41"
            ],
            [
             0.9,
             "#4d9221"
            ],
            [
             1,
             "#276419"
            ]
           ],
           "sequential": [
            [
             0,
             "#0d0887"
            ],
            [
             0.1111111111111111,
             "#46039f"
            ],
            [
             0.2222222222222222,
             "#7201a8"
            ],
            [
             0.3333333333333333,
             "#9c179e"
            ],
            [
             0.4444444444444444,
             "#bd3786"
            ],
            [
             0.5555555555555556,
             "#d8576b"
            ],
            [
             0.6666666666666666,
             "#ed7953"
            ],
            [
             0.7777777777777778,
             "#fb9f3a"
            ],
            [
             0.8888888888888888,
             "#fdca26"
            ],
            [
             1,
             "#f0f921"
            ]
           ],
           "sequentialminus": [
            [
             0,
             "#0d0887"
            ],
            [
             0.1111111111111111,
             "#46039f"
            ],
            [
             0.2222222222222222,
             "#7201a8"
            ],
            [
             0.3333333333333333,
             "#9c179e"
            ],
            [
             0.4444444444444444,
             "#bd3786"
            ],
            [
             0.5555555555555556,
             "#d8576b"
            ],
            [
             0.6666666666666666,
             "#ed7953"
            ],
            [
             0.7777777777777778,
             "#fb9f3a"
            ],
            [
             0.8888888888888888,
             "#fdca26"
            ],
            [
             1,
             "#f0f921"
            ]
           ]
          },
          "colorway": [
           "#636efa",
           "#EF553B",
           "#00cc96",
           "#ab63fa",
           "#FFA15A",
           "#19d3f3",
           "#FF6692",
           "#B6E880",
           "#FF97FF",
           "#FECB52"
          ],
          "font": {
           "color": "#2a3f5f"
          },
          "geo": {
           "bgcolor": "white",
           "lakecolor": "white",
           "landcolor": "#E5ECF6",
           "showlakes": true,
           "showland": true,
           "subunitcolor": "white"
          },
          "hoverlabel": {
           "align": "left"
          },
          "hovermode": "closest",
          "mapbox": {
           "style": "light"
          },
          "paper_bgcolor": "white",
          "plot_bgcolor": "#E5ECF6",
          "polar": {
           "angularaxis": {
            "gridcolor": "white",
            "linecolor": "white",
            "ticks": ""
           },
           "bgcolor": "#E5ECF6",
           "radialaxis": {
            "gridcolor": "white",
            "linecolor": "white",
            "ticks": ""
           }
          },
          "scene": {
           "xaxis": {
            "backgroundcolor": "#E5ECF6",
            "gridcolor": "white",
            "gridwidth": 2,
            "linecolor": "white",
            "showbackground": true,
            "ticks": "",
            "zerolinecolor": "white"
           },
           "yaxis": {
            "backgroundcolor": "#E5ECF6",
            "gridcolor": "white",
            "gridwidth": 2,
            "linecolor": "white",
            "showbackground": true,
            "ticks": "",
            "zerolinecolor": "white"
           },
           "zaxis": {
            "backgroundcolor": "#E5ECF6",
            "gridcolor": "white",
            "gridwidth": 2,
            "linecolor": "white",
            "showbackground": true,
            "ticks": "",
            "zerolinecolor": "white"
           }
          },
          "shapedefaults": {
           "line": {
            "color": "#2a3f5f"
           }
          },
          "ternary": {
           "aaxis": {
            "gridcolor": "white",
            "linecolor": "white",
            "ticks": ""
           },
           "baxis": {
            "gridcolor": "white",
            "linecolor": "white",
            "ticks": ""
           },
           "bgcolor": "#E5ECF6",
           "caxis": {
            "gridcolor": "white",
            "linecolor": "white",
            "ticks": ""
           }
          },
          "title": {
           "x": 0.05
          },
          "xaxis": {
           "automargin": true,
           "gridcolor": "white",
           "linecolor": "white",
           "ticks": "",
           "title": {
            "standoff": 15
           },
           "zerolinecolor": "white",
           "zerolinewidth": 2
          },
          "yaxis": {
           "automargin": true,
           "gridcolor": "white",
           "linecolor": "white",
           "ticks": "",
           "title": {
            "standoff": 15
           },
           "zerolinecolor": "white",
           "zerolinewidth": 2
          }
         }
        },
        "title": {
         "font": {
          "color": "#4D5663"
         }
        },
        "xaxis": {
         "gridcolor": "#E1E5ED",
         "showgrid": true,
         "tickfont": {
          "color": "#4D5663"
         },
         "title": {
          "font": {
           "color": "#4D5663"
          },
          "text": ""
         },
         "zerolinecolor": "#E1E5ED"
        },
        "xaxis2": {
         "anchor": "y2",
         "gridcolor": "#E1E5ED",
         "showgrid": true,
         "showticklabels": false,
         "tickfont": {
          "color": "#4D5663"
         },
         "title": {
          "font": {
           "color": "#4D5663"
          },
          "text": ""
         },
         "zerolinecolor": "#E1E5ED"
        },
        "yaxis": {
         "domain": [
          0.3,
          1
         ],
         "gridcolor": "#E1E5ED",
         "showgrid": true,
         "tickfont": {
          "color": "#4D5663"
         },
         "title": {
          "font": {
           "color": "#4D5663"
          },
          "text": ""
         },
         "zerolinecolor": "#E1E5ED"
        },
        "yaxis2": {
         "domain": [
          0,
          0.25
         ],
         "gridcolor": "#E1E5ED",
         "showgrid": true,
         "tickfont": {
          "color": "#4D5663"
         },
         "title": {
          "font": {
           "color": "#4D5663"
          },
          "text": "Spread"
         },
         "zerolinecolor": "#E1E5ED"
        }
       }
      },
      "text/html": [
       "<div>\n",
       "        \n",
       "        \n",
       "            <div id=\"133e476f-4fce-4633-85a6-9b61f0a90bf5\" class=\"plotly-graph-div\" style=\"height:525px; width:100%;\"></div>\n",
       "            <script type=\"text/javascript\">\n",
       "                require([\"plotly\"], function(Plotly) {\n",
       "                    window.PLOTLYENV=window.PLOTLYENV || {};\n",
       "                    window.PLOTLYENV.BASE_URL='https://plot.ly';\n",
       "                    \n",
       "                if (document.getElementById(\"133e476f-4fce-4633-85a6-9b61f0a90bf5\")) {\n",
       "                    Plotly.newPlot(\n",
       "                        '133e476f-4fce-4633-85a6-9b61f0a90bf5',\n",
       "                        [{\"line\": {\"color\": \"rgba(255, 153, 51, 1.0)\", \"dash\": \"solid\", \"shape\": \"linear\", \"width\": 1.3}, \"mode\": \"lines\", \"name\": \"A\", \"text\": \"\", \"type\": \"scatter\", \"x\": [0, 1, 2, 3, 4, 5, 6, 7, 8, 9, 10, 11, 12, 13, 14, 15, 16, 17, 18, 19, 20, 21, 22, 23, 24, 25, 26, 27, 28, 29, 30, 31, 32, 33, 34, 35, 36, 37, 38, 39, 40, 41, 42, 43, 44, 45, 46, 47, 48, 49, 50, 51, 52, 53, 54, 55, 56, 57, 58, 59, 60, 61, 62, 63, 64, 65, 66, 67, 68, 69, 70, 71, 72, 73, 74, 75, 76, 77, 78, 79, 80, 81, 82, 83, 84, 85, 86, 87, 88, 89, 90, 91, 92, 93, 94, 95, 96, 97, 98, 99], \"y\": [-0.05200064226874029, -0.8113159106118665, 0.3254513160889677, 2.0243719651519982, -0.6911553098570636, 0.14711298464909714, -0.35157182034498624, 0.9532879835105003, -0.8216704344288754, 0.5175801753746321, 0.41567356984435533, -1.0844866973884586, -0.9725846811504144, 1.700149892346811, 0.6279829967620165, -0.5123058776570327, -1.074696149080149, -0.09302038535197567, 1.4751683628167978, -0.5773238782912412, -0.09364536193895204, 0.2681233002905114, -0.08199555259223776, 0.9869233120457995, -0.9880212646580928, -0.39813389302184454, 0.8355498904749294, 1.115790672079572, 0.36267502782180355, 1.1181862543468475, -0.4189076767146306, -1.2153237513520625, -0.015024636036437649, -1.5506822070192006, 0.7532059219095608, 0.18240660304253964, 1.2455834496116378, -0.03574479357530669, 1.2037655493754456, -1.2899520019302864, -0.8014563612286134, -1.0339031667320415, 0.3236806753652299, 1.7106993971064204, 0.6337221256461304, -0.2264012497122301, 0.24491822787195103, 0.5793968204959391, -0.34421215526457355, -0.046221892173959805, -1.2834202820087908, -0.1668613538033284, 0.3530568801885448, 0.0709962577140452, 1.2704092433144563, -0.6400890854430192, 2.0218498444532718, -1.7029255316020437, -0.16160730377732366, -0.3324363184731455, 1.1092756550592138, -2.944437862373772, -1.587029132621606, -0.9030179130414271, 0.09540976105920948, -1.6095452818271105, 0.008031270192345178, 1.1400678957010764, 0.1029859128666487, 0.2981919450460108, -1.3883363125564128, -1.1114416335765926, 0.2903191896259501, 1.2576586424029736, -1.2635782258578823, -1.3584173862735214, 0.4601351131538541, -1.22363477749503, -1.4816683242901991, 0.09952494040979772, -0.9927180045443987, 1.7831281471414724, -1.5125446989452476, -0.12862030833779978, -2.464692567289804, 1.9359339222011969, 0.5744016876350877, -0.764371866302306, -0.48132549368563415, 0.8871383768027442, 1.3143968176324412, -0.5844808311773532, 1.0384195926025745, -0.4420780596397459, 1.4657803745339457, -0.7100001138145122, -1.1579221829233695, 0.17407486591736138, -0.3361105830791442, 0.4809916958319887]}, {\"line\": {\"color\": \"rgba(55, 128, 191, 1.0)\", \"dash\": \"solid\", \"shape\": \"linear\", \"width\": 1.3}, \"mode\": \"lines\", \"name\": \"B\", \"text\": \"\", \"type\": \"scatter\", \"x\": [0, 1, 2, 3, 4, 5, 6, 7, 8, 9, 10, 11, 12, 13, 14, 15, 16, 17, 18, 19, 20, 21, 22, 23, 24, 25, 26, 27, 28, 29, 30, 31, 32, 33, 34, 35, 36, 37, 38, 39, 40, 41, 42, 43, 44, 45, 46, 47, 48, 49, 50, 51, 52, 53, 54, 55, 56, 57, 58, 59, 60, 61, 62, 63, 64, 65, 66, 67, 68, 69, 70, 71, 72, 73, 74, 75, 76, 77, 78, 79, 80, 81, 82, 83, 84, 85, 86, 87, 88, 89, 90, 91, 92, 93, 94, 95, 96, 97, 98, 99], \"y\": [-0.3035309217997338, 1.8115843850413655, -1.8792276036095135, 1.143909537806382, 0.0923541450056231, 0.13177410792440244, -1.644887018775058, 2.0831971657948625, 1.599452683208107, -0.0069964248626790074, 0.8243911969905283, 0.5956007854062508, 0.39862711624745445, -1.666634755718817, -0.4089336921506136, -0.16298439036927434, 1.0479183949966526, -0.9165492282798984, -0.4892264761249731, 0.5123066799262901, 0.7584021541015817, -0.08593360496991281, -0.24021553116689526, 2.5039169522158864, -1.512037975593897, 0.49113801984285316, -0.31871938863922766, 0.7128543675798462, -0.14479570326040525, 0.5279038708585918, 1.0794313887626623, 1.7106227788566175, -0.530919857654775, 1.2540574714983195, 0.7413750828160827, 0.18458536123716268, 1.0624029825522627, 0.742424688303108, 1.645819200054811, -1.1308745123092925, 0.48757750365959723, 0.04891773652933975, -0.6083669341853393, -0.5558964652700791, 2.179562344673998, 0.6487864256900213, 0.7046774107134081, -1.8275035997285698, -1.2561220814441574, 0.8648079555785866, 1.2398062390269777, 1.5470834554212618, -0.4454825332388899, -1.4880689915828327, -0.738397634159601, -0.36732803174497464, -0.5219859018248537, -0.10793021508035824, 1.6030720602940183, 1.1981071665048801, -0.0009961029876620706, 0.111212367996999, -0.7986756374835384, -0.3126649986611836, -0.5904948556513827, -1.3826204461674614, 2.6788582132331387, 0.7839573434679493, -0.047862984084776475, 0.6889032871954877, 0.39966616125392346, -0.43566971474227745, 2.0861224961894766, -0.4776941244058906, -1.1511082972505302, -0.4710654454917627, -0.18175710734427944, -0.6855040312566344, -1.5412892891831538, 0.8311464475440197, -0.818964281498889, 1.037211685095319, 1.117239715972962, -0.29232705347009696, 0.9038496269295024, 0.611628653407918, 0.9367173662598217, -0.2715131674594367, -0.24274004412887631, 0.12403688842619563, -0.5676803256100553, 2.598349746359133, -0.7335625073991564, 2.19935547566327, 1.2247442665380743, -1.3895443215751322, -1.9959607836346613, -0.5055580229875679, 0.08932547950890063, -1.1497354981510886]}, {\"connectgaps\": false, \"fill\": \"tozeroy\", \"line\": {\"color\": \"green\", \"dash\": \"solid\", \"shape\": \"linear\", \"width\": 0.5}, \"mode\": \"lines\", \"name\": \"Spread\", \"showlegend\": false, \"type\": \"scatter\", \"x\": [0, 1, 2, 3, 4, 5, 6, 7, 8, 9, 10, 11, 12, 13, 14, 15, 16, 17, 18, 19, 20, 21, 22, 23, 24, 25, 26, 27, 28, 29, 30, 31, 32, 33, 34, 35, 36, 37, 38, 39, 40, 41, 42, 43, 44, 45, 46, 47, 48, 49, 50, 51, 52, 53, 54, 55, 56, 57, 58, 59, 60, 61, 62, 63, 64, 65, 66, 67, 68, 69, 70, 71, 72, 73, 74, 75, 76, 77, 78, 79, 80, 81, 82, 83, 84, 85, 86, 87, 88, 89, 90, 91, 92, 93, 94, 95, 96, 97, 98, 99], \"xaxis\": \"x2\", \"y\": [0.2515302795309935, \"\", 2.2046789196984813, 0.8804624273456163, \"\", 0.015338876724694694, 1.2933151984300717, \"\", \"\", 0.5245766002373111, \"\", \"\", \"\", 3.366784648065628, 1.0369166889126302, \"\", \"\", 0.8235288429279227, 1.964394838941771, \"\", \"\", 0.3540569052604242, 0.1582199785746575, \"\", 0.5240167109358043, \"\", 1.154269279114157, 0.40293630449972584, 0.5074707310822089, 0.5902823834882557, \"\", \"\", 0.5158952216183373, \"\", 0.011830839093478152, \"\", 0.18318046705937507, \"\", \"\", \"\", \"\", \"\", 0.9320476095505692, 2.2665958623764997, \"\", \"\", \"\", 2.406900420224509, 0.9119099261795838, \"\", \"\", \"\", 0.7985394134274347, 1.559065249296878, 2.0088068774740573, \"\", 2.5438357462781256, \"\", \"\", \"\", 1.110271758046876, \"\", \"\", \"\", 0.6859046167105922, \"\", \"\", 0.35611055223312704, 0.15084889695142517, \"\", \"\", \"\", \"\", 1.7353527668088642, \"\", \"\", 0.6418922204981335, \"\", 0.05962096489295465, \"\", \"\", 0.7459164620461534, \"\", 0.1637067451322972, \"\", 1.3243052687932788, \"\", \"\", \"\", 0.7631014883765486, 1.8820771432424965, \"\", 1.7719821000017308, \"\", 0.24103610799587138, 0.67954420776062, 0.8380386007112919, 0.6796328889049292, \"\", 1.6307271939830772], \"yaxis\": \"y2\"}, {\"connectgaps\": false, \"fill\": \"tozeroy\", \"line\": {\"color\": \"red\", \"dash\": \"solid\", \"shape\": \"linear\", \"width\": 0.5}, \"mode\": \"lines\", \"name\": \"Spread\", \"showlegend\": false, \"type\": \"scatter\", \"x\": [0, 1, 2, 3, 4, 5, 6, 7, 8, 9, 10, 11, 12, 13, 14, 15, 16, 17, 18, 19, 20, 21, 22, 23, 24, 25, 26, 27, 28, 29, 30, 31, 32, 33, 34, 35, 36, 37, 38, 39, 40, 41, 42, 43, 44, 45, 46, 47, 48, 49, 50, 51, 52, 53, 54, 55, 56, 57, 58, 59, 60, 61, 62, 63, 64, 65, 66, 67, 68, 69, 70, 71, 72, 73, 74, 75, 76, 77, 78, 79, 80, 81, 82, 83, 84, 85, 86, 87, 88, 89, 90, 91, 92, 93, 94, 95, 96, 97, 98, 99], \"xaxis\": \"x2\", \"y\": [\"\", -2.622900295653232, \"\", \"\", -0.7835094548626867, \"\", \"\", -1.1299091822843623, -2.4211231176369825, \"\", -0.408717627146173, -1.6800874827947094, -1.3712117973978688, \"\", \"\", -0.34932148728775836, -2.122614544076802, \"\", \"\", -1.0896305582175314, -0.8520475160405337, \"\", \"\", -1.516993640170087, \"\", -0.8892719128646978, \"\", \"\", \"\", \"\", -1.498339065477293, -2.9259465302086802, \"\", -2.80473967851752, \"\", -0.0021787581946230428, \"\", -0.7781694818784147, -0.44205365067936553, -0.15907748962099388, -1.2890338648882107, -1.0828209032613814, \"\", \"\", -1.5458402190278675, -0.8751876754022514, -0.459759182841457, \"\", \"\", -0.9110298477525464, -2.5232265210357685, -1.7139448092245901, \"\", \"\", \"\", -0.2727610536980446, \"\", -1.5949953165216855, -1.7646793640713418, -1.5305434849780255, \"\", -3.0556502303707713, -0.7883534951380675, -0.5903529143802435, \"\", -0.22692483565964916, -2.6708269430407934, \"\", \"\", -0.39071134214947684, -1.7880024738103362, -0.6757719188343152, -1.7958033065635266, \"\", -0.11246992860735205, -0.8873519407817587, \"\", -0.5381307462383956, \"\", -0.7316215071342219, -0.17375372304550973, \"\", -2.6297844149182095, \"\", -3.368542194219306, \"\", -0.362315678624734, -0.4928586988428693, -0.23858544955675784, \"\", \"\", -3.1828305775364862, \"\", -2.641433535303016, \"\", \"\", \"\", \"\", -0.42543606258804484, \"\"], \"yaxis\": \"y2\"}],\n",
       "                        {\"hovermode\": \"x\", \"legend\": {\"bgcolor\": \"#F5F6F9\", \"font\": {\"color\": \"#4D5663\"}}, \"paper_bgcolor\": \"#F5F6F9\", \"plot_bgcolor\": \"#F5F6F9\", \"template\": {\"data\": {\"bar\": [{\"error_x\": {\"color\": \"#2a3f5f\"}, \"error_y\": {\"color\": \"#2a3f5f\"}, \"marker\": {\"line\": {\"color\": \"#E5ECF6\", \"width\": 0.5}}, \"type\": \"bar\"}], \"barpolar\": [{\"marker\": {\"line\": {\"color\": \"#E5ECF6\", \"width\": 0.5}}, \"type\": \"barpolar\"}], \"carpet\": [{\"aaxis\": {\"endlinecolor\": \"#2a3f5f\", \"gridcolor\": \"white\", \"linecolor\": \"white\", \"minorgridcolor\": \"white\", \"startlinecolor\": \"#2a3f5f\"}, \"baxis\": {\"endlinecolor\": \"#2a3f5f\", \"gridcolor\": \"white\", \"linecolor\": \"white\", \"minorgridcolor\": \"white\", \"startlinecolor\": \"#2a3f5f\"}, \"type\": \"carpet\"}], \"choropleth\": [{\"colorbar\": {\"outlinewidth\": 0, \"ticks\": \"\"}, \"type\": \"choropleth\"}], \"contour\": [{\"colorbar\": {\"outlinewidth\": 0, \"ticks\": \"\"}, \"colorscale\": [[0.0, \"#0d0887\"], [0.1111111111111111, \"#46039f\"], [0.2222222222222222, \"#7201a8\"], [0.3333333333333333, \"#9c179e\"], [0.4444444444444444, \"#bd3786\"], [0.5555555555555556, \"#d8576b\"], [0.6666666666666666, \"#ed7953\"], [0.7777777777777778, \"#fb9f3a\"], [0.8888888888888888, \"#fdca26\"], [1.0, \"#f0f921\"]], \"type\": \"contour\"}], \"contourcarpet\": [{\"colorbar\": {\"outlinewidth\": 0, \"ticks\": \"\"}, \"type\": \"contourcarpet\"}], \"heatmap\": [{\"colorbar\": {\"outlinewidth\": 0, \"ticks\": \"\"}, \"colorscale\": [[0.0, \"#0d0887\"], [0.1111111111111111, \"#46039f\"], [0.2222222222222222, \"#7201a8\"], [0.3333333333333333, \"#9c179e\"], [0.4444444444444444, \"#bd3786\"], [0.5555555555555556, \"#d8576b\"], [0.6666666666666666, \"#ed7953\"], [0.7777777777777778, \"#fb9f3a\"], [0.8888888888888888, \"#fdca26\"], [1.0, \"#f0f921\"]], \"type\": \"heatmap\"}], \"heatmapgl\": [{\"colorbar\": {\"outlinewidth\": 0, \"ticks\": \"\"}, \"colorscale\": [[0.0, \"#0d0887\"], [0.1111111111111111, \"#46039f\"], [0.2222222222222222, \"#7201a8\"], [0.3333333333333333, \"#9c179e\"], [0.4444444444444444, \"#bd3786\"], [0.5555555555555556, \"#d8576b\"], [0.6666666666666666, \"#ed7953\"], [0.7777777777777778, \"#fb9f3a\"], [0.8888888888888888, \"#fdca26\"], [1.0, \"#f0f921\"]], \"type\": \"heatmapgl\"}], \"histogram\": [{\"marker\": {\"colorbar\": {\"outlinewidth\": 0, \"ticks\": \"\"}}, \"type\": \"histogram\"}], \"histogram2d\": [{\"colorbar\": {\"outlinewidth\": 0, \"ticks\": \"\"}, \"colorscale\": [[0.0, \"#0d0887\"], [0.1111111111111111, \"#46039f\"], [0.2222222222222222, \"#7201a8\"], [0.3333333333333333, \"#9c179e\"], [0.4444444444444444, \"#bd3786\"], [0.5555555555555556, \"#d8576b\"], [0.6666666666666666, \"#ed7953\"], [0.7777777777777778, \"#fb9f3a\"], [0.8888888888888888, \"#fdca26\"], [1.0, \"#f0f921\"]], \"type\": \"histogram2d\"}], \"histogram2dcontour\": [{\"colorbar\": {\"outlinewidth\": 0, \"ticks\": \"\"}, \"colorscale\": [[0.0, \"#0d0887\"], [0.1111111111111111, \"#46039f\"], [0.2222222222222222, \"#7201a8\"], [0.3333333333333333, \"#9c179e\"], [0.4444444444444444, \"#bd3786\"], [0.5555555555555556, \"#d8576b\"], [0.6666666666666666, \"#ed7953\"], [0.7777777777777778, \"#fb9f3a\"], [0.8888888888888888, \"#fdca26\"], [1.0, \"#f0f921\"]], \"type\": \"histogram2dcontour\"}], \"mesh3d\": [{\"colorbar\": {\"outlinewidth\": 0, \"ticks\": \"\"}, \"type\": \"mesh3d\"}], \"parcoords\": [{\"line\": {\"colorbar\": {\"outlinewidth\": 0, \"ticks\": \"\"}}, \"type\": \"parcoords\"}], \"pie\": [{\"automargin\": true, \"type\": \"pie\"}], \"scatter\": [{\"marker\": {\"colorbar\": {\"outlinewidth\": 0, \"ticks\": \"\"}}, \"type\": \"scatter\"}], \"scatter3d\": [{\"line\": {\"colorbar\": {\"outlinewidth\": 0, \"ticks\": \"\"}}, \"marker\": {\"colorbar\": {\"outlinewidth\": 0, \"ticks\": \"\"}}, \"type\": \"scatter3d\"}], \"scattercarpet\": [{\"marker\": {\"colorbar\": {\"outlinewidth\": 0, \"ticks\": \"\"}}, \"type\": \"scattercarpet\"}], \"scattergeo\": [{\"marker\": {\"colorbar\": {\"outlinewidth\": 0, \"ticks\": \"\"}}, \"type\": \"scattergeo\"}], \"scattergl\": [{\"marker\": {\"colorbar\": {\"outlinewidth\": 0, \"ticks\": \"\"}}, \"type\": \"scattergl\"}], \"scattermapbox\": [{\"marker\": {\"colorbar\": {\"outlinewidth\": 0, \"ticks\": \"\"}}, \"type\": \"scattermapbox\"}], \"scatterpolar\": [{\"marker\": {\"colorbar\": {\"outlinewidth\": 0, \"ticks\": \"\"}}, \"type\": \"scatterpolar\"}], \"scatterpolargl\": [{\"marker\": {\"colorbar\": {\"outlinewidth\": 0, \"ticks\": \"\"}}, \"type\": \"scatterpolargl\"}], \"scatterternary\": [{\"marker\": {\"colorbar\": {\"outlinewidth\": 0, \"ticks\": \"\"}}, \"type\": \"scatterternary\"}], \"surface\": [{\"colorbar\": {\"outlinewidth\": 0, \"ticks\": \"\"}, \"colorscale\": [[0.0, \"#0d0887\"], [0.1111111111111111, \"#46039f\"], [0.2222222222222222, \"#7201a8\"], [0.3333333333333333, \"#9c179e\"], [0.4444444444444444, \"#bd3786\"], [0.5555555555555556, \"#d8576b\"], [0.6666666666666666, \"#ed7953\"], [0.7777777777777778, \"#fb9f3a\"], [0.8888888888888888, \"#fdca26\"], [1.0, \"#f0f921\"]], \"type\": \"surface\"}], \"table\": [{\"cells\": {\"fill\": {\"color\": \"#EBF0F8\"}, \"line\": {\"color\": \"white\"}}, \"header\": {\"fill\": {\"color\": \"#C8D4E3\"}, \"line\": {\"color\": \"white\"}}, \"type\": \"table\"}]}, \"layout\": {\"annotationdefaults\": {\"arrowcolor\": \"#2a3f5f\", \"arrowhead\": 0, \"arrowwidth\": 1}, \"coloraxis\": {\"colorbar\": {\"outlinewidth\": 0, \"ticks\": \"\"}}, \"colorscale\": {\"diverging\": [[0, \"#8e0152\"], [0.1, \"#c51b7d\"], [0.2, \"#de77ae\"], [0.3, \"#f1b6da\"], [0.4, \"#fde0ef\"], [0.5, \"#f7f7f7\"], [0.6, \"#e6f5d0\"], [0.7, \"#b8e186\"], [0.8, \"#7fbc41\"], [0.9, \"#4d9221\"], [1, \"#276419\"]], \"sequential\": [[0.0, \"#0d0887\"], [0.1111111111111111, \"#46039f\"], [0.2222222222222222, \"#7201a8\"], [0.3333333333333333, \"#9c179e\"], [0.4444444444444444, \"#bd3786\"], [0.5555555555555556, \"#d8576b\"], [0.6666666666666666, \"#ed7953\"], [0.7777777777777778, \"#fb9f3a\"], [0.8888888888888888, \"#fdca26\"], [1.0, \"#f0f921\"]], \"sequentialminus\": [[0.0, \"#0d0887\"], [0.1111111111111111, \"#46039f\"], [0.2222222222222222, \"#7201a8\"], [0.3333333333333333, \"#9c179e\"], [0.4444444444444444, \"#bd3786\"], [0.5555555555555556, \"#d8576b\"], [0.6666666666666666, \"#ed7953\"], [0.7777777777777778, \"#fb9f3a\"], [0.8888888888888888, \"#fdca26\"], [1.0, \"#f0f921\"]]}, \"colorway\": [\"#636efa\", \"#EF553B\", \"#00cc96\", \"#ab63fa\", \"#FFA15A\", \"#19d3f3\", \"#FF6692\", \"#B6E880\", \"#FF97FF\", \"#FECB52\"], \"font\": {\"color\": \"#2a3f5f\"}, \"geo\": {\"bgcolor\": \"white\", \"lakecolor\": \"white\", \"landcolor\": \"#E5ECF6\", \"showlakes\": true, \"showland\": true, \"subunitcolor\": \"white\"}, \"hoverlabel\": {\"align\": \"left\"}, \"hovermode\": \"closest\", \"mapbox\": {\"style\": \"light\"}, \"paper_bgcolor\": \"white\", \"plot_bgcolor\": \"#E5ECF6\", \"polar\": {\"angularaxis\": {\"gridcolor\": \"white\", \"linecolor\": \"white\", \"ticks\": \"\"}, \"bgcolor\": \"#E5ECF6\", \"radialaxis\": {\"gridcolor\": \"white\", \"linecolor\": \"white\", \"ticks\": \"\"}}, \"scene\": {\"xaxis\": {\"backgroundcolor\": \"#E5ECF6\", \"gridcolor\": \"white\", \"gridwidth\": 2, \"linecolor\": \"white\", \"showbackground\": true, \"ticks\": \"\", \"zerolinecolor\": \"white\"}, \"yaxis\": {\"backgroundcolor\": \"#E5ECF6\", \"gridcolor\": \"white\", \"gridwidth\": 2, \"linecolor\": \"white\", \"showbackground\": true, \"ticks\": \"\", \"zerolinecolor\": \"white\"}, \"zaxis\": {\"backgroundcolor\": \"#E5ECF6\", \"gridcolor\": \"white\", \"gridwidth\": 2, \"linecolor\": \"white\", \"showbackground\": true, \"ticks\": \"\", \"zerolinecolor\": \"white\"}}, \"shapedefaults\": {\"line\": {\"color\": \"#2a3f5f\"}}, \"ternary\": {\"aaxis\": {\"gridcolor\": \"white\", \"linecolor\": \"white\", \"ticks\": \"\"}, \"baxis\": {\"gridcolor\": \"white\", \"linecolor\": \"white\", \"ticks\": \"\"}, \"bgcolor\": \"#E5ECF6\", \"caxis\": {\"gridcolor\": \"white\", \"linecolor\": \"white\", \"ticks\": \"\"}}, \"title\": {\"x\": 0.05}, \"xaxis\": {\"automargin\": true, \"gridcolor\": \"white\", \"linecolor\": \"white\", \"ticks\": \"\", \"title\": {\"standoff\": 15}, \"zerolinecolor\": \"white\", \"zerolinewidth\": 2}, \"yaxis\": {\"automargin\": true, \"gridcolor\": \"white\", \"linecolor\": \"white\", \"ticks\": \"\", \"title\": {\"standoff\": 15}, \"zerolinecolor\": \"white\", \"zerolinewidth\": 2}}}, \"title\": {\"font\": {\"color\": \"#4D5663\"}}, \"xaxis\": {\"gridcolor\": \"#E1E5ED\", \"showgrid\": true, \"tickfont\": {\"color\": \"#4D5663\"}, \"title\": {\"font\": {\"color\": \"#4D5663\"}, \"text\": \"\"}, \"zerolinecolor\": \"#E1E5ED\"}, \"xaxis2\": {\"anchor\": \"y2\", \"gridcolor\": \"#E1E5ED\", \"showgrid\": true, \"showticklabels\": false, \"tickfont\": {\"color\": \"#4D5663\"}, \"title\": {\"font\": {\"color\": \"#4D5663\"}, \"text\": \"\"}, \"zerolinecolor\": \"#E1E5ED\"}, \"yaxis\": {\"domain\": [0.3, 1], \"gridcolor\": \"#E1E5ED\", \"showgrid\": true, \"tickfont\": {\"color\": \"#4D5663\"}, \"title\": {\"font\": {\"color\": \"#4D5663\"}, \"text\": \"\"}, \"zerolinecolor\": \"#E1E5ED\"}, \"yaxis2\": {\"domain\": [0, 0.25], \"gridcolor\": \"#E1E5ED\", \"showgrid\": true, \"tickfont\": {\"color\": \"#4D5663\"}, \"title\": {\"font\": {\"color\": \"#4D5663\"}, \"text\": \"Spread\"}, \"zerolinecolor\": \"#E1E5ED\"}},\n",
       "                        {\"showLink\": true, \"linkText\": \"Export to plot.ly\", \"plotlyServerURL\": \"https://plot.ly\", \"responsive\": true}\n",
       "                    ).then(function(){\n",
       "                            \n",
       "var gd = document.getElementById('133e476f-4fce-4633-85a6-9b61f0a90bf5');\n",
       "var x = new MutationObserver(function (mutations, observer) {{\n",
       "        var display = window.getComputedStyle(gd).display;\n",
       "        if (!display || display === 'none') {{\n",
       "            console.log([gd, 'removed!']);\n",
       "            Plotly.purge(gd);\n",
       "            observer.disconnect();\n",
       "        }}\n",
       "}});\n",
       "\n",
       "// Listen for the removal of the full notebook cells\n",
       "var notebookContainer = gd.closest('#notebook-container');\n",
       "if (notebookContainer) {{\n",
       "    x.observe(notebookContainer, {childList: true});\n",
       "}}\n",
       "\n",
       "// Listen for the clearing of the current output cell\n",
       "var outputEl = gd.closest('.output');\n",
       "if (outputEl) {{\n",
       "    x.observe(outputEl, {childList: true});\n",
       "}}\n",
       "\n",
       "                        })\n",
       "                };\n",
       "                });\n",
       "            </script>\n",
       "        </div>"
      ]
     },
     "metadata": {},
     "output_type": "display_data"
    }
   ],
   "source": [
    "df[['A','B']].iplot(kind='spread')"
   ]
  },
  {
   "cell_type": "markdown",
   "metadata": {},
   "source": [
    "## histogram"
   ]
  },
  {
   "cell_type": "code",
   "execution_count": 19,
   "metadata": {},
   "outputs": [
    {
     "data": {
      "application/vnd.plotly.v1+json": {
       "config": {
        "linkText": "Export to plot.ly",
        "plotlyServerURL": "https://plot.ly",
        "showLink": true
       },
       "data": [
        {
         "histfunc": "count",
         "histnorm": "",
         "marker": {
          "color": "rgba(255, 153, 51, 1.0)",
          "line": {
           "color": "#4D5663",
           "width": 1.3
          }
         },
         "name": "A",
         "nbinsx": 25,
         "opacity": 0.8,
         "orientation": "v",
         "type": "histogram",
         "x": [
          -0.05200064226874029,
          -0.8113159106118665,
          0.3254513160889677,
          2.0243719651519982,
          -0.6911553098570636,
          0.14711298464909714,
          -0.35157182034498624,
          0.9532879835105003,
          -0.8216704344288754,
          0.5175801753746321,
          0.41567356984435533,
          -1.0844866973884586,
          -0.9725846811504144,
          1.700149892346811,
          0.6279829967620165,
          -0.5123058776570327,
          -1.074696149080149,
          -0.09302038535197567,
          1.4751683628167978,
          -0.5773238782912412,
          -0.09364536193895204,
          0.2681233002905114,
          -0.08199555259223776,
          0.9869233120457995,
          -0.9880212646580928,
          -0.39813389302184454,
          0.8355498904749294,
          1.115790672079572,
          0.36267502782180355,
          1.1181862543468475,
          -0.4189076767146306,
          -1.2153237513520625,
          -0.015024636036437649,
          -1.5506822070192006,
          0.7532059219095608,
          0.18240660304253964,
          1.2455834496116378,
          -0.03574479357530669,
          1.2037655493754456,
          -1.2899520019302864,
          -0.8014563612286134,
          -1.0339031667320415,
          0.3236806753652299,
          1.7106993971064204,
          0.6337221256461304,
          -0.2264012497122301,
          0.24491822787195103,
          0.5793968204959391,
          -0.34421215526457355,
          -0.046221892173959805,
          -1.2834202820087908,
          -0.1668613538033284,
          0.3530568801885448,
          0.0709962577140452,
          1.2704092433144563,
          -0.6400890854430192,
          2.0218498444532718,
          -1.7029255316020437,
          -0.16160730377732366,
          -0.3324363184731455,
          1.1092756550592138,
          -2.944437862373772,
          -1.587029132621606,
          -0.9030179130414271,
          0.09540976105920948,
          -1.6095452818271105,
          0.008031270192345178,
          1.1400678957010764,
          0.1029859128666487,
          0.2981919450460108,
          -1.3883363125564128,
          -1.1114416335765926,
          0.2903191896259501,
          1.2576586424029736,
          -1.2635782258578823,
          -1.3584173862735214,
          0.4601351131538541,
          -1.22363477749503,
          -1.4816683242901991,
          0.09952494040979772,
          -0.9927180045443987,
          1.7831281471414724,
          -1.5125446989452476,
          -0.12862030833779978,
          -2.464692567289804,
          1.9359339222011969,
          0.5744016876350877,
          -0.764371866302306,
          -0.48132549368563415,
          0.8871383768027442,
          1.3143968176324412,
          -0.5844808311773532,
          1.0384195926025745,
          -0.4420780596397459,
          1.4657803745339457,
          -0.7100001138145122,
          -1.1579221829233695,
          0.17407486591736138,
          -0.3361105830791442,
          0.4809916958319887
         ]
        }
       ],
       "layout": {
        "barmode": "overlay",
        "legend": {
         "bgcolor": "#F5F6F9",
         "font": {
          "color": "#4D5663"
         }
        },
        "paper_bgcolor": "#F5F6F9",
        "plot_bgcolor": "#F5F6F9",
        "template": {
         "data": {
          "bar": [
           {
            "error_x": {
             "color": "#2a3f5f"
            },
            "error_y": {
             "color": "#2a3f5f"
            },
            "marker": {
             "line": {
              "color": "#E5ECF6",
              "width": 0.5
             }
            },
            "type": "bar"
           }
          ],
          "barpolar": [
           {
            "marker": {
             "line": {
              "color": "#E5ECF6",
              "width": 0.5
             }
            },
            "type": "barpolar"
           }
          ],
          "carpet": [
           {
            "aaxis": {
             "endlinecolor": "#2a3f5f",
             "gridcolor": "white",
             "linecolor": "white",
             "minorgridcolor": "white",
             "startlinecolor": "#2a3f5f"
            },
            "baxis": {
             "endlinecolor": "#2a3f5f",
             "gridcolor": "white",
             "linecolor": "white",
             "minorgridcolor": "white",
             "startlinecolor": "#2a3f5f"
            },
            "type": "carpet"
           }
          ],
          "choropleth": [
           {
            "colorbar": {
             "outlinewidth": 0,
             "ticks": ""
            },
            "type": "choropleth"
           }
          ],
          "contour": [
           {
            "colorbar": {
             "outlinewidth": 0,
             "ticks": ""
            },
            "colorscale": [
             [
              0,
              "#0d0887"
             ],
             [
              0.1111111111111111,
              "#46039f"
             ],
             [
              0.2222222222222222,
              "#7201a8"
             ],
             [
              0.3333333333333333,
              "#9c179e"
             ],
             [
              0.4444444444444444,
              "#bd3786"
             ],
             [
              0.5555555555555556,
              "#d8576b"
             ],
             [
              0.6666666666666666,
              "#ed7953"
             ],
             [
              0.7777777777777778,
              "#fb9f3a"
             ],
             [
              0.8888888888888888,
              "#fdca26"
             ],
             [
              1,
              "#f0f921"
             ]
            ],
            "type": "contour"
           }
          ],
          "contourcarpet": [
           {
            "colorbar": {
             "outlinewidth": 0,
             "ticks": ""
            },
            "type": "contourcarpet"
           }
          ],
          "heatmap": [
           {
            "colorbar": {
             "outlinewidth": 0,
             "ticks": ""
            },
            "colorscale": [
             [
              0,
              "#0d0887"
             ],
             [
              0.1111111111111111,
              "#46039f"
             ],
             [
              0.2222222222222222,
              "#7201a8"
             ],
             [
              0.3333333333333333,
              "#9c179e"
             ],
             [
              0.4444444444444444,
              "#bd3786"
             ],
             [
              0.5555555555555556,
              "#d8576b"
             ],
             [
              0.6666666666666666,
              "#ed7953"
             ],
             [
              0.7777777777777778,
              "#fb9f3a"
             ],
             [
              0.8888888888888888,
              "#fdca26"
             ],
             [
              1,
              "#f0f921"
             ]
            ],
            "type": "heatmap"
           }
          ],
          "heatmapgl": [
           {
            "colorbar": {
             "outlinewidth": 0,
             "ticks": ""
            },
            "colorscale": [
             [
              0,
              "#0d0887"
             ],
             [
              0.1111111111111111,
              "#46039f"
             ],
             [
              0.2222222222222222,
              "#7201a8"
             ],
             [
              0.3333333333333333,
              "#9c179e"
             ],
             [
              0.4444444444444444,
              "#bd3786"
             ],
             [
              0.5555555555555556,
              "#d8576b"
             ],
             [
              0.6666666666666666,
              "#ed7953"
             ],
             [
              0.7777777777777778,
              "#fb9f3a"
             ],
             [
              0.8888888888888888,
              "#fdca26"
             ],
             [
              1,
              "#f0f921"
             ]
            ],
            "type": "heatmapgl"
           }
          ],
          "histogram": [
           {
            "marker": {
             "colorbar": {
              "outlinewidth": 0,
              "ticks": ""
             }
            },
            "type": "histogram"
           }
          ],
          "histogram2d": [
           {
            "colorbar": {
             "outlinewidth": 0,
             "ticks": ""
            },
            "colorscale": [
             [
              0,
              "#0d0887"
             ],
             [
              0.1111111111111111,
              "#46039f"
             ],
             [
              0.2222222222222222,
              "#7201a8"
             ],
             [
              0.3333333333333333,
              "#9c179e"
             ],
             [
              0.4444444444444444,
              "#bd3786"
             ],
             [
              0.5555555555555556,
              "#d8576b"
             ],
             [
              0.6666666666666666,
              "#ed7953"
             ],
             [
              0.7777777777777778,
              "#fb9f3a"
             ],
             [
              0.8888888888888888,
              "#fdca26"
             ],
             [
              1,
              "#f0f921"
             ]
            ],
            "type": "histogram2d"
           }
          ],
          "histogram2dcontour": [
           {
            "colorbar": {
             "outlinewidth": 0,
             "ticks": ""
            },
            "colorscale": [
             [
              0,
              "#0d0887"
             ],
             [
              0.1111111111111111,
              "#46039f"
             ],
             [
              0.2222222222222222,
              "#7201a8"
             ],
             [
              0.3333333333333333,
              "#9c179e"
             ],
             [
              0.4444444444444444,
              "#bd3786"
             ],
             [
              0.5555555555555556,
              "#d8576b"
             ],
             [
              0.6666666666666666,
              "#ed7953"
             ],
             [
              0.7777777777777778,
              "#fb9f3a"
             ],
             [
              0.8888888888888888,
              "#fdca26"
             ],
             [
              1,
              "#f0f921"
             ]
            ],
            "type": "histogram2dcontour"
           }
          ],
          "mesh3d": [
           {
            "colorbar": {
             "outlinewidth": 0,
             "ticks": ""
            },
            "type": "mesh3d"
           }
          ],
          "parcoords": [
           {
            "line": {
             "colorbar": {
              "outlinewidth": 0,
              "ticks": ""
             }
            },
            "type": "parcoords"
           }
          ],
          "pie": [
           {
            "automargin": true,
            "type": "pie"
           }
          ],
          "scatter": [
           {
            "marker": {
             "colorbar": {
              "outlinewidth": 0,
              "ticks": ""
             }
            },
            "type": "scatter"
           }
          ],
          "scatter3d": [
           {
            "line": {
             "colorbar": {
              "outlinewidth": 0,
              "ticks": ""
             }
            },
            "marker": {
             "colorbar": {
              "outlinewidth": 0,
              "ticks": ""
             }
            },
            "type": "scatter3d"
           }
          ],
          "scattercarpet": [
           {
            "marker": {
             "colorbar": {
              "outlinewidth": 0,
              "ticks": ""
             }
            },
            "type": "scattercarpet"
           }
          ],
          "scattergeo": [
           {
            "marker": {
             "colorbar": {
              "outlinewidth": 0,
              "ticks": ""
             }
            },
            "type": "scattergeo"
           }
          ],
          "scattergl": [
           {
            "marker": {
             "colorbar": {
              "outlinewidth": 0,
              "ticks": ""
             }
            },
            "type": "scattergl"
           }
          ],
          "scattermapbox": [
           {
            "marker": {
             "colorbar": {
              "outlinewidth": 0,
              "ticks": ""
             }
            },
            "type": "scattermapbox"
           }
          ],
          "scatterpolar": [
           {
            "marker": {
             "colorbar": {
              "outlinewidth": 0,
              "ticks": ""
             }
            },
            "type": "scatterpolar"
           }
          ],
          "scatterpolargl": [
           {
            "marker": {
             "colorbar": {
              "outlinewidth": 0,
              "ticks": ""
             }
            },
            "type": "scatterpolargl"
           }
          ],
          "scatterternary": [
           {
            "marker": {
             "colorbar": {
              "outlinewidth": 0,
              "ticks": ""
             }
            },
            "type": "scatterternary"
           }
          ],
          "surface": [
           {
            "colorbar": {
             "outlinewidth": 0,
             "ticks": ""
            },
            "colorscale": [
             [
              0,
              "#0d0887"
             ],
             [
              0.1111111111111111,
              "#46039f"
             ],
             [
              0.2222222222222222,
              "#7201a8"
             ],
             [
              0.3333333333333333,
              "#9c179e"
             ],
             [
              0.4444444444444444,
              "#bd3786"
             ],
             [
              0.5555555555555556,
              "#d8576b"
             ],
             [
              0.6666666666666666,
              "#ed7953"
             ],
             [
              0.7777777777777778,
              "#fb9f3a"
             ],
             [
              0.8888888888888888,
              "#fdca26"
             ],
             [
              1,
              "#f0f921"
             ]
            ],
            "type": "surface"
           }
          ],
          "table": [
           {
            "cells": {
             "fill": {
              "color": "#EBF0F8"
             },
             "line": {
              "color": "white"
             }
            },
            "header": {
             "fill": {
              "color": "#C8D4E3"
             },
             "line": {
              "color": "white"
             }
            },
            "type": "table"
           }
          ]
         },
         "layout": {
          "annotationdefaults": {
           "arrowcolor": "#2a3f5f",
           "arrowhead": 0,
           "arrowwidth": 1
          },
          "coloraxis": {
           "colorbar": {
            "outlinewidth": 0,
            "ticks": ""
           }
          },
          "colorscale": {
           "diverging": [
            [
             0,
             "#8e0152"
            ],
            [
             0.1,
             "#c51b7d"
            ],
            [
             0.2,
             "#de77ae"
            ],
            [
             0.3,
             "#f1b6da"
            ],
            [
             0.4,
             "#fde0ef"
            ],
            [
             0.5,
             "#f7f7f7"
            ],
            [
             0.6,
             "#e6f5d0"
            ],
            [
             0.7,
             "#b8e186"
            ],
            [
             0.8,
             "#7fbc41"
            ],
            [
             0.9,
             "#4d9221"
            ],
            [
             1,
             "#276419"
            ]
           ],
           "sequential": [
            [
             0,
             "#0d0887"
            ],
            [
             0.1111111111111111,
             "#46039f"
            ],
            [
             0.2222222222222222,
             "#7201a8"
            ],
            [
             0.3333333333333333,
             "#9c179e"
            ],
            [
             0.4444444444444444,
             "#bd3786"
            ],
            [
             0.5555555555555556,
             "#d8576b"
            ],
            [
             0.6666666666666666,
             "#ed7953"
            ],
            [
             0.7777777777777778,
             "#fb9f3a"
            ],
            [
             0.8888888888888888,
             "#fdca26"
            ],
            [
             1,
             "#f0f921"
            ]
           ],
           "sequentialminus": [
            [
             0,
             "#0d0887"
            ],
            [
             0.1111111111111111,
             "#46039f"
            ],
            [
             0.2222222222222222,
             "#7201a8"
            ],
            [
             0.3333333333333333,
             "#9c179e"
            ],
            [
             0.4444444444444444,
             "#bd3786"
            ],
            [
             0.5555555555555556,
             "#d8576b"
            ],
            [
             0.6666666666666666,
             "#ed7953"
            ],
            [
             0.7777777777777778,
             "#fb9f3a"
            ],
            [
             0.8888888888888888,
             "#fdca26"
            ],
            [
             1,
             "#f0f921"
            ]
           ]
          },
          "colorway": [
           "#636efa",
           "#EF553B",
           "#00cc96",
           "#ab63fa",
           "#FFA15A",
           "#19d3f3",
           "#FF6692",
           "#B6E880",
           "#FF97FF",
           "#FECB52"
          ],
          "font": {
           "color": "#2a3f5f"
          },
          "geo": {
           "bgcolor": "white",
           "lakecolor": "white",
           "landcolor": "#E5ECF6",
           "showlakes": true,
           "showland": true,
           "subunitcolor": "white"
          },
          "hoverlabel": {
           "align": "left"
          },
          "hovermode": "closest",
          "mapbox": {
           "style": "light"
          },
          "paper_bgcolor": "white",
          "plot_bgcolor": "#E5ECF6",
          "polar": {
           "angularaxis": {
            "gridcolor": "white",
            "linecolor": "white",
            "ticks": ""
           },
           "bgcolor": "#E5ECF6",
           "radialaxis": {
            "gridcolor": "white",
            "linecolor": "white",
            "ticks": ""
           }
          },
          "scene": {
           "xaxis": {
            "backgroundcolor": "#E5ECF6",
            "gridcolor": "white",
            "gridwidth": 2,
            "linecolor": "white",
            "showbackground": true,
            "ticks": "",
            "zerolinecolor": "white"
           },
           "yaxis": {
            "backgroundcolor": "#E5ECF6",
            "gridcolor": "white",
            "gridwidth": 2,
            "linecolor": "white",
            "showbackground": true,
            "ticks": "",
            "zerolinecolor": "white"
           },
           "zaxis": {
            "backgroundcolor": "#E5ECF6",
            "gridcolor": "white",
            "gridwidth": 2,
            "linecolor": "white",
            "showbackground": true,
            "ticks": "",
            "zerolinecolor": "white"
           }
          },
          "shapedefaults": {
           "line": {
            "color": "#2a3f5f"
           }
          },
          "ternary": {
           "aaxis": {
            "gridcolor": "white",
            "linecolor": "white",
            "ticks": ""
           },
           "baxis": {
            "gridcolor": "white",
            "linecolor": "white",
            "ticks": ""
           },
           "bgcolor": "#E5ECF6",
           "caxis": {
            "gridcolor": "white",
            "linecolor": "white",
            "ticks": ""
           }
          },
          "title": {
           "x": 0.05
          },
          "xaxis": {
           "automargin": true,
           "gridcolor": "white",
           "linecolor": "white",
           "ticks": "",
           "title": {
            "standoff": 15
           },
           "zerolinecolor": "white",
           "zerolinewidth": 2
          },
          "yaxis": {
           "automargin": true,
           "gridcolor": "white",
           "linecolor": "white",
           "ticks": "",
           "title": {
            "standoff": 15
           },
           "zerolinecolor": "white",
           "zerolinewidth": 2
          }
         }
        },
        "title": {
         "font": {
          "color": "#4D5663"
         }
        },
        "xaxis": {
         "gridcolor": "#E1E5ED",
         "showgrid": true,
         "tickfont": {
          "color": "#4D5663"
         },
         "title": {
          "font": {
           "color": "#4D5663"
          },
          "text": ""
         },
         "zerolinecolor": "#E1E5ED"
        },
        "yaxis": {
         "gridcolor": "#E1E5ED",
         "showgrid": true,
         "tickfont": {
          "color": "#4D5663"
         },
         "title": {
          "font": {
           "color": "#4D5663"
          },
          "text": ""
         },
         "zerolinecolor": "#E1E5ED"
        }
       }
      },
      "text/html": [
       "<div>\n",
       "        \n",
       "        \n",
       "            <div id=\"e68fc097-bedf-42c0-87bf-add350d9e1f0\" class=\"plotly-graph-div\" style=\"height:525px; width:100%;\"></div>\n",
       "            <script type=\"text/javascript\">\n",
       "                require([\"plotly\"], function(Plotly) {\n",
       "                    window.PLOTLYENV=window.PLOTLYENV || {};\n",
       "                    window.PLOTLYENV.BASE_URL='https://plot.ly';\n",
       "                    \n",
       "                if (document.getElementById(\"e68fc097-bedf-42c0-87bf-add350d9e1f0\")) {\n",
       "                    Plotly.newPlot(\n",
       "                        'e68fc097-bedf-42c0-87bf-add350d9e1f0',\n",
       "                        [{\"histfunc\": \"count\", \"histnorm\": \"\", \"marker\": {\"color\": \"rgba(255, 153, 51, 1.0)\", \"line\": {\"color\": \"#4D5663\", \"width\": 1.3}}, \"name\": \"A\", \"nbinsx\": 25, \"opacity\": 0.8, \"orientation\": \"v\", \"type\": \"histogram\", \"x\": [-0.05200064226874029, -0.8113159106118665, 0.3254513160889677, 2.0243719651519982, -0.6911553098570636, 0.14711298464909714, -0.35157182034498624, 0.9532879835105003, -0.8216704344288754, 0.5175801753746321, 0.41567356984435533, -1.0844866973884586, -0.9725846811504144, 1.700149892346811, 0.6279829967620165, -0.5123058776570327, -1.074696149080149, -0.09302038535197567, 1.4751683628167978, -0.5773238782912412, -0.09364536193895204, 0.2681233002905114, -0.08199555259223776, 0.9869233120457995, -0.9880212646580928, -0.39813389302184454, 0.8355498904749294, 1.115790672079572, 0.36267502782180355, 1.1181862543468475, -0.4189076767146306, -1.2153237513520625, -0.015024636036437649, -1.5506822070192006, 0.7532059219095608, 0.18240660304253964, 1.2455834496116378, -0.03574479357530669, 1.2037655493754456, -1.2899520019302864, -0.8014563612286134, -1.0339031667320415, 0.3236806753652299, 1.7106993971064204, 0.6337221256461304, -0.2264012497122301, 0.24491822787195103, 0.5793968204959391, -0.34421215526457355, -0.046221892173959805, -1.2834202820087908, -0.1668613538033284, 0.3530568801885448, 0.0709962577140452, 1.2704092433144563, -0.6400890854430192, 2.0218498444532718, -1.7029255316020437, -0.16160730377732366, -0.3324363184731455, 1.1092756550592138, -2.944437862373772, -1.587029132621606, -0.9030179130414271, 0.09540976105920948, -1.6095452818271105, 0.008031270192345178, 1.1400678957010764, 0.1029859128666487, 0.2981919450460108, -1.3883363125564128, -1.1114416335765926, 0.2903191896259501, 1.2576586424029736, -1.2635782258578823, -1.3584173862735214, 0.4601351131538541, -1.22363477749503, -1.4816683242901991, 0.09952494040979772, -0.9927180045443987, 1.7831281471414724, -1.5125446989452476, -0.12862030833779978, -2.464692567289804, 1.9359339222011969, 0.5744016876350877, -0.764371866302306, -0.48132549368563415, 0.8871383768027442, 1.3143968176324412, -0.5844808311773532, 1.0384195926025745, -0.4420780596397459, 1.4657803745339457, -0.7100001138145122, -1.1579221829233695, 0.17407486591736138, -0.3361105830791442, 0.4809916958319887]}],\n",
       "                        {\"barmode\": \"overlay\", \"legend\": {\"bgcolor\": \"#F5F6F9\", \"font\": {\"color\": \"#4D5663\"}}, \"paper_bgcolor\": \"#F5F6F9\", \"plot_bgcolor\": \"#F5F6F9\", \"template\": {\"data\": {\"bar\": [{\"error_x\": {\"color\": \"#2a3f5f\"}, \"error_y\": {\"color\": \"#2a3f5f\"}, \"marker\": {\"line\": {\"color\": \"#E5ECF6\", \"width\": 0.5}}, \"type\": \"bar\"}], \"barpolar\": [{\"marker\": {\"line\": {\"color\": \"#E5ECF6\", \"width\": 0.5}}, \"type\": \"barpolar\"}], \"carpet\": [{\"aaxis\": {\"endlinecolor\": \"#2a3f5f\", \"gridcolor\": \"white\", \"linecolor\": \"white\", \"minorgridcolor\": \"white\", \"startlinecolor\": \"#2a3f5f\"}, \"baxis\": {\"endlinecolor\": \"#2a3f5f\", \"gridcolor\": \"white\", \"linecolor\": \"white\", \"minorgridcolor\": \"white\", \"startlinecolor\": \"#2a3f5f\"}, \"type\": \"carpet\"}], \"choropleth\": [{\"colorbar\": {\"outlinewidth\": 0, \"ticks\": \"\"}, \"type\": \"choropleth\"}], \"contour\": [{\"colorbar\": {\"outlinewidth\": 0, \"ticks\": \"\"}, \"colorscale\": [[0.0, \"#0d0887\"], [0.1111111111111111, \"#46039f\"], [0.2222222222222222, \"#7201a8\"], [0.3333333333333333, \"#9c179e\"], [0.4444444444444444, \"#bd3786\"], [0.5555555555555556, \"#d8576b\"], [0.6666666666666666, \"#ed7953\"], [0.7777777777777778, \"#fb9f3a\"], [0.8888888888888888, \"#fdca26\"], [1.0, \"#f0f921\"]], \"type\": \"contour\"}], \"contourcarpet\": [{\"colorbar\": {\"outlinewidth\": 0, \"ticks\": \"\"}, \"type\": \"contourcarpet\"}], \"heatmap\": [{\"colorbar\": {\"outlinewidth\": 0, \"ticks\": \"\"}, \"colorscale\": [[0.0, \"#0d0887\"], [0.1111111111111111, \"#46039f\"], [0.2222222222222222, \"#7201a8\"], [0.3333333333333333, \"#9c179e\"], [0.4444444444444444, \"#bd3786\"], [0.5555555555555556, \"#d8576b\"], [0.6666666666666666, \"#ed7953\"], [0.7777777777777778, \"#fb9f3a\"], [0.8888888888888888, \"#fdca26\"], [1.0, \"#f0f921\"]], \"type\": \"heatmap\"}], \"heatmapgl\": [{\"colorbar\": {\"outlinewidth\": 0, \"ticks\": \"\"}, \"colorscale\": [[0.0, \"#0d0887\"], [0.1111111111111111, \"#46039f\"], [0.2222222222222222, \"#7201a8\"], [0.3333333333333333, \"#9c179e\"], [0.4444444444444444, \"#bd3786\"], [0.5555555555555556, \"#d8576b\"], [0.6666666666666666, \"#ed7953\"], [0.7777777777777778, \"#fb9f3a\"], [0.8888888888888888, \"#fdca26\"], [1.0, \"#f0f921\"]], \"type\": \"heatmapgl\"}], \"histogram\": [{\"marker\": {\"colorbar\": {\"outlinewidth\": 0, \"ticks\": \"\"}}, \"type\": \"histogram\"}], \"histogram2d\": [{\"colorbar\": {\"outlinewidth\": 0, \"ticks\": \"\"}, \"colorscale\": [[0.0, \"#0d0887\"], [0.1111111111111111, \"#46039f\"], [0.2222222222222222, \"#7201a8\"], [0.3333333333333333, \"#9c179e\"], [0.4444444444444444, \"#bd3786\"], [0.5555555555555556, \"#d8576b\"], [0.6666666666666666, \"#ed7953\"], [0.7777777777777778, \"#fb9f3a\"], [0.8888888888888888, \"#fdca26\"], [1.0, \"#f0f921\"]], \"type\": \"histogram2d\"}], \"histogram2dcontour\": [{\"colorbar\": {\"outlinewidth\": 0, \"ticks\": \"\"}, \"colorscale\": [[0.0, \"#0d0887\"], [0.1111111111111111, \"#46039f\"], [0.2222222222222222, \"#7201a8\"], [0.3333333333333333, \"#9c179e\"], [0.4444444444444444, \"#bd3786\"], [0.5555555555555556, \"#d8576b\"], [0.6666666666666666, \"#ed7953\"], [0.7777777777777778, \"#fb9f3a\"], [0.8888888888888888, \"#fdca26\"], [1.0, \"#f0f921\"]], \"type\": \"histogram2dcontour\"}], \"mesh3d\": [{\"colorbar\": {\"outlinewidth\": 0, \"ticks\": \"\"}, \"type\": \"mesh3d\"}], \"parcoords\": [{\"line\": {\"colorbar\": {\"outlinewidth\": 0, \"ticks\": \"\"}}, \"type\": \"parcoords\"}], \"pie\": [{\"automargin\": true, \"type\": \"pie\"}], \"scatter\": [{\"marker\": {\"colorbar\": {\"outlinewidth\": 0, \"ticks\": \"\"}}, \"type\": \"scatter\"}], \"scatter3d\": [{\"line\": {\"colorbar\": {\"outlinewidth\": 0, \"ticks\": \"\"}}, \"marker\": {\"colorbar\": {\"outlinewidth\": 0, \"ticks\": \"\"}}, \"type\": \"scatter3d\"}], \"scattercarpet\": [{\"marker\": {\"colorbar\": {\"outlinewidth\": 0, \"ticks\": \"\"}}, \"type\": \"scattercarpet\"}], \"scattergeo\": [{\"marker\": {\"colorbar\": {\"outlinewidth\": 0, \"ticks\": \"\"}}, \"type\": \"scattergeo\"}], \"scattergl\": [{\"marker\": {\"colorbar\": {\"outlinewidth\": 0, \"ticks\": \"\"}}, \"type\": \"scattergl\"}], \"scattermapbox\": [{\"marker\": {\"colorbar\": {\"outlinewidth\": 0, \"ticks\": \"\"}}, \"type\": \"scattermapbox\"}], \"scatterpolar\": [{\"marker\": {\"colorbar\": {\"outlinewidth\": 0, \"ticks\": \"\"}}, \"type\": \"scatterpolar\"}], \"scatterpolargl\": [{\"marker\": {\"colorbar\": {\"outlinewidth\": 0, \"ticks\": \"\"}}, \"type\": \"scatterpolargl\"}], \"scatterternary\": [{\"marker\": {\"colorbar\": {\"outlinewidth\": 0, \"ticks\": \"\"}}, \"type\": \"scatterternary\"}], \"surface\": [{\"colorbar\": {\"outlinewidth\": 0, \"ticks\": \"\"}, \"colorscale\": [[0.0, \"#0d0887\"], [0.1111111111111111, \"#46039f\"], [0.2222222222222222, \"#7201a8\"], [0.3333333333333333, \"#9c179e\"], [0.4444444444444444, \"#bd3786\"], [0.5555555555555556, \"#d8576b\"], [0.6666666666666666, \"#ed7953\"], [0.7777777777777778, \"#fb9f3a\"], [0.8888888888888888, \"#fdca26\"], [1.0, \"#f0f921\"]], \"type\": \"surface\"}], \"table\": [{\"cells\": {\"fill\": {\"color\": \"#EBF0F8\"}, \"line\": {\"color\": \"white\"}}, \"header\": {\"fill\": {\"color\": \"#C8D4E3\"}, \"line\": {\"color\": \"white\"}}, \"type\": \"table\"}]}, \"layout\": {\"annotationdefaults\": {\"arrowcolor\": \"#2a3f5f\", \"arrowhead\": 0, \"arrowwidth\": 1}, \"coloraxis\": {\"colorbar\": {\"outlinewidth\": 0, \"ticks\": \"\"}}, \"colorscale\": {\"diverging\": [[0, \"#8e0152\"], [0.1, \"#c51b7d\"], [0.2, \"#de77ae\"], [0.3, \"#f1b6da\"], [0.4, \"#fde0ef\"], [0.5, \"#f7f7f7\"], [0.6, \"#e6f5d0\"], [0.7, \"#b8e186\"], [0.8, \"#7fbc41\"], [0.9, \"#4d9221\"], [1, \"#276419\"]], \"sequential\": [[0.0, \"#0d0887\"], [0.1111111111111111, \"#46039f\"], [0.2222222222222222, \"#7201a8\"], [0.3333333333333333, \"#9c179e\"], [0.4444444444444444, \"#bd3786\"], [0.5555555555555556, \"#d8576b\"], [0.6666666666666666, \"#ed7953\"], [0.7777777777777778, \"#fb9f3a\"], [0.8888888888888888, \"#fdca26\"], [1.0, \"#f0f921\"]], \"sequentialminus\": [[0.0, \"#0d0887\"], [0.1111111111111111, \"#46039f\"], [0.2222222222222222, \"#7201a8\"], [0.3333333333333333, \"#9c179e\"], [0.4444444444444444, \"#bd3786\"], [0.5555555555555556, \"#d8576b\"], [0.6666666666666666, \"#ed7953\"], [0.7777777777777778, \"#fb9f3a\"], [0.8888888888888888, \"#fdca26\"], [1.0, \"#f0f921\"]]}, \"colorway\": [\"#636efa\", \"#EF553B\", \"#00cc96\", \"#ab63fa\", \"#FFA15A\", \"#19d3f3\", \"#FF6692\", \"#B6E880\", \"#FF97FF\", \"#FECB52\"], \"font\": {\"color\": \"#2a3f5f\"}, \"geo\": {\"bgcolor\": \"white\", \"lakecolor\": \"white\", \"landcolor\": \"#E5ECF6\", \"showlakes\": true, \"showland\": true, \"subunitcolor\": \"white\"}, \"hoverlabel\": {\"align\": \"left\"}, \"hovermode\": \"closest\", \"mapbox\": {\"style\": \"light\"}, \"paper_bgcolor\": \"white\", \"plot_bgcolor\": \"#E5ECF6\", \"polar\": {\"angularaxis\": {\"gridcolor\": \"white\", \"linecolor\": \"white\", \"ticks\": \"\"}, \"bgcolor\": \"#E5ECF6\", \"radialaxis\": {\"gridcolor\": \"white\", \"linecolor\": \"white\", \"ticks\": \"\"}}, \"scene\": {\"xaxis\": {\"backgroundcolor\": \"#E5ECF6\", \"gridcolor\": \"white\", \"gridwidth\": 2, \"linecolor\": \"white\", \"showbackground\": true, \"ticks\": \"\", \"zerolinecolor\": \"white\"}, \"yaxis\": {\"backgroundcolor\": \"#E5ECF6\", \"gridcolor\": \"white\", \"gridwidth\": 2, \"linecolor\": \"white\", \"showbackground\": true, \"ticks\": \"\", \"zerolinecolor\": \"white\"}, \"zaxis\": {\"backgroundcolor\": \"#E5ECF6\", \"gridcolor\": \"white\", \"gridwidth\": 2, \"linecolor\": \"white\", \"showbackground\": true, \"ticks\": \"\", \"zerolinecolor\": \"white\"}}, \"shapedefaults\": {\"line\": {\"color\": \"#2a3f5f\"}}, \"ternary\": {\"aaxis\": {\"gridcolor\": \"white\", \"linecolor\": \"white\", \"ticks\": \"\"}, \"baxis\": {\"gridcolor\": \"white\", \"linecolor\": \"white\", \"ticks\": \"\"}, \"bgcolor\": \"#E5ECF6\", \"caxis\": {\"gridcolor\": \"white\", \"linecolor\": \"white\", \"ticks\": \"\"}}, \"title\": {\"x\": 0.05}, \"xaxis\": {\"automargin\": true, \"gridcolor\": \"white\", \"linecolor\": \"white\", \"ticks\": \"\", \"title\": {\"standoff\": 15}, \"zerolinecolor\": \"white\", \"zerolinewidth\": 2}, \"yaxis\": {\"automargin\": true, \"gridcolor\": \"white\", \"linecolor\": \"white\", \"ticks\": \"\", \"title\": {\"standoff\": 15}, \"zerolinecolor\": \"white\", \"zerolinewidth\": 2}}}, \"title\": {\"font\": {\"color\": \"#4D5663\"}}, \"xaxis\": {\"gridcolor\": \"#E1E5ED\", \"showgrid\": true, \"tickfont\": {\"color\": \"#4D5663\"}, \"title\": {\"font\": {\"color\": \"#4D5663\"}, \"text\": \"\"}, \"zerolinecolor\": \"#E1E5ED\"}, \"yaxis\": {\"gridcolor\": \"#E1E5ED\", \"showgrid\": true, \"tickfont\": {\"color\": \"#4D5663\"}, \"title\": {\"font\": {\"color\": \"#4D5663\"}, \"text\": \"\"}, \"zerolinecolor\": \"#E1E5ED\"}},\n",
       "                        {\"showLink\": true, \"linkText\": \"Export to plot.ly\", \"plotlyServerURL\": \"https://plot.ly\", \"responsive\": true}\n",
       "                    ).then(function(){\n",
       "                            \n",
       "var gd = document.getElementById('e68fc097-bedf-42c0-87bf-add350d9e1f0');\n",
       "var x = new MutationObserver(function (mutations, observer) {{\n",
       "        var display = window.getComputedStyle(gd).display;\n",
       "        if (!display || display === 'none') {{\n",
       "            console.log([gd, 'removed!']);\n",
       "            Plotly.purge(gd);\n",
       "            observer.disconnect();\n",
       "        }}\n",
       "}});\n",
       "\n",
       "// Listen for the removal of the full notebook cells\n",
       "var notebookContainer = gd.closest('#notebook-container');\n",
       "if (notebookContainer) {{\n",
       "    x.observe(notebookContainer, {childList: true});\n",
       "}}\n",
       "\n",
       "// Listen for the clearing of the current output cell\n",
       "var outputEl = gd.closest('.output');\n",
       "if (outputEl) {{\n",
       "    x.observe(outputEl, {childList: true});\n",
       "}}\n",
       "\n",
       "                        })\n",
       "                };\n",
       "                });\n",
       "            </script>\n",
       "        </div>"
      ]
     },
     "metadata": {},
     "output_type": "display_data"
    }
   ],
   "source": [
    "df['A'].iplot(kind='hist',bins=25)"
   ]
  },
  {
   "cell_type": "markdown",
   "metadata": {},
   "source": [
    "A bubble chart is a scatter plot in which a third dimension of the data is shown through the size of markers. "
   ]
  },
  {
   "cell_type": "code",
   "execution_count": 20,
   "metadata": {},
   "outputs": [
    {
     "data": {
      "application/vnd.plotly.v1+json": {
       "config": {
        "linkText": "Export to plot.ly",
        "plotlyServerURL": "https://plot.ly",
        "showLink": true
       },
       "data": [
        {
         "marker": {
          "color": [
           "rgb(255, 153, 51)",
           "rgb(55, 128, 191)",
           "rgb(50, 171, 96)",
           "rgb(128, 0, 128)",
           "rgb(219, 64, 82)",
           "rgb(0, 128, 128)",
           "rgb(255, 255, 51)",
           "rgb(128, 128, 0)",
           "rgb(251, 128, 114)",
           "rgb(128, 177, 211)"
          ],
          "line": {
           "width": 1.3
          },
          "size": [
           97,
           31,
           74,
           52,
           75,
           77,
           76,
           46,
           63,
           37,
           107,
           75,
           39,
           18,
           90,
           91,
           40,
           83,
           64,
           73,
           37,
           63,
           37,
           63,
           46,
           36,
           38,
           108,
           39,
           69,
           12,
           79,
           59,
           17,
           70,
           12,
           51,
           43,
           54,
           64,
           73,
           38,
           62,
           23,
           94,
           70,
           20,
           80,
           58,
           112,
           46,
           59,
           79,
           80,
           32,
           46,
           82,
           63,
           38,
           71,
           88,
           53,
           22,
           64,
           75,
           103,
           53,
           37,
           37,
           40,
           77,
           31,
           95,
           30,
           77,
           72,
           35,
           78,
           78,
           94,
           52,
           46,
           43,
           28,
           59,
           71,
           91,
           69,
           37,
           44,
           51,
           34,
           61,
           65,
           58,
           89,
           49,
           49,
           36,
           61
          ],
          "symbol": "circle"
         },
         "mode": "markers",
         "text": "",
         "type": "scatter",
         "x": [
          -0.05200064226874029,
          -0.8113159106118665,
          0.3254513160889677,
          2.0243719651519982,
          -0.6911553098570636,
          0.14711298464909714,
          -0.35157182034498624,
          0.9532879835105003,
          -0.8216704344288754,
          0.5175801753746321,
          0.41567356984435533,
          -1.0844866973884586,
          -0.9725846811504144,
          1.700149892346811,
          0.6279829967620165,
          -0.5123058776570327,
          -1.074696149080149,
          -0.09302038535197567,
          1.4751683628167978,
          -0.5773238782912412,
          -0.09364536193895204,
          0.2681233002905114,
          -0.08199555259223776,
          0.9869233120457995,
          -0.9880212646580928,
          -0.39813389302184454,
          0.8355498904749294,
          1.115790672079572,
          0.36267502782180355,
          1.1181862543468475,
          -0.4189076767146306,
          -1.2153237513520625,
          -0.015024636036437649,
          -1.5506822070192006,
          0.7532059219095608,
          0.18240660304253964,
          1.2455834496116378,
          -0.03574479357530669,
          1.2037655493754456,
          -1.2899520019302864,
          -0.8014563612286134,
          -1.0339031667320415,
          0.3236806753652299,
          1.7106993971064204,
          0.6337221256461304,
          -0.2264012497122301,
          0.24491822787195103,
          0.5793968204959391,
          -0.34421215526457355,
          -0.046221892173959805,
          -1.2834202820087908,
          -0.1668613538033284,
          0.3530568801885448,
          0.0709962577140452,
          1.2704092433144563,
          -0.6400890854430192,
          2.0218498444532718,
          -1.7029255316020437,
          -0.16160730377732366,
          -0.3324363184731455,
          1.1092756550592138,
          -2.944437862373772,
          -1.587029132621606,
          -0.9030179130414271,
          0.09540976105920948,
          -1.6095452818271105,
          0.008031270192345178,
          1.1400678957010764,
          0.1029859128666487,
          0.2981919450460108,
          -1.3883363125564128,
          -1.1114416335765926,
          0.2903191896259501,
          1.2576586424029736,
          -1.2635782258578823,
          -1.3584173862735214,
          0.4601351131538541,
          -1.22363477749503,
          -1.4816683242901991,
          0.09952494040979772,
          -0.9927180045443987,
          1.7831281471414724,
          -1.5125446989452476,
          -0.12862030833779978,
          -2.464692567289804,
          1.9359339222011969,
          0.5744016876350877,
          -0.764371866302306,
          -0.48132549368563415,
          0.8871383768027442,
          1.3143968176324412,
          -0.5844808311773532,
          1.0384195926025745,
          -0.4420780596397459,
          1.4657803745339457,
          -0.7100001138145122,
          -1.1579221829233695,
          0.17407486591736138,
          -0.3361105830791442,
          0.4809916958319887
         ],
         "y": [
          -0.3035309217997338,
          1.8115843850413655,
          -1.8792276036095135,
          1.143909537806382,
          0.0923541450056231,
          0.13177410792440244,
          -1.644887018775058,
          2.0831971657948625,
          1.599452683208107,
          -0.0069964248626790074,
          0.8243911969905283,
          0.5956007854062508,
          0.39862711624745445,
          -1.666634755718817,
          -0.4089336921506136,
          -0.16298439036927434,
          1.0479183949966526,
          -0.9165492282798984,
          -0.4892264761249731,
          0.5123066799262901,
          0.7584021541015817,
          -0.08593360496991281,
          -0.24021553116689526,
          2.5039169522158864,
          -1.512037975593897,
          0.49113801984285316,
          -0.31871938863922766,
          0.7128543675798462,
          -0.14479570326040525,
          0.5279038708585918,
          1.0794313887626623,
          1.7106227788566175,
          -0.530919857654775,
          1.2540574714983195,
          0.7413750828160827,
          0.18458536123716268,
          1.0624029825522627,
          0.742424688303108,
          1.645819200054811,
          -1.1308745123092925,
          0.48757750365959723,
          0.04891773652933975,
          -0.6083669341853393,
          -0.5558964652700791,
          2.179562344673998,
          0.6487864256900213,
          0.7046774107134081,
          -1.8275035997285698,
          -1.2561220814441574,
          0.8648079555785866,
          1.2398062390269777,
          1.5470834554212618,
          -0.4454825332388899,
          -1.4880689915828327,
          -0.738397634159601,
          -0.36732803174497464,
          -0.5219859018248537,
          -0.10793021508035824,
          1.6030720602940183,
          1.1981071665048801,
          -0.0009961029876620706,
          0.111212367996999,
          -0.7986756374835384,
          -0.3126649986611836,
          -0.5904948556513827,
          -1.3826204461674614,
          2.6788582132331387,
          0.7839573434679493,
          -0.047862984084776475,
          0.6889032871954877,
          0.39966616125392346,
          -0.43566971474227745,
          2.0861224961894766,
          -0.4776941244058906,
          -1.1511082972505302,
          -0.4710654454917627,
          -0.18175710734427944,
          -0.6855040312566344,
          -1.5412892891831538,
          0.8311464475440197,
          -0.818964281498889,
          1.037211685095319,
          1.117239715972962,
          -0.29232705347009696,
          0.9038496269295024,
          0.611628653407918,
          0.9367173662598217,
          -0.2715131674594367,
          -0.24274004412887631,
          0.12403688842619563,
          -0.5676803256100553,
          2.598349746359133,
          -0.7335625073991564,
          2.19935547566327,
          1.2247442665380743,
          -1.3895443215751322,
          -1.9959607836346613,
          -0.5055580229875679,
          0.08932547950890063,
          -1.1497354981510886
         ]
        }
       ],
       "layout": {
        "legend": {
         "bgcolor": "#F5F6F9",
         "font": {
          "color": "#4D5663"
         }
        },
        "paper_bgcolor": "#F5F6F9",
        "plot_bgcolor": "#F5F6F9",
        "template": {
         "data": {
          "bar": [
           {
            "error_x": {
             "color": "#2a3f5f"
            },
            "error_y": {
             "color": "#2a3f5f"
            },
            "marker": {
             "line": {
              "color": "#E5ECF6",
              "width": 0.5
             }
            },
            "type": "bar"
           }
          ],
          "barpolar": [
           {
            "marker": {
             "line": {
              "color": "#E5ECF6",
              "width": 0.5
             }
            },
            "type": "barpolar"
           }
          ],
          "carpet": [
           {
            "aaxis": {
             "endlinecolor": "#2a3f5f",
             "gridcolor": "white",
             "linecolor": "white",
             "minorgridcolor": "white",
             "startlinecolor": "#2a3f5f"
            },
            "baxis": {
             "endlinecolor": "#2a3f5f",
             "gridcolor": "white",
             "linecolor": "white",
             "minorgridcolor": "white",
             "startlinecolor": "#2a3f5f"
            },
            "type": "carpet"
           }
          ],
          "choropleth": [
           {
            "colorbar": {
             "outlinewidth": 0,
             "ticks": ""
            },
            "type": "choropleth"
           }
          ],
          "contour": [
           {
            "colorbar": {
             "outlinewidth": 0,
             "ticks": ""
            },
            "colorscale": [
             [
              0,
              "#0d0887"
             ],
             [
              0.1111111111111111,
              "#46039f"
             ],
             [
              0.2222222222222222,
              "#7201a8"
             ],
             [
              0.3333333333333333,
              "#9c179e"
             ],
             [
              0.4444444444444444,
              "#bd3786"
             ],
             [
              0.5555555555555556,
              "#d8576b"
             ],
             [
              0.6666666666666666,
              "#ed7953"
             ],
             [
              0.7777777777777778,
              "#fb9f3a"
             ],
             [
              0.8888888888888888,
              "#fdca26"
             ],
             [
              1,
              "#f0f921"
             ]
            ],
            "type": "contour"
           }
          ],
          "contourcarpet": [
           {
            "colorbar": {
             "outlinewidth": 0,
             "ticks": ""
            },
            "type": "contourcarpet"
           }
          ],
          "heatmap": [
           {
            "colorbar": {
             "outlinewidth": 0,
             "ticks": ""
            },
            "colorscale": [
             [
              0,
              "#0d0887"
             ],
             [
              0.1111111111111111,
              "#46039f"
             ],
             [
              0.2222222222222222,
              "#7201a8"
             ],
             [
              0.3333333333333333,
              "#9c179e"
             ],
             [
              0.4444444444444444,
              "#bd3786"
             ],
             [
              0.5555555555555556,
              "#d8576b"
             ],
             [
              0.6666666666666666,
              "#ed7953"
             ],
             [
              0.7777777777777778,
              "#fb9f3a"
             ],
             [
              0.8888888888888888,
              "#fdca26"
             ],
             [
              1,
              "#f0f921"
             ]
            ],
            "type": "heatmap"
           }
          ],
          "heatmapgl": [
           {
            "colorbar": {
             "outlinewidth": 0,
             "ticks": ""
            },
            "colorscale": [
             [
              0,
              "#0d0887"
             ],
             [
              0.1111111111111111,
              "#46039f"
             ],
             [
              0.2222222222222222,
              "#7201a8"
             ],
             [
              0.3333333333333333,
              "#9c179e"
             ],
             [
              0.4444444444444444,
              "#bd3786"
             ],
             [
              0.5555555555555556,
              "#d8576b"
             ],
             [
              0.6666666666666666,
              "#ed7953"
             ],
             [
              0.7777777777777778,
              "#fb9f3a"
             ],
             [
              0.8888888888888888,
              "#fdca26"
             ],
             [
              1,
              "#f0f921"
             ]
            ],
            "type": "heatmapgl"
           }
          ],
          "histogram": [
           {
            "marker": {
             "colorbar": {
              "outlinewidth": 0,
              "ticks": ""
             }
            },
            "type": "histogram"
           }
          ],
          "histogram2d": [
           {
            "colorbar": {
             "outlinewidth": 0,
             "ticks": ""
            },
            "colorscale": [
             [
              0,
              "#0d0887"
             ],
             [
              0.1111111111111111,
              "#46039f"
             ],
             [
              0.2222222222222222,
              "#7201a8"
             ],
             [
              0.3333333333333333,
              "#9c179e"
             ],
             [
              0.4444444444444444,
              "#bd3786"
             ],
             [
              0.5555555555555556,
              "#d8576b"
             ],
             [
              0.6666666666666666,
              "#ed7953"
             ],
             [
              0.7777777777777778,
              "#fb9f3a"
             ],
             [
              0.8888888888888888,
              "#fdca26"
             ],
             [
              1,
              "#f0f921"
             ]
            ],
            "type": "histogram2d"
           }
          ],
          "histogram2dcontour": [
           {
            "colorbar": {
             "outlinewidth": 0,
             "ticks": ""
            },
            "colorscale": [
             [
              0,
              "#0d0887"
             ],
             [
              0.1111111111111111,
              "#46039f"
             ],
             [
              0.2222222222222222,
              "#7201a8"
             ],
             [
              0.3333333333333333,
              "#9c179e"
             ],
             [
              0.4444444444444444,
              "#bd3786"
             ],
             [
              0.5555555555555556,
              "#d8576b"
             ],
             [
              0.6666666666666666,
              "#ed7953"
             ],
             [
              0.7777777777777778,
              "#fb9f3a"
             ],
             [
              0.8888888888888888,
              "#fdca26"
             ],
             [
              1,
              "#f0f921"
             ]
            ],
            "type": "histogram2dcontour"
           }
          ],
          "mesh3d": [
           {
            "colorbar": {
             "outlinewidth": 0,
             "ticks": ""
            },
            "type": "mesh3d"
           }
          ],
          "parcoords": [
           {
            "line": {
             "colorbar": {
              "outlinewidth": 0,
              "ticks": ""
             }
            },
            "type": "parcoords"
           }
          ],
          "pie": [
           {
            "automargin": true,
            "type": "pie"
           }
          ],
          "scatter": [
           {
            "marker": {
             "colorbar": {
              "outlinewidth": 0,
              "ticks": ""
             }
            },
            "type": "scatter"
           }
          ],
          "scatter3d": [
           {
            "line": {
             "colorbar": {
              "outlinewidth": 0,
              "ticks": ""
             }
            },
            "marker": {
             "colorbar": {
              "outlinewidth": 0,
              "ticks": ""
             }
            },
            "type": "scatter3d"
           }
          ],
          "scattercarpet": [
           {
            "marker": {
             "colorbar": {
              "outlinewidth": 0,
              "ticks": ""
             }
            },
            "type": "scattercarpet"
           }
          ],
          "scattergeo": [
           {
            "marker": {
             "colorbar": {
              "outlinewidth": 0,
              "ticks": ""
             }
            },
            "type": "scattergeo"
           }
          ],
          "scattergl": [
           {
            "marker": {
             "colorbar": {
              "outlinewidth": 0,
              "ticks": ""
             }
            },
            "type": "scattergl"
           }
          ],
          "scattermapbox": [
           {
            "marker": {
             "colorbar": {
              "outlinewidth": 0,
              "ticks": ""
             }
            },
            "type": "scattermapbox"
           }
          ],
          "scatterpolar": [
           {
            "marker": {
             "colorbar": {
              "outlinewidth": 0,
              "ticks": ""
             }
            },
            "type": "scatterpolar"
           }
          ],
          "scatterpolargl": [
           {
            "marker": {
             "colorbar": {
              "outlinewidth": 0,
              "ticks": ""
             }
            },
            "type": "scatterpolargl"
           }
          ],
          "scatterternary": [
           {
            "marker": {
             "colorbar": {
              "outlinewidth": 0,
              "ticks": ""
             }
            },
            "type": "scatterternary"
           }
          ],
          "surface": [
           {
            "colorbar": {
             "outlinewidth": 0,
             "ticks": ""
            },
            "colorscale": [
             [
              0,
              "#0d0887"
             ],
             [
              0.1111111111111111,
              "#46039f"
             ],
             [
              0.2222222222222222,
              "#7201a8"
             ],
             [
              0.3333333333333333,
              "#9c179e"
             ],
             [
              0.4444444444444444,
              "#bd3786"
             ],
             [
              0.5555555555555556,
              "#d8576b"
             ],
             [
              0.6666666666666666,
              "#ed7953"
             ],
             [
              0.7777777777777778,
              "#fb9f3a"
             ],
             [
              0.8888888888888888,
              "#fdca26"
             ],
             [
              1,
              "#f0f921"
             ]
            ],
            "type": "surface"
           }
          ],
          "table": [
           {
            "cells": {
             "fill": {
              "color": "#EBF0F8"
             },
             "line": {
              "color": "white"
             }
            },
            "header": {
             "fill": {
              "color": "#C8D4E3"
             },
             "line": {
              "color": "white"
             }
            },
            "type": "table"
           }
          ]
         },
         "layout": {
          "annotationdefaults": {
           "arrowcolor": "#2a3f5f",
           "arrowhead": 0,
           "arrowwidth": 1
          },
          "coloraxis": {
           "colorbar": {
            "outlinewidth": 0,
            "ticks": ""
           }
          },
          "colorscale": {
           "diverging": [
            [
             0,
             "#8e0152"
            ],
            [
             0.1,
             "#c51b7d"
            ],
            [
             0.2,
             "#de77ae"
            ],
            [
             0.3,
             "#f1b6da"
            ],
            [
             0.4,
             "#fde0ef"
            ],
            [
             0.5,
             "#f7f7f7"
            ],
            [
             0.6,
             "#e6f5d0"
            ],
            [
             0.7,
             "#b8e186"
            ],
            [
             0.8,
             "#7fbc41"
            ],
            [
             0.9,
             "#4d9221"
            ],
            [
             1,
             "#276419"
            ]
           ],
           "sequential": [
            [
             0,
             "#0d0887"
            ],
            [
             0.1111111111111111,
             "#46039f"
            ],
            [
             0.2222222222222222,
             "#7201a8"
            ],
            [
             0.3333333333333333,
             "#9c179e"
            ],
            [
             0.4444444444444444,
             "#bd3786"
            ],
            [
             0.5555555555555556,
             "#d8576b"
            ],
            [
             0.6666666666666666,
             "#ed7953"
            ],
            [
             0.7777777777777778,
             "#fb9f3a"
            ],
            [
             0.8888888888888888,
             "#fdca26"
            ],
            [
             1,
             "#f0f921"
            ]
           ],
           "sequentialminus": [
            [
             0,
             "#0d0887"
            ],
            [
             0.1111111111111111,
             "#46039f"
            ],
            [
             0.2222222222222222,
             "#7201a8"
            ],
            [
             0.3333333333333333,
             "#9c179e"
            ],
            [
             0.4444444444444444,
             "#bd3786"
            ],
            [
             0.5555555555555556,
             "#d8576b"
            ],
            [
             0.6666666666666666,
             "#ed7953"
            ],
            [
             0.7777777777777778,
             "#fb9f3a"
            ],
            [
             0.8888888888888888,
             "#fdca26"
            ],
            [
             1,
             "#f0f921"
            ]
           ]
          },
          "colorway": [
           "#636efa",
           "#EF553B",
           "#00cc96",
           "#ab63fa",
           "#FFA15A",
           "#19d3f3",
           "#FF6692",
           "#B6E880",
           "#FF97FF",
           "#FECB52"
          ],
          "font": {
           "color": "#2a3f5f"
          },
          "geo": {
           "bgcolor": "white",
           "lakecolor": "white",
           "landcolor": "#E5ECF6",
           "showlakes": true,
           "showland": true,
           "subunitcolor": "white"
          },
          "hoverlabel": {
           "align": "left"
          },
          "hovermode": "closest",
          "mapbox": {
           "style": "light"
          },
          "paper_bgcolor": "white",
          "plot_bgcolor": "#E5ECF6",
          "polar": {
           "angularaxis": {
            "gridcolor": "white",
            "linecolor": "white",
            "ticks": ""
           },
           "bgcolor": "#E5ECF6",
           "radialaxis": {
            "gridcolor": "white",
            "linecolor": "white",
            "ticks": ""
           }
          },
          "scene": {
           "xaxis": {
            "backgroundcolor": "#E5ECF6",
            "gridcolor": "white",
            "gridwidth": 2,
            "linecolor": "white",
            "showbackground": true,
            "ticks": "",
            "zerolinecolor": "white"
           },
           "yaxis": {
            "backgroundcolor": "#E5ECF6",
            "gridcolor": "white",
            "gridwidth": 2,
            "linecolor": "white",
            "showbackground": true,
            "ticks": "",
            "zerolinecolor": "white"
           },
           "zaxis": {
            "backgroundcolor": "#E5ECF6",
            "gridcolor": "white",
            "gridwidth": 2,
            "linecolor": "white",
            "showbackground": true,
            "ticks": "",
            "zerolinecolor": "white"
           }
          },
          "shapedefaults": {
           "line": {
            "color": "#2a3f5f"
           }
          },
          "ternary": {
           "aaxis": {
            "gridcolor": "white",
            "linecolor": "white",
            "ticks": ""
           },
           "baxis": {
            "gridcolor": "white",
            "linecolor": "white",
            "ticks": ""
           },
           "bgcolor": "#E5ECF6",
           "caxis": {
            "gridcolor": "white",
            "linecolor": "white",
            "ticks": ""
           }
          },
          "title": {
           "x": 0.05
          },
          "xaxis": {
           "automargin": true,
           "gridcolor": "white",
           "linecolor": "white",
           "ticks": "",
           "title": {
            "standoff": 15
           },
           "zerolinecolor": "white",
           "zerolinewidth": 2
          },
          "yaxis": {
           "automargin": true,
           "gridcolor": "white",
           "linecolor": "white",
           "ticks": "",
           "title": {
            "standoff": 15
           },
           "zerolinecolor": "white",
           "zerolinewidth": 2
          }
         }
        },
        "title": {
         "font": {
          "color": "#4D5663"
         }
        },
        "xaxis": {
         "gridcolor": "#E1E5ED",
         "showgrid": true,
         "tickfont": {
          "color": "#4D5663"
         },
         "title": {
          "font": {
           "color": "#4D5663"
          },
          "text": ""
         },
         "zerolinecolor": "#E1E5ED"
        },
        "yaxis": {
         "gridcolor": "#E1E5ED",
         "showgrid": true,
         "tickfont": {
          "color": "#4D5663"
         },
         "title": {
          "font": {
           "color": "#4D5663"
          },
          "text": ""
         },
         "zerolinecolor": "#E1E5ED"
        }
       }
      },
      "text/html": [
       "<div>\n",
       "        \n",
       "        \n",
       "            <div id=\"6838150f-8612-497f-918b-150067836c08\" class=\"plotly-graph-div\" style=\"height:525px; width:100%;\"></div>\n",
       "            <script type=\"text/javascript\">\n",
       "                require([\"plotly\"], function(Plotly) {\n",
       "                    window.PLOTLYENV=window.PLOTLYENV || {};\n",
       "                    window.PLOTLYENV.BASE_URL='https://plot.ly';\n",
       "                    \n",
       "                if (document.getElementById(\"6838150f-8612-497f-918b-150067836c08\")) {\n",
       "                    Plotly.newPlot(\n",
       "                        '6838150f-8612-497f-918b-150067836c08',\n",
       "                        [{\"marker\": {\"color\": [\"rgb(255, 153, 51)\", \"rgb(55, 128, 191)\", \"rgb(50, 171, 96)\", \"rgb(128, 0, 128)\", \"rgb(219, 64, 82)\", \"rgb(0, 128, 128)\", \"rgb(255, 255, 51)\", \"rgb(128, 128, 0)\", \"rgb(251, 128, 114)\", \"rgb(128, 177, 211)\"], \"line\": {\"width\": 1.3}, \"size\": [97, 31, 74, 52, 75, 77, 76, 46, 63, 37, 107, 75, 39, 18, 90, 91, 40, 83, 64, 73, 37, 63, 37, 63, 46, 36, 38, 108, 39, 69, 12, 79, 59, 17, 70, 12, 51, 43, 54, 64, 73, 38, 62, 23, 94, 70, 20, 80, 58, 112, 46, 59, 79, 80, 32, 46, 82, 63, 38, 71, 88, 53, 22, 64, 75, 103, 53, 37, 37, 40, 77, 31, 95, 30, 77, 72, 35, 78, 78, 94, 52, 46, 43, 28, 59, 71, 91, 69, 37, 44, 51, 34, 61, 65, 58, 89, 49, 49, 36, 61], \"symbol\": \"circle\"}, \"mode\": \"markers\", \"text\": \"\", \"type\": \"scatter\", \"x\": [-0.05200064226874029, -0.8113159106118665, 0.3254513160889677, 2.0243719651519982, -0.6911553098570636, 0.14711298464909714, -0.35157182034498624, 0.9532879835105003, -0.8216704344288754, 0.5175801753746321, 0.41567356984435533, -1.0844866973884586, -0.9725846811504144, 1.700149892346811, 0.6279829967620165, -0.5123058776570327, -1.074696149080149, -0.09302038535197567, 1.4751683628167978, -0.5773238782912412, -0.09364536193895204, 0.2681233002905114, -0.08199555259223776, 0.9869233120457995, -0.9880212646580928, -0.39813389302184454, 0.8355498904749294, 1.115790672079572, 0.36267502782180355, 1.1181862543468475, -0.4189076767146306, -1.2153237513520625, -0.015024636036437649, -1.5506822070192006, 0.7532059219095608, 0.18240660304253964, 1.2455834496116378, -0.03574479357530669, 1.2037655493754456, -1.2899520019302864, -0.8014563612286134, -1.0339031667320415, 0.3236806753652299, 1.7106993971064204, 0.6337221256461304, -0.2264012497122301, 0.24491822787195103, 0.5793968204959391, -0.34421215526457355, -0.046221892173959805, -1.2834202820087908, -0.1668613538033284, 0.3530568801885448, 0.0709962577140452, 1.2704092433144563, -0.6400890854430192, 2.0218498444532718, -1.7029255316020437, -0.16160730377732366, -0.3324363184731455, 1.1092756550592138, -2.944437862373772, -1.587029132621606, -0.9030179130414271, 0.09540976105920948, -1.6095452818271105, 0.008031270192345178, 1.1400678957010764, 0.1029859128666487, 0.2981919450460108, -1.3883363125564128, -1.1114416335765926, 0.2903191896259501, 1.2576586424029736, -1.2635782258578823, -1.3584173862735214, 0.4601351131538541, -1.22363477749503, -1.4816683242901991, 0.09952494040979772, -0.9927180045443987, 1.7831281471414724, -1.5125446989452476, -0.12862030833779978, -2.464692567289804, 1.9359339222011969, 0.5744016876350877, -0.764371866302306, -0.48132549368563415, 0.8871383768027442, 1.3143968176324412, -0.5844808311773532, 1.0384195926025745, -0.4420780596397459, 1.4657803745339457, -0.7100001138145122, -1.1579221829233695, 0.17407486591736138, -0.3361105830791442, 0.4809916958319887], \"y\": [-0.3035309217997338, 1.8115843850413655, -1.8792276036095135, 1.143909537806382, 0.0923541450056231, 0.13177410792440244, -1.644887018775058, 2.0831971657948625, 1.599452683208107, -0.0069964248626790074, 0.8243911969905283, 0.5956007854062508, 0.39862711624745445, -1.666634755718817, -0.4089336921506136, -0.16298439036927434, 1.0479183949966526, -0.9165492282798984, -0.4892264761249731, 0.5123066799262901, 0.7584021541015817, -0.08593360496991281, -0.24021553116689526, 2.5039169522158864, -1.512037975593897, 0.49113801984285316, -0.31871938863922766, 0.7128543675798462, -0.14479570326040525, 0.5279038708585918, 1.0794313887626623, 1.7106227788566175, -0.530919857654775, 1.2540574714983195, 0.7413750828160827, 0.18458536123716268, 1.0624029825522627, 0.742424688303108, 1.645819200054811, -1.1308745123092925, 0.48757750365959723, 0.04891773652933975, -0.6083669341853393, -0.5558964652700791, 2.179562344673998, 0.6487864256900213, 0.7046774107134081, -1.8275035997285698, -1.2561220814441574, 0.8648079555785866, 1.2398062390269777, 1.5470834554212618, -0.4454825332388899, -1.4880689915828327, -0.738397634159601, -0.36732803174497464, -0.5219859018248537, -0.10793021508035824, 1.6030720602940183, 1.1981071665048801, -0.0009961029876620706, 0.111212367996999, -0.7986756374835384, -0.3126649986611836, -0.5904948556513827, -1.3826204461674614, 2.6788582132331387, 0.7839573434679493, -0.047862984084776475, 0.6889032871954877, 0.39966616125392346, -0.43566971474227745, 2.0861224961894766, -0.4776941244058906, -1.1511082972505302, -0.4710654454917627, -0.18175710734427944, -0.6855040312566344, -1.5412892891831538, 0.8311464475440197, -0.818964281498889, 1.037211685095319, 1.117239715972962, -0.29232705347009696, 0.9038496269295024, 0.611628653407918, 0.9367173662598217, -0.2715131674594367, -0.24274004412887631, 0.12403688842619563, -0.5676803256100553, 2.598349746359133, -0.7335625073991564, 2.19935547566327, 1.2247442665380743, -1.3895443215751322, -1.9959607836346613, -0.5055580229875679, 0.08932547950890063, -1.1497354981510886]}],\n",
       "                        {\"legend\": {\"bgcolor\": \"#F5F6F9\", \"font\": {\"color\": \"#4D5663\"}}, \"paper_bgcolor\": \"#F5F6F9\", \"plot_bgcolor\": \"#F5F6F9\", \"template\": {\"data\": {\"bar\": [{\"error_x\": {\"color\": \"#2a3f5f\"}, \"error_y\": {\"color\": \"#2a3f5f\"}, \"marker\": {\"line\": {\"color\": \"#E5ECF6\", \"width\": 0.5}}, \"type\": \"bar\"}], \"barpolar\": [{\"marker\": {\"line\": {\"color\": \"#E5ECF6\", \"width\": 0.5}}, \"type\": \"barpolar\"}], \"carpet\": [{\"aaxis\": {\"endlinecolor\": \"#2a3f5f\", \"gridcolor\": \"white\", \"linecolor\": \"white\", \"minorgridcolor\": \"white\", \"startlinecolor\": \"#2a3f5f\"}, \"baxis\": {\"endlinecolor\": \"#2a3f5f\", \"gridcolor\": \"white\", \"linecolor\": \"white\", \"minorgridcolor\": \"white\", \"startlinecolor\": \"#2a3f5f\"}, \"type\": \"carpet\"}], \"choropleth\": [{\"colorbar\": {\"outlinewidth\": 0, \"ticks\": \"\"}, \"type\": \"choropleth\"}], \"contour\": [{\"colorbar\": {\"outlinewidth\": 0, \"ticks\": \"\"}, \"colorscale\": [[0.0, \"#0d0887\"], [0.1111111111111111, \"#46039f\"], [0.2222222222222222, \"#7201a8\"], [0.3333333333333333, \"#9c179e\"], [0.4444444444444444, \"#bd3786\"], [0.5555555555555556, \"#d8576b\"], [0.6666666666666666, \"#ed7953\"], [0.7777777777777778, \"#fb9f3a\"], [0.8888888888888888, \"#fdca26\"], [1.0, \"#f0f921\"]], \"type\": \"contour\"}], \"contourcarpet\": [{\"colorbar\": {\"outlinewidth\": 0, \"ticks\": \"\"}, \"type\": \"contourcarpet\"}], \"heatmap\": [{\"colorbar\": {\"outlinewidth\": 0, \"ticks\": \"\"}, \"colorscale\": [[0.0, \"#0d0887\"], [0.1111111111111111, \"#46039f\"], [0.2222222222222222, \"#7201a8\"], [0.3333333333333333, \"#9c179e\"], [0.4444444444444444, \"#bd3786\"], [0.5555555555555556, \"#d8576b\"], [0.6666666666666666, \"#ed7953\"], [0.7777777777777778, \"#fb9f3a\"], [0.8888888888888888, \"#fdca26\"], [1.0, \"#f0f921\"]], \"type\": \"heatmap\"}], \"heatmapgl\": [{\"colorbar\": {\"outlinewidth\": 0, \"ticks\": \"\"}, \"colorscale\": [[0.0, \"#0d0887\"], [0.1111111111111111, \"#46039f\"], [0.2222222222222222, \"#7201a8\"], [0.3333333333333333, \"#9c179e\"], [0.4444444444444444, \"#bd3786\"], [0.5555555555555556, \"#d8576b\"], [0.6666666666666666, \"#ed7953\"], [0.7777777777777778, \"#fb9f3a\"], [0.8888888888888888, \"#fdca26\"], [1.0, \"#f0f921\"]], \"type\": \"heatmapgl\"}], \"histogram\": [{\"marker\": {\"colorbar\": {\"outlinewidth\": 0, \"ticks\": \"\"}}, \"type\": \"histogram\"}], \"histogram2d\": [{\"colorbar\": {\"outlinewidth\": 0, \"ticks\": \"\"}, \"colorscale\": [[0.0, \"#0d0887\"], [0.1111111111111111, \"#46039f\"], [0.2222222222222222, \"#7201a8\"], [0.3333333333333333, \"#9c179e\"], [0.4444444444444444, \"#bd3786\"], [0.5555555555555556, \"#d8576b\"], [0.6666666666666666, \"#ed7953\"], [0.7777777777777778, \"#fb9f3a\"], [0.8888888888888888, \"#fdca26\"], [1.0, \"#f0f921\"]], \"type\": \"histogram2d\"}], \"histogram2dcontour\": [{\"colorbar\": {\"outlinewidth\": 0, \"ticks\": \"\"}, \"colorscale\": [[0.0, \"#0d0887\"], [0.1111111111111111, \"#46039f\"], [0.2222222222222222, \"#7201a8\"], [0.3333333333333333, \"#9c179e\"], [0.4444444444444444, \"#bd3786\"], [0.5555555555555556, \"#d8576b\"], [0.6666666666666666, \"#ed7953\"], [0.7777777777777778, \"#fb9f3a\"], [0.8888888888888888, \"#fdca26\"], [1.0, \"#f0f921\"]], \"type\": \"histogram2dcontour\"}], \"mesh3d\": [{\"colorbar\": {\"outlinewidth\": 0, \"ticks\": \"\"}, \"type\": \"mesh3d\"}], \"parcoords\": [{\"line\": {\"colorbar\": {\"outlinewidth\": 0, \"ticks\": \"\"}}, \"type\": \"parcoords\"}], \"pie\": [{\"automargin\": true, \"type\": \"pie\"}], \"scatter\": [{\"marker\": {\"colorbar\": {\"outlinewidth\": 0, \"ticks\": \"\"}}, \"type\": \"scatter\"}], \"scatter3d\": [{\"line\": {\"colorbar\": {\"outlinewidth\": 0, \"ticks\": \"\"}}, \"marker\": {\"colorbar\": {\"outlinewidth\": 0, \"ticks\": \"\"}}, \"type\": \"scatter3d\"}], \"scattercarpet\": [{\"marker\": {\"colorbar\": {\"outlinewidth\": 0, \"ticks\": \"\"}}, \"type\": \"scattercarpet\"}], \"scattergeo\": [{\"marker\": {\"colorbar\": {\"outlinewidth\": 0, \"ticks\": \"\"}}, \"type\": \"scattergeo\"}], \"scattergl\": [{\"marker\": {\"colorbar\": {\"outlinewidth\": 0, \"ticks\": \"\"}}, \"type\": \"scattergl\"}], \"scattermapbox\": [{\"marker\": {\"colorbar\": {\"outlinewidth\": 0, \"ticks\": \"\"}}, \"type\": \"scattermapbox\"}], \"scatterpolar\": [{\"marker\": {\"colorbar\": {\"outlinewidth\": 0, \"ticks\": \"\"}}, \"type\": \"scatterpolar\"}], \"scatterpolargl\": [{\"marker\": {\"colorbar\": {\"outlinewidth\": 0, \"ticks\": \"\"}}, \"type\": \"scatterpolargl\"}], \"scatterternary\": [{\"marker\": {\"colorbar\": {\"outlinewidth\": 0, \"ticks\": \"\"}}, \"type\": \"scatterternary\"}], \"surface\": [{\"colorbar\": {\"outlinewidth\": 0, \"ticks\": \"\"}, \"colorscale\": [[0.0, \"#0d0887\"], [0.1111111111111111, \"#46039f\"], [0.2222222222222222, \"#7201a8\"], [0.3333333333333333, \"#9c179e\"], [0.4444444444444444, \"#bd3786\"], [0.5555555555555556, \"#d8576b\"], [0.6666666666666666, \"#ed7953\"], [0.7777777777777778, \"#fb9f3a\"], [0.8888888888888888, \"#fdca26\"], [1.0, \"#f0f921\"]], \"type\": \"surface\"}], \"table\": [{\"cells\": {\"fill\": {\"color\": \"#EBF0F8\"}, \"line\": {\"color\": \"white\"}}, \"header\": {\"fill\": {\"color\": \"#C8D4E3\"}, \"line\": {\"color\": \"white\"}}, \"type\": \"table\"}]}, \"layout\": {\"annotationdefaults\": {\"arrowcolor\": \"#2a3f5f\", \"arrowhead\": 0, \"arrowwidth\": 1}, \"coloraxis\": {\"colorbar\": {\"outlinewidth\": 0, \"ticks\": \"\"}}, \"colorscale\": {\"diverging\": [[0, \"#8e0152\"], [0.1, \"#c51b7d\"], [0.2, \"#de77ae\"], [0.3, \"#f1b6da\"], [0.4, \"#fde0ef\"], [0.5, \"#f7f7f7\"], [0.6, \"#e6f5d0\"], [0.7, \"#b8e186\"], [0.8, \"#7fbc41\"], [0.9, \"#4d9221\"], [1, \"#276419\"]], \"sequential\": [[0.0, \"#0d0887\"], [0.1111111111111111, \"#46039f\"], [0.2222222222222222, \"#7201a8\"], [0.3333333333333333, \"#9c179e\"], [0.4444444444444444, \"#bd3786\"], [0.5555555555555556, \"#d8576b\"], [0.6666666666666666, \"#ed7953\"], [0.7777777777777778, \"#fb9f3a\"], [0.8888888888888888, \"#fdca26\"], [1.0, \"#f0f921\"]], \"sequentialminus\": [[0.0, \"#0d0887\"], [0.1111111111111111, \"#46039f\"], [0.2222222222222222, \"#7201a8\"], [0.3333333333333333, \"#9c179e\"], [0.4444444444444444, \"#bd3786\"], [0.5555555555555556, \"#d8576b\"], [0.6666666666666666, \"#ed7953\"], [0.7777777777777778, \"#fb9f3a\"], [0.8888888888888888, \"#fdca26\"], [1.0, \"#f0f921\"]]}, \"colorway\": [\"#636efa\", \"#EF553B\", \"#00cc96\", \"#ab63fa\", \"#FFA15A\", \"#19d3f3\", \"#FF6692\", \"#B6E880\", \"#FF97FF\", \"#FECB52\"], \"font\": {\"color\": \"#2a3f5f\"}, \"geo\": {\"bgcolor\": \"white\", \"lakecolor\": \"white\", \"landcolor\": \"#E5ECF6\", \"showlakes\": true, \"showland\": true, \"subunitcolor\": \"white\"}, \"hoverlabel\": {\"align\": \"left\"}, \"hovermode\": \"closest\", \"mapbox\": {\"style\": \"light\"}, \"paper_bgcolor\": \"white\", \"plot_bgcolor\": \"#E5ECF6\", \"polar\": {\"angularaxis\": {\"gridcolor\": \"white\", \"linecolor\": \"white\", \"ticks\": \"\"}, \"bgcolor\": \"#E5ECF6\", \"radialaxis\": {\"gridcolor\": \"white\", \"linecolor\": \"white\", \"ticks\": \"\"}}, \"scene\": {\"xaxis\": {\"backgroundcolor\": \"#E5ECF6\", \"gridcolor\": \"white\", \"gridwidth\": 2, \"linecolor\": \"white\", \"showbackground\": true, \"ticks\": \"\", \"zerolinecolor\": \"white\"}, \"yaxis\": {\"backgroundcolor\": \"#E5ECF6\", \"gridcolor\": \"white\", \"gridwidth\": 2, \"linecolor\": \"white\", \"showbackground\": true, \"ticks\": \"\", \"zerolinecolor\": \"white\"}, \"zaxis\": {\"backgroundcolor\": \"#E5ECF6\", \"gridcolor\": \"white\", \"gridwidth\": 2, \"linecolor\": \"white\", \"showbackground\": true, \"ticks\": \"\", \"zerolinecolor\": \"white\"}}, \"shapedefaults\": {\"line\": {\"color\": \"#2a3f5f\"}}, \"ternary\": {\"aaxis\": {\"gridcolor\": \"white\", \"linecolor\": \"white\", \"ticks\": \"\"}, \"baxis\": {\"gridcolor\": \"white\", \"linecolor\": \"white\", \"ticks\": \"\"}, \"bgcolor\": \"#E5ECF6\", \"caxis\": {\"gridcolor\": \"white\", \"linecolor\": \"white\", \"ticks\": \"\"}}, \"title\": {\"x\": 0.05}, \"xaxis\": {\"automargin\": true, \"gridcolor\": \"white\", \"linecolor\": \"white\", \"ticks\": \"\", \"title\": {\"standoff\": 15}, \"zerolinecolor\": \"white\", \"zerolinewidth\": 2}, \"yaxis\": {\"automargin\": true, \"gridcolor\": \"white\", \"linecolor\": \"white\", \"ticks\": \"\", \"title\": {\"standoff\": 15}, \"zerolinecolor\": \"white\", \"zerolinewidth\": 2}}}, \"title\": {\"font\": {\"color\": \"#4D5663\"}}, \"xaxis\": {\"gridcolor\": \"#E1E5ED\", \"showgrid\": true, \"tickfont\": {\"color\": \"#4D5663\"}, \"title\": {\"font\": {\"color\": \"#4D5663\"}, \"text\": \"\"}, \"zerolinecolor\": \"#E1E5ED\"}, \"yaxis\": {\"gridcolor\": \"#E1E5ED\", \"showgrid\": true, \"tickfont\": {\"color\": \"#4D5663\"}, \"title\": {\"font\": {\"color\": \"#4D5663\"}, \"text\": \"\"}, \"zerolinecolor\": \"#E1E5ED\"}},\n",
       "                        {\"showLink\": true, \"linkText\": \"Export to plot.ly\", \"plotlyServerURL\": \"https://plot.ly\", \"responsive\": true}\n",
       "                    ).then(function(){\n",
       "                            \n",
       "var gd = document.getElementById('6838150f-8612-497f-918b-150067836c08');\n",
       "var x = new MutationObserver(function (mutations, observer) {{\n",
       "        var display = window.getComputedStyle(gd).display;\n",
       "        if (!display || display === 'none') {{\n",
       "            console.log([gd, 'removed!']);\n",
       "            Plotly.purge(gd);\n",
       "            observer.disconnect();\n",
       "        }}\n",
       "}});\n",
       "\n",
       "// Listen for the removal of the full notebook cells\n",
       "var notebookContainer = gd.closest('#notebook-container');\n",
       "if (notebookContainer) {{\n",
       "    x.observe(notebookContainer, {childList: true});\n",
       "}}\n",
       "\n",
       "// Listen for the clearing of the current output cell\n",
       "var outputEl = gd.closest('.output');\n",
       "if (outputEl) {{\n",
       "    x.observe(outputEl, {childList: true});\n",
       "}}\n",
       "\n",
       "                        })\n",
       "                };\n",
       "                });\n",
       "            </script>\n",
       "        </div>"
      ]
     },
     "metadata": {},
     "output_type": "display_data"
    }
   ],
   "source": [
    "df.iplot(kind='bubble',x='A',y='B',size='C')"
   ]
  },
  {
   "cell_type": "markdown",
   "metadata": {},
   "source": [
    "## scatter_matrix()\n",
    "\n",
    "Similar to sns.pairplot()"
   ]
  },
  {
   "cell_type": "code",
   "execution_count": 21,
   "metadata": {},
   "outputs": [
    {
     "data": {
      "application/vnd.plotly.v1+json": {
       "config": {
        "linkText": "Export to plot.ly",
        "plotlyServerURL": "https://plot.ly",
        "showLink": true
       },
       "data": [
        {
         "histfunc": "count",
         "histnorm": "",
         "marker": {
          "color": "rgba(255, 153, 51, 1.0)",
          "line": {
           "color": "#4D5663",
           "width": 1.3
          }
         },
         "name": "A",
         "nbinsx": 10,
         "opacity": 0.8,
         "orientation": "v",
         "type": "histogram",
         "x": [
          -0.05200064226874029,
          -0.8113159106118665,
          0.3254513160889677,
          2.0243719651519982,
          -0.6911553098570636,
          0.14711298464909714,
          -0.35157182034498624,
          0.9532879835105003,
          -0.8216704344288754,
          0.5175801753746321,
          0.41567356984435533,
          -1.0844866973884586,
          -0.9725846811504144,
          1.700149892346811,
          0.6279829967620165,
          -0.5123058776570327,
          -1.074696149080149,
          -0.09302038535197567,
          1.4751683628167978,
          -0.5773238782912412,
          -0.09364536193895204,
          0.2681233002905114,
          -0.08199555259223776,
          0.9869233120457995,
          -0.9880212646580928,
          -0.39813389302184454,
          0.8355498904749294,
          1.115790672079572,
          0.36267502782180355,
          1.1181862543468475,
          -0.4189076767146306,
          -1.2153237513520625,
          -0.015024636036437649,
          -1.5506822070192006,
          0.7532059219095608,
          0.18240660304253964,
          1.2455834496116378,
          -0.03574479357530669,
          1.2037655493754456,
          -1.2899520019302864,
          -0.8014563612286134,
          -1.0339031667320415,
          0.3236806753652299,
          1.7106993971064204,
          0.6337221256461304,
          -0.2264012497122301,
          0.24491822787195103,
          0.5793968204959391,
          -0.34421215526457355,
          -0.046221892173959805,
          -1.2834202820087908,
          -0.1668613538033284,
          0.3530568801885448,
          0.0709962577140452,
          1.2704092433144563,
          -0.6400890854430192,
          2.0218498444532718,
          -1.7029255316020437,
          -0.16160730377732366,
          -0.3324363184731455,
          1.1092756550592138,
          -2.944437862373772,
          -1.587029132621606,
          -0.9030179130414271,
          0.09540976105920948,
          -1.6095452818271105,
          0.008031270192345178,
          1.1400678957010764,
          0.1029859128666487,
          0.2981919450460108,
          -1.3883363125564128,
          -1.1114416335765926,
          0.2903191896259501,
          1.2576586424029736,
          -1.2635782258578823,
          -1.3584173862735214,
          0.4601351131538541,
          -1.22363477749503,
          -1.4816683242901991,
          0.09952494040979772,
          -0.9927180045443987,
          1.7831281471414724,
          -1.5125446989452476,
          -0.12862030833779978,
          -2.464692567289804,
          1.9359339222011969,
          0.5744016876350877,
          -0.764371866302306,
          -0.48132549368563415,
          0.8871383768027442,
          1.3143968176324412,
          -0.5844808311773532,
          1.0384195926025745,
          -0.4420780596397459,
          1.4657803745339457,
          -0.7100001138145122,
          -1.1579221829233695,
          0.17407486591736138,
          -0.3361105830791442,
          0.4809916958319887
         ],
         "xaxis": "x",
         "yaxis": "y"
        },
        {
         "line": {
          "color": "rgba(128, 128, 128, 1.0)",
          "dash": "solid",
          "shape": "linear",
          "width": 1.3
         },
         "marker": {
          "size": 2,
          "symbol": "circle"
         },
         "mode": "markers",
         "name": "A",
         "text": "",
         "type": "scatter",
         "x": [
          -0.3035309217997338,
          1.8115843850413655,
          -1.8792276036095135,
          1.143909537806382,
          0.0923541450056231,
          0.13177410792440244,
          -1.644887018775058,
          2.0831971657948625,
          1.599452683208107,
          -0.0069964248626790074,
          0.8243911969905283,
          0.5956007854062508,
          0.39862711624745445,
          -1.666634755718817,
          -0.4089336921506136,
          -0.16298439036927434,
          1.0479183949966526,
          -0.9165492282798984,
          -0.4892264761249731,
          0.5123066799262901,
          0.7584021541015817,
          -0.08593360496991281,
          -0.24021553116689526,
          2.5039169522158864,
          -1.512037975593897,
          0.49113801984285316,
          -0.31871938863922766,
          0.7128543675798462,
          -0.14479570326040525,
          0.5279038708585918,
          1.0794313887626623,
          1.7106227788566175,
          -0.530919857654775,
          1.2540574714983195,
          0.7413750828160827,
          0.18458536123716268,
          1.0624029825522627,
          0.742424688303108,
          1.645819200054811,
          -1.1308745123092925,
          0.48757750365959723,
          0.04891773652933975,
          -0.6083669341853393,
          -0.5558964652700791,
          2.179562344673998,
          0.6487864256900213,
          0.7046774107134081,
          -1.8275035997285698,
          -1.2561220814441574,
          0.8648079555785866,
          1.2398062390269777,
          1.5470834554212618,
          -0.4454825332388899,
          -1.4880689915828327,
          -0.738397634159601,
          -0.36732803174497464,
          -0.5219859018248537,
          -0.10793021508035824,
          1.6030720602940183,
          1.1981071665048801,
          -0.0009961029876620706,
          0.111212367996999,
          -0.7986756374835384,
          -0.3126649986611836,
          -0.5904948556513827,
          -1.3826204461674614,
          2.6788582132331387,
          0.7839573434679493,
          -0.047862984084776475,
          0.6889032871954877,
          0.39966616125392346,
          -0.43566971474227745,
          2.0861224961894766,
          -0.4776941244058906,
          -1.1511082972505302,
          -0.4710654454917627,
          -0.18175710734427944,
          -0.6855040312566344,
          -1.5412892891831538,
          0.8311464475440197,
          -0.818964281498889,
          1.037211685095319,
          1.117239715972962,
          -0.29232705347009696,
          0.9038496269295024,
          0.611628653407918,
          0.9367173662598217,
          -0.2715131674594367,
          -0.24274004412887631,
          0.12403688842619563,
          -0.5676803256100553,
          2.598349746359133,
          -0.7335625073991564,
          2.19935547566327,
          1.2247442665380743,
          -1.3895443215751322,
          -1.9959607836346613,
          -0.5055580229875679,
          0.08932547950890063,
          -1.1497354981510886
         ],
         "xaxis": "x2",
         "y": [
          -0.05200064226874029,
          -0.8113159106118665,
          0.3254513160889677,
          2.0243719651519982,
          -0.6911553098570636,
          0.14711298464909714,
          -0.35157182034498624,
          0.9532879835105003,
          -0.8216704344288754,
          0.5175801753746321,
          0.41567356984435533,
          -1.0844866973884586,
          -0.9725846811504144,
          1.700149892346811,
          0.6279829967620165,
          -0.5123058776570327,
          -1.074696149080149,
          -0.09302038535197567,
          1.4751683628167978,
          -0.5773238782912412,
          -0.09364536193895204,
          0.2681233002905114,
          -0.08199555259223776,
          0.9869233120457995,
          -0.9880212646580928,
          -0.39813389302184454,
          0.8355498904749294,
          1.115790672079572,
          0.36267502782180355,
          1.1181862543468475,
          -0.4189076767146306,
          -1.2153237513520625,
          -0.015024636036437649,
          -1.5506822070192006,
          0.7532059219095608,
          0.18240660304253964,
          1.2455834496116378,
          -0.03574479357530669,
          1.2037655493754456,
          -1.2899520019302864,
          -0.8014563612286134,
          -1.0339031667320415,
          0.3236806753652299,
          1.7106993971064204,
          0.6337221256461304,
          -0.2264012497122301,
          0.24491822787195103,
          0.5793968204959391,
          -0.34421215526457355,
          -0.046221892173959805,
          -1.2834202820087908,
          -0.1668613538033284,
          0.3530568801885448,
          0.0709962577140452,
          1.2704092433144563,
          -0.6400890854430192,
          2.0218498444532718,
          -1.7029255316020437,
          -0.16160730377732366,
          -0.3324363184731455,
          1.1092756550592138,
          -2.944437862373772,
          -1.587029132621606,
          -0.9030179130414271,
          0.09540976105920948,
          -1.6095452818271105,
          0.008031270192345178,
          1.1400678957010764,
          0.1029859128666487,
          0.2981919450460108,
          -1.3883363125564128,
          -1.1114416335765926,
          0.2903191896259501,
          1.2576586424029736,
          -1.2635782258578823,
          -1.3584173862735214,
          0.4601351131538541,
          -1.22363477749503,
          -1.4816683242901991,
          0.09952494040979772,
          -0.9927180045443987,
          1.7831281471414724,
          -1.5125446989452476,
          -0.12862030833779978,
          -2.464692567289804,
          1.9359339222011969,
          0.5744016876350877,
          -0.764371866302306,
          -0.48132549368563415,
          0.8871383768027442,
          1.3143968176324412,
          -0.5844808311773532,
          1.0384195926025745,
          -0.4420780596397459,
          1.4657803745339457,
          -0.7100001138145122,
          -1.1579221829233695,
          0.17407486591736138,
          -0.3361105830791442,
          0.4809916958319887
         ],
         "yaxis": "y2"
        },
        {
         "line": {
          "color": "rgba(128, 128, 128, 1.0)",
          "dash": "solid",
          "shape": "linear",
          "width": 1.3
         },
         "marker": {
          "size": 2,
          "symbol": "circle"
         },
         "mode": "markers",
         "name": "A",
         "text": "",
         "type": "scatter",
         "x": [
          1.8257820565977334,
          -1.2735188378536204,
          0.7421338632914705,
          -0.26600503410857973,
          0.7922190533416104,
          0.8645852434050854,
          0.8248179849550689,
          -0.5633619928569527,
          0.24610510343448525,
          -0.9987284646444614,
          2.287940166044065,
          0.8062963717131537,
          -0.8934882978202076,
          -1.847176195184458,
          1.4720897086734064,
          1.5430244867715297,
          -0.84836931142563,
          1.1550990118605282,
          0.2918932917473354,
          0.7162477689567067,
          -0.9550265479628989,
          0.2521499994616166,
          -0.9939267568693048,
          0.24460112067766868,
          -0.5373252380583823,
          -1.0230532664606373,
          -0.9424681824067453,
          2.3426852155752456,
          -0.8920188830841775,
          0.5053181531378398,
          -2.1661872118166463,
          0.9708746207590014,
          0.06254801668454595,
          -1.9078668275518464,
          0.555159307106861,
          -2.16428187320761,
          -0.34560365011416877,
          -0.6837291461236665,
          -0.1634739592475344,
          0.2831706477830234,
          0.685246531863252,
          -0.9321228484676077,
          0.18315511904931162,
          -1.6267239569131882,
          1.694082509037288,
          0.5717073607861783,
          -1.7526967465512522,
          1.0460853003128228,
          0.01544291945912684,
          2.496407692774929,
          -0.5410046785615663,
          0.0683056909792122,
          0.9782736486727258,
          1.023525600709707,
          -1.206316287456762,
          -0.5685741503938172,
          1.1298551244844603,
          0.22408918915199863,
          -0.9374326793795863,
          0.587579043248385,
          1.3849914586037737,
          -0.24063283213448555,
          -1.6960932691511483,
          0.2886989196592537,
          0.80193843648745,
          2.084539988577566,
          -0.2334718304088673,
          -0.9716337613375888,
          -0.9853914916970022,
          -0.8370293811151239,
          0.882419018319776,
          -1.236429394123926,
          1.7140446214832983,
          -1.2869849485488811,
          0.9077359622624505,
          0.661988774323941,
          -1.0493749718367194,
          0.9494353260009003,
          0.9115781857995494,
          1.6685939029093948,
          -0.2785883516581504,
          -0.5381588512536185,
          -0.704378831015469,
          -1.375137724271894,
          0.057939601706218466,
          0.6140934720168916,
          1.535439446301107,
          0.5023467131899262,
          -0.9650822153038995,
          -0.6525239240020165,
          -0.3180906590768329,
          -1.1092731258949458,
          0.145404038644625,
          0.32870676388611253,
          -0.008068834877558549,
          1.4682066980932378,
          -0.43949674370711,
          -0.43700047416309373,
          -1.0334340839901797,
          0.12261326014475976
         ],
         "xaxis": "x3",
         "y": [
          -0.05200064226874029,
          -0.8113159106118665,
          0.3254513160889677,
          2.0243719651519982,
          -0.6911553098570636,
          0.14711298464909714,
          -0.35157182034498624,
          0.9532879835105003,
          -0.8216704344288754,
          0.5175801753746321,
          0.41567356984435533,
          -1.0844866973884586,
          -0.9725846811504144,
          1.700149892346811,
          0.6279829967620165,
          -0.5123058776570327,
          -1.074696149080149,
          -0.09302038535197567,
          1.4751683628167978,
          -0.5773238782912412,
          -0.09364536193895204,
          0.2681233002905114,
          -0.08199555259223776,
          0.9869233120457995,
          -0.9880212646580928,
          -0.39813389302184454,
          0.8355498904749294,
          1.115790672079572,
          0.36267502782180355,
          1.1181862543468475,
          -0.4189076767146306,
          -1.2153237513520625,
          -0.015024636036437649,
          -1.5506822070192006,
          0.7532059219095608,
          0.18240660304253964,
          1.2455834496116378,
          -0.03574479357530669,
          1.2037655493754456,
          -1.2899520019302864,
          -0.8014563612286134,
          -1.0339031667320415,
          0.3236806753652299,
          1.7106993971064204,
          0.6337221256461304,
          -0.2264012497122301,
          0.24491822787195103,
          0.5793968204959391,
          -0.34421215526457355,
          -0.046221892173959805,
          -1.2834202820087908,
          -0.1668613538033284,
          0.3530568801885448,
          0.0709962577140452,
          1.2704092433144563,
          -0.6400890854430192,
          2.0218498444532718,
          -1.7029255316020437,
          -0.16160730377732366,
          -0.3324363184731455,
          1.1092756550592138,
          -2.944437862373772,
          -1.587029132621606,
          -0.9030179130414271,
          0.09540976105920948,
          -1.6095452818271105,
          0.008031270192345178,
          1.1400678957010764,
          0.1029859128666487,
          0.2981919450460108,
          -1.3883363125564128,
          -1.1114416335765926,
          0.2903191896259501,
          1.2576586424029736,
          -1.2635782258578823,
          -1.3584173862735214,
          0.4601351131538541,
          -1.22363477749503,
          -1.4816683242901991,
          0.09952494040979772,
          -0.9927180045443987,
          1.7831281471414724,
          -1.5125446989452476,
          -0.12862030833779978,
          -2.464692567289804,
          1.9359339222011969,
          0.5744016876350877,
          -0.764371866302306,
          -0.48132549368563415,
          0.8871383768027442,
          1.3143968176324412,
          -0.5844808311773532,
          1.0384195926025745,
          -0.4420780596397459,
          1.4657803745339457,
          -0.7100001138145122,
          -1.1579221829233695,
          0.17407486591736138,
          -0.3361105830791442,
          0.4809916958319887
         ],
         "yaxis": "y3"
        },
        {
         "line": {
          "color": "rgba(128, 128, 128, 1.0)",
          "dash": "solid",
          "shape": "linear",
          "width": 1.3
         },
         "marker": {
          "size": 2,
          "symbol": "circle"
         },
         "mode": "markers",
         "name": "A",
         "text": "",
         "type": "scatter",
         "x": [
          -1.1326481896719922,
          0.1885285818821884,
          1.0615292256120825,
          0.7809924239741028,
          0.8846964539089548,
          -0.9638545186415155,
          0.42086911955493667,
          1.2703691019691992,
          -1.3432331767219712,
          -1.0617993243707724,
          -1.8738496846904225,
          -0.11035088901470516,
          0.01546715467452033,
          -0.17632698335353136,
          0.7846340068087184,
          -0.20410872749059217,
          -0.5124727574309572,
          0.7711721011305227,
          0.3833044177475341,
          -0.27620215114831587,
          0.476632711081902,
          1.242897752429488,
          0.20127685439850612,
          0.23926589187498173,
          1.3721356333552794,
          0.45826528623040114,
          1.3091091644228308,
          0.6688287083095635,
          0.22354423506614307,
          0.5852027283493123,
          -1.532962735776844,
          0.24921425517137355,
          -0.7137083457306289,
          0.4578703319745816,
          -0.31286430611348254,
          -1.0404156744613575,
          -1.586694038565997,
          -0.5686161440828263,
          -0.45756233083759756,
          -0.4227049109356685,
          -1.9465995354023924,
          0.6010810396017673,
          -1.0872993381337408,
          1.6194316472392092,
          -0.7353964645930996,
          0.5966962006557646,
          0.28063564122756046,
          -0.6837196770834758,
          0.14722364570920157,
          -0.843811889967784,
          0.878043649206904,
          0.14766266762213434,
          -0.9417354415967973,
          1.7213928967786376,
          -0.9462751724787105,
          -0.04929166585125539,
          -0.20203221216333722,
          -1.0571002846578563,
          -0.4692756562304136,
          -1.5579732655543514,
          1.5341487128337716,
          -0.4529126678589696,
          -1.1674162718780299,
          -0.3669715522395409,
          0.5338343926292213,
          -0.5904890435986665,
          0.5880358473792844,
          0.18660546692090088,
          -0.6636077409449973,
          -0.4048675150255209,
          -0.15177822188704793,
          0.7271275309865648,
          0.8614177379139359,
          0.4862245134942477,
          0.7721574048318677,
          0.36893386998757294,
          -0.8708467086378487,
          0.8827036407013427,
          -0.23239578123966403,
          -2.3948271350592756,
          -0.7502782791825553,
          0.40389530605411045,
          0.1276427715052904,
          0.08847746546697365,
          -0.09714902305423827,
          -1.2907930321018086,
          -1.6093014493617885,
          0.9780070300867476,
          -1.408912628778127,
          0.8141484306884554,
          0.3779161194107192,
          0.7048601183584742,
          1.1860105629668631,
          -0.5045163571109417,
          0.4454471220079421,
          0.3854514039259868,
          -1.1051886838676843,
          0.8837033351939465,
          -0.495930574033308,
          -0.4240159220291364
         ],
         "xaxis": "x4",
         "y": [
          -0.05200064226874029,
          -0.8113159106118665,
          0.3254513160889677,
          2.0243719651519982,
          -0.6911553098570636,
          0.14711298464909714,
          -0.35157182034498624,
          0.9532879835105003,
          -0.8216704344288754,
          0.5175801753746321,
          0.41567356984435533,
          -1.0844866973884586,
          -0.9725846811504144,
          1.700149892346811,
          0.6279829967620165,
          -0.5123058776570327,
          -1.074696149080149,
          -0.09302038535197567,
          1.4751683628167978,
          -0.5773238782912412,
          -0.09364536193895204,
          0.2681233002905114,
          -0.08199555259223776,
          0.9869233120457995,
          -0.9880212646580928,
          -0.39813389302184454,
          0.8355498904749294,
          1.115790672079572,
          0.36267502782180355,
          1.1181862543468475,
          -0.4189076767146306,
          -1.2153237513520625,
          -0.015024636036437649,
          -1.5506822070192006,
          0.7532059219095608,
          0.18240660304253964,
          1.2455834496116378,
          -0.03574479357530669,
          1.2037655493754456,
          -1.2899520019302864,
          -0.8014563612286134,
          -1.0339031667320415,
          0.3236806753652299,
          1.7106993971064204,
          0.6337221256461304,
          -0.2264012497122301,
          0.24491822787195103,
          0.5793968204959391,
          -0.34421215526457355,
          -0.046221892173959805,
          -1.2834202820087908,
          -0.1668613538033284,
          0.3530568801885448,
          0.0709962577140452,
          1.2704092433144563,
          -0.6400890854430192,
          2.0218498444532718,
          -1.7029255316020437,
          -0.16160730377732366,
          -0.3324363184731455,
          1.1092756550592138,
          -2.944437862373772,
          -1.587029132621606,
          -0.9030179130414271,
          0.09540976105920948,
          -1.6095452818271105,
          0.008031270192345178,
          1.1400678957010764,
          0.1029859128666487,
          0.2981919450460108,
          -1.3883363125564128,
          -1.1114416335765926,
          0.2903191896259501,
          1.2576586424029736,
          -1.2635782258578823,
          -1.3584173862735214,
          0.4601351131538541,
          -1.22363477749503,
          -1.4816683242901991,
          0.09952494040979772,
          -0.9927180045443987,
          1.7831281471414724,
          -1.5125446989452476,
          -0.12862030833779978,
          -2.464692567289804,
          1.9359339222011969,
          0.5744016876350877,
          -0.764371866302306,
          -0.48132549368563415,
          0.8871383768027442,
          1.3143968176324412,
          -0.5844808311773532,
          1.0384195926025745,
          -0.4420780596397459,
          1.4657803745339457,
          -0.7100001138145122,
          -1.1579221829233695,
          0.17407486591736138,
          -0.3361105830791442,
          0.4809916958319887
         ],
         "yaxis": "y4"
        },
        {
         "line": {
          "color": "rgba(128, 128, 128, 1.0)",
          "dash": "solid",
          "shape": "linear",
          "width": 1.3
         },
         "marker": {
          "size": 2,
          "symbol": "circle"
         },
         "mode": "markers",
         "name": "B",
         "text": "",
         "type": "scatter",
         "x": [
          -0.05200064226874029,
          -0.8113159106118665,
          0.3254513160889677,
          2.0243719651519982,
          -0.6911553098570636,
          0.14711298464909714,
          -0.35157182034498624,
          0.9532879835105003,
          -0.8216704344288754,
          0.5175801753746321,
          0.41567356984435533,
          -1.0844866973884586,
          -0.9725846811504144,
          1.700149892346811,
          0.6279829967620165,
          -0.5123058776570327,
          -1.074696149080149,
          -0.09302038535197567,
          1.4751683628167978,
          -0.5773238782912412,
          -0.09364536193895204,
          0.2681233002905114,
          -0.08199555259223776,
          0.9869233120457995,
          -0.9880212646580928,
          -0.39813389302184454,
          0.8355498904749294,
          1.115790672079572,
          0.36267502782180355,
          1.1181862543468475,
          -0.4189076767146306,
          -1.2153237513520625,
          -0.015024636036437649,
          -1.5506822070192006,
          0.7532059219095608,
          0.18240660304253964,
          1.2455834496116378,
          -0.03574479357530669,
          1.2037655493754456,
          -1.2899520019302864,
          -0.8014563612286134,
          -1.0339031667320415,
          0.3236806753652299,
          1.7106993971064204,
          0.6337221256461304,
          -0.2264012497122301,
          0.24491822787195103,
          0.5793968204959391,
          -0.34421215526457355,
          -0.046221892173959805,
          -1.2834202820087908,
          -0.1668613538033284,
          0.3530568801885448,
          0.0709962577140452,
          1.2704092433144563,
          -0.6400890854430192,
          2.0218498444532718,
          -1.7029255316020437,
          -0.16160730377732366,
          -0.3324363184731455,
          1.1092756550592138,
          -2.944437862373772,
          -1.587029132621606,
          -0.9030179130414271,
          0.09540976105920948,
          -1.6095452818271105,
          0.008031270192345178,
          1.1400678957010764,
          0.1029859128666487,
          0.2981919450460108,
          -1.3883363125564128,
          -1.1114416335765926,
          0.2903191896259501,
          1.2576586424029736,
          -1.2635782258578823,
          -1.3584173862735214,
          0.4601351131538541,
          -1.22363477749503,
          -1.4816683242901991,
          0.09952494040979772,
          -0.9927180045443987,
          1.7831281471414724,
          -1.5125446989452476,
          -0.12862030833779978,
          -2.464692567289804,
          1.9359339222011969,
          0.5744016876350877,
          -0.764371866302306,
          -0.48132549368563415,
          0.8871383768027442,
          1.3143968176324412,
          -0.5844808311773532,
          1.0384195926025745,
          -0.4420780596397459,
          1.4657803745339457,
          -0.7100001138145122,
          -1.1579221829233695,
          0.17407486591736138,
          -0.3361105830791442,
          0.4809916958319887
         ],
         "xaxis": "x5",
         "y": [
          -0.3035309217997338,
          1.8115843850413655,
          -1.8792276036095135,
          1.143909537806382,
          0.0923541450056231,
          0.13177410792440244,
          -1.644887018775058,
          2.0831971657948625,
          1.599452683208107,
          -0.0069964248626790074,
          0.8243911969905283,
          0.5956007854062508,
          0.39862711624745445,
          -1.666634755718817,
          -0.4089336921506136,
          -0.16298439036927434,
          1.0479183949966526,
          -0.9165492282798984,
          -0.4892264761249731,
          0.5123066799262901,
          0.7584021541015817,
          -0.08593360496991281,
          -0.24021553116689526,
          2.5039169522158864,
          -1.512037975593897,
          0.49113801984285316,
          -0.31871938863922766,
          0.7128543675798462,
          -0.14479570326040525,
          0.5279038708585918,
          1.0794313887626623,
          1.7106227788566175,
          -0.530919857654775,
          1.2540574714983195,
          0.7413750828160827,
          0.18458536123716268,
          1.0624029825522627,
          0.742424688303108,
          1.645819200054811,
          -1.1308745123092925,
          0.48757750365959723,
          0.04891773652933975,
          -0.6083669341853393,
          -0.5558964652700791,
          2.179562344673998,
          0.6487864256900213,
          0.7046774107134081,
          -1.8275035997285698,
          -1.2561220814441574,
          0.8648079555785866,
          1.2398062390269777,
          1.5470834554212618,
          -0.4454825332388899,
          -1.4880689915828327,
          -0.738397634159601,
          -0.36732803174497464,
          -0.5219859018248537,
          -0.10793021508035824,
          1.6030720602940183,
          1.1981071665048801,
          -0.0009961029876620706,
          0.111212367996999,
          -0.7986756374835384,
          -0.3126649986611836,
          -0.5904948556513827,
          -1.3826204461674614,
          2.6788582132331387,
          0.7839573434679493,
          -0.047862984084776475,
          0.6889032871954877,
          0.39966616125392346,
          -0.43566971474227745,
          2.0861224961894766,
          -0.4776941244058906,
          -1.1511082972505302,
          -0.4710654454917627,
          -0.18175710734427944,
          -0.6855040312566344,
          -1.5412892891831538,
          0.8311464475440197,
          -0.818964281498889,
          1.037211685095319,
          1.117239715972962,
          -0.29232705347009696,
          0.9038496269295024,
          0.611628653407918,
          0.9367173662598217,
          -0.2715131674594367,
          -0.24274004412887631,
          0.12403688842619563,
          -0.5676803256100553,
          2.598349746359133,
          -0.7335625073991564,
          2.19935547566327,
          1.2247442665380743,
          -1.3895443215751322,
          -1.9959607836346613,
          -0.5055580229875679,
          0.08932547950890063,
          -1.1497354981510886
         ],
         "yaxis": "y5"
        },
        {
         "histfunc": "count",
         "histnorm": "",
         "marker": {
          "color": "rgba(55, 128, 191, 1.0)",
          "line": {
           "color": "#4D5663",
           "width": 1.3
          }
         },
         "name": "B",
         "nbinsx": 10,
         "opacity": 0.8,
         "orientation": "v",
         "type": "histogram",
         "x": [
          -0.3035309217997338,
          1.8115843850413655,
          -1.8792276036095135,
          1.143909537806382,
          0.0923541450056231,
          0.13177410792440244,
          -1.644887018775058,
          2.0831971657948625,
          1.599452683208107,
          -0.0069964248626790074,
          0.8243911969905283,
          0.5956007854062508,
          0.39862711624745445,
          -1.666634755718817,
          -0.4089336921506136,
          -0.16298439036927434,
          1.0479183949966526,
          -0.9165492282798984,
          -0.4892264761249731,
          0.5123066799262901,
          0.7584021541015817,
          -0.08593360496991281,
          -0.24021553116689526,
          2.5039169522158864,
          -1.512037975593897,
          0.49113801984285316,
          -0.31871938863922766,
          0.7128543675798462,
          -0.14479570326040525,
          0.5279038708585918,
          1.0794313887626623,
          1.7106227788566175,
          -0.530919857654775,
          1.2540574714983195,
          0.7413750828160827,
          0.18458536123716268,
          1.0624029825522627,
          0.742424688303108,
          1.645819200054811,
          -1.1308745123092925,
          0.48757750365959723,
          0.04891773652933975,
          -0.6083669341853393,
          -0.5558964652700791,
          2.179562344673998,
          0.6487864256900213,
          0.7046774107134081,
          -1.8275035997285698,
          -1.2561220814441574,
          0.8648079555785866,
          1.2398062390269777,
          1.5470834554212618,
          -0.4454825332388899,
          -1.4880689915828327,
          -0.738397634159601,
          -0.36732803174497464,
          -0.5219859018248537,
          -0.10793021508035824,
          1.6030720602940183,
          1.1981071665048801,
          -0.0009961029876620706,
          0.111212367996999,
          -0.7986756374835384,
          -0.3126649986611836,
          -0.5904948556513827,
          -1.3826204461674614,
          2.6788582132331387,
          0.7839573434679493,
          -0.047862984084776475,
          0.6889032871954877,
          0.39966616125392346,
          -0.43566971474227745,
          2.0861224961894766,
          -0.4776941244058906,
          -1.1511082972505302,
          -0.4710654454917627,
          -0.18175710734427944,
          -0.6855040312566344,
          -1.5412892891831538,
          0.8311464475440197,
          -0.818964281498889,
          1.037211685095319,
          1.117239715972962,
          -0.29232705347009696,
          0.9038496269295024,
          0.611628653407918,
          0.9367173662598217,
          -0.2715131674594367,
          -0.24274004412887631,
          0.12403688842619563,
          -0.5676803256100553,
          2.598349746359133,
          -0.7335625073991564,
          2.19935547566327,
          1.2247442665380743,
          -1.3895443215751322,
          -1.9959607836346613,
          -0.5055580229875679,
          0.08932547950890063,
          -1.1497354981510886
         ],
         "xaxis": "x6",
         "yaxis": "y6"
        },
        {
         "line": {
          "color": "rgba(128, 128, 128, 1.0)",
          "dash": "solid",
          "shape": "linear",
          "width": 1.3
         },
         "marker": {
          "size": 2,
          "symbol": "circle"
         },
         "mode": "markers",
         "name": "B",
         "text": "",
         "type": "scatter",
         "x": [
          1.8257820565977334,
          -1.2735188378536204,
          0.7421338632914705,
          -0.26600503410857973,
          0.7922190533416104,
          0.8645852434050854,
          0.8248179849550689,
          -0.5633619928569527,
          0.24610510343448525,
          -0.9987284646444614,
          2.287940166044065,
          0.8062963717131537,
          -0.8934882978202076,
          -1.847176195184458,
          1.4720897086734064,
          1.5430244867715297,
          -0.84836931142563,
          1.1550990118605282,
          0.2918932917473354,
          0.7162477689567067,
          -0.9550265479628989,
          0.2521499994616166,
          -0.9939267568693048,
          0.24460112067766868,
          -0.5373252380583823,
          -1.0230532664606373,
          -0.9424681824067453,
          2.3426852155752456,
          -0.8920188830841775,
          0.5053181531378398,
          -2.1661872118166463,
          0.9708746207590014,
          0.06254801668454595,
          -1.9078668275518464,
          0.555159307106861,
          -2.16428187320761,
          -0.34560365011416877,
          -0.6837291461236665,
          -0.1634739592475344,
          0.2831706477830234,
          0.685246531863252,
          -0.9321228484676077,
          0.18315511904931162,
          -1.6267239569131882,
          1.694082509037288,
          0.5717073607861783,
          -1.7526967465512522,
          1.0460853003128228,
          0.01544291945912684,
          2.496407692774929,
          -0.5410046785615663,
          0.0683056909792122,
          0.9782736486727258,
          1.023525600709707,
          -1.206316287456762,
          -0.5685741503938172,
          1.1298551244844603,
          0.22408918915199863,
          -0.9374326793795863,
          0.587579043248385,
          1.3849914586037737,
          -0.24063283213448555,
          -1.6960932691511483,
          0.2886989196592537,
          0.80193843648745,
          2.084539988577566,
          -0.2334718304088673,
          -0.9716337613375888,
          -0.9853914916970022,
          -0.8370293811151239,
          0.882419018319776,
          -1.236429394123926,
          1.7140446214832983,
          -1.2869849485488811,
          0.9077359622624505,
          0.661988774323941,
          -1.0493749718367194,
          0.9494353260009003,
          0.9115781857995494,
          1.6685939029093948,
          -0.2785883516581504,
          -0.5381588512536185,
          -0.704378831015469,
          -1.375137724271894,
          0.057939601706218466,
          0.6140934720168916,
          1.535439446301107,
          0.5023467131899262,
          -0.9650822153038995,
          -0.6525239240020165,
          -0.3180906590768329,
          -1.1092731258949458,
          0.145404038644625,
          0.32870676388611253,
          -0.008068834877558549,
          1.4682066980932378,
          -0.43949674370711,
          -0.43700047416309373,
          -1.0334340839901797,
          0.12261326014475976
         ],
         "xaxis": "x7",
         "y": [
          -0.3035309217997338,
          1.8115843850413655,
          -1.8792276036095135,
          1.143909537806382,
          0.0923541450056231,
          0.13177410792440244,
          -1.644887018775058,
          2.0831971657948625,
          1.599452683208107,
          -0.0069964248626790074,
          0.8243911969905283,
          0.5956007854062508,
          0.39862711624745445,
          -1.666634755718817,
          -0.4089336921506136,
          -0.16298439036927434,
          1.0479183949966526,
          -0.9165492282798984,
          -0.4892264761249731,
          0.5123066799262901,
          0.7584021541015817,
          -0.08593360496991281,
          -0.24021553116689526,
          2.5039169522158864,
          -1.512037975593897,
          0.49113801984285316,
          -0.31871938863922766,
          0.7128543675798462,
          -0.14479570326040525,
          0.5279038708585918,
          1.0794313887626623,
          1.7106227788566175,
          -0.530919857654775,
          1.2540574714983195,
          0.7413750828160827,
          0.18458536123716268,
          1.0624029825522627,
          0.742424688303108,
          1.645819200054811,
          -1.1308745123092925,
          0.48757750365959723,
          0.04891773652933975,
          -0.6083669341853393,
          -0.5558964652700791,
          2.179562344673998,
          0.6487864256900213,
          0.7046774107134081,
          -1.8275035997285698,
          -1.2561220814441574,
          0.8648079555785866,
          1.2398062390269777,
          1.5470834554212618,
          -0.4454825332388899,
          -1.4880689915828327,
          -0.738397634159601,
          -0.36732803174497464,
          -0.5219859018248537,
          -0.10793021508035824,
          1.6030720602940183,
          1.1981071665048801,
          -0.0009961029876620706,
          0.111212367996999,
          -0.7986756374835384,
          -0.3126649986611836,
          -0.5904948556513827,
          -1.3826204461674614,
          2.6788582132331387,
          0.7839573434679493,
          -0.047862984084776475,
          0.6889032871954877,
          0.39966616125392346,
          -0.43566971474227745,
          2.0861224961894766,
          -0.4776941244058906,
          -1.1511082972505302,
          -0.4710654454917627,
          -0.18175710734427944,
          -0.6855040312566344,
          -1.5412892891831538,
          0.8311464475440197,
          -0.818964281498889,
          1.037211685095319,
          1.117239715972962,
          -0.29232705347009696,
          0.9038496269295024,
          0.611628653407918,
          0.9367173662598217,
          -0.2715131674594367,
          -0.24274004412887631,
          0.12403688842619563,
          -0.5676803256100553,
          2.598349746359133,
          -0.7335625073991564,
          2.19935547566327,
          1.2247442665380743,
          -1.3895443215751322,
          -1.9959607836346613,
          -0.5055580229875679,
          0.08932547950890063,
          -1.1497354981510886
         ],
         "yaxis": "y7"
        },
        {
         "line": {
          "color": "rgba(128, 128, 128, 1.0)",
          "dash": "solid",
          "shape": "linear",
          "width": 1.3
         },
         "marker": {
          "size": 2,
          "symbol": "circle"
         },
         "mode": "markers",
         "name": "B",
         "text": "",
         "type": "scatter",
         "x": [
          -1.1326481896719922,
          0.1885285818821884,
          1.0615292256120825,
          0.7809924239741028,
          0.8846964539089548,
          -0.9638545186415155,
          0.42086911955493667,
          1.2703691019691992,
          -1.3432331767219712,
          -1.0617993243707724,
          -1.8738496846904225,
          -0.11035088901470516,
          0.01546715467452033,
          -0.17632698335353136,
          0.7846340068087184,
          -0.20410872749059217,
          -0.5124727574309572,
          0.7711721011305227,
          0.3833044177475341,
          -0.27620215114831587,
          0.476632711081902,
          1.242897752429488,
          0.20127685439850612,
          0.23926589187498173,
          1.3721356333552794,
          0.45826528623040114,
          1.3091091644228308,
          0.6688287083095635,
          0.22354423506614307,
          0.5852027283493123,
          -1.532962735776844,
          0.24921425517137355,
          -0.7137083457306289,
          0.4578703319745816,
          -0.31286430611348254,
          -1.0404156744613575,
          -1.586694038565997,
          -0.5686161440828263,
          -0.45756233083759756,
          -0.4227049109356685,
          -1.9465995354023924,
          0.6010810396017673,
          -1.0872993381337408,
          1.6194316472392092,
          -0.7353964645930996,
          0.5966962006557646,
          0.28063564122756046,
          -0.6837196770834758,
          0.14722364570920157,
          -0.843811889967784,
          0.878043649206904,
          0.14766266762213434,
          -0.9417354415967973,
          1.7213928967786376,
          -0.9462751724787105,
          -0.04929166585125539,
          -0.20203221216333722,
          -1.0571002846578563,
          -0.4692756562304136,
          -1.5579732655543514,
          1.5341487128337716,
          -0.4529126678589696,
          -1.1674162718780299,
          -0.3669715522395409,
          0.5338343926292213,
          -0.5904890435986665,
          0.5880358473792844,
          0.18660546692090088,
          -0.6636077409449973,
          -0.4048675150255209,
          -0.15177822188704793,
          0.7271275309865648,
          0.8614177379139359,
          0.4862245134942477,
          0.7721574048318677,
          0.36893386998757294,
          -0.8708467086378487,
          0.8827036407013427,
          -0.23239578123966403,
          -2.3948271350592756,
          -0.7502782791825553,
          0.40389530605411045,
          0.1276427715052904,
          0.08847746546697365,
          -0.09714902305423827,
          -1.2907930321018086,
          -1.6093014493617885,
          0.9780070300867476,
          -1.408912628778127,
          0.8141484306884554,
          0.3779161194107192,
          0.7048601183584742,
          1.1860105629668631,
          -0.5045163571109417,
          0.4454471220079421,
          0.3854514039259868,
          -1.1051886838676843,
          0.8837033351939465,
          -0.495930574033308,
          -0.4240159220291364
         ],
         "xaxis": "x8",
         "y": [
          -0.3035309217997338,
          1.8115843850413655,
          -1.8792276036095135,
          1.143909537806382,
          0.0923541450056231,
          0.13177410792440244,
          -1.644887018775058,
          2.0831971657948625,
          1.599452683208107,
          -0.0069964248626790074,
          0.8243911969905283,
          0.5956007854062508,
          0.39862711624745445,
          -1.666634755718817,
          -0.4089336921506136,
          -0.16298439036927434,
          1.0479183949966526,
          -0.9165492282798984,
          -0.4892264761249731,
          0.5123066799262901,
          0.7584021541015817,
          -0.08593360496991281,
          -0.24021553116689526,
          2.5039169522158864,
          -1.512037975593897,
          0.49113801984285316,
          -0.31871938863922766,
          0.7128543675798462,
          -0.14479570326040525,
          0.5279038708585918,
          1.0794313887626623,
          1.7106227788566175,
          -0.530919857654775,
          1.2540574714983195,
          0.7413750828160827,
          0.18458536123716268,
          1.0624029825522627,
          0.742424688303108,
          1.645819200054811,
          -1.1308745123092925,
          0.48757750365959723,
          0.04891773652933975,
          -0.6083669341853393,
          -0.5558964652700791,
          2.179562344673998,
          0.6487864256900213,
          0.7046774107134081,
          -1.8275035997285698,
          -1.2561220814441574,
          0.8648079555785866,
          1.2398062390269777,
          1.5470834554212618,
          -0.4454825332388899,
          -1.4880689915828327,
          -0.738397634159601,
          -0.36732803174497464,
          -0.5219859018248537,
          -0.10793021508035824,
          1.6030720602940183,
          1.1981071665048801,
          -0.0009961029876620706,
          0.111212367996999,
          -0.7986756374835384,
          -0.3126649986611836,
          -0.5904948556513827,
          -1.3826204461674614,
          2.6788582132331387,
          0.7839573434679493,
          -0.047862984084776475,
          0.6889032871954877,
          0.39966616125392346,
          -0.43566971474227745,
          2.0861224961894766,
          -0.4776941244058906,
          -1.1511082972505302,
          -0.4710654454917627,
          -0.18175710734427944,
          -0.6855040312566344,
          -1.5412892891831538,
          0.8311464475440197,
          -0.818964281498889,
          1.037211685095319,
          1.117239715972962,
          -0.29232705347009696,
          0.9038496269295024,
          0.611628653407918,
          0.9367173662598217,
          -0.2715131674594367,
          -0.24274004412887631,
          0.12403688842619563,
          -0.5676803256100553,
          2.598349746359133,
          -0.7335625073991564,
          2.19935547566327,
          1.2247442665380743,
          -1.3895443215751322,
          -1.9959607836346613,
          -0.5055580229875679,
          0.08932547950890063,
          -1.1497354981510886
         ],
         "yaxis": "y8"
        },
        {
         "line": {
          "color": "rgba(128, 128, 128, 1.0)",
          "dash": "solid",
          "shape": "linear",
          "width": 1.3
         },
         "marker": {
          "size": 2,
          "symbol": "circle"
         },
         "mode": "markers",
         "name": "C",
         "text": "",
         "type": "scatter",
         "x": [
          -0.05200064226874029,
          -0.8113159106118665,
          0.3254513160889677,
          2.0243719651519982,
          -0.6911553098570636,
          0.14711298464909714,
          -0.35157182034498624,
          0.9532879835105003,
          -0.8216704344288754,
          0.5175801753746321,
          0.41567356984435533,
          -1.0844866973884586,
          -0.9725846811504144,
          1.700149892346811,
          0.6279829967620165,
          -0.5123058776570327,
          -1.074696149080149,
          -0.09302038535197567,
          1.4751683628167978,
          -0.5773238782912412,
          -0.09364536193895204,
          0.2681233002905114,
          -0.08199555259223776,
          0.9869233120457995,
          -0.9880212646580928,
          -0.39813389302184454,
          0.8355498904749294,
          1.115790672079572,
          0.36267502782180355,
          1.1181862543468475,
          -0.4189076767146306,
          -1.2153237513520625,
          -0.015024636036437649,
          -1.5506822070192006,
          0.7532059219095608,
          0.18240660304253964,
          1.2455834496116378,
          -0.03574479357530669,
          1.2037655493754456,
          -1.2899520019302864,
          -0.8014563612286134,
          -1.0339031667320415,
          0.3236806753652299,
          1.7106993971064204,
          0.6337221256461304,
          -0.2264012497122301,
          0.24491822787195103,
          0.5793968204959391,
          -0.34421215526457355,
          -0.046221892173959805,
          -1.2834202820087908,
          -0.1668613538033284,
          0.3530568801885448,
          0.0709962577140452,
          1.2704092433144563,
          -0.6400890854430192,
          2.0218498444532718,
          -1.7029255316020437,
          -0.16160730377732366,
          -0.3324363184731455,
          1.1092756550592138,
          -2.944437862373772,
          -1.587029132621606,
          -0.9030179130414271,
          0.09540976105920948,
          -1.6095452818271105,
          0.008031270192345178,
          1.1400678957010764,
          0.1029859128666487,
          0.2981919450460108,
          -1.3883363125564128,
          -1.1114416335765926,
          0.2903191896259501,
          1.2576586424029736,
          -1.2635782258578823,
          -1.3584173862735214,
          0.4601351131538541,
          -1.22363477749503,
          -1.4816683242901991,
          0.09952494040979772,
          -0.9927180045443987,
          1.7831281471414724,
          -1.5125446989452476,
          -0.12862030833779978,
          -2.464692567289804,
          1.9359339222011969,
          0.5744016876350877,
          -0.764371866302306,
          -0.48132549368563415,
          0.8871383768027442,
          1.3143968176324412,
          -0.5844808311773532,
          1.0384195926025745,
          -0.4420780596397459,
          1.4657803745339457,
          -0.7100001138145122,
          -1.1579221829233695,
          0.17407486591736138,
          -0.3361105830791442,
          0.4809916958319887
         ],
         "xaxis": "x9",
         "y": [
          1.8257820565977334,
          -1.2735188378536204,
          0.7421338632914705,
          -0.26600503410857973,
          0.7922190533416104,
          0.8645852434050854,
          0.8248179849550689,
          -0.5633619928569527,
          0.24610510343448525,
          -0.9987284646444614,
          2.287940166044065,
          0.8062963717131537,
          -0.8934882978202076,
          -1.847176195184458,
          1.4720897086734064,
          1.5430244867715297,
          -0.84836931142563,
          1.1550990118605282,
          0.2918932917473354,
          0.7162477689567067,
          -0.9550265479628989,
          0.2521499994616166,
          -0.9939267568693048,
          0.24460112067766868,
          -0.5373252380583823,
          -1.0230532664606373,
          -0.9424681824067453,
          2.3426852155752456,
          -0.8920188830841775,
          0.5053181531378398,
          -2.1661872118166463,
          0.9708746207590014,
          0.06254801668454595,
          -1.9078668275518464,
          0.555159307106861,
          -2.16428187320761,
          -0.34560365011416877,
          -0.6837291461236665,
          -0.1634739592475344,
          0.2831706477830234,
          0.685246531863252,
          -0.9321228484676077,
          0.18315511904931162,
          -1.6267239569131882,
          1.694082509037288,
          0.5717073607861783,
          -1.7526967465512522,
          1.0460853003128228,
          0.01544291945912684,
          2.496407692774929,
          -0.5410046785615663,
          0.0683056909792122,
          0.9782736486727258,
          1.023525600709707,
          -1.206316287456762,
          -0.5685741503938172,
          1.1298551244844603,
          0.22408918915199863,
          -0.9374326793795863,
          0.587579043248385,
          1.3849914586037737,
          -0.24063283213448555,
          -1.6960932691511483,
          0.2886989196592537,
          0.80193843648745,
          2.084539988577566,
          -0.2334718304088673,
          -0.9716337613375888,
          -0.9853914916970022,
          -0.8370293811151239,
          0.882419018319776,
          -1.236429394123926,
          1.7140446214832983,
          -1.2869849485488811,
          0.9077359622624505,
          0.661988774323941,
          -1.0493749718367194,
          0.9494353260009003,
          0.9115781857995494,
          1.6685939029093948,
          -0.2785883516581504,
          -0.5381588512536185,
          -0.704378831015469,
          -1.375137724271894,
          0.057939601706218466,
          0.6140934720168916,
          1.535439446301107,
          0.5023467131899262,
          -0.9650822153038995,
          -0.6525239240020165,
          -0.3180906590768329,
          -1.1092731258949458,
          0.145404038644625,
          0.32870676388611253,
          -0.008068834877558549,
          1.4682066980932378,
          -0.43949674370711,
          -0.43700047416309373,
          -1.0334340839901797,
          0.12261326014475976
         ],
         "yaxis": "y9"
        },
        {
         "line": {
          "color": "rgba(128, 128, 128, 1.0)",
          "dash": "solid",
          "shape": "linear",
          "width": 1.3
         },
         "marker": {
          "size": 2,
          "symbol": "circle"
         },
         "mode": "markers",
         "name": "C",
         "text": "",
         "type": "scatter",
         "x": [
          -0.3035309217997338,
          1.8115843850413655,
          -1.8792276036095135,
          1.143909537806382,
          0.0923541450056231,
          0.13177410792440244,
          -1.644887018775058,
          2.0831971657948625,
          1.599452683208107,
          -0.0069964248626790074,
          0.8243911969905283,
          0.5956007854062508,
          0.39862711624745445,
          -1.666634755718817,
          -0.4089336921506136,
          -0.16298439036927434,
          1.0479183949966526,
          -0.9165492282798984,
          -0.4892264761249731,
          0.5123066799262901,
          0.7584021541015817,
          -0.08593360496991281,
          -0.24021553116689526,
          2.5039169522158864,
          -1.512037975593897,
          0.49113801984285316,
          -0.31871938863922766,
          0.7128543675798462,
          -0.14479570326040525,
          0.5279038708585918,
          1.0794313887626623,
          1.7106227788566175,
          -0.530919857654775,
          1.2540574714983195,
          0.7413750828160827,
          0.18458536123716268,
          1.0624029825522627,
          0.742424688303108,
          1.645819200054811,
          -1.1308745123092925,
          0.48757750365959723,
          0.04891773652933975,
          -0.6083669341853393,
          -0.5558964652700791,
          2.179562344673998,
          0.6487864256900213,
          0.7046774107134081,
          -1.8275035997285698,
          -1.2561220814441574,
          0.8648079555785866,
          1.2398062390269777,
          1.5470834554212618,
          -0.4454825332388899,
          -1.4880689915828327,
          -0.738397634159601,
          -0.36732803174497464,
          -0.5219859018248537,
          -0.10793021508035824,
          1.6030720602940183,
          1.1981071665048801,
          -0.0009961029876620706,
          0.111212367996999,
          -0.7986756374835384,
          -0.3126649986611836,
          -0.5904948556513827,
          -1.3826204461674614,
          2.6788582132331387,
          0.7839573434679493,
          -0.047862984084776475,
          0.6889032871954877,
          0.39966616125392346,
          -0.43566971474227745,
          2.0861224961894766,
          -0.4776941244058906,
          -1.1511082972505302,
          -0.4710654454917627,
          -0.18175710734427944,
          -0.6855040312566344,
          -1.5412892891831538,
          0.8311464475440197,
          -0.818964281498889,
          1.037211685095319,
          1.117239715972962,
          -0.29232705347009696,
          0.9038496269295024,
          0.611628653407918,
          0.9367173662598217,
          -0.2715131674594367,
          -0.24274004412887631,
          0.12403688842619563,
          -0.5676803256100553,
          2.598349746359133,
          -0.7335625073991564,
          2.19935547566327,
          1.2247442665380743,
          -1.3895443215751322,
          -1.9959607836346613,
          -0.5055580229875679,
          0.08932547950890063,
          -1.1497354981510886
         ],
         "xaxis": "x10",
         "y": [
          1.8257820565977334,
          -1.2735188378536204,
          0.7421338632914705,
          -0.26600503410857973,
          0.7922190533416104,
          0.8645852434050854,
          0.8248179849550689,
          -0.5633619928569527,
          0.24610510343448525,
          -0.9987284646444614,
          2.287940166044065,
          0.8062963717131537,
          -0.8934882978202076,
          -1.847176195184458,
          1.4720897086734064,
          1.5430244867715297,
          -0.84836931142563,
          1.1550990118605282,
          0.2918932917473354,
          0.7162477689567067,
          -0.9550265479628989,
          0.2521499994616166,
          -0.9939267568693048,
          0.24460112067766868,
          -0.5373252380583823,
          -1.0230532664606373,
          -0.9424681824067453,
          2.3426852155752456,
          -0.8920188830841775,
          0.5053181531378398,
          -2.1661872118166463,
          0.9708746207590014,
          0.06254801668454595,
          -1.9078668275518464,
          0.555159307106861,
          -2.16428187320761,
          -0.34560365011416877,
          -0.6837291461236665,
          -0.1634739592475344,
          0.2831706477830234,
          0.685246531863252,
          -0.9321228484676077,
          0.18315511904931162,
          -1.6267239569131882,
          1.694082509037288,
          0.5717073607861783,
          -1.7526967465512522,
          1.0460853003128228,
          0.01544291945912684,
          2.496407692774929,
          -0.5410046785615663,
          0.0683056909792122,
          0.9782736486727258,
          1.023525600709707,
          -1.206316287456762,
          -0.5685741503938172,
          1.1298551244844603,
          0.22408918915199863,
          -0.9374326793795863,
          0.587579043248385,
          1.3849914586037737,
          -0.24063283213448555,
          -1.6960932691511483,
          0.2886989196592537,
          0.80193843648745,
          2.084539988577566,
          -0.2334718304088673,
          -0.9716337613375888,
          -0.9853914916970022,
          -0.8370293811151239,
          0.882419018319776,
          -1.236429394123926,
          1.7140446214832983,
          -1.2869849485488811,
          0.9077359622624505,
          0.661988774323941,
          -1.0493749718367194,
          0.9494353260009003,
          0.9115781857995494,
          1.6685939029093948,
          -0.2785883516581504,
          -0.5381588512536185,
          -0.704378831015469,
          -1.375137724271894,
          0.057939601706218466,
          0.6140934720168916,
          1.535439446301107,
          0.5023467131899262,
          -0.9650822153038995,
          -0.6525239240020165,
          -0.3180906590768329,
          -1.1092731258949458,
          0.145404038644625,
          0.32870676388611253,
          -0.008068834877558549,
          1.4682066980932378,
          -0.43949674370711,
          -0.43700047416309373,
          -1.0334340839901797,
          0.12261326014475976
         ],
         "yaxis": "y10"
        },
        {
         "histfunc": "count",
         "histnorm": "",
         "marker": {
          "color": "rgba(50, 171, 96, 1.0)",
          "line": {
           "color": "#4D5663",
           "width": 1.3
          }
         },
         "name": "C",
         "nbinsx": 10,
         "opacity": 0.8,
         "orientation": "v",
         "type": "histogram",
         "x": [
          1.8257820565977334,
          -1.2735188378536204,
          0.7421338632914705,
          -0.26600503410857973,
          0.7922190533416104,
          0.8645852434050854,
          0.8248179849550689,
          -0.5633619928569527,
          0.24610510343448525,
          -0.9987284646444614,
          2.287940166044065,
          0.8062963717131537,
          -0.8934882978202076,
          -1.847176195184458,
          1.4720897086734064,
          1.5430244867715297,
          -0.84836931142563,
          1.1550990118605282,
          0.2918932917473354,
          0.7162477689567067,
          -0.9550265479628989,
          0.2521499994616166,
          -0.9939267568693048,
          0.24460112067766868,
          -0.5373252380583823,
          -1.0230532664606373,
          -0.9424681824067453,
          2.3426852155752456,
          -0.8920188830841775,
          0.5053181531378398,
          -2.1661872118166463,
          0.9708746207590014,
          0.06254801668454595,
          -1.9078668275518464,
          0.555159307106861,
          -2.16428187320761,
          -0.34560365011416877,
          -0.6837291461236665,
          -0.1634739592475344,
          0.2831706477830234,
          0.685246531863252,
          -0.9321228484676077,
          0.18315511904931162,
          -1.6267239569131882,
          1.694082509037288,
          0.5717073607861783,
          -1.7526967465512522,
          1.0460853003128228,
          0.01544291945912684,
          2.496407692774929,
          -0.5410046785615663,
          0.0683056909792122,
          0.9782736486727258,
          1.023525600709707,
          -1.206316287456762,
          -0.5685741503938172,
          1.1298551244844603,
          0.22408918915199863,
          -0.9374326793795863,
          0.587579043248385,
          1.3849914586037737,
          -0.24063283213448555,
          -1.6960932691511483,
          0.2886989196592537,
          0.80193843648745,
          2.084539988577566,
          -0.2334718304088673,
          -0.9716337613375888,
          -0.9853914916970022,
          -0.8370293811151239,
          0.882419018319776,
          -1.236429394123926,
          1.7140446214832983,
          -1.2869849485488811,
          0.9077359622624505,
          0.661988774323941,
          -1.0493749718367194,
          0.9494353260009003,
          0.9115781857995494,
          1.6685939029093948,
          -0.2785883516581504,
          -0.5381588512536185,
          -0.704378831015469,
          -1.375137724271894,
          0.057939601706218466,
          0.6140934720168916,
          1.535439446301107,
          0.5023467131899262,
          -0.9650822153038995,
          -0.6525239240020165,
          -0.3180906590768329,
          -1.1092731258949458,
          0.145404038644625,
          0.32870676388611253,
          -0.008068834877558549,
          1.4682066980932378,
          -0.43949674370711,
          -0.43700047416309373,
          -1.0334340839901797,
          0.12261326014475976
         ],
         "xaxis": "x11",
         "yaxis": "y11"
        },
        {
         "line": {
          "color": "rgba(128, 128, 128, 1.0)",
          "dash": "solid",
          "shape": "linear",
          "width": 1.3
         },
         "marker": {
          "size": 2,
          "symbol": "circle"
         },
         "mode": "markers",
         "name": "C",
         "text": "",
         "type": "scatter",
         "x": [
          -1.1326481896719922,
          0.1885285818821884,
          1.0615292256120825,
          0.7809924239741028,
          0.8846964539089548,
          -0.9638545186415155,
          0.42086911955493667,
          1.2703691019691992,
          -1.3432331767219712,
          -1.0617993243707724,
          -1.8738496846904225,
          -0.11035088901470516,
          0.01546715467452033,
          -0.17632698335353136,
          0.7846340068087184,
          -0.20410872749059217,
          -0.5124727574309572,
          0.7711721011305227,
          0.3833044177475341,
          -0.27620215114831587,
          0.476632711081902,
          1.242897752429488,
          0.20127685439850612,
          0.23926589187498173,
          1.3721356333552794,
          0.45826528623040114,
          1.3091091644228308,
          0.6688287083095635,
          0.22354423506614307,
          0.5852027283493123,
          -1.532962735776844,
          0.24921425517137355,
          -0.7137083457306289,
          0.4578703319745816,
          -0.31286430611348254,
          -1.0404156744613575,
          -1.586694038565997,
          -0.5686161440828263,
          -0.45756233083759756,
          -0.4227049109356685,
          -1.9465995354023924,
          0.6010810396017673,
          -1.0872993381337408,
          1.6194316472392092,
          -0.7353964645930996,
          0.5966962006557646,
          0.28063564122756046,
          -0.6837196770834758,
          0.14722364570920157,
          -0.843811889967784,
          0.878043649206904,
          0.14766266762213434,
          -0.9417354415967973,
          1.7213928967786376,
          -0.9462751724787105,
          -0.04929166585125539,
          -0.20203221216333722,
          -1.0571002846578563,
          -0.4692756562304136,
          -1.5579732655543514,
          1.5341487128337716,
          -0.4529126678589696,
          -1.1674162718780299,
          -0.3669715522395409,
          0.5338343926292213,
          -0.5904890435986665,
          0.5880358473792844,
          0.18660546692090088,
          -0.6636077409449973,
          -0.4048675150255209,
          -0.15177822188704793,
          0.7271275309865648,
          0.8614177379139359,
          0.4862245134942477,
          0.7721574048318677,
          0.36893386998757294,
          -0.8708467086378487,
          0.8827036407013427,
          -0.23239578123966403,
          -2.3948271350592756,
          -0.7502782791825553,
          0.40389530605411045,
          0.1276427715052904,
          0.08847746546697365,
          -0.09714902305423827,
          -1.2907930321018086,
          -1.6093014493617885,
          0.9780070300867476,
          -1.408912628778127,
          0.8141484306884554,
          0.3779161194107192,
          0.7048601183584742,
          1.1860105629668631,
          -0.5045163571109417,
          0.4454471220079421,
          0.3854514039259868,
          -1.1051886838676843,
          0.8837033351939465,
          -0.495930574033308,
          -0.4240159220291364
         ],
         "xaxis": "x12",
         "y": [
          1.8257820565977334,
          -1.2735188378536204,
          0.7421338632914705,
          -0.26600503410857973,
          0.7922190533416104,
          0.8645852434050854,
          0.8248179849550689,
          -0.5633619928569527,
          0.24610510343448525,
          -0.9987284646444614,
          2.287940166044065,
          0.8062963717131537,
          -0.8934882978202076,
          -1.847176195184458,
          1.4720897086734064,
          1.5430244867715297,
          -0.84836931142563,
          1.1550990118605282,
          0.2918932917473354,
          0.7162477689567067,
          -0.9550265479628989,
          0.2521499994616166,
          -0.9939267568693048,
          0.24460112067766868,
          -0.5373252380583823,
          -1.0230532664606373,
          -0.9424681824067453,
          2.3426852155752456,
          -0.8920188830841775,
          0.5053181531378398,
          -2.1661872118166463,
          0.9708746207590014,
          0.06254801668454595,
          -1.9078668275518464,
          0.555159307106861,
          -2.16428187320761,
          -0.34560365011416877,
          -0.6837291461236665,
          -0.1634739592475344,
          0.2831706477830234,
          0.685246531863252,
          -0.9321228484676077,
          0.18315511904931162,
          -1.6267239569131882,
          1.694082509037288,
          0.5717073607861783,
          -1.7526967465512522,
          1.0460853003128228,
          0.01544291945912684,
          2.496407692774929,
          -0.5410046785615663,
          0.0683056909792122,
          0.9782736486727258,
          1.023525600709707,
          -1.206316287456762,
          -0.5685741503938172,
          1.1298551244844603,
          0.22408918915199863,
          -0.9374326793795863,
          0.587579043248385,
          1.3849914586037737,
          -0.24063283213448555,
          -1.6960932691511483,
          0.2886989196592537,
          0.80193843648745,
          2.084539988577566,
          -0.2334718304088673,
          -0.9716337613375888,
          -0.9853914916970022,
          -0.8370293811151239,
          0.882419018319776,
          -1.236429394123926,
          1.7140446214832983,
          -1.2869849485488811,
          0.9077359622624505,
          0.661988774323941,
          -1.0493749718367194,
          0.9494353260009003,
          0.9115781857995494,
          1.6685939029093948,
          -0.2785883516581504,
          -0.5381588512536185,
          -0.704378831015469,
          -1.375137724271894,
          0.057939601706218466,
          0.6140934720168916,
          1.535439446301107,
          0.5023467131899262,
          -0.9650822153038995,
          -0.6525239240020165,
          -0.3180906590768329,
          -1.1092731258949458,
          0.145404038644625,
          0.32870676388611253,
          -0.008068834877558549,
          1.4682066980932378,
          -0.43949674370711,
          -0.43700047416309373,
          -1.0334340839901797,
          0.12261326014475976
         ],
         "yaxis": "y12"
        },
        {
         "line": {
          "color": "rgba(128, 128, 128, 1.0)",
          "dash": "solid",
          "shape": "linear",
          "width": 1.3
         },
         "marker": {
          "size": 2,
          "symbol": "circle"
         },
         "mode": "markers",
         "name": "D",
         "text": "",
         "type": "scatter",
         "x": [
          -0.05200064226874029,
          -0.8113159106118665,
          0.3254513160889677,
          2.0243719651519982,
          -0.6911553098570636,
          0.14711298464909714,
          -0.35157182034498624,
          0.9532879835105003,
          -0.8216704344288754,
          0.5175801753746321,
          0.41567356984435533,
          -1.0844866973884586,
          -0.9725846811504144,
          1.700149892346811,
          0.6279829967620165,
          -0.5123058776570327,
          -1.074696149080149,
          -0.09302038535197567,
          1.4751683628167978,
          -0.5773238782912412,
          -0.09364536193895204,
          0.2681233002905114,
          -0.08199555259223776,
          0.9869233120457995,
          -0.9880212646580928,
          -0.39813389302184454,
          0.8355498904749294,
          1.115790672079572,
          0.36267502782180355,
          1.1181862543468475,
          -0.4189076767146306,
          -1.2153237513520625,
          -0.015024636036437649,
          -1.5506822070192006,
          0.7532059219095608,
          0.18240660304253964,
          1.2455834496116378,
          -0.03574479357530669,
          1.2037655493754456,
          -1.2899520019302864,
          -0.8014563612286134,
          -1.0339031667320415,
          0.3236806753652299,
          1.7106993971064204,
          0.6337221256461304,
          -0.2264012497122301,
          0.24491822787195103,
          0.5793968204959391,
          -0.34421215526457355,
          -0.046221892173959805,
          -1.2834202820087908,
          -0.1668613538033284,
          0.3530568801885448,
          0.0709962577140452,
          1.2704092433144563,
          -0.6400890854430192,
          2.0218498444532718,
          -1.7029255316020437,
          -0.16160730377732366,
          -0.3324363184731455,
          1.1092756550592138,
          -2.944437862373772,
          -1.587029132621606,
          -0.9030179130414271,
          0.09540976105920948,
          -1.6095452818271105,
          0.008031270192345178,
          1.1400678957010764,
          0.1029859128666487,
          0.2981919450460108,
          -1.3883363125564128,
          -1.1114416335765926,
          0.2903191896259501,
          1.2576586424029736,
          -1.2635782258578823,
          -1.3584173862735214,
          0.4601351131538541,
          -1.22363477749503,
          -1.4816683242901991,
          0.09952494040979772,
          -0.9927180045443987,
          1.7831281471414724,
          -1.5125446989452476,
          -0.12862030833779978,
          -2.464692567289804,
          1.9359339222011969,
          0.5744016876350877,
          -0.764371866302306,
          -0.48132549368563415,
          0.8871383768027442,
          1.3143968176324412,
          -0.5844808311773532,
          1.0384195926025745,
          -0.4420780596397459,
          1.4657803745339457,
          -0.7100001138145122,
          -1.1579221829233695,
          0.17407486591736138,
          -0.3361105830791442,
          0.4809916958319887
         ],
         "xaxis": "x13",
         "y": [
          -1.1326481896719922,
          0.1885285818821884,
          1.0615292256120825,
          0.7809924239741028,
          0.8846964539089548,
          -0.9638545186415155,
          0.42086911955493667,
          1.2703691019691992,
          -1.3432331767219712,
          -1.0617993243707724,
          -1.8738496846904225,
          -0.11035088901470516,
          0.01546715467452033,
          -0.17632698335353136,
          0.7846340068087184,
          -0.20410872749059217,
          -0.5124727574309572,
          0.7711721011305227,
          0.3833044177475341,
          -0.27620215114831587,
          0.476632711081902,
          1.242897752429488,
          0.20127685439850612,
          0.23926589187498173,
          1.3721356333552794,
          0.45826528623040114,
          1.3091091644228308,
          0.6688287083095635,
          0.22354423506614307,
          0.5852027283493123,
          -1.532962735776844,
          0.24921425517137355,
          -0.7137083457306289,
          0.4578703319745816,
          -0.31286430611348254,
          -1.0404156744613575,
          -1.586694038565997,
          -0.5686161440828263,
          -0.45756233083759756,
          -0.4227049109356685,
          -1.9465995354023924,
          0.6010810396017673,
          -1.0872993381337408,
          1.6194316472392092,
          -0.7353964645930996,
          0.5966962006557646,
          0.28063564122756046,
          -0.6837196770834758,
          0.14722364570920157,
          -0.843811889967784,
          0.878043649206904,
          0.14766266762213434,
          -0.9417354415967973,
          1.7213928967786376,
          -0.9462751724787105,
          -0.04929166585125539,
          -0.20203221216333722,
          -1.0571002846578563,
          -0.4692756562304136,
          -1.5579732655543514,
          1.5341487128337716,
          -0.4529126678589696,
          -1.1674162718780299,
          -0.3669715522395409,
          0.5338343926292213,
          -0.5904890435986665,
          0.5880358473792844,
          0.18660546692090088,
          -0.6636077409449973,
          -0.4048675150255209,
          -0.15177822188704793,
          0.7271275309865648,
          0.8614177379139359,
          0.4862245134942477,
          0.7721574048318677,
          0.36893386998757294,
          -0.8708467086378487,
          0.8827036407013427,
          -0.23239578123966403,
          -2.3948271350592756,
          -0.7502782791825553,
          0.40389530605411045,
          0.1276427715052904,
          0.08847746546697365,
          -0.09714902305423827,
          -1.2907930321018086,
          -1.6093014493617885,
          0.9780070300867476,
          -1.408912628778127,
          0.8141484306884554,
          0.3779161194107192,
          0.7048601183584742,
          1.1860105629668631,
          -0.5045163571109417,
          0.4454471220079421,
          0.3854514039259868,
          -1.1051886838676843,
          0.8837033351939465,
          -0.495930574033308,
          -0.4240159220291364
         ],
         "yaxis": "y13"
        },
        {
         "line": {
          "color": "rgba(128, 128, 128, 1.0)",
          "dash": "solid",
          "shape": "linear",
          "width": 1.3
         },
         "marker": {
          "size": 2,
          "symbol": "circle"
         },
         "mode": "markers",
         "name": "D",
         "text": "",
         "type": "scatter",
         "x": [
          -0.3035309217997338,
          1.8115843850413655,
          -1.8792276036095135,
          1.143909537806382,
          0.0923541450056231,
          0.13177410792440244,
          -1.644887018775058,
          2.0831971657948625,
          1.599452683208107,
          -0.0069964248626790074,
          0.8243911969905283,
          0.5956007854062508,
          0.39862711624745445,
          -1.666634755718817,
          -0.4089336921506136,
          -0.16298439036927434,
          1.0479183949966526,
          -0.9165492282798984,
          -0.4892264761249731,
          0.5123066799262901,
          0.7584021541015817,
          -0.08593360496991281,
          -0.24021553116689526,
          2.5039169522158864,
          -1.512037975593897,
          0.49113801984285316,
          -0.31871938863922766,
          0.7128543675798462,
          -0.14479570326040525,
          0.5279038708585918,
          1.0794313887626623,
          1.7106227788566175,
          -0.530919857654775,
          1.2540574714983195,
          0.7413750828160827,
          0.18458536123716268,
          1.0624029825522627,
          0.742424688303108,
          1.645819200054811,
          -1.1308745123092925,
          0.48757750365959723,
          0.04891773652933975,
          -0.6083669341853393,
          -0.5558964652700791,
          2.179562344673998,
          0.6487864256900213,
          0.7046774107134081,
          -1.8275035997285698,
          -1.2561220814441574,
          0.8648079555785866,
          1.2398062390269777,
          1.5470834554212618,
          -0.4454825332388899,
          -1.4880689915828327,
          -0.738397634159601,
          -0.36732803174497464,
          -0.5219859018248537,
          -0.10793021508035824,
          1.6030720602940183,
          1.1981071665048801,
          -0.0009961029876620706,
          0.111212367996999,
          -0.7986756374835384,
          -0.3126649986611836,
          -0.5904948556513827,
          -1.3826204461674614,
          2.6788582132331387,
          0.7839573434679493,
          -0.047862984084776475,
          0.6889032871954877,
          0.39966616125392346,
          -0.43566971474227745,
          2.0861224961894766,
          -0.4776941244058906,
          -1.1511082972505302,
          -0.4710654454917627,
          -0.18175710734427944,
          -0.6855040312566344,
          -1.5412892891831538,
          0.8311464475440197,
          -0.818964281498889,
          1.037211685095319,
          1.117239715972962,
          -0.29232705347009696,
          0.9038496269295024,
          0.611628653407918,
          0.9367173662598217,
          -0.2715131674594367,
          -0.24274004412887631,
          0.12403688842619563,
          -0.5676803256100553,
          2.598349746359133,
          -0.7335625073991564,
          2.19935547566327,
          1.2247442665380743,
          -1.3895443215751322,
          -1.9959607836346613,
          -0.5055580229875679,
          0.08932547950890063,
          -1.1497354981510886
         ],
         "xaxis": "x14",
         "y": [
          -1.1326481896719922,
          0.1885285818821884,
          1.0615292256120825,
          0.7809924239741028,
          0.8846964539089548,
          -0.9638545186415155,
          0.42086911955493667,
          1.2703691019691992,
          -1.3432331767219712,
          -1.0617993243707724,
          -1.8738496846904225,
          -0.11035088901470516,
          0.01546715467452033,
          -0.17632698335353136,
          0.7846340068087184,
          -0.20410872749059217,
          -0.5124727574309572,
          0.7711721011305227,
          0.3833044177475341,
          -0.27620215114831587,
          0.476632711081902,
          1.242897752429488,
          0.20127685439850612,
          0.23926589187498173,
          1.3721356333552794,
          0.45826528623040114,
          1.3091091644228308,
          0.6688287083095635,
          0.22354423506614307,
          0.5852027283493123,
          -1.532962735776844,
          0.24921425517137355,
          -0.7137083457306289,
          0.4578703319745816,
          -0.31286430611348254,
          -1.0404156744613575,
          -1.586694038565997,
          -0.5686161440828263,
          -0.45756233083759756,
          -0.4227049109356685,
          -1.9465995354023924,
          0.6010810396017673,
          -1.0872993381337408,
          1.6194316472392092,
          -0.7353964645930996,
          0.5966962006557646,
          0.28063564122756046,
          -0.6837196770834758,
          0.14722364570920157,
          -0.843811889967784,
          0.878043649206904,
          0.14766266762213434,
          -0.9417354415967973,
          1.7213928967786376,
          -0.9462751724787105,
          -0.04929166585125539,
          -0.20203221216333722,
          -1.0571002846578563,
          -0.4692756562304136,
          -1.5579732655543514,
          1.5341487128337716,
          -0.4529126678589696,
          -1.1674162718780299,
          -0.3669715522395409,
          0.5338343926292213,
          -0.5904890435986665,
          0.5880358473792844,
          0.18660546692090088,
          -0.6636077409449973,
          -0.4048675150255209,
          -0.15177822188704793,
          0.7271275309865648,
          0.8614177379139359,
          0.4862245134942477,
          0.7721574048318677,
          0.36893386998757294,
          -0.8708467086378487,
          0.8827036407013427,
          -0.23239578123966403,
          -2.3948271350592756,
          -0.7502782791825553,
          0.40389530605411045,
          0.1276427715052904,
          0.08847746546697365,
          -0.09714902305423827,
          -1.2907930321018086,
          -1.6093014493617885,
          0.9780070300867476,
          -1.408912628778127,
          0.8141484306884554,
          0.3779161194107192,
          0.7048601183584742,
          1.1860105629668631,
          -0.5045163571109417,
          0.4454471220079421,
          0.3854514039259868,
          -1.1051886838676843,
          0.8837033351939465,
          -0.495930574033308,
          -0.4240159220291364
         ],
         "yaxis": "y14"
        },
        {
         "line": {
          "color": "rgba(128, 128, 128, 1.0)",
          "dash": "solid",
          "shape": "linear",
          "width": 1.3
         },
         "marker": {
          "size": 2,
          "symbol": "circle"
         },
         "mode": "markers",
         "name": "D",
         "text": "",
         "type": "scatter",
         "x": [
          1.8257820565977334,
          -1.2735188378536204,
          0.7421338632914705,
          -0.26600503410857973,
          0.7922190533416104,
          0.8645852434050854,
          0.8248179849550689,
          -0.5633619928569527,
          0.24610510343448525,
          -0.9987284646444614,
          2.287940166044065,
          0.8062963717131537,
          -0.8934882978202076,
          -1.847176195184458,
          1.4720897086734064,
          1.5430244867715297,
          -0.84836931142563,
          1.1550990118605282,
          0.2918932917473354,
          0.7162477689567067,
          -0.9550265479628989,
          0.2521499994616166,
          -0.9939267568693048,
          0.24460112067766868,
          -0.5373252380583823,
          -1.0230532664606373,
          -0.9424681824067453,
          2.3426852155752456,
          -0.8920188830841775,
          0.5053181531378398,
          -2.1661872118166463,
          0.9708746207590014,
          0.06254801668454595,
          -1.9078668275518464,
          0.555159307106861,
          -2.16428187320761,
          -0.34560365011416877,
          -0.6837291461236665,
          -0.1634739592475344,
          0.2831706477830234,
          0.685246531863252,
          -0.9321228484676077,
          0.18315511904931162,
          -1.6267239569131882,
          1.694082509037288,
          0.5717073607861783,
          -1.7526967465512522,
          1.0460853003128228,
          0.01544291945912684,
          2.496407692774929,
          -0.5410046785615663,
          0.0683056909792122,
          0.9782736486727258,
          1.023525600709707,
          -1.206316287456762,
          -0.5685741503938172,
          1.1298551244844603,
          0.22408918915199863,
          -0.9374326793795863,
          0.587579043248385,
          1.3849914586037737,
          -0.24063283213448555,
          -1.6960932691511483,
          0.2886989196592537,
          0.80193843648745,
          2.084539988577566,
          -0.2334718304088673,
          -0.9716337613375888,
          -0.9853914916970022,
          -0.8370293811151239,
          0.882419018319776,
          -1.236429394123926,
          1.7140446214832983,
          -1.2869849485488811,
          0.9077359622624505,
          0.661988774323941,
          -1.0493749718367194,
          0.9494353260009003,
          0.9115781857995494,
          1.6685939029093948,
          -0.2785883516581504,
          -0.5381588512536185,
          -0.704378831015469,
          -1.375137724271894,
          0.057939601706218466,
          0.6140934720168916,
          1.535439446301107,
          0.5023467131899262,
          -0.9650822153038995,
          -0.6525239240020165,
          -0.3180906590768329,
          -1.1092731258949458,
          0.145404038644625,
          0.32870676388611253,
          -0.008068834877558549,
          1.4682066980932378,
          -0.43949674370711,
          -0.43700047416309373,
          -1.0334340839901797,
          0.12261326014475976
         ],
         "xaxis": "x15",
         "y": [
          -1.1326481896719922,
          0.1885285818821884,
          1.0615292256120825,
          0.7809924239741028,
          0.8846964539089548,
          -0.9638545186415155,
          0.42086911955493667,
          1.2703691019691992,
          -1.3432331767219712,
          -1.0617993243707724,
          -1.8738496846904225,
          -0.11035088901470516,
          0.01546715467452033,
          -0.17632698335353136,
          0.7846340068087184,
          -0.20410872749059217,
          -0.5124727574309572,
          0.7711721011305227,
          0.3833044177475341,
          -0.27620215114831587,
          0.476632711081902,
          1.242897752429488,
          0.20127685439850612,
          0.23926589187498173,
          1.3721356333552794,
          0.45826528623040114,
          1.3091091644228308,
          0.6688287083095635,
          0.22354423506614307,
          0.5852027283493123,
          -1.532962735776844,
          0.24921425517137355,
          -0.7137083457306289,
          0.4578703319745816,
          -0.31286430611348254,
          -1.0404156744613575,
          -1.586694038565997,
          -0.5686161440828263,
          -0.45756233083759756,
          -0.4227049109356685,
          -1.9465995354023924,
          0.6010810396017673,
          -1.0872993381337408,
          1.6194316472392092,
          -0.7353964645930996,
          0.5966962006557646,
          0.28063564122756046,
          -0.6837196770834758,
          0.14722364570920157,
          -0.843811889967784,
          0.878043649206904,
          0.14766266762213434,
          -0.9417354415967973,
          1.7213928967786376,
          -0.9462751724787105,
          -0.04929166585125539,
          -0.20203221216333722,
          -1.0571002846578563,
          -0.4692756562304136,
          -1.5579732655543514,
          1.5341487128337716,
          -0.4529126678589696,
          -1.1674162718780299,
          -0.3669715522395409,
          0.5338343926292213,
          -0.5904890435986665,
          0.5880358473792844,
          0.18660546692090088,
          -0.6636077409449973,
          -0.4048675150255209,
          -0.15177822188704793,
          0.7271275309865648,
          0.8614177379139359,
          0.4862245134942477,
          0.7721574048318677,
          0.36893386998757294,
          -0.8708467086378487,
          0.8827036407013427,
          -0.23239578123966403,
          -2.3948271350592756,
          -0.7502782791825553,
          0.40389530605411045,
          0.1276427715052904,
          0.08847746546697365,
          -0.09714902305423827,
          -1.2907930321018086,
          -1.6093014493617885,
          0.9780070300867476,
          -1.408912628778127,
          0.8141484306884554,
          0.3779161194107192,
          0.7048601183584742,
          1.1860105629668631,
          -0.5045163571109417,
          0.4454471220079421,
          0.3854514039259868,
          -1.1051886838676843,
          0.8837033351939465,
          -0.495930574033308,
          -0.4240159220291364
         ],
         "yaxis": "y15"
        },
        {
         "histfunc": "count",
         "histnorm": "",
         "marker": {
          "color": "rgba(128, 0, 128, 1.0)",
          "line": {
           "color": "#4D5663",
           "width": 1.3
          }
         },
         "name": "D",
         "nbinsx": 10,
         "opacity": 0.8,
         "orientation": "v",
         "type": "histogram",
         "x": [
          -1.1326481896719922,
          0.1885285818821884,
          1.0615292256120825,
          0.7809924239741028,
          0.8846964539089548,
          -0.9638545186415155,
          0.42086911955493667,
          1.2703691019691992,
          -1.3432331767219712,
          -1.0617993243707724,
          -1.8738496846904225,
          -0.11035088901470516,
          0.01546715467452033,
          -0.17632698335353136,
          0.7846340068087184,
          -0.20410872749059217,
          -0.5124727574309572,
          0.7711721011305227,
          0.3833044177475341,
          -0.27620215114831587,
          0.476632711081902,
          1.242897752429488,
          0.20127685439850612,
          0.23926589187498173,
          1.3721356333552794,
          0.45826528623040114,
          1.3091091644228308,
          0.6688287083095635,
          0.22354423506614307,
          0.5852027283493123,
          -1.532962735776844,
          0.24921425517137355,
          -0.7137083457306289,
          0.4578703319745816,
          -0.31286430611348254,
          -1.0404156744613575,
          -1.586694038565997,
          -0.5686161440828263,
          -0.45756233083759756,
          -0.4227049109356685,
          -1.9465995354023924,
          0.6010810396017673,
          -1.0872993381337408,
          1.6194316472392092,
          -0.7353964645930996,
          0.5966962006557646,
          0.28063564122756046,
          -0.6837196770834758,
          0.14722364570920157,
          -0.843811889967784,
          0.878043649206904,
          0.14766266762213434,
          -0.9417354415967973,
          1.7213928967786376,
          -0.9462751724787105,
          -0.04929166585125539,
          -0.20203221216333722,
          -1.0571002846578563,
          -0.4692756562304136,
          -1.5579732655543514,
          1.5341487128337716,
          -0.4529126678589696,
          -1.1674162718780299,
          -0.3669715522395409,
          0.5338343926292213,
          -0.5904890435986665,
          0.5880358473792844,
          0.18660546692090088,
          -0.6636077409449973,
          -0.4048675150255209,
          -0.15177822188704793,
          0.7271275309865648,
          0.8614177379139359,
          0.4862245134942477,
          0.7721574048318677,
          0.36893386998757294,
          -0.8708467086378487,
          0.8827036407013427,
          -0.23239578123966403,
          -2.3948271350592756,
          -0.7502782791825553,
          0.40389530605411045,
          0.1276427715052904,
          0.08847746546697365,
          -0.09714902305423827,
          -1.2907930321018086,
          -1.6093014493617885,
          0.9780070300867476,
          -1.408912628778127,
          0.8141484306884554,
          0.3779161194107192,
          0.7048601183584742,
          1.1860105629668631,
          -0.5045163571109417,
          0.4454471220079421,
          0.3854514039259868,
          -1.1051886838676843,
          0.8837033351939465,
          -0.495930574033308,
          -0.4240159220291364
         ],
         "xaxis": "x16",
         "yaxis": "y16"
        }
       ],
       "layout": {
        "bargap": 0.02,
        "legend": {
         "bgcolor": "#F5F6F9",
         "font": {
          "color": "#4D5663"
         }
        },
        "paper_bgcolor": "#F5F6F9",
        "plot_bgcolor": "#F5F6F9",
        "showlegend": false,
        "template": {
         "data": {
          "bar": [
           {
            "error_x": {
             "color": "#2a3f5f"
            },
            "error_y": {
             "color": "#2a3f5f"
            },
            "marker": {
             "line": {
              "color": "#E5ECF6",
              "width": 0.5
             }
            },
            "type": "bar"
           }
          ],
          "barpolar": [
           {
            "marker": {
             "line": {
              "color": "#E5ECF6",
              "width": 0.5
             }
            },
            "type": "barpolar"
           }
          ],
          "carpet": [
           {
            "aaxis": {
             "endlinecolor": "#2a3f5f",
             "gridcolor": "white",
             "linecolor": "white",
             "minorgridcolor": "white",
             "startlinecolor": "#2a3f5f"
            },
            "baxis": {
             "endlinecolor": "#2a3f5f",
             "gridcolor": "white",
             "linecolor": "white",
             "minorgridcolor": "white",
             "startlinecolor": "#2a3f5f"
            },
            "type": "carpet"
           }
          ],
          "choropleth": [
           {
            "colorbar": {
             "outlinewidth": 0,
             "ticks": ""
            },
            "type": "choropleth"
           }
          ],
          "contour": [
           {
            "colorbar": {
             "outlinewidth": 0,
             "ticks": ""
            },
            "colorscale": [
             [
              0,
              "#0d0887"
             ],
             [
              0.1111111111111111,
              "#46039f"
             ],
             [
              0.2222222222222222,
              "#7201a8"
             ],
             [
              0.3333333333333333,
              "#9c179e"
             ],
             [
              0.4444444444444444,
              "#bd3786"
             ],
             [
              0.5555555555555556,
              "#d8576b"
             ],
             [
              0.6666666666666666,
              "#ed7953"
             ],
             [
              0.7777777777777778,
              "#fb9f3a"
             ],
             [
              0.8888888888888888,
              "#fdca26"
             ],
             [
              1,
              "#f0f921"
             ]
            ],
            "type": "contour"
           }
          ],
          "contourcarpet": [
           {
            "colorbar": {
             "outlinewidth": 0,
             "ticks": ""
            },
            "type": "contourcarpet"
           }
          ],
          "heatmap": [
           {
            "colorbar": {
             "outlinewidth": 0,
             "ticks": ""
            },
            "colorscale": [
             [
              0,
              "#0d0887"
             ],
             [
              0.1111111111111111,
              "#46039f"
             ],
             [
              0.2222222222222222,
              "#7201a8"
             ],
             [
              0.3333333333333333,
              "#9c179e"
             ],
             [
              0.4444444444444444,
              "#bd3786"
             ],
             [
              0.5555555555555556,
              "#d8576b"
             ],
             [
              0.6666666666666666,
              "#ed7953"
             ],
             [
              0.7777777777777778,
              "#fb9f3a"
             ],
             [
              0.8888888888888888,
              "#fdca26"
             ],
             [
              1,
              "#f0f921"
             ]
            ],
            "type": "heatmap"
           }
          ],
          "heatmapgl": [
           {
            "colorbar": {
             "outlinewidth": 0,
             "ticks": ""
            },
            "colorscale": [
             [
              0,
              "#0d0887"
             ],
             [
              0.1111111111111111,
              "#46039f"
             ],
             [
              0.2222222222222222,
              "#7201a8"
             ],
             [
              0.3333333333333333,
              "#9c179e"
             ],
             [
              0.4444444444444444,
              "#bd3786"
             ],
             [
              0.5555555555555556,
              "#d8576b"
             ],
             [
              0.6666666666666666,
              "#ed7953"
             ],
             [
              0.7777777777777778,
              "#fb9f3a"
             ],
             [
              0.8888888888888888,
              "#fdca26"
             ],
             [
              1,
              "#f0f921"
             ]
            ],
            "type": "heatmapgl"
           }
          ],
          "histogram": [
           {
            "marker": {
             "colorbar": {
              "outlinewidth": 0,
              "ticks": ""
             }
            },
            "type": "histogram"
           }
          ],
          "histogram2d": [
           {
            "colorbar": {
             "outlinewidth": 0,
             "ticks": ""
            },
            "colorscale": [
             [
              0,
              "#0d0887"
             ],
             [
              0.1111111111111111,
              "#46039f"
             ],
             [
              0.2222222222222222,
              "#7201a8"
             ],
             [
              0.3333333333333333,
              "#9c179e"
             ],
             [
              0.4444444444444444,
              "#bd3786"
             ],
             [
              0.5555555555555556,
              "#d8576b"
             ],
             [
              0.6666666666666666,
              "#ed7953"
             ],
             [
              0.7777777777777778,
              "#fb9f3a"
             ],
             [
              0.8888888888888888,
              "#fdca26"
             ],
             [
              1,
              "#f0f921"
             ]
            ],
            "type": "histogram2d"
           }
          ],
          "histogram2dcontour": [
           {
            "colorbar": {
             "outlinewidth": 0,
             "ticks": ""
            },
            "colorscale": [
             [
              0,
              "#0d0887"
             ],
             [
              0.1111111111111111,
              "#46039f"
             ],
             [
              0.2222222222222222,
              "#7201a8"
             ],
             [
              0.3333333333333333,
              "#9c179e"
             ],
             [
              0.4444444444444444,
              "#bd3786"
             ],
             [
              0.5555555555555556,
              "#d8576b"
             ],
             [
              0.6666666666666666,
              "#ed7953"
             ],
             [
              0.7777777777777778,
              "#fb9f3a"
             ],
             [
              0.8888888888888888,
              "#fdca26"
             ],
             [
              1,
              "#f0f921"
             ]
            ],
            "type": "histogram2dcontour"
           }
          ],
          "mesh3d": [
           {
            "colorbar": {
             "outlinewidth": 0,
             "ticks": ""
            },
            "type": "mesh3d"
           }
          ],
          "parcoords": [
           {
            "line": {
             "colorbar": {
              "outlinewidth": 0,
              "ticks": ""
             }
            },
            "type": "parcoords"
           }
          ],
          "pie": [
           {
            "automargin": true,
            "type": "pie"
           }
          ],
          "scatter": [
           {
            "marker": {
             "colorbar": {
              "outlinewidth": 0,
              "ticks": ""
             }
            },
            "type": "scatter"
           }
          ],
          "scatter3d": [
           {
            "line": {
             "colorbar": {
              "outlinewidth": 0,
              "ticks": ""
             }
            },
            "marker": {
             "colorbar": {
              "outlinewidth": 0,
              "ticks": ""
             }
            },
            "type": "scatter3d"
           }
          ],
          "scattercarpet": [
           {
            "marker": {
             "colorbar": {
              "outlinewidth": 0,
              "ticks": ""
             }
            },
            "type": "scattercarpet"
           }
          ],
          "scattergeo": [
           {
            "marker": {
             "colorbar": {
              "outlinewidth": 0,
              "ticks": ""
             }
            },
            "type": "scattergeo"
           }
          ],
          "scattergl": [
           {
            "marker": {
             "colorbar": {
              "outlinewidth": 0,
              "ticks": ""
             }
            },
            "type": "scattergl"
           }
          ],
          "scattermapbox": [
           {
            "marker": {
             "colorbar": {
              "outlinewidth": 0,
              "ticks": ""
             }
            },
            "type": "scattermapbox"
           }
          ],
          "scatterpolar": [
           {
            "marker": {
             "colorbar": {
              "outlinewidth": 0,
              "ticks": ""
             }
            },
            "type": "scatterpolar"
           }
          ],
          "scatterpolargl": [
           {
            "marker": {
             "colorbar": {
              "outlinewidth": 0,
              "ticks": ""
             }
            },
            "type": "scatterpolargl"
           }
          ],
          "scatterternary": [
           {
            "marker": {
             "colorbar": {
              "outlinewidth": 0,
              "ticks": ""
             }
            },
            "type": "scatterternary"
           }
          ],
          "surface": [
           {
            "colorbar": {
             "outlinewidth": 0,
             "ticks": ""
            },
            "colorscale": [
             [
              0,
              "#0d0887"
             ],
             [
              0.1111111111111111,
              "#46039f"
             ],
             [
              0.2222222222222222,
              "#7201a8"
             ],
             [
              0.3333333333333333,
              "#9c179e"
             ],
             [
              0.4444444444444444,
              "#bd3786"
             ],
             [
              0.5555555555555556,
              "#d8576b"
             ],
             [
              0.6666666666666666,
              "#ed7953"
             ],
             [
              0.7777777777777778,
              "#fb9f3a"
             ],
             [
              0.8888888888888888,
              "#fdca26"
             ],
             [
              1,
              "#f0f921"
             ]
            ],
            "type": "surface"
           }
          ],
          "table": [
           {
            "cells": {
             "fill": {
              "color": "#EBF0F8"
             },
             "line": {
              "color": "white"
             }
            },
            "header": {
             "fill": {
              "color": "#C8D4E3"
             },
             "line": {
              "color": "white"
             }
            },
            "type": "table"
           }
          ]
         },
         "layout": {
          "annotationdefaults": {
           "arrowcolor": "#2a3f5f",
           "arrowhead": 0,
           "arrowwidth": 1
          },
          "coloraxis": {
           "colorbar": {
            "outlinewidth": 0,
            "ticks": ""
           }
          },
          "colorscale": {
           "diverging": [
            [
             0,
             "#8e0152"
            ],
            [
             0.1,
             "#c51b7d"
            ],
            [
             0.2,
             "#de77ae"
            ],
            [
             0.3,
             "#f1b6da"
            ],
            [
             0.4,
             "#fde0ef"
            ],
            [
             0.5,
             "#f7f7f7"
            ],
            [
             0.6,
             "#e6f5d0"
            ],
            [
             0.7,
             "#b8e186"
            ],
            [
             0.8,
             "#7fbc41"
            ],
            [
             0.9,
             "#4d9221"
            ],
            [
             1,
             "#276419"
            ]
           ],
           "sequential": [
            [
             0,
             "#0d0887"
            ],
            [
             0.1111111111111111,
             "#46039f"
            ],
            [
             0.2222222222222222,
             "#7201a8"
            ],
            [
             0.3333333333333333,
             "#9c179e"
            ],
            [
             0.4444444444444444,
             "#bd3786"
            ],
            [
             0.5555555555555556,
             "#d8576b"
            ],
            [
             0.6666666666666666,
             "#ed7953"
            ],
            [
             0.7777777777777778,
             "#fb9f3a"
            ],
            [
             0.8888888888888888,
             "#fdca26"
            ],
            [
             1,
             "#f0f921"
            ]
           ],
           "sequentialminus": [
            [
             0,
             "#0d0887"
            ],
            [
             0.1111111111111111,
             "#46039f"
            ],
            [
             0.2222222222222222,
             "#7201a8"
            ],
            [
             0.3333333333333333,
             "#9c179e"
            ],
            [
             0.4444444444444444,
             "#bd3786"
            ],
            [
             0.5555555555555556,
             "#d8576b"
            ],
            [
             0.6666666666666666,
             "#ed7953"
            ],
            [
             0.7777777777777778,
             "#fb9f3a"
            ],
            [
             0.8888888888888888,
             "#fdca26"
            ],
            [
             1,
             "#f0f921"
            ]
           ]
          },
          "colorway": [
           "#636efa",
           "#EF553B",
           "#00cc96",
           "#ab63fa",
           "#FFA15A",
           "#19d3f3",
           "#FF6692",
           "#B6E880",
           "#FF97FF",
           "#FECB52"
          ],
          "font": {
           "color": "#2a3f5f"
          },
          "geo": {
           "bgcolor": "white",
           "lakecolor": "white",
           "landcolor": "#E5ECF6",
           "showlakes": true,
           "showland": true,
           "subunitcolor": "white"
          },
          "hoverlabel": {
           "align": "left"
          },
          "hovermode": "closest",
          "mapbox": {
           "style": "light"
          },
          "paper_bgcolor": "white",
          "plot_bgcolor": "#E5ECF6",
          "polar": {
           "angularaxis": {
            "gridcolor": "white",
            "linecolor": "white",
            "ticks": ""
           },
           "bgcolor": "#E5ECF6",
           "radialaxis": {
            "gridcolor": "white",
            "linecolor": "white",
            "ticks": ""
           }
          },
          "scene": {
           "xaxis": {
            "backgroundcolor": "#E5ECF6",
            "gridcolor": "white",
            "gridwidth": 2,
            "linecolor": "white",
            "showbackground": true,
            "ticks": "",
            "zerolinecolor": "white"
           },
           "yaxis": {
            "backgroundcolor": "#E5ECF6",
            "gridcolor": "white",
            "gridwidth": 2,
            "linecolor": "white",
            "showbackground": true,
            "ticks": "",
            "zerolinecolor": "white"
           },
           "zaxis": {
            "backgroundcolor": "#E5ECF6",
            "gridcolor": "white",
            "gridwidth": 2,
            "linecolor": "white",
            "showbackground": true,
            "ticks": "",
            "zerolinecolor": "white"
           }
          },
          "shapedefaults": {
           "line": {
            "color": "#2a3f5f"
           }
          },
          "ternary": {
           "aaxis": {
            "gridcolor": "white",
            "linecolor": "white",
            "ticks": ""
           },
           "baxis": {
            "gridcolor": "white",
            "linecolor": "white",
            "ticks": ""
           },
           "bgcolor": "#E5ECF6",
           "caxis": {
            "gridcolor": "white",
            "linecolor": "white",
            "ticks": ""
           }
          },
          "title": {
           "x": 0.05
          },
          "xaxis": {
           "automargin": true,
           "gridcolor": "white",
           "linecolor": "white",
           "ticks": "",
           "title": {
            "standoff": 15
           },
           "zerolinecolor": "white",
           "zerolinewidth": 2
          },
          "yaxis": {
           "automargin": true,
           "gridcolor": "white",
           "linecolor": "white",
           "ticks": "",
           "title": {
            "standoff": 15
           },
           "zerolinecolor": "white",
           "zerolinewidth": 2
          }
         }
        },
        "title": {
         "font": {
          "color": "#4D5663"
         }
        },
        "xaxis": {
         "anchor": "y",
         "domain": [
          0,
          0.2125
         ],
         "gridcolor": "#E1E5ED",
         "showgrid": false,
         "tickfont": {
          "color": "#4D5663"
         },
         "title": {
          "font": {
           "color": "#4D5663"
          },
          "text": ""
         },
         "zerolinecolor": "#E1E5ED"
        },
        "xaxis10": {
         "anchor": "y10",
         "domain": [
          0.2625,
          0.475
         ],
         "gridcolor": "#E1E5ED",
         "showgrid": false,
         "tickfont": {
          "color": "#4D5663"
         },
         "title": {
          "font": {
           "color": "#4D5663"
          },
          "text": ""
         },
         "zerolinecolor": "#E1E5ED"
        },
        "xaxis11": {
         "anchor": "y11",
         "domain": [
          0.525,
          0.7375
         ],
         "gridcolor": "#E1E5ED",
         "showgrid": false,
         "tickfont": {
          "color": "#4D5663"
         },
         "title": {
          "font": {
           "color": "#4D5663"
          },
          "text": ""
         },
         "zerolinecolor": "#E1E5ED"
        },
        "xaxis12": {
         "anchor": "y12",
         "domain": [
          0.7875,
          1
         ],
         "gridcolor": "#E1E5ED",
         "showgrid": false,
         "tickfont": {
          "color": "#4D5663"
         },
         "title": {
          "font": {
           "color": "#4D5663"
          },
          "text": ""
         },
         "zerolinecolor": "#E1E5ED"
        },
        "xaxis13": {
         "anchor": "y13",
         "domain": [
          0,
          0.2125
         ],
         "gridcolor": "#E1E5ED",
         "showgrid": false,
         "tickfont": {
          "color": "#4D5663"
         },
         "title": {
          "font": {
           "color": "#4D5663"
          },
          "text": ""
         },
         "zerolinecolor": "#E1E5ED"
        },
        "xaxis14": {
         "anchor": "y14",
         "domain": [
          0.2625,
          0.475
         ],
         "gridcolor": "#E1E5ED",
         "showgrid": false,
         "tickfont": {
          "color": "#4D5663"
         },
         "title": {
          "font": {
           "color": "#4D5663"
          },
          "text": ""
         },
         "zerolinecolor": "#E1E5ED"
        },
        "xaxis15": {
         "anchor": "y15",
         "domain": [
          0.525,
          0.7375
         ],
         "gridcolor": "#E1E5ED",
         "showgrid": false,
         "tickfont": {
          "color": "#4D5663"
         },
         "title": {
          "font": {
           "color": "#4D5663"
          },
          "text": ""
         },
         "zerolinecolor": "#E1E5ED"
        },
        "xaxis16": {
         "anchor": "y16",
         "domain": [
          0.7875,
          1
         ],
         "gridcolor": "#E1E5ED",
         "showgrid": false,
         "tickfont": {
          "color": "#4D5663"
         },
         "title": {
          "font": {
           "color": "#4D5663"
          },
          "text": ""
         },
         "zerolinecolor": "#E1E5ED"
        },
        "xaxis2": {
         "anchor": "y2",
         "domain": [
          0.2625,
          0.475
         ],
         "gridcolor": "#E1E5ED",
         "showgrid": false,
         "tickfont": {
          "color": "#4D5663"
         },
         "title": {
          "font": {
           "color": "#4D5663"
          },
          "text": ""
         },
         "zerolinecolor": "#E1E5ED"
        },
        "xaxis3": {
         "anchor": "y3",
         "domain": [
          0.525,
          0.7375
         ],
         "gridcolor": "#E1E5ED",
         "showgrid": false,
         "tickfont": {
          "color": "#4D5663"
         },
         "title": {
          "font": {
           "color": "#4D5663"
          },
          "text": ""
         },
         "zerolinecolor": "#E1E5ED"
        },
        "xaxis4": {
         "anchor": "y4",
         "domain": [
          0.7875,
          1
         ],
         "gridcolor": "#E1E5ED",
         "showgrid": false,
         "tickfont": {
          "color": "#4D5663"
         },
         "title": {
          "font": {
           "color": "#4D5663"
          },
          "text": ""
         },
         "zerolinecolor": "#E1E5ED"
        },
        "xaxis5": {
         "anchor": "y5",
         "domain": [
          0,
          0.2125
         ],
         "gridcolor": "#E1E5ED",
         "showgrid": false,
         "tickfont": {
          "color": "#4D5663"
         },
         "title": {
          "font": {
           "color": "#4D5663"
          },
          "text": ""
         },
         "zerolinecolor": "#E1E5ED"
        },
        "xaxis6": {
         "anchor": "y6",
         "domain": [
          0.2625,
          0.475
         ],
         "gridcolor": "#E1E5ED",
         "showgrid": false,
         "tickfont": {
          "color": "#4D5663"
         },
         "title": {
          "font": {
           "color": "#4D5663"
          },
          "text": ""
         },
         "zerolinecolor": "#E1E5ED"
        },
        "xaxis7": {
         "anchor": "y7",
         "domain": [
          0.525,
          0.7375
         ],
         "gridcolor": "#E1E5ED",
         "showgrid": false,
         "tickfont": {
          "color": "#4D5663"
         },
         "title": {
          "font": {
           "color": "#4D5663"
          },
          "text": ""
         },
         "zerolinecolor": "#E1E5ED"
        },
        "xaxis8": {
         "anchor": "y8",
         "domain": [
          0.7875,
          1
         ],
         "gridcolor": "#E1E5ED",
         "showgrid": false,
         "tickfont": {
          "color": "#4D5663"
         },
         "title": {
          "font": {
           "color": "#4D5663"
          },
          "text": ""
         },
         "zerolinecolor": "#E1E5ED"
        },
        "xaxis9": {
         "anchor": "y9",
         "domain": [
          0,
          0.2125
         ],
         "gridcolor": "#E1E5ED",
         "showgrid": false,
         "tickfont": {
          "color": "#4D5663"
         },
         "title": {
          "font": {
           "color": "#4D5663"
          },
          "text": ""
         },
         "zerolinecolor": "#E1E5ED"
        },
        "yaxis": {
         "anchor": "x",
         "domain": [
          0.8025,
          1
         ],
         "gridcolor": "#E1E5ED",
         "showgrid": false,
         "tickfont": {
          "color": "#4D5663"
         },
         "title": {
          "font": {
           "color": "#4D5663"
          },
          "text": ""
         },
         "zerolinecolor": "#E1E5ED"
        },
        "yaxis10": {
         "anchor": "x10",
         "domain": [
          0.2675,
          0.465
         ],
         "gridcolor": "#E1E5ED",
         "showgrid": false,
         "tickfont": {
          "color": "#4D5663"
         },
         "title": {
          "font": {
           "color": "#4D5663"
          },
          "text": ""
         },
         "zerolinecolor": "#E1E5ED"
        },
        "yaxis11": {
         "anchor": "x11",
         "domain": [
          0.2675,
          0.465
         ],
         "gridcolor": "#E1E5ED",
         "showgrid": false,
         "tickfont": {
          "color": "#4D5663"
         },
         "title": {
          "font": {
           "color": "#4D5663"
          },
          "text": ""
         },
         "zerolinecolor": "#E1E5ED"
        },
        "yaxis12": {
         "anchor": "x12",
         "domain": [
          0.2675,
          0.465
         ],
         "gridcolor": "#E1E5ED",
         "showgrid": false,
         "tickfont": {
          "color": "#4D5663"
         },
         "title": {
          "font": {
           "color": "#4D5663"
          },
          "text": ""
         },
         "zerolinecolor": "#E1E5ED"
        },
        "yaxis13": {
         "anchor": "x13",
         "domain": [
          0,
          0.1975
         ],
         "gridcolor": "#E1E5ED",
         "showgrid": false,
         "tickfont": {
          "color": "#4D5663"
         },
         "title": {
          "font": {
           "color": "#4D5663"
          },
          "text": ""
         },
         "zerolinecolor": "#E1E5ED"
        },
        "yaxis14": {
         "anchor": "x14",
         "domain": [
          0,
          0.1975
         ],
         "gridcolor": "#E1E5ED",
         "showgrid": false,
         "tickfont": {
          "color": "#4D5663"
         },
         "title": {
          "font": {
           "color": "#4D5663"
          },
          "text": ""
         },
         "zerolinecolor": "#E1E5ED"
        },
        "yaxis15": {
         "anchor": "x15",
         "domain": [
          0,
          0.1975
         ],
         "gridcolor": "#E1E5ED",
         "showgrid": false,
         "tickfont": {
          "color": "#4D5663"
         },
         "title": {
          "font": {
           "color": "#4D5663"
          },
          "text": ""
         },
         "zerolinecolor": "#E1E5ED"
        },
        "yaxis16": {
         "anchor": "x16",
         "domain": [
          0,
          0.1975
         ],
         "gridcolor": "#E1E5ED",
         "showgrid": false,
         "tickfont": {
          "color": "#4D5663"
         },
         "title": {
          "font": {
           "color": "#4D5663"
          },
          "text": ""
         },
         "zerolinecolor": "#E1E5ED"
        },
        "yaxis2": {
         "anchor": "x2",
         "domain": [
          0.8025,
          1
         ],
         "gridcolor": "#E1E5ED",
         "showgrid": false,
         "tickfont": {
          "color": "#4D5663"
         },
         "title": {
          "font": {
           "color": "#4D5663"
          },
          "text": ""
         },
         "zerolinecolor": "#E1E5ED"
        },
        "yaxis3": {
         "anchor": "x3",
         "domain": [
          0.8025,
          1
         ],
         "gridcolor": "#E1E5ED",
         "showgrid": false,
         "tickfont": {
          "color": "#4D5663"
         },
         "title": {
          "font": {
           "color": "#4D5663"
          },
          "text": ""
         },
         "zerolinecolor": "#E1E5ED"
        },
        "yaxis4": {
         "anchor": "x4",
         "domain": [
          0.8025,
          1
         ],
         "gridcolor": "#E1E5ED",
         "showgrid": false,
         "tickfont": {
          "color": "#4D5663"
         },
         "title": {
          "font": {
           "color": "#4D5663"
          },
          "text": ""
         },
         "zerolinecolor": "#E1E5ED"
        },
        "yaxis5": {
         "anchor": "x5",
         "domain": [
          0.535,
          0.7325
         ],
         "gridcolor": "#E1E5ED",
         "showgrid": false,
         "tickfont": {
          "color": "#4D5663"
         },
         "title": {
          "font": {
           "color": "#4D5663"
          },
          "text": ""
         },
         "zerolinecolor": "#E1E5ED"
        },
        "yaxis6": {
         "anchor": "x6",
         "domain": [
          0.535,
          0.7325
         ],
         "gridcolor": "#E1E5ED",
         "showgrid": false,
         "tickfont": {
          "color": "#4D5663"
         },
         "title": {
          "font": {
           "color": "#4D5663"
          },
          "text": ""
         },
         "zerolinecolor": "#E1E5ED"
        },
        "yaxis7": {
         "anchor": "x7",
         "domain": [
          0.535,
          0.7325
         ],
         "gridcolor": "#E1E5ED",
         "showgrid": false,
         "tickfont": {
          "color": "#4D5663"
         },
         "title": {
          "font": {
           "color": "#4D5663"
          },
          "text": ""
         },
         "zerolinecolor": "#E1E5ED"
        },
        "yaxis8": {
         "anchor": "x8",
         "domain": [
          0.535,
          0.7325
         ],
         "gridcolor": "#E1E5ED",
         "showgrid": false,
         "tickfont": {
          "color": "#4D5663"
         },
         "title": {
          "font": {
           "color": "#4D5663"
          },
          "text": ""
         },
         "zerolinecolor": "#E1E5ED"
        },
        "yaxis9": {
         "anchor": "x9",
         "domain": [
          0.2675,
          0.465
         ],
         "gridcolor": "#E1E5ED",
         "showgrid": false,
         "tickfont": {
          "color": "#4D5663"
         },
         "title": {
          "font": {
           "color": "#4D5663"
          },
          "text": ""
         },
         "zerolinecolor": "#E1E5ED"
        }
       }
      },
      "text/html": [
       "<div>\n",
       "        \n",
       "        \n",
       "            <div id=\"59fef4af-5cb7-476b-bede-9496b340321d\" class=\"plotly-graph-div\" style=\"height:525px; width:100%;\"></div>\n",
       "            <script type=\"text/javascript\">\n",
       "                require([\"plotly\"], function(Plotly) {\n",
       "                    window.PLOTLYENV=window.PLOTLYENV || {};\n",
       "                    window.PLOTLYENV.BASE_URL='https://plot.ly';\n",
       "                    \n",
       "                if (document.getElementById(\"59fef4af-5cb7-476b-bede-9496b340321d\")) {\n",
       "                    Plotly.newPlot(\n",
       "                        '59fef4af-5cb7-476b-bede-9496b340321d',\n",
       "                        [{\"histfunc\": \"count\", \"histnorm\": \"\", \"marker\": {\"color\": \"rgba(255, 153, 51, 1.0)\", \"line\": {\"color\": \"#4D5663\", \"width\": 1.3}}, \"name\": \"A\", \"nbinsx\": 10, \"opacity\": 0.8, \"orientation\": \"v\", \"type\": \"histogram\", \"x\": [-0.05200064226874029, -0.8113159106118665, 0.3254513160889677, 2.0243719651519982, -0.6911553098570636, 0.14711298464909714, -0.35157182034498624, 0.9532879835105003, -0.8216704344288754, 0.5175801753746321, 0.41567356984435533, -1.0844866973884586, -0.9725846811504144, 1.700149892346811, 0.6279829967620165, -0.5123058776570327, -1.074696149080149, -0.09302038535197567, 1.4751683628167978, -0.5773238782912412, -0.09364536193895204, 0.2681233002905114, -0.08199555259223776, 0.9869233120457995, -0.9880212646580928, -0.39813389302184454, 0.8355498904749294, 1.115790672079572, 0.36267502782180355, 1.1181862543468475, -0.4189076767146306, -1.2153237513520625, -0.015024636036437649, -1.5506822070192006, 0.7532059219095608, 0.18240660304253964, 1.2455834496116378, -0.03574479357530669, 1.2037655493754456, -1.2899520019302864, -0.8014563612286134, -1.0339031667320415, 0.3236806753652299, 1.7106993971064204, 0.6337221256461304, -0.2264012497122301, 0.24491822787195103, 0.5793968204959391, -0.34421215526457355, -0.046221892173959805, -1.2834202820087908, -0.1668613538033284, 0.3530568801885448, 0.0709962577140452, 1.2704092433144563, -0.6400890854430192, 2.0218498444532718, -1.7029255316020437, -0.16160730377732366, -0.3324363184731455, 1.1092756550592138, -2.944437862373772, -1.587029132621606, -0.9030179130414271, 0.09540976105920948, -1.6095452818271105, 0.008031270192345178, 1.1400678957010764, 0.1029859128666487, 0.2981919450460108, -1.3883363125564128, -1.1114416335765926, 0.2903191896259501, 1.2576586424029736, -1.2635782258578823, -1.3584173862735214, 0.4601351131538541, -1.22363477749503, -1.4816683242901991, 0.09952494040979772, -0.9927180045443987, 1.7831281471414724, -1.5125446989452476, -0.12862030833779978, -2.464692567289804, 1.9359339222011969, 0.5744016876350877, -0.764371866302306, -0.48132549368563415, 0.8871383768027442, 1.3143968176324412, -0.5844808311773532, 1.0384195926025745, -0.4420780596397459, 1.4657803745339457, -0.7100001138145122, -1.1579221829233695, 0.17407486591736138, -0.3361105830791442, 0.4809916958319887], \"xaxis\": \"x\", \"yaxis\": \"y\"}, {\"line\": {\"color\": \"rgba(128, 128, 128, 1.0)\", \"dash\": \"solid\", \"shape\": \"linear\", \"width\": 1.3}, \"marker\": {\"size\": 2, \"symbol\": \"circle\"}, \"mode\": \"markers\", \"name\": \"A\", \"text\": \"\", \"type\": \"scatter\", \"x\": [-0.3035309217997338, 1.8115843850413655, -1.8792276036095135, 1.143909537806382, 0.0923541450056231, 0.13177410792440244, -1.644887018775058, 2.0831971657948625, 1.599452683208107, -0.0069964248626790074, 0.8243911969905283, 0.5956007854062508, 0.39862711624745445, -1.666634755718817, -0.4089336921506136, -0.16298439036927434, 1.0479183949966526, -0.9165492282798984, -0.4892264761249731, 0.5123066799262901, 0.7584021541015817, -0.08593360496991281, -0.24021553116689526, 2.5039169522158864, -1.512037975593897, 0.49113801984285316, -0.31871938863922766, 0.7128543675798462, -0.14479570326040525, 0.5279038708585918, 1.0794313887626623, 1.7106227788566175, -0.530919857654775, 1.2540574714983195, 0.7413750828160827, 0.18458536123716268, 1.0624029825522627, 0.742424688303108, 1.645819200054811, -1.1308745123092925, 0.48757750365959723, 0.04891773652933975, -0.6083669341853393, -0.5558964652700791, 2.179562344673998, 0.6487864256900213, 0.7046774107134081, -1.8275035997285698, -1.2561220814441574, 0.8648079555785866, 1.2398062390269777, 1.5470834554212618, -0.4454825332388899, -1.4880689915828327, -0.738397634159601, -0.36732803174497464, -0.5219859018248537, -0.10793021508035824, 1.6030720602940183, 1.1981071665048801, -0.0009961029876620706, 0.111212367996999, -0.7986756374835384, -0.3126649986611836, -0.5904948556513827, -1.3826204461674614, 2.6788582132331387, 0.7839573434679493, -0.047862984084776475, 0.6889032871954877, 0.39966616125392346, -0.43566971474227745, 2.0861224961894766, -0.4776941244058906, -1.1511082972505302, -0.4710654454917627, -0.18175710734427944, -0.6855040312566344, -1.5412892891831538, 0.8311464475440197, -0.818964281498889, 1.037211685095319, 1.117239715972962, -0.29232705347009696, 0.9038496269295024, 0.611628653407918, 0.9367173662598217, -0.2715131674594367, -0.24274004412887631, 0.12403688842619563, -0.5676803256100553, 2.598349746359133, -0.7335625073991564, 2.19935547566327, 1.2247442665380743, -1.3895443215751322, -1.9959607836346613, -0.5055580229875679, 0.08932547950890063, -1.1497354981510886], \"xaxis\": \"x2\", \"y\": [-0.05200064226874029, -0.8113159106118665, 0.3254513160889677, 2.0243719651519982, -0.6911553098570636, 0.14711298464909714, -0.35157182034498624, 0.9532879835105003, -0.8216704344288754, 0.5175801753746321, 0.41567356984435533, -1.0844866973884586, -0.9725846811504144, 1.700149892346811, 0.6279829967620165, -0.5123058776570327, -1.074696149080149, -0.09302038535197567, 1.4751683628167978, -0.5773238782912412, -0.09364536193895204, 0.2681233002905114, -0.08199555259223776, 0.9869233120457995, -0.9880212646580928, -0.39813389302184454, 0.8355498904749294, 1.115790672079572, 0.36267502782180355, 1.1181862543468475, -0.4189076767146306, -1.2153237513520625, -0.015024636036437649, -1.5506822070192006, 0.7532059219095608, 0.18240660304253964, 1.2455834496116378, -0.03574479357530669, 1.2037655493754456, -1.2899520019302864, -0.8014563612286134, -1.0339031667320415, 0.3236806753652299, 1.7106993971064204, 0.6337221256461304, -0.2264012497122301, 0.24491822787195103, 0.5793968204959391, -0.34421215526457355, -0.046221892173959805, -1.2834202820087908, -0.1668613538033284, 0.3530568801885448, 0.0709962577140452, 1.2704092433144563, -0.6400890854430192, 2.0218498444532718, -1.7029255316020437, -0.16160730377732366, -0.3324363184731455, 1.1092756550592138, -2.944437862373772, -1.587029132621606, -0.9030179130414271, 0.09540976105920948, -1.6095452818271105, 0.008031270192345178, 1.1400678957010764, 0.1029859128666487, 0.2981919450460108, -1.3883363125564128, -1.1114416335765926, 0.2903191896259501, 1.2576586424029736, -1.2635782258578823, -1.3584173862735214, 0.4601351131538541, -1.22363477749503, -1.4816683242901991, 0.09952494040979772, -0.9927180045443987, 1.7831281471414724, -1.5125446989452476, -0.12862030833779978, -2.464692567289804, 1.9359339222011969, 0.5744016876350877, -0.764371866302306, -0.48132549368563415, 0.8871383768027442, 1.3143968176324412, -0.5844808311773532, 1.0384195926025745, -0.4420780596397459, 1.4657803745339457, -0.7100001138145122, -1.1579221829233695, 0.17407486591736138, -0.3361105830791442, 0.4809916958319887], \"yaxis\": \"y2\"}, {\"line\": {\"color\": \"rgba(128, 128, 128, 1.0)\", \"dash\": \"solid\", \"shape\": \"linear\", \"width\": 1.3}, \"marker\": {\"size\": 2, \"symbol\": \"circle\"}, \"mode\": \"markers\", \"name\": \"A\", \"text\": \"\", \"type\": \"scatter\", \"x\": [1.8257820565977334, -1.2735188378536204, 0.7421338632914705, -0.26600503410857973, 0.7922190533416104, 0.8645852434050854, 0.8248179849550689, -0.5633619928569527, 0.24610510343448525, -0.9987284646444614, 2.287940166044065, 0.8062963717131537, -0.8934882978202076, -1.847176195184458, 1.4720897086734064, 1.5430244867715297, -0.84836931142563, 1.1550990118605282, 0.2918932917473354, 0.7162477689567067, -0.9550265479628989, 0.2521499994616166, -0.9939267568693048, 0.24460112067766868, -0.5373252380583823, -1.0230532664606373, -0.9424681824067453, 2.3426852155752456, -0.8920188830841775, 0.5053181531378398, -2.1661872118166463, 0.9708746207590014, 0.06254801668454595, -1.9078668275518464, 0.555159307106861, -2.16428187320761, -0.34560365011416877, -0.6837291461236665, -0.1634739592475344, 0.2831706477830234, 0.685246531863252, -0.9321228484676077, 0.18315511904931162, -1.6267239569131882, 1.694082509037288, 0.5717073607861783, -1.7526967465512522, 1.0460853003128228, 0.01544291945912684, 2.496407692774929, -0.5410046785615663, 0.0683056909792122, 0.9782736486727258, 1.023525600709707, -1.206316287456762, -0.5685741503938172, 1.1298551244844603, 0.22408918915199863, -0.9374326793795863, 0.587579043248385, 1.3849914586037737, -0.24063283213448555, -1.6960932691511483, 0.2886989196592537, 0.80193843648745, 2.084539988577566, -0.2334718304088673, -0.9716337613375888, -0.9853914916970022, -0.8370293811151239, 0.882419018319776, -1.236429394123926, 1.7140446214832983, -1.2869849485488811, 0.9077359622624505, 0.661988774323941, -1.0493749718367194, 0.9494353260009003, 0.9115781857995494, 1.6685939029093948, -0.2785883516581504, -0.5381588512536185, -0.704378831015469, -1.375137724271894, 0.057939601706218466, 0.6140934720168916, 1.535439446301107, 0.5023467131899262, -0.9650822153038995, -0.6525239240020165, -0.3180906590768329, -1.1092731258949458, 0.145404038644625, 0.32870676388611253, -0.008068834877558549, 1.4682066980932378, -0.43949674370711, -0.43700047416309373, -1.0334340839901797, 0.12261326014475976], \"xaxis\": \"x3\", \"y\": [-0.05200064226874029, -0.8113159106118665, 0.3254513160889677, 2.0243719651519982, -0.6911553098570636, 0.14711298464909714, -0.35157182034498624, 0.9532879835105003, -0.8216704344288754, 0.5175801753746321, 0.41567356984435533, -1.0844866973884586, -0.9725846811504144, 1.700149892346811, 0.6279829967620165, -0.5123058776570327, -1.074696149080149, -0.09302038535197567, 1.4751683628167978, -0.5773238782912412, -0.09364536193895204, 0.2681233002905114, -0.08199555259223776, 0.9869233120457995, -0.9880212646580928, -0.39813389302184454, 0.8355498904749294, 1.115790672079572, 0.36267502782180355, 1.1181862543468475, -0.4189076767146306, -1.2153237513520625, -0.015024636036437649, -1.5506822070192006, 0.7532059219095608, 0.18240660304253964, 1.2455834496116378, -0.03574479357530669, 1.2037655493754456, -1.2899520019302864, -0.8014563612286134, -1.0339031667320415, 0.3236806753652299, 1.7106993971064204, 0.6337221256461304, -0.2264012497122301, 0.24491822787195103, 0.5793968204959391, -0.34421215526457355, -0.046221892173959805, -1.2834202820087908, -0.1668613538033284, 0.3530568801885448, 0.0709962577140452, 1.2704092433144563, -0.6400890854430192, 2.0218498444532718, -1.7029255316020437, -0.16160730377732366, -0.3324363184731455, 1.1092756550592138, -2.944437862373772, -1.587029132621606, -0.9030179130414271, 0.09540976105920948, -1.6095452818271105, 0.008031270192345178, 1.1400678957010764, 0.1029859128666487, 0.2981919450460108, -1.3883363125564128, -1.1114416335765926, 0.2903191896259501, 1.2576586424029736, -1.2635782258578823, -1.3584173862735214, 0.4601351131538541, -1.22363477749503, -1.4816683242901991, 0.09952494040979772, -0.9927180045443987, 1.7831281471414724, -1.5125446989452476, -0.12862030833779978, -2.464692567289804, 1.9359339222011969, 0.5744016876350877, -0.764371866302306, -0.48132549368563415, 0.8871383768027442, 1.3143968176324412, -0.5844808311773532, 1.0384195926025745, -0.4420780596397459, 1.4657803745339457, -0.7100001138145122, -1.1579221829233695, 0.17407486591736138, -0.3361105830791442, 0.4809916958319887], \"yaxis\": \"y3\"}, {\"line\": {\"color\": \"rgba(128, 128, 128, 1.0)\", \"dash\": \"solid\", \"shape\": \"linear\", \"width\": 1.3}, \"marker\": {\"size\": 2, \"symbol\": \"circle\"}, \"mode\": \"markers\", \"name\": \"A\", \"text\": \"\", \"type\": \"scatter\", \"x\": [-1.1326481896719922, 0.1885285818821884, 1.0615292256120825, 0.7809924239741028, 0.8846964539089548, -0.9638545186415155, 0.42086911955493667, 1.2703691019691992, -1.3432331767219712, -1.0617993243707724, -1.8738496846904225, -0.11035088901470516, 0.01546715467452033, -0.17632698335353136, 0.7846340068087184, -0.20410872749059217, -0.5124727574309572, 0.7711721011305227, 0.3833044177475341, -0.27620215114831587, 0.476632711081902, 1.242897752429488, 0.20127685439850612, 0.23926589187498173, 1.3721356333552794, 0.45826528623040114, 1.3091091644228308, 0.6688287083095635, 0.22354423506614307, 0.5852027283493123, -1.532962735776844, 0.24921425517137355, -0.7137083457306289, 0.4578703319745816, -0.31286430611348254, -1.0404156744613575, -1.586694038565997, -0.5686161440828263, -0.45756233083759756, -0.4227049109356685, -1.9465995354023924, 0.6010810396017673, -1.0872993381337408, 1.6194316472392092, -0.7353964645930996, 0.5966962006557646, 0.28063564122756046, -0.6837196770834758, 0.14722364570920157, -0.843811889967784, 0.878043649206904, 0.14766266762213434, -0.9417354415967973, 1.7213928967786376, -0.9462751724787105, -0.04929166585125539, -0.20203221216333722, -1.0571002846578563, -0.4692756562304136, -1.5579732655543514, 1.5341487128337716, -0.4529126678589696, -1.1674162718780299, -0.3669715522395409, 0.5338343926292213, -0.5904890435986665, 0.5880358473792844, 0.18660546692090088, -0.6636077409449973, -0.4048675150255209, -0.15177822188704793, 0.7271275309865648, 0.8614177379139359, 0.4862245134942477, 0.7721574048318677, 0.36893386998757294, -0.8708467086378487, 0.8827036407013427, -0.23239578123966403, -2.3948271350592756, -0.7502782791825553, 0.40389530605411045, 0.1276427715052904, 0.08847746546697365, -0.09714902305423827, -1.2907930321018086, -1.6093014493617885, 0.9780070300867476, -1.408912628778127, 0.8141484306884554, 0.3779161194107192, 0.7048601183584742, 1.1860105629668631, -0.5045163571109417, 0.4454471220079421, 0.3854514039259868, -1.1051886838676843, 0.8837033351939465, -0.495930574033308, -0.4240159220291364], \"xaxis\": \"x4\", \"y\": [-0.05200064226874029, -0.8113159106118665, 0.3254513160889677, 2.0243719651519982, -0.6911553098570636, 0.14711298464909714, -0.35157182034498624, 0.9532879835105003, -0.8216704344288754, 0.5175801753746321, 0.41567356984435533, -1.0844866973884586, -0.9725846811504144, 1.700149892346811, 0.6279829967620165, -0.5123058776570327, -1.074696149080149, -0.09302038535197567, 1.4751683628167978, -0.5773238782912412, -0.09364536193895204, 0.2681233002905114, -0.08199555259223776, 0.9869233120457995, -0.9880212646580928, -0.39813389302184454, 0.8355498904749294, 1.115790672079572, 0.36267502782180355, 1.1181862543468475, -0.4189076767146306, -1.2153237513520625, -0.015024636036437649, -1.5506822070192006, 0.7532059219095608, 0.18240660304253964, 1.2455834496116378, -0.03574479357530669, 1.2037655493754456, -1.2899520019302864, -0.8014563612286134, -1.0339031667320415, 0.3236806753652299, 1.7106993971064204, 0.6337221256461304, -0.2264012497122301, 0.24491822787195103, 0.5793968204959391, -0.34421215526457355, -0.046221892173959805, -1.2834202820087908, -0.1668613538033284, 0.3530568801885448, 0.0709962577140452, 1.2704092433144563, -0.6400890854430192, 2.0218498444532718, -1.7029255316020437, -0.16160730377732366, -0.3324363184731455, 1.1092756550592138, -2.944437862373772, -1.587029132621606, -0.9030179130414271, 0.09540976105920948, -1.6095452818271105, 0.008031270192345178, 1.1400678957010764, 0.1029859128666487, 0.2981919450460108, -1.3883363125564128, -1.1114416335765926, 0.2903191896259501, 1.2576586424029736, -1.2635782258578823, -1.3584173862735214, 0.4601351131538541, -1.22363477749503, -1.4816683242901991, 0.09952494040979772, -0.9927180045443987, 1.7831281471414724, -1.5125446989452476, -0.12862030833779978, -2.464692567289804, 1.9359339222011969, 0.5744016876350877, -0.764371866302306, -0.48132549368563415, 0.8871383768027442, 1.3143968176324412, -0.5844808311773532, 1.0384195926025745, -0.4420780596397459, 1.4657803745339457, -0.7100001138145122, -1.1579221829233695, 0.17407486591736138, -0.3361105830791442, 0.4809916958319887], \"yaxis\": \"y4\"}, {\"line\": {\"color\": \"rgba(128, 128, 128, 1.0)\", \"dash\": \"solid\", \"shape\": \"linear\", \"width\": 1.3}, \"marker\": {\"size\": 2, \"symbol\": \"circle\"}, \"mode\": \"markers\", \"name\": \"B\", \"text\": \"\", \"type\": \"scatter\", \"x\": [-0.05200064226874029, -0.8113159106118665, 0.3254513160889677, 2.0243719651519982, -0.6911553098570636, 0.14711298464909714, -0.35157182034498624, 0.9532879835105003, -0.8216704344288754, 0.5175801753746321, 0.41567356984435533, -1.0844866973884586, -0.9725846811504144, 1.700149892346811, 0.6279829967620165, -0.5123058776570327, -1.074696149080149, -0.09302038535197567, 1.4751683628167978, -0.5773238782912412, -0.09364536193895204, 0.2681233002905114, -0.08199555259223776, 0.9869233120457995, -0.9880212646580928, -0.39813389302184454, 0.8355498904749294, 1.115790672079572, 0.36267502782180355, 1.1181862543468475, -0.4189076767146306, -1.2153237513520625, -0.015024636036437649, -1.5506822070192006, 0.7532059219095608, 0.18240660304253964, 1.2455834496116378, -0.03574479357530669, 1.2037655493754456, -1.2899520019302864, -0.8014563612286134, -1.0339031667320415, 0.3236806753652299, 1.7106993971064204, 0.6337221256461304, -0.2264012497122301, 0.24491822787195103, 0.5793968204959391, -0.34421215526457355, -0.046221892173959805, -1.2834202820087908, -0.1668613538033284, 0.3530568801885448, 0.0709962577140452, 1.2704092433144563, -0.6400890854430192, 2.0218498444532718, -1.7029255316020437, -0.16160730377732366, -0.3324363184731455, 1.1092756550592138, -2.944437862373772, -1.587029132621606, -0.9030179130414271, 0.09540976105920948, -1.6095452818271105, 0.008031270192345178, 1.1400678957010764, 0.1029859128666487, 0.2981919450460108, -1.3883363125564128, -1.1114416335765926, 0.2903191896259501, 1.2576586424029736, -1.2635782258578823, -1.3584173862735214, 0.4601351131538541, -1.22363477749503, -1.4816683242901991, 0.09952494040979772, -0.9927180045443987, 1.7831281471414724, -1.5125446989452476, -0.12862030833779978, -2.464692567289804, 1.9359339222011969, 0.5744016876350877, -0.764371866302306, -0.48132549368563415, 0.8871383768027442, 1.3143968176324412, -0.5844808311773532, 1.0384195926025745, -0.4420780596397459, 1.4657803745339457, -0.7100001138145122, -1.1579221829233695, 0.17407486591736138, -0.3361105830791442, 0.4809916958319887], \"xaxis\": \"x5\", \"y\": [-0.3035309217997338, 1.8115843850413655, -1.8792276036095135, 1.143909537806382, 0.0923541450056231, 0.13177410792440244, -1.644887018775058, 2.0831971657948625, 1.599452683208107, -0.0069964248626790074, 0.8243911969905283, 0.5956007854062508, 0.39862711624745445, -1.666634755718817, -0.4089336921506136, -0.16298439036927434, 1.0479183949966526, -0.9165492282798984, -0.4892264761249731, 0.5123066799262901, 0.7584021541015817, -0.08593360496991281, -0.24021553116689526, 2.5039169522158864, -1.512037975593897, 0.49113801984285316, -0.31871938863922766, 0.7128543675798462, -0.14479570326040525, 0.5279038708585918, 1.0794313887626623, 1.7106227788566175, -0.530919857654775, 1.2540574714983195, 0.7413750828160827, 0.18458536123716268, 1.0624029825522627, 0.742424688303108, 1.645819200054811, -1.1308745123092925, 0.48757750365959723, 0.04891773652933975, -0.6083669341853393, -0.5558964652700791, 2.179562344673998, 0.6487864256900213, 0.7046774107134081, -1.8275035997285698, -1.2561220814441574, 0.8648079555785866, 1.2398062390269777, 1.5470834554212618, -0.4454825332388899, -1.4880689915828327, -0.738397634159601, -0.36732803174497464, -0.5219859018248537, -0.10793021508035824, 1.6030720602940183, 1.1981071665048801, -0.0009961029876620706, 0.111212367996999, -0.7986756374835384, -0.3126649986611836, -0.5904948556513827, -1.3826204461674614, 2.6788582132331387, 0.7839573434679493, -0.047862984084776475, 0.6889032871954877, 0.39966616125392346, -0.43566971474227745, 2.0861224961894766, -0.4776941244058906, -1.1511082972505302, -0.4710654454917627, -0.18175710734427944, -0.6855040312566344, -1.5412892891831538, 0.8311464475440197, -0.818964281498889, 1.037211685095319, 1.117239715972962, -0.29232705347009696, 0.9038496269295024, 0.611628653407918, 0.9367173662598217, -0.2715131674594367, -0.24274004412887631, 0.12403688842619563, -0.5676803256100553, 2.598349746359133, -0.7335625073991564, 2.19935547566327, 1.2247442665380743, -1.3895443215751322, -1.9959607836346613, -0.5055580229875679, 0.08932547950890063, -1.1497354981510886], \"yaxis\": \"y5\"}, {\"histfunc\": \"count\", \"histnorm\": \"\", \"marker\": {\"color\": \"rgba(55, 128, 191, 1.0)\", \"line\": {\"color\": \"#4D5663\", \"width\": 1.3}}, \"name\": \"B\", \"nbinsx\": 10, \"opacity\": 0.8, \"orientation\": \"v\", \"type\": \"histogram\", \"x\": [-0.3035309217997338, 1.8115843850413655, -1.8792276036095135, 1.143909537806382, 0.0923541450056231, 0.13177410792440244, -1.644887018775058, 2.0831971657948625, 1.599452683208107, -0.0069964248626790074, 0.8243911969905283, 0.5956007854062508, 0.39862711624745445, -1.666634755718817, -0.4089336921506136, -0.16298439036927434, 1.0479183949966526, -0.9165492282798984, -0.4892264761249731, 0.5123066799262901, 0.7584021541015817, -0.08593360496991281, -0.24021553116689526, 2.5039169522158864, -1.512037975593897, 0.49113801984285316, -0.31871938863922766, 0.7128543675798462, -0.14479570326040525, 0.5279038708585918, 1.0794313887626623, 1.7106227788566175, -0.530919857654775, 1.2540574714983195, 0.7413750828160827, 0.18458536123716268, 1.0624029825522627, 0.742424688303108, 1.645819200054811, -1.1308745123092925, 0.48757750365959723, 0.04891773652933975, -0.6083669341853393, -0.5558964652700791, 2.179562344673998, 0.6487864256900213, 0.7046774107134081, -1.8275035997285698, -1.2561220814441574, 0.8648079555785866, 1.2398062390269777, 1.5470834554212618, -0.4454825332388899, -1.4880689915828327, -0.738397634159601, -0.36732803174497464, -0.5219859018248537, -0.10793021508035824, 1.6030720602940183, 1.1981071665048801, -0.0009961029876620706, 0.111212367996999, -0.7986756374835384, -0.3126649986611836, -0.5904948556513827, -1.3826204461674614, 2.6788582132331387, 0.7839573434679493, -0.047862984084776475, 0.6889032871954877, 0.39966616125392346, -0.43566971474227745, 2.0861224961894766, -0.4776941244058906, -1.1511082972505302, -0.4710654454917627, -0.18175710734427944, -0.6855040312566344, -1.5412892891831538, 0.8311464475440197, -0.818964281498889, 1.037211685095319, 1.117239715972962, -0.29232705347009696, 0.9038496269295024, 0.611628653407918, 0.9367173662598217, -0.2715131674594367, -0.24274004412887631, 0.12403688842619563, -0.5676803256100553, 2.598349746359133, -0.7335625073991564, 2.19935547566327, 1.2247442665380743, -1.3895443215751322, -1.9959607836346613, -0.5055580229875679, 0.08932547950890063, -1.1497354981510886], \"xaxis\": \"x6\", \"yaxis\": \"y6\"}, {\"line\": {\"color\": \"rgba(128, 128, 128, 1.0)\", \"dash\": \"solid\", \"shape\": \"linear\", \"width\": 1.3}, \"marker\": {\"size\": 2, \"symbol\": \"circle\"}, \"mode\": \"markers\", \"name\": \"B\", \"text\": \"\", \"type\": \"scatter\", \"x\": [1.8257820565977334, -1.2735188378536204, 0.7421338632914705, -0.26600503410857973, 0.7922190533416104, 0.8645852434050854, 0.8248179849550689, -0.5633619928569527, 0.24610510343448525, -0.9987284646444614, 2.287940166044065, 0.8062963717131537, -0.8934882978202076, -1.847176195184458, 1.4720897086734064, 1.5430244867715297, -0.84836931142563, 1.1550990118605282, 0.2918932917473354, 0.7162477689567067, -0.9550265479628989, 0.2521499994616166, -0.9939267568693048, 0.24460112067766868, -0.5373252380583823, -1.0230532664606373, -0.9424681824067453, 2.3426852155752456, -0.8920188830841775, 0.5053181531378398, -2.1661872118166463, 0.9708746207590014, 0.06254801668454595, -1.9078668275518464, 0.555159307106861, -2.16428187320761, -0.34560365011416877, -0.6837291461236665, -0.1634739592475344, 0.2831706477830234, 0.685246531863252, -0.9321228484676077, 0.18315511904931162, -1.6267239569131882, 1.694082509037288, 0.5717073607861783, -1.7526967465512522, 1.0460853003128228, 0.01544291945912684, 2.496407692774929, -0.5410046785615663, 0.0683056909792122, 0.9782736486727258, 1.023525600709707, -1.206316287456762, -0.5685741503938172, 1.1298551244844603, 0.22408918915199863, -0.9374326793795863, 0.587579043248385, 1.3849914586037737, -0.24063283213448555, -1.6960932691511483, 0.2886989196592537, 0.80193843648745, 2.084539988577566, -0.2334718304088673, -0.9716337613375888, -0.9853914916970022, -0.8370293811151239, 0.882419018319776, -1.236429394123926, 1.7140446214832983, -1.2869849485488811, 0.9077359622624505, 0.661988774323941, -1.0493749718367194, 0.9494353260009003, 0.9115781857995494, 1.6685939029093948, -0.2785883516581504, -0.5381588512536185, -0.704378831015469, -1.375137724271894, 0.057939601706218466, 0.6140934720168916, 1.535439446301107, 0.5023467131899262, -0.9650822153038995, -0.6525239240020165, -0.3180906590768329, -1.1092731258949458, 0.145404038644625, 0.32870676388611253, -0.008068834877558549, 1.4682066980932378, -0.43949674370711, -0.43700047416309373, -1.0334340839901797, 0.12261326014475976], \"xaxis\": \"x7\", \"y\": [-0.3035309217997338, 1.8115843850413655, -1.8792276036095135, 1.143909537806382, 0.0923541450056231, 0.13177410792440244, -1.644887018775058, 2.0831971657948625, 1.599452683208107, -0.0069964248626790074, 0.8243911969905283, 0.5956007854062508, 0.39862711624745445, -1.666634755718817, -0.4089336921506136, -0.16298439036927434, 1.0479183949966526, -0.9165492282798984, -0.4892264761249731, 0.5123066799262901, 0.7584021541015817, -0.08593360496991281, -0.24021553116689526, 2.5039169522158864, -1.512037975593897, 0.49113801984285316, -0.31871938863922766, 0.7128543675798462, -0.14479570326040525, 0.5279038708585918, 1.0794313887626623, 1.7106227788566175, -0.530919857654775, 1.2540574714983195, 0.7413750828160827, 0.18458536123716268, 1.0624029825522627, 0.742424688303108, 1.645819200054811, -1.1308745123092925, 0.48757750365959723, 0.04891773652933975, -0.6083669341853393, -0.5558964652700791, 2.179562344673998, 0.6487864256900213, 0.7046774107134081, -1.8275035997285698, -1.2561220814441574, 0.8648079555785866, 1.2398062390269777, 1.5470834554212618, -0.4454825332388899, -1.4880689915828327, -0.738397634159601, -0.36732803174497464, -0.5219859018248537, -0.10793021508035824, 1.6030720602940183, 1.1981071665048801, -0.0009961029876620706, 0.111212367996999, -0.7986756374835384, -0.3126649986611836, -0.5904948556513827, -1.3826204461674614, 2.6788582132331387, 0.7839573434679493, -0.047862984084776475, 0.6889032871954877, 0.39966616125392346, -0.43566971474227745, 2.0861224961894766, -0.4776941244058906, -1.1511082972505302, -0.4710654454917627, -0.18175710734427944, -0.6855040312566344, -1.5412892891831538, 0.8311464475440197, -0.818964281498889, 1.037211685095319, 1.117239715972962, -0.29232705347009696, 0.9038496269295024, 0.611628653407918, 0.9367173662598217, -0.2715131674594367, -0.24274004412887631, 0.12403688842619563, -0.5676803256100553, 2.598349746359133, -0.7335625073991564, 2.19935547566327, 1.2247442665380743, -1.3895443215751322, -1.9959607836346613, -0.5055580229875679, 0.08932547950890063, -1.1497354981510886], \"yaxis\": \"y7\"}, {\"line\": {\"color\": \"rgba(128, 128, 128, 1.0)\", \"dash\": \"solid\", \"shape\": \"linear\", \"width\": 1.3}, \"marker\": {\"size\": 2, \"symbol\": \"circle\"}, \"mode\": \"markers\", \"name\": \"B\", \"text\": \"\", \"type\": \"scatter\", \"x\": [-1.1326481896719922, 0.1885285818821884, 1.0615292256120825, 0.7809924239741028, 0.8846964539089548, -0.9638545186415155, 0.42086911955493667, 1.2703691019691992, -1.3432331767219712, -1.0617993243707724, -1.8738496846904225, -0.11035088901470516, 0.01546715467452033, -0.17632698335353136, 0.7846340068087184, -0.20410872749059217, -0.5124727574309572, 0.7711721011305227, 0.3833044177475341, -0.27620215114831587, 0.476632711081902, 1.242897752429488, 0.20127685439850612, 0.23926589187498173, 1.3721356333552794, 0.45826528623040114, 1.3091091644228308, 0.6688287083095635, 0.22354423506614307, 0.5852027283493123, -1.532962735776844, 0.24921425517137355, -0.7137083457306289, 0.4578703319745816, -0.31286430611348254, -1.0404156744613575, -1.586694038565997, -0.5686161440828263, -0.45756233083759756, -0.4227049109356685, -1.9465995354023924, 0.6010810396017673, -1.0872993381337408, 1.6194316472392092, -0.7353964645930996, 0.5966962006557646, 0.28063564122756046, -0.6837196770834758, 0.14722364570920157, -0.843811889967784, 0.878043649206904, 0.14766266762213434, -0.9417354415967973, 1.7213928967786376, -0.9462751724787105, -0.04929166585125539, -0.20203221216333722, -1.0571002846578563, -0.4692756562304136, -1.5579732655543514, 1.5341487128337716, -0.4529126678589696, -1.1674162718780299, -0.3669715522395409, 0.5338343926292213, -0.5904890435986665, 0.5880358473792844, 0.18660546692090088, -0.6636077409449973, -0.4048675150255209, -0.15177822188704793, 0.7271275309865648, 0.8614177379139359, 0.4862245134942477, 0.7721574048318677, 0.36893386998757294, -0.8708467086378487, 0.8827036407013427, -0.23239578123966403, -2.3948271350592756, -0.7502782791825553, 0.40389530605411045, 0.1276427715052904, 0.08847746546697365, -0.09714902305423827, -1.2907930321018086, -1.6093014493617885, 0.9780070300867476, -1.408912628778127, 0.8141484306884554, 0.3779161194107192, 0.7048601183584742, 1.1860105629668631, -0.5045163571109417, 0.4454471220079421, 0.3854514039259868, -1.1051886838676843, 0.8837033351939465, -0.495930574033308, -0.4240159220291364], \"xaxis\": \"x8\", \"y\": [-0.3035309217997338, 1.8115843850413655, -1.8792276036095135, 1.143909537806382, 0.0923541450056231, 0.13177410792440244, -1.644887018775058, 2.0831971657948625, 1.599452683208107, -0.0069964248626790074, 0.8243911969905283, 0.5956007854062508, 0.39862711624745445, -1.666634755718817, -0.4089336921506136, -0.16298439036927434, 1.0479183949966526, -0.9165492282798984, -0.4892264761249731, 0.5123066799262901, 0.7584021541015817, -0.08593360496991281, -0.24021553116689526, 2.5039169522158864, -1.512037975593897, 0.49113801984285316, -0.31871938863922766, 0.7128543675798462, -0.14479570326040525, 0.5279038708585918, 1.0794313887626623, 1.7106227788566175, -0.530919857654775, 1.2540574714983195, 0.7413750828160827, 0.18458536123716268, 1.0624029825522627, 0.742424688303108, 1.645819200054811, -1.1308745123092925, 0.48757750365959723, 0.04891773652933975, -0.6083669341853393, -0.5558964652700791, 2.179562344673998, 0.6487864256900213, 0.7046774107134081, -1.8275035997285698, -1.2561220814441574, 0.8648079555785866, 1.2398062390269777, 1.5470834554212618, -0.4454825332388899, -1.4880689915828327, -0.738397634159601, -0.36732803174497464, -0.5219859018248537, -0.10793021508035824, 1.6030720602940183, 1.1981071665048801, -0.0009961029876620706, 0.111212367996999, -0.7986756374835384, -0.3126649986611836, -0.5904948556513827, -1.3826204461674614, 2.6788582132331387, 0.7839573434679493, -0.047862984084776475, 0.6889032871954877, 0.39966616125392346, -0.43566971474227745, 2.0861224961894766, -0.4776941244058906, -1.1511082972505302, -0.4710654454917627, -0.18175710734427944, -0.6855040312566344, -1.5412892891831538, 0.8311464475440197, -0.818964281498889, 1.037211685095319, 1.117239715972962, -0.29232705347009696, 0.9038496269295024, 0.611628653407918, 0.9367173662598217, -0.2715131674594367, -0.24274004412887631, 0.12403688842619563, -0.5676803256100553, 2.598349746359133, -0.7335625073991564, 2.19935547566327, 1.2247442665380743, -1.3895443215751322, -1.9959607836346613, -0.5055580229875679, 0.08932547950890063, -1.1497354981510886], \"yaxis\": \"y8\"}, {\"line\": {\"color\": \"rgba(128, 128, 128, 1.0)\", \"dash\": \"solid\", \"shape\": \"linear\", \"width\": 1.3}, \"marker\": {\"size\": 2, \"symbol\": \"circle\"}, \"mode\": \"markers\", \"name\": \"C\", \"text\": \"\", \"type\": \"scatter\", \"x\": [-0.05200064226874029, -0.8113159106118665, 0.3254513160889677, 2.0243719651519982, -0.6911553098570636, 0.14711298464909714, -0.35157182034498624, 0.9532879835105003, -0.8216704344288754, 0.5175801753746321, 0.41567356984435533, -1.0844866973884586, -0.9725846811504144, 1.700149892346811, 0.6279829967620165, -0.5123058776570327, -1.074696149080149, -0.09302038535197567, 1.4751683628167978, -0.5773238782912412, -0.09364536193895204, 0.2681233002905114, -0.08199555259223776, 0.9869233120457995, -0.9880212646580928, -0.39813389302184454, 0.8355498904749294, 1.115790672079572, 0.36267502782180355, 1.1181862543468475, -0.4189076767146306, -1.2153237513520625, -0.015024636036437649, -1.5506822070192006, 0.7532059219095608, 0.18240660304253964, 1.2455834496116378, -0.03574479357530669, 1.2037655493754456, -1.2899520019302864, -0.8014563612286134, -1.0339031667320415, 0.3236806753652299, 1.7106993971064204, 0.6337221256461304, -0.2264012497122301, 0.24491822787195103, 0.5793968204959391, -0.34421215526457355, -0.046221892173959805, -1.2834202820087908, -0.1668613538033284, 0.3530568801885448, 0.0709962577140452, 1.2704092433144563, -0.6400890854430192, 2.0218498444532718, -1.7029255316020437, -0.16160730377732366, -0.3324363184731455, 1.1092756550592138, -2.944437862373772, -1.587029132621606, -0.9030179130414271, 0.09540976105920948, -1.6095452818271105, 0.008031270192345178, 1.1400678957010764, 0.1029859128666487, 0.2981919450460108, -1.3883363125564128, -1.1114416335765926, 0.2903191896259501, 1.2576586424029736, -1.2635782258578823, -1.3584173862735214, 0.4601351131538541, -1.22363477749503, -1.4816683242901991, 0.09952494040979772, -0.9927180045443987, 1.7831281471414724, -1.5125446989452476, -0.12862030833779978, -2.464692567289804, 1.9359339222011969, 0.5744016876350877, -0.764371866302306, -0.48132549368563415, 0.8871383768027442, 1.3143968176324412, -0.5844808311773532, 1.0384195926025745, -0.4420780596397459, 1.4657803745339457, -0.7100001138145122, -1.1579221829233695, 0.17407486591736138, -0.3361105830791442, 0.4809916958319887], \"xaxis\": \"x9\", \"y\": [1.8257820565977334, -1.2735188378536204, 0.7421338632914705, -0.26600503410857973, 0.7922190533416104, 0.8645852434050854, 0.8248179849550689, -0.5633619928569527, 0.24610510343448525, -0.9987284646444614, 2.287940166044065, 0.8062963717131537, -0.8934882978202076, -1.847176195184458, 1.4720897086734064, 1.5430244867715297, -0.84836931142563, 1.1550990118605282, 0.2918932917473354, 0.7162477689567067, -0.9550265479628989, 0.2521499994616166, -0.9939267568693048, 0.24460112067766868, -0.5373252380583823, -1.0230532664606373, -0.9424681824067453, 2.3426852155752456, -0.8920188830841775, 0.5053181531378398, -2.1661872118166463, 0.9708746207590014, 0.06254801668454595, -1.9078668275518464, 0.555159307106861, -2.16428187320761, -0.34560365011416877, -0.6837291461236665, -0.1634739592475344, 0.2831706477830234, 0.685246531863252, -0.9321228484676077, 0.18315511904931162, -1.6267239569131882, 1.694082509037288, 0.5717073607861783, -1.7526967465512522, 1.0460853003128228, 0.01544291945912684, 2.496407692774929, -0.5410046785615663, 0.0683056909792122, 0.9782736486727258, 1.023525600709707, -1.206316287456762, -0.5685741503938172, 1.1298551244844603, 0.22408918915199863, -0.9374326793795863, 0.587579043248385, 1.3849914586037737, -0.24063283213448555, -1.6960932691511483, 0.2886989196592537, 0.80193843648745, 2.084539988577566, -0.2334718304088673, -0.9716337613375888, -0.9853914916970022, -0.8370293811151239, 0.882419018319776, -1.236429394123926, 1.7140446214832983, -1.2869849485488811, 0.9077359622624505, 0.661988774323941, -1.0493749718367194, 0.9494353260009003, 0.9115781857995494, 1.6685939029093948, -0.2785883516581504, -0.5381588512536185, -0.704378831015469, -1.375137724271894, 0.057939601706218466, 0.6140934720168916, 1.535439446301107, 0.5023467131899262, -0.9650822153038995, -0.6525239240020165, -0.3180906590768329, -1.1092731258949458, 0.145404038644625, 0.32870676388611253, -0.008068834877558549, 1.4682066980932378, -0.43949674370711, -0.43700047416309373, -1.0334340839901797, 0.12261326014475976], \"yaxis\": \"y9\"}, {\"line\": {\"color\": \"rgba(128, 128, 128, 1.0)\", \"dash\": \"solid\", \"shape\": \"linear\", \"width\": 1.3}, \"marker\": {\"size\": 2, \"symbol\": \"circle\"}, \"mode\": \"markers\", \"name\": \"C\", \"text\": \"\", \"type\": \"scatter\", \"x\": [-0.3035309217997338, 1.8115843850413655, -1.8792276036095135, 1.143909537806382, 0.0923541450056231, 0.13177410792440244, -1.644887018775058, 2.0831971657948625, 1.599452683208107, -0.0069964248626790074, 0.8243911969905283, 0.5956007854062508, 0.39862711624745445, -1.666634755718817, -0.4089336921506136, -0.16298439036927434, 1.0479183949966526, -0.9165492282798984, -0.4892264761249731, 0.5123066799262901, 0.7584021541015817, -0.08593360496991281, -0.24021553116689526, 2.5039169522158864, -1.512037975593897, 0.49113801984285316, -0.31871938863922766, 0.7128543675798462, -0.14479570326040525, 0.5279038708585918, 1.0794313887626623, 1.7106227788566175, -0.530919857654775, 1.2540574714983195, 0.7413750828160827, 0.18458536123716268, 1.0624029825522627, 0.742424688303108, 1.645819200054811, -1.1308745123092925, 0.48757750365959723, 0.04891773652933975, -0.6083669341853393, -0.5558964652700791, 2.179562344673998, 0.6487864256900213, 0.7046774107134081, -1.8275035997285698, -1.2561220814441574, 0.8648079555785866, 1.2398062390269777, 1.5470834554212618, -0.4454825332388899, -1.4880689915828327, -0.738397634159601, -0.36732803174497464, -0.5219859018248537, -0.10793021508035824, 1.6030720602940183, 1.1981071665048801, -0.0009961029876620706, 0.111212367996999, -0.7986756374835384, -0.3126649986611836, -0.5904948556513827, -1.3826204461674614, 2.6788582132331387, 0.7839573434679493, -0.047862984084776475, 0.6889032871954877, 0.39966616125392346, -0.43566971474227745, 2.0861224961894766, -0.4776941244058906, -1.1511082972505302, -0.4710654454917627, -0.18175710734427944, -0.6855040312566344, -1.5412892891831538, 0.8311464475440197, -0.818964281498889, 1.037211685095319, 1.117239715972962, -0.29232705347009696, 0.9038496269295024, 0.611628653407918, 0.9367173662598217, -0.2715131674594367, -0.24274004412887631, 0.12403688842619563, -0.5676803256100553, 2.598349746359133, -0.7335625073991564, 2.19935547566327, 1.2247442665380743, -1.3895443215751322, -1.9959607836346613, -0.5055580229875679, 0.08932547950890063, -1.1497354981510886], \"xaxis\": \"x10\", \"y\": [1.8257820565977334, -1.2735188378536204, 0.7421338632914705, -0.26600503410857973, 0.7922190533416104, 0.8645852434050854, 0.8248179849550689, -0.5633619928569527, 0.24610510343448525, -0.9987284646444614, 2.287940166044065, 0.8062963717131537, -0.8934882978202076, -1.847176195184458, 1.4720897086734064, 1.5430244867715297, -0.84836931142563, 1.1550990118605282, 0.2918932917473354, 0.7162477689567067, -0.9550265479628989, 0.2521499994616166, -0.9939267568693048, 0.24460112067766868, -0.5373252380583823, -1.0230532664606373, -0.9424681824067453, 2.3426852155752456, -0.8920188830841775, 0.5053181531378398, -2.1661872118166463, 0.9708746207590014, 0.06254801668454595, -1.9078668275518464, 0.555159307106861, -2.16428187320761, -0.34560365011416877, -0.6837291461236665, -0.1634739592475344, 0.2831706477830234, 0.685246531863252, -0.9321228484676077, 0.18315511904931162, -1.6267239569131882, 1.694082509037288, 0.5717073607861783, -1.7526967465512522, 1.0460853003128228, 0.01544291945912684, 2.496407692774929, -0.5410046785615663, 0.0683056909792122, 0.9782736486727258, 1.023525600709707, -1.206316287456762, -0.5685741503938172, 1.1298551244844603, 0.22408918915199863, -0.9374326793795863, 0.587579043248385, 1.3849914586037737, -0.24063283213448555, -1.6960932691511483, 0.2886989196592537, 0.80193843648745, 2.084539988577566, -0.2334718304088673, -0.9716337613375888, -0.9853914916970022, -0.8370293811151239, 0.882419018319776, -1.236429394123926, 1.7140446214832983, -1.2869849485488811, 0.9077359622624505, 0.661988774323941, -1.0493749718367194, 0.9494353260009003, 0.9115781857995494, 1.6685939029093948, -0.2785883516581504, -0.5381588512536185, -0.704378831015469, -1.375137724271894, 0.057939601706218466, 0.6140934720168916, 1.535439446301107, 0.5023467131899262, -0.9650822153038995, -0.6525239240020165, -0.3180906590768329, -1.1092731258949458, 0.145404038644625, 0.32870676388611253, -0.008068834877558549, 1.4682066980932378, -0.43949674370711, -0.43700047416309373, -1.0334340839901797, 0.12261326014475976], \"yaxis\": \"y10\"}, {\"histfunc\": \"count\", \"histnorm\": \"\", \"marker\": {\"color\": \"rgba(50, 171, 96, 1.0)\", \"line\": {\"color\": \"#4D5663\", \"width\": 1.3}}, \"name\": \"C\", \"nbinsx\": 10, \"opacity\": 0.8, \"orientation\": \"v\", \"type\": \"histogram\", \"x\": [1.8257820565977334, -1.2735188378536204, 0.7421338632914705, -0.26600503410857973, 0.7922190533416104, 0.8645852434050854, 0.8248179849550689, -0.5633619928569527, 0.24610510343448525, -0.9987284646444614, 2.287940166044065, 0.8062963717131537, -0.8934882978202076, -1.847176195184458, 1.4720897086734064, 1.5430244867715297, -0.84836931142563, 1.1550990118605282, 0.2918932917473354, 0.7162477689567067, -0.9550265479628989, 0.2521499994616166, -0.9939267568693048, 0.24460112067766868, -0.5373252380583823, -1.0230532664606373, -0.9424681824067453, 2.3426852155752456, -0.8920188830841775, 0.5053181531378398, -2.1661872118166463, 0.9708746207590014, 0.06254801668454595, -1.9078668275518464, 0.555159307106861, -2.16428187320761, -0.34560365011416877, -0.6837291461236665, -0.1634739592475344, 0.2831706477830234, 0.685246531863252, -0.9321228484676077, 0.18315511904931162, -1.6267239569131882, 1.694082509037288, 0.5717073607861783, -1.7526967465512522, 1.0460853003128228, 0.01544291945912684, 2.496407692774929, -0.5410046785615663, 0.0683056909792122, 0.9782736486727258, 1.023525600709707, -1.206316287456762, -0.5685741503938172, 1.1298551244844603, 0.22408918915199863, -0.9374326793795863, 0.587579043248385, 1.3849914586037737, -0.24063283213448555, -1.6960932691511483, 0.2886989196592537, 0.80193843648745, 2.084539988577566, -0.2334718304088673, -0.9716337613375888, -0.9853914916970022, -0.8370293811151239, 0.882419018319776, -1.236429394123926, 1.7140446214832983, -1.2869849485488811, 0.9077359622624505, 0.661988774323941, -1.0493749718367194, 0.9494353260009003, 0.9115781857995494, 1.6685939029093948, -0.2785883516581504, -0.5381588512536185, -0.704378831015469, -1.375137724271894, 0.057939601706218466, 0.6140934720168916, 1.535439446301107, 0.5023467131899262, -0.9650822153038995, -0.6525239240020165, -0.3180906590768329, -1.1092731258949458, 0.145404038644625, 0.32870676388611253, -0.008068834877558549, 1.4682066980932378, -0.43949674370711, -0.43700047416309373, -1.0334340839901797, 0.12261326014475976], \"xaxis\": \"x11\", \"yaxis\": \"y11\"}, {\"line\": {\"color\": \"rgba(128, 128, 128, 1.0)\", \"dash\": \"solid\", \"shape\": \"linear\", \"width\": 1.3}, \"marker\": {\"size\": 2, \"symbol\": \"circle\"}, \"mode\": \"markers\", \"name\": \"C\", \"text\": \"\", \"type\": \"scatter\", \"x\": [-1.1326481896719922, 0.1885285818821884, 1.0615292256120825, 0.7809924239741028, 0.8846964539089548, -0.9638545186415155, 0.42086911955493667, 1.2703691019691992, -1.3432331767219712, -1.0617993243707724, -1.8738496846904225, -0.11035088901470516, 0.01546715467452033, -0.17632698335353136, 0.7846340068087184, -0.20410872749059217, -0.5124727574309572, 0.7711721011305227, 0.3833044177475341, -0.27620215114831587, 0.476632711081902, 1.242897752429488, 0.20127685439850612, 0.23926589187498173, 1.3721356333552794, 0.45826528623040114, 1.3091091644228308, 0.6688287083095635, 0.22354423506614307, 0.5852027283493123, -1.532962735776844, 0.24921425517137355, -0.7137083457306289, 0.4578703319745816, -0.31286430611348254, -1.0404156744613575, -1.586694038565997, -0.5686161440828263, -0.45756233083759756, -0.4227049109356685, -1.9465995354023924, 0.6010810396017673, -1.0872993381337408, 1.6194316472392092, -0.7353964645930996, 0.5966962006557646, 0.28063564122756046, -0.6837196770834758, 0.14722364570920157, -0.843811889967784, 0.878043649206904, 0.14766266762213434, -0.9417354415967973, 1.7213928967786376, -0.9462751724787105, -0.04929166585125539, -0.20203221216333722, -1.0571002846578563, -0.4692756562304136, -1.5579732655543514, 1.5341487128337716, -0.4529126678589696, -1.1674162718780299, -0.3669715522395409, 0.5338343926292213, -0.5904890435986665, 0.5880358473792844, 0.18660546692090088, -0.6636077409449973, -0.4048675150255209, -0.15177822188704793, 0.7271275309865648, 0.8614177379139359, 0.4862245134942477, 0.7721574048318677, 0.36893386998757294, -0.8708467086378487, 0.8827036407013427, -0.23239578123966403, -2.3948271350592756, -0.7502782791825553, 0.40389530605411045, 0.1276427715052904, 0.08847746546697365, -0.09714902305423827, -1.2907930321018086, -1.6093014493617885, 0.9780070300867476, -1.408912628778127, 0.8141484306884554, 0.3779161194107192, 0.7048601183584742, 1.1860105629668631, -0.5045163571109417, 0.4454471220079421, 0.3854514039259868, -1.1051886838676843, 0.8837033351939465, -0.495930574033308, -0.4240159220291364], \"xaxis\": \"x12\", \"y\": [1.8257820565977334, -1.2735188378536204, 0.7421338632914705, -0.26600503410857973, 0.7922190533416104, 0.8645852434050854, 0.8248179849550689, -0.5633619928569527, 0.24610510343448525, -0.9987284646444614, 2.287940166044065, 0.8062963717131537, -0.8934882978202076, -1.847176195184458, 1.4720897086734064, 1.5430244867715297, -0.84836931142563, 1.1550990118605282, 0.2918932917473354, 0.7162477689567067, -0.9550265479628989, 0.2521499994616166, -0.9939267568693048, 0.24460112067766868, -0.5373252380583823, -1.0230532664606373, -0.9424681824067453, 2.3426852155752456, -0.8920188830841775, 0.5053181531378398, -2.1661872118166463, 0.9708746207590014, 0.06254801668454595, -1.9078668275518464, 0.555159307106861, -2.16428187320761, -0.34560365011416877, -0.6837291461236665, -0.1634739592475344, 0.2831706477830234, 0.685246531863252, -0.9321228484676077, 0.18315511904931162, -1.6267239569131882, 1.694082509037288, 0.5717073607861783, -1.7526967465512522, 1.0460853003128228, 0.01544291945912684, 2.496407692774929, -0.5410046785615663, 0.0683056909792122, 0.9782736486727258, 1.023525600709707, -1.206316287456762, -0.5685741503938172, 1.1298551244844603, 0.22408918915199863, -0.9374326793795863, 0.587579043248385, 1.3849914586037737, -0.24063283213448555, -1.6960932691511483, 0.2886989196592537, 0.80193843648745, 2.084539988577566, -0.2334718304088673, -0.9716337613375888, -0.9853914916970022, -0.8370293811151239, 0.882419018319776, -1.236429394123926, 1.7140446214832983, -1.2869849485488811, 0.9077359622624505, 0.661988774323941, -1.0493749718367194, 0.9494353260009003, 0.9115781857995494, 1.6685939029093948, -0.2785883516581504, -0.5381588512536185, -0.704378831015469, -1.375137724271894, 0.057939601706218466, 0.6140934720168916, 1.535439446301107, 0.5023467131899262, -0.9650822153038995, -0.6525239240020165, -0.3180906590768329, -1.1092731258949458, 0.145404038644625, 0.32870676388611253, -0.008068834877558549, 1.4682066980932378, -0.43949674370711, -0.43700047416309373, -1.0334340839901797, 0.12261326014475976], \"yaxis\": \"y12\"}, {\"line\": {\"color\": \"rgba(128, 128, 128, 1.0)\", \"dash\": \"solid\", \"shape\": \"linear\", \"width\": 1.3}, \"marker\": {\"size\": 2, \"symbol\": \"circle\"}, \"mode\": \"markers\", \"name\": \"D\", \"text\": \"\", \"type\": \"scatter\", \"x\": [-0.05200064226874029, -0.8113159106118665, 0.3254513160889677, 2.0243719651519982, -0.6911553098570636, 0.14711298464909714, -0.35157182034498624, 0.9532879835105003, -0.8216704344288754, 0.5175801753746321, 0.41567356984435533, -1.0844866973884586, -0.9725846811504144, 1.700149892346811, 0.6279829967620165, -0.5123058776570327, -1.074696149080149, -0.09302038535197567, 1.4751683628167978, -0.5773238782912412, -0.09364536193895204, 0.2681233002905114, -0.08199555259223776, 0.9869233120457995, -0.9880212646580928, -0.39813389302184454, 0.8355498904749294, 1.115790672079572, 0.36267502782180355, 1.1181862543468475, -0.4189076767146306, -1.2153237513520625, -0.015024636036437649, -1.5506822070192006, 0.7532059219095608, 0.18240660304253964, 1.2455834496116378, -0.03574479357530669, 1.2037655493754456, -1.2899520019302864, -0.8014563612286134, -1.0339031667320415, 0.3236806753652299, 1.7106993971064204, 0.6337221256461304, -0.2264012497122301, 0.24491822787195103, 0.5793968204959391, -0.34421215526457355, -0.046221892173959805, -1.2834202820087908, -0.1668613538033284, 0.3530568801885448, 0.0709962577140452, 1.2704092433144563, -0.6400890854430192, 2.0218498444532718, -1.7029255316020437, -0.16160730377732366, -0.3324363184731455, 1.1092756550592138, -2.944437862373772, -1.587029132621606, -0.9030179130414271, 0.09540976105920948, -1.6095452818271105, 0.008031270192345178, 1.1400678957010764, 0.1029859128666487, 0.2981919450460108, -1.3883363125564128, -1.1114416335765926, 0.2903191896259501, 1.2576586424029736, -1.2635782258578823, -1.3584173862735214, 0.4601351131538541, -1.22363477749503, -1.4816683242901991, 0.09952494040979772, -0.9927180045443987, 1.7831281471414724, -1.5125446989452476, -0.12862030833779978, -2.464692567289804, 1.9359339222011969, 0.5744016876350877, -0.764371866302306, -0.48132549368563415, 0.8871383768027442, 1.3143968176324412, -0.5844808311773532, 1.0384195926025745, -0.4420780596397459, 1.4657803745339457, -0.7100001138145122, -1.1579221829233695, 0.17407486591736138, -0.3361105830791442, 0.4809916958319887], \"xaxis\": \"x13\", \"y\": [-1.1326481896719922, 0.1885285818821884, 1.0615292256120825, 0.7809924239741028, 0.8846964539089548, -0.9638545186415155, 0.42086911955493667, 1.2703691019691992, -1.3432331767219712, -1.0617993243707724, -1.8738496846904225, -0.11035088901470516, 0.01546715467452033, -0.17632698335353136, 0.7846340068087184, -0.20410872749059217, -0.5124727574309572, 0.7711721011305227, 0.3833044177475341, -0.27620215114831587, 0.476632711081902, 1.242897752429488, 0.20127685439850612, 0.23926589187498173, 1.3721356333552794, 0.45826528623040114, 1.3091091644228308, 0.6688287083095635, 0.22354423506614307, 0.5852027283493123, -1.532962735776844, 0.24921425517137355, -0.7137083457306289, 0.4578703319745816, -0.31286430611348254, -1.0404156744613575, -1.586694038565997, -0.5686161440828263, -0.45756233083759756, -0.4227049109356685, -1.9465995354023924, 0.6010810396017673, -1.0872993381337408, 1.6194316472392092, -0.7353964645930996, 0.5966962006557646, 0.28063564122756046, -0.6837196770834758, 0.14722364570920157, -0.843811889967784, 0.878043649206904, 0.14766266762213434, -0.9417354415967973, 1.7213928967786376, -0.9462751724787105, -0.04929166585125539, -0.20203221216333722, -1.0571002846578563, -0.4692756562304136, -1.5579732655543514, 1.5341487128337716, -0.4529126678589696, -1.1674162718780299, -0.3669715522395409, 0.5338343926292213, -0.5904890435986665, 0.5880358473792844, 0.18660546692090088, -0.6636077409449973, -0.4048675150255209, -0.15177822188704793, 0.7271275309865648, 0.8614177379139359, 0.4862245134942477, 0.7721574048318677, 0.36893386998757294, -0.8708467086378487, 0.8827036407013427, -0.23239578123966403, -2.3948271350592756, -0.7502782791825553, 0.40389530605411045, 0.1276427715052904, 0.08847746546697365, -0.09714902305423827, -1.2907930321018086, -1.6093014493617885, 0.9780070300867476, -1.408912628778127, 0.8141484306884554, 0.3779161194107192, 0.7048601183584742, 1.1860105629668631, -0.5045163571109417, 0.4454471220079421, 0.3854514039259868, -1.1051886838676843, 0.8837033351939465, -0.495930574033308, -0.4240159220291364], \"yaxis\": \"y13\"}, {\"line\": {\"color\": \"rgba(128, 128, 128, 1.0)\", \"dash\": \"solid\", \"shape\": \"linear\", \"width\": 1.3}, \"marker\": {\"size\": 2, \"symbol\": \"circle\"}, \"mode\": \"markers\", \"name\": \"D\", \"text\": \"\", \"type\": \"scatter\", \"x\": [-0.3035309217997338, 1.8115843850413655, -1.8792276036095135, 1.143909537806382, 0.0923541450056231, 0.13177410792440244, -1.644887018775058, 2.0831971657948625, 1.599452683208107, -0.0069964248626790074, 0.8243911969905283, 0.5956007854062508, 0.39862711624745445, -1.666634755718817, -0.4089336921506136, -0.16298439036927434, 1.0479183949966526, -0.9165492282798984, -0.4892264761249731, 0.5123066799262901, 0.7584021541015817, -0.08593360496991281, -0.24021553116689526, 2.5039169522158864, -1.512037975593897, 0.49113801984285316, -0.31871938863922766, 0.7128543675798462, -0.14479570326040525, 0.5279038708585918, 1.0794313887626623, 1.7106227788566175, -0.530919857654775, 1.2540574714983195, 0.7413750828160827, 0.18458536123716268, 1.0624029825522627, 0.742424688303108, 1.645819200054811, -1.1308745123092925, 0.48757750365959723, 0.04891773652933975, -0.6083669341853393, -0.5558964652700791, 2.179562344673998, 0.6487864256900213, 0.7046774107134081, -1.8275035997285698, -1.2561220814441574, 0.8648079555785866, 1.2398062390269777, 1.5470834554212618, -0.4454825332388899, -1.4880689915828327, -0.738397634159601, -0.36732803174497464, -0.5219859018248537, -0.10793021508035824, 1.6030720602940183, 1.1981071665048801, -0.0009961029876620706, 0.111212367996999, -0.7986756374835384, -0.3126649986611836, -0.5904948556513827, -1.3826204461674614, 2.6788582132331387, 0.7839573434679493, -0.047862984084776475, 0.6889032871954877, 0.39966616125392346, -0.43566971474227745, 2.0861224961894766, -0.4776941244058906, -1.1511082972505302, -0.4710654454917627, -0.18175710734427944, -0.6855040312566344, -1.5412892891831538, 0.8311464475440197, -0.818964281498889, 1.037211685095319, 1.117239715972962, -0.29232705347009696, 0.9038496269295024, 0.611628653407918, 0.9367173662598217, -0.2715131674594367, -0.24274004412887631, 0.12403688842619563, -0.5676803256100553, 2.598349746359133, -0.7335625073991564, 2.19935547566327, 1.2247442665380743, -1.3895443215751322, -1.9959607836346613, -0.5055580229875679, 0.08932547950890063, -1.1497354981510886], \"xaxis\": \"x14\", \"y\": [-1.1326481896719922, 0.1885285818821884, 1.0615292256120825, 0.7809924239741028, 0.8846964539089548, -0.9638545186415155, 0.42086911955493667, 1.2703691019691992, -1.3432331767219712, -1.0617993243707724, -1.8738496846904225, -0.11035088901470516, 0.01546715467452033, -0.17632698335353136, 0.7846340068087184, -0.20410872749059217, -0.5124727574309572, 0.7711721011305227, 0.3833044177475341, -0.27620215114831587, 0.476632711081902, 1.242897752429488, 0.20127685439850612, 0.23926589187498173, 1.3721356333552794, 0.45826528623040114, 1.3091091644228308, 0.6688287083095635, 0.22354423506614307, 0.5852027283493123, -1.532962735776844, 0.24921425517137355, -0.7137083457306289, 0.4578703319745816, -0.31286430611348254, -1.0404156744613575, -1.586694038565997, -0.5686161440828263, -0.45756233083759756, -0.4227049109356685, -1.9465995354023924, 0.6010810396017673, -1.0872993381337408, 1.6194316472392092, -0.7353964645930996, 0.5966962006557646, 0.28063564122756046, -0.6837196770834758, 0.14722364570920157, -0.843811889967784, 0.878043649206904, 0.14766266762213434, -0.9417354415967973, 1.7213928967786376, -0.9462751724787105, -0.04929166585125539, -0.20203221216333722, -1.0571002846578563, -0.4692756562304136, -1.5579732655543514, 1.5341487128337716, -0.4529126678589696, -1.1674162718780299, -0.3669715522395409, 0.5338343926292213, -0.5904890435986665, 0.5880358473792844, 0.18660546692090088, -0.6636077409449973, -0.4048675150255209, -0.15177822188704793, 0.7271275309865648, 0.8614177379139359, 0.4862245134942477, 0.7721574048318677, 0.36893386998757294, -0.8708467086378487, 0.8827036407013427, -0.23239578123966403, -2.3948271350592756, -0.7502782791825553, 0.40389530605411045, 0.1276427715052904, 0.08847746546697365, -0.09714902305423827, -1.2907930321018086, -1.6093014493617885, 0.9780070300867476, -1.408912628778127, 0.8141484306884554, 0.3779161194107192, 0.7048601183584742, 1.1860105629668631, -0.5045163571109417, 0.4454471220079421, 0.3854514039259868, -1.1051886838676843, 0.8837033351939465, -0.495930574033308, -0.4240159220291364], \"yaxis\": \"y14\"}, {\"line\": {\"color\": \"rgba(128, 128, 128, 1.0)\", \"dash\": \"solid\", \"shape\": \"linear\", \"width\": 1.3}, \"marker\": {\"size\": 2, \"symbol\": \"circle\"}, \"mode\": \"markers\", \"name\": \"D\", \"text\": \"\", \"type\": \"scatter\", \"x\": [1.8257820565977334, -1.2735188378536204, 0.7421338632914705, -0.26600503410857973, 0.7922190533416104, 0.8645852434050854, 0.8248179849550689, -0.5633619928569527, 0.24610510343448525, -0.9987284646444614, 2.287940166044065, 0.8062963717131537, -0.8934882978202076, -1.847176195184458, 1.4720897086734064, 1.5430244867715297, -0.84836931142563, 1.1550990118605282, 0.2918932917473354, 0.7162477689567067, -0.9550265479628989, 0.2521499994616166, -0.9939267568693048, 0.24460112067766868, -0.5373252380583823, -1.0230532664606373, -0.9424681824067453, 2.3426852155752456, -0.8920188830841775, 0.5053181531378398, -2.1661872118166463, 0.9708746207590014, 0.06254801668454595, -1.9078668275518464, 0.555159307106861, -2.16428187320761, -0.34560365011416877, -0.6837291461236665, -0.1634739592475344, 0.2831706477830234, 0.685246531863252, -0.9321228484676077, 0.18315511904931162, -1.6267239569131882, 1.694082509037288, 0.5717073607861783, -1.7526967465512522, 1.0460853003128228, 0.01544291945912684, 2.496407692774929, -0.5410046785615663, 0.0683056909792122, 0.9782736486727258, 1.023525600709707, -1.206316287456762, -0.5685741503938172, 1.1298551244844603, 0.22408918915199863, -0.9374326793795863, 0.587579043248385, 1.3849914586037737, -0.24063283213448555, -1.6960932691511483, 0.2886989196592537, 0.80193843648745, 2.084539988577566, -0.2334718304088673, -0.9716337613375888, -0.9853914916970022, -0.8370293811151239, 0.882419018319776, -1.236429394123926, 1.7140446214832983, -1.2869849485488811, 0.9077359622624505, 0.661988774323941, -1.0493749718367194, 0.9494353260009003, 0.9115781857995494, 1.6685939029093948, -0.2785883516581504, -0.5381588512536185, -0.704378831015469, -1.375137724271894, 0.057939601706218466, 0.6140934720168916, 1.535439446301107, 0.5023467131899262, -0.9650822153038995, -0.6525239240020165, -0.3180906590768329, -1.1092731258949458, 0.145404038644625, 0.32870676388611253, -0.008068834877558549, 1.4682066980932378, -0.43949674370711, -0.43700047416309373, -1.0334340839901797, 0.12261326014475976], \"xaxis\": \"x15\", \"y\": [-1.1326481896719922, 0.1885285818821884, 1.0615292256120825, 0.7809924239741028, 0.8846964539089548, -0.9638545186415155, 0.42086911955493667, 1.2703691019691992, -1.3432331767219712, -1.0617993243707724, -1.8738496846904225, -0.11035088901470516, 0.01546715467452033, -0.17632698335353136, 0.7846340068087184, -0.20410872749059217, -0.5124727574309572, 0.7711721011305227, 0.3833044177475341, -0.27620215114831587, 0.476632711081902, 1.242897752429488, 0.20127685439850612, 0.23926589187498173, 1.3721356333552794, 0.45826528623040114, 1.3091091644228308, 0.6688287083095635, 0.22354423506614307, 0.5852027283493123, -1.532962735776844, 0.24921425517137355, -0.7137083457306289, 0.4578703319745816, -0.31286430611348254, -1.0404156744613575, -1.586694038565997, -0.5686161440828263, -0.45756233083759756, -0.4227049109356685, -1.9465995354023924, 0.6010810396017673, -1.0872993381337408, 1.6194316472392092, -0.7353964645930996, 0.5966962006557646, 0.28063564122756046, -0.6837196770834758, 0.14722364570920157, -0.843811889967784, 0.878043649206904, 0.14766266762213434, -0.9417354415967973, 1.7213928967786376, -0.9462751724787105, -0.04929166585125539, -0.20203221216333722, -1.0571002846578563, -0.4692756562304136, -1.5579732655543514, 1.5341487128337716, -0.4529126678589696, -1.1674162718780299, -0.3669715522395409, 0.5338343926292213, -0.5904890435986665, 0.5880358473792844, 0.18660546692090088, -0.6636077409449973, -0.4048675150255209, -0.15177822188704793, 0.7271275309865648, 0.8614177379139359, 0.4862245134942477, 0.7721574048318677, 0.36893386998757294, -0.8708467086378487, 0.8827036407013427, -0.23239578123966403, -2.3948271350592756, -0.7502782791825553, 0.40389530605411045, 0.1276427715052904, 0.08847746546697365, -0.09714902305423827, -1.2907930321018086, -1.6093014493617885, 0.9780070300867476, -1.408912628778127, 0.8141484306884554, 0.3779161194107192, 0.7048601183584742, 1.1860105629668631, -0.5045163571109417, 0.4454471220079421, 0.3854514039259868, -1.1051886838676843, 0.8837033351939465, -0.495930574033308, -0.4240159220291364], \"yaxis\": \"y15\"}, {\"histfunc\": \"count\", \"histnorm\": \"\", \"marker\": {\"color\": \"rgba(128, 0, 128, 1.0)\", \"line\": {\"color\": \"#4D5663\", \"width\": 1.3}}, \"name\": \"D\", \"nbinsx\": 10, \"opacity\": 0.8, \"orientation\": \"v\", \"type\": \"histogram\", \"x\": [-1.1326481896719922, 0.1885285818821884, 1.0615292256120825, 0.7809924239741028, 0.8846964539089548, -0.9638545186415155, 0.42086911955493667, 1.2703691019691992, -1.3432331767219712, -1.0617993243707724, -1.8738496846904225, -0.11035088901470516, 0.01546715467452033, -0.17632698335353136, 0.7846340068087184, -0.20410872749059217, -0.5124727574309572, 0.7711721011305227, 0.3833044177475341, -0.27620215114831587, 0.476632711081902, 1.242897752429488, 0.20127685439850612, 0.23926589187498173, 1.3721356333552794, 0.45826528623040114, 1.3091091644228308, 0.6688287083095635, 0.22354423506614307, 0.5852027283493123, -1.532962735776844, 0.24921425517137355, -0.7137083457306289, 0.4578703319745816, -0.31286430611348254, -1.0404156744613575, -1.586694038565997, -0.5686161440828263, -0.45756233083759756, -0.4227049109356685, -1.9465995354023924, 0.6010810396017673, -1.0872993381337408, 1.6194316472392092, -0.7353964645930996, 0.5966962006557646, 0.28063564122756046, -0.6837196770834758, 0.14722364570920157, -0.843811889967784, 0.878043649206904, 0.14766266762213434, -0.9417354415967973, 1.7213928967786376, -0.9462751724787105, -0.04929166585125539, -0.20203221216333722, -1.0571002846578563, -0.4692756562304136, -1.5579732655543514, 1.5341487128337716, -0.4529126678589696, -1.1674162718780299, -0.3669715522395409, 0.5338343926292213, -0.5904890435986665, 0.5880358473792844, 0.18660546692090088, -0.6636077409449973, -0.4048675150255209, -0.15177822188704793, 0.7271275309865648, 0.8614177379139359, 0.4862245134942477, 0.7721574048318677, 0.36893386998757294, -0.8708467086378487, 0.8827036407013427, -0.23239578123966403, -2.3948271350592756, -0.7502782791825553, 0.40389530605411045, 0.1276427715052904, 0.08847746546697365, -0.09714902305423827, -1.2907930321018086, -1.6093014493617885, 0.9780070300867476, -1.408912628778127, 0.8141484306884554, 0.3779161194107192, 0.7048601183584742, 1.1860105629668631, -0.5045163571109417, 0.4454471220079421, 0.3854514039259868, -1.1051886838676843, 0.8837033351939465, -0.495930574033308, -0.4240159220291364], \"xaxis\": \"x16\", \"yaxis\": \"y16\"}],\n",
       "                        {\"bargap\": 0.02, \"legend\": {\"bgcolor\": \"#F5F6F9\", \"font\": {\"color\": \"#4D5663\"}}, \"paper_bgcolor\": \"#F5F6F9\", \"plot_bgcolor\": \"#F5F6F9\", \"showlegend\": false, \"template\": {\"data\": {\"bar\": [{\"error_x\": {\"color\": \"#2a3f5f\"}, \"error_y\": {\"color\": \"#2a3f5f\"}, \"marker\": {\"line\": {\"color\": \"#E5ECF6\", \"width\": 0.5}}, \"type\": \"bar\"}], \"barpolar\": [{\"marker\": {\"line\": {\"color\": \"#E5ECF6\", \"width\": 0.5}}, \"type\": \"barpolar\"}], \"carpet\": [{\"aaxis\": {\"endlinecolor\": \"#2a3f5f\", \"gridcolor\": \"white\", \"linecolor\": \"white\", \"minorgridcolor\": \"white\", \"startlinecolor\": \"#2a3f5f\"}, \"baxis\": {\"endlinecolor\": \"#2a3f5f\", \"gridcolor\": \"white\", \"linecolor\": \"white\", \"minorgridcolor\": \"white\", \"startlinecolor\": \"#2a3f5f\"}, \"type\": \"carpet\"}], \"choropleth\": [{\"colorbar\": {\"outlinewidth\": 0, \"ticks\": \"\"}, \"type\": \"choropleth\"}], \"contour\": [{\"colorbar\": {\"outlinewidth\": 0, \"ticks\": \"\"}, \"colorscale\": [[0.0, \"#0d0887\"], [0.1111111111111111, \"#46039f\"], [0.2222222222222222, \"#7201a8\"], [0.3333333333333333, \"#9c179e\"], [0.4444444444444444, \"#bd3786\"], [0.5555555555555556, \"#d8576b\"], [0.6666666666666666, \"#ed7953\"], [0.7777777777777778, \"#fb9f3a\"], [0.8888888888888888, \"#fdca26\"], [1.0, \"#f0f921\"]], \"type\": \"contour\"}], \"contourcarpet\": [{\"colorbar\": {\"outlinewidth\": 0, \"ticks\": \"\"}, \"type\": \"contourcarpet\"}], \"heatmap\": [{\"colorbar\": {\"outlinewidth\": 0, \"ticks\": \"\"}, \"colorscale\": [[0.0, \"#0d0887\"], [0.1111111111111111, \"#46039f\"], [0.2222222222222222, \"#7201a8\"], [0.3333333333333333, \"#9c179e\"], [0.4444444444444444, \"#bd3786\"], [0.5555555555555556, \"#d8576b\"], [0.6666666666666666, \"#ed7953\"], [0.7777777777777778, \"#fb9f3a\"], [0.8888888888888888, \"#fdca26\"], [1.0, \"#f0f921\"]], \"type\": \"heatmap\"}], \"heatmapgl\": [{\"colorbar\": {\"outlinewidth\": 0, \"ticks\": \"\"}, \"colorscale\": [[0.0, \"#0d0887\"], [0.1111111111111111, \"#46039f\"], [0.2222222222222222, \"#7201a8\"], [0.3333333333333333, \"#9c179e\"], [0.4444444444444444, \"#bd3786\"], [0.5555555555555556, \"#d8576b\"], [0.6666666666666666, \"#ed7953\"], [0.7777777777777778, \"#fb9f3a\"], [0.8888888888888888, \"#fdca26\"], [1.0, \"#f0f921\"]], \"type\": \"heatmapgl\"}], \"histogram\": [{\"marker\": {\"colorbar\": {\"outlinewidth\": 0, \"ticks\": \"\"}}, \"type\": \"histogram\"}], \"histogram2d\": [{\"colorbar\": {\"outlinewidth\": 0, \"ticks\": \"\"}, \"colorscale\": [[0.0, \"#0d0887\"], [0.1111111111111111, \"#46039f\"], [0.2222222222222222, \"#7201a8\"], [0.3333333333333333, \"#9c179e\"], [0.4444444444444444, \"#bd3786\"], [0.5555555555555556, \"#d8576b\"], [0.6666666666666666, \"#ed7953\"], [0.7777777777777778, \"#fb9f3a\"], [0.8888888888888888, \"#fdca26\"], [1.0, \"#f0f921\"]], \"type\": \"histogram2d\"}], \"histogram2dcontour\": [{\"colorbar\": {\"outlinewidth\": 0, \"ticks\": \"\"}, \"colorscale\": [[0.0, \"#0d0887\"], [0.1111111111111111, \"#46039f\"], [0.2222222222222222, \"#7201a8\"], [0.3333333333333333, \"#9c179e\"], [0.4444444444444444, \"#bd3786\"], [0.5555555555555556, \"#d8576b\"], [0.6666666666666666, \"#ed7953\"], [0.7777777777777778, \"#fb9f3a\"], [0.8888888888888888, \"#fdca26\"], [1.0, \"#f0f921\"]], \"type\": \"histogram2dcontour\"}], \"mesh3d\": [{\"colorbar\": {\"outlinewidth\": 0, \"ticks\": \"\"}, \"type\": \"mesh3d\"}], \"parcoords\": [{\"line\": {\"colorbar\": {\"outlinewidth\": 0, \"ticks\": \"\"}}, \"type\": \"parcoords\"}], \"pie\": [{\"automargin\": true, \"type\": \"pie\"}], \"scatter\": [{\"marker\": {\"colorbar\": {\"outlinewidth\": 0, \"ticks\": \"\"}}, \"type\": \"scatter\"}], \"scatter3d\": [{\"line\": {\"colorbar\": {\"outlinewidth\": 0, \"ticks\": \"\"}}, \"marker\": {\"colorbar\": {\"outlinewidth\": 0, \"ticks\": \"\"}}, \"type\": \"scatter3d\"}], \"scattercarpet\": [{\"marker\": {\"colorbar\": {\"outlinewidth\": 0, \"ticks\": \"\"}}, \"type\": \"scattercarpet\"}], \"scattergeo\": [{\"marker\": {\"colorbar\": {\"outlinewidth\": 0, \"ticks\": \"\"}}, \"type\": \"scattergeo\"}], \"scattergl\": [{\"marker\": {\"colorbar\": {\"outlinewidth\": 0, \"ticks\": \"\"}}, \"type\": \"scattergl\"}], \"scattermapbox\": [{\"marker\": {\"colorbar\": {\"outlinewidth\": 0, \"ticks\": \"\"}}, \"type\": \"scattermapbox\"}], \"scatterpolar\": [{\"marker\": {\"colorbar\": {\"outlinewidth\": 0, \"ticks\": \"\"}}, \"type\": \"scatterpolar\"}], \"scatterpolargl\": [{\"marker\": {\"colorbar\": {\"outlinewidth\": 0, \"ticks\": \"\"}}, \"type\": \"scatterpolargl\"}], \"scatterternary\": [{\"marker\": {\"colorbar\": {\"outlinewidth\": 0, \"ticks\": \"\"}}, \"type\": \"scatterternary\"}], \"surface\": [{\"colorbar\": {\"outlinewidth\": 0, \"ticks\": \"\"}, \"colorscale\": [[0.0, \"#0d0887\"], [0.1111111111111111, \"#46039f\"], [0.2222222222222222, \"#7201a8\"], [0.3333333333333333, \"#9c179e\"], [0.4444444444444444, \"#bd3786\"], [0.5555555555555556, \"#d8576b\"], [0.6666666666666666, \"#ed7953\"], [0.7777777777777778, \"#fb9f3a\"], [0.8888888888888888, \"#fdca26\"], [1.0, \"#f0f921\"]], \"type\": \"surface\"}], \"table\": [{\"cells\": {\"fill\": {\"color\": \"#EBF0F8\"}, \"line\": {\"color\": \"white\"}}, \"header\": {\"fill\": {\"color\": \"#C8D4E3\"}, \"line\": {\"color\": \"white\"}}, \"type\": \"table\"}]}, \"layout\": {\"annotationdefaults\": {\"arrowcolor\": \"#2a3f5f\", \"arrowhead\": 0, \"arrowwidth\": 1}, \"coloraxis\": {\"colorbar\": {\"outlinewidth\": 0, \"ticks\": \"\"}}, \"colorscale\": {\"diverging\": [[0, \"#8e0152\"], [0.1, \"#c51b7d\"], [0.2, \"#de77ae\"], [0.3, \"#f1b6da\"], [0.4, \"#fde0ef\"], [0.5, \"#f7f7f7\"], [0.6, \"#e6f5d0\"], [0.7, \"#b8e186\"], [0.8, \"#7fbc41\"], [0.9, \"#4d9221\"], [1, \"#276419\"]], \"sequential\": [[0.0, \"#0d0887\"], [0.1111111111111111, \"#46039f\"], [0.2222222222222222, \"#7201a8\"], [0.3333333333333333, \"#9c179e\"], [0.4444444444444444, \"#bd3786\"], [0.5555555555555556, \"#d8576b\"], [0.6666666666666666, \"#ed7953\"], [0.7777777777777778, \"#fb9f3a\"], [0.8888888888888888, \"#fdca26\"], [1.0, \"#f0f921\"]], \"sequentialminus\": [[0.0, \"#0d0887\"], [0.1111111111111111, \"#46039f\"], [0.2222222222222222, \"#7201a8\"], [0.3333333333333333, \"#9c179e\"], [0.4444444444444444, \"#bd3786\"], [0.5555555555555556, \"#d8576b\"], [0.6666666666666666, \"#ed7953\"], [0.7777777777777778, \"#fb9f3a\"], [0.8888888888888888, \"#fdca26\"], [1.0, \"#f0f921\"]]}, \"colorway\": [\"#636efa\", \"#EF553B\", \"#00cc96\", \"#ab63fa\", \"#FFA15A\", \"#19d3f3\", \"#FF6692\", \"#B6E880\", \"#FF97FF\", \"#FECB52\"], \"font\": {\"color\": \"#2a3f5f\"}, \"geo\": {\"bgcolor\": \"white\", \"lakecolor\": \"white\", \"landcolor\": \"#E5ECF6\", \"showlakes\": true, \"showland\": true, \"subunitcolor\": \"white\"}, \"hoverlabel\": {\"align\": \"left\"}, \"hovermode\": \"closest\", \"mapbox\": {\"style\": \"light\"}, \"paper_bgcolor\": \"white\", \"plot_bgcolor\": \"#E5ECF6\", \"polar\": {\"angularaxis\": {\"gridcolor\": \"white\", \"linecolor\": \"white\", \"ticks\": \"\"}, \"bgcolor\": \"#E5ECF6\", \"radialaxis\": {\"gridcolor\": \"white\", \"linecolor\": \"white\", \"ticks\": \"\"}}, \"scene\": {\"xaxis\": {\"backgroundcolor\": \"#E5ECF6\", \"gridcolor\": \"white\", \"gridwidth\": 2, \"linecolor\": \"white\", \"showbackground\": true, \"ticks\": \"\", \"zerolinecolor\": \"white\"}, \"yaxis\": {\"backgroundcolor\": \"#E5ECF6\", \"gridcolor\": \"white\", \"gridwidth\": 2, \"linecolor\": \"white\", \"showbackground\": true, \"ticks\": \"\", \"zerolinecolor\": \"white\"}, \"zaxis\": {\"backgroundcolor\": \"#E5ECF6\", \"gridcolor\": \"white\", \"gridwidth\": 2, \"linecolor\": \"white\", \"showbackground\": true, \"ticks\": \"\", \"zerolinecolor\": \"white\"}}, \"shapedefaults\": {\"line\": {\"color\": \"#2a3f5f\"}}, \"ternary\": {\"aaxis\": {\"gridcolor\": \"white\", \"linecolor\": \"white\", \"ticks\": \"\"}, \"baxis\": {\"gridcolor\": \"white\", \"linecolor\": \"white\", \"ticks\": \"\"}, \"bgcolor\": \"#E5ECF6\", \"caxis\": {\"gridcolor\": \"white\", \"linecolor\": \"white\", \"ticks\": \"\"}}, \"title\": {\"x\": 0.05}, \"xaxis\": {\"automargin\": true, \"gridcolor\": \"white\", \"linecolor\": \"white\", \"ticks\": \"\", \"title\": {\"standoff\": 15}, \"zerolinecolor\": \"white\", \"zerolinewidth\": 2}, \"yaxis\": {\"automargin\": true, \"gridcolor\": \"white\", \"linecolor\": \"white\", \"ticks\": \"\", \"title\": {\"standoff\": 15}, \"zerolinecolor\": \"white\", \"zerolinewidth\": 2}}}, \"title\": {\"font\": {\"color\": \"#4D5663\"}}, \"xaxis\": {\"anchor\": \"y\", \"domain\": [0.0, 0.2125], \"gridcolor\": \"#E1E5ED\", \"showgrid\": false, \"tickfont\": {\"color\": \"#4D5663\"}, \"title\": {\"font\": {\"color\": \"#4D5663\"}, \"text\": \"\"}, \"zerolinecolor\": \"#E1E5ED\"}, \"xaxis10\": {\"anchor\": \"y10\", \"domain\": [0.2625, 0.475], \"gridcolor\": \"#E1E5ED\", \"showgrid\": false, \"tickfont\": {\"color\": \"#4D5663\"}, \"title\": {\"font\": {\"color\": \"#4D5663\"}, \"text\": \"\"}, \"zerolinecolor\": \"#E1E5ED\"}, \"xaxis11\": {\"anchor\": \"y11\", \"domain\": [0.525, 0.7375], \"gridcolor\": \"#E1E5ED\", \"showgrid\": false, \"tickfont\": {\"color\": \"#4D5663\"}, \"title\": {\"font\": {\"color\": \"#4D5663\"}, \"text\": \"\"}, \"zerolinecolor\": \"#E1E5ED\"}, \"xaxis12\": {\"anchor\": \"y12\", \"domain\": [0.7875, 1.0], \"gridcolor\": \"#E1E5ED\", \"showgrid\": false, \"tickfont\": {\"color\": \"#4D5663\"}, \"title\": {\"font\": {\"color\": \"#4D5663\"}, \"text\": \"\"}, \"zerolinecolor\": \"#E1E5ED\"}, \"xaxis13\": {\"anchor\": \"y13\", \"domain\": [0.0, 0.2125], \"gridcolor\": \"#E1E5ED\", \"showgrid\": false, \"tickfont\": {\"color\": \"#4D5663\"}, \"title\": {\"font\": {\"color\": \"#4D5663\"}, \"text\": \"\"}, \"zerolinecolor\": \"#E1E5ED\"}, \"xaxis14\": {\"anchor\": \"y14\", \"domain\": [0.2625, 0.475], \"gridcolor\": \"#E1E5ED\", \"showgrid\": false, \"tickfont\": {\"color\": \"#4D5663\"}, \"title\": {\"font\": {\"color\": \"#4D5663\"}, \"text\": \"\"}, \"zerolinecolor\": \"#E1E5ED\"}, \"xaxis15\": {\"anchor\": \"y15\", \"domain\": [0.525, 0.7375], \"gridcolor\": \"#E1E5ED\", \"showgrid\": false, \"tickfont\": {\"color\": \"#4D5663\"}, \"title\": {\"font\": {\"color\": \"#4D5663\"}, \"text\": \"\"}, \"zerolinecolor\": \"#E1E5ED\"}, \"xaxis16\": {\"anchor\": \"y16\", \"domain\": [0.7875, 1.0], \"gridcolor\": \"#E1E5ED\", \"showgrid\": false, \"tickfont\": {\"color\": \"#4D5663\"}, \"title\": {\"font\": {\"color\": \"#4D5663\"}, \"text\": \"\"}, \"zerolinecolor\": \"#E1E5ED\"}, \"xaxis2\": {\"anchor\": \"y2\", \"domain\": [0.2625, 0.475], \"gridcolor\": \"#E1E5ED\", \"showgrid\": false, \"tickfont\": {\"color\": \"#4D5663\"}, \"title\": {\"font\": {\"color\": \"#4D5663\"}, \"text\": \"\"}, \"zerolinecolor\": \"#E1E5ED\"}, \"xaxis3\": {\"anchor\": \"y3\", \"domain\": [0.525, 0.7375], \"gridcolor\": \"#E1E5ED\", \"showgrid\": false, \"tickfont\": {\"color\": \"#4D5663\"}, \"title\": {\"font\": {\"color\": \"#4D5663\"}, \"text\": \"\"}, \"zerolinecolor\": \"#E1E5ED\"}, \"xaxis4\": {\"anchor\": \"y4\", \"domain\": [0.7875, 1.0], \"gridcolor\": \"#E1E5ED\", \"showgrid\": false, \"tickfont\": {\"color\": \"#4D5663\"}, \"title\": {\"font\": {\"color\": \"#4D5663\"}, \"text\": \"\"}, \"zerolinecolor\": \"#E1E5ED\"}, \"xaxis5\": {\"anchor\": \"y5\", \"domain\": [0.0, 0.2125], \"gridcolor\": \"#E1E5ED\", \"showgrid\": false, \"tickfont\": {\"color\": \"#4D5663\"}, \"title\": {\"font\": {\"color\": \"#4D5663\"}, \"text\": \"\"}, \"zerolinecolor\": \"#E1E5ED\"}, \"xaxis6\": {\"anchor\": \"y6\", \"domain\": [0.2625, 0.475], \"gridcolor\": \"#E1E5ED\", \"showgrid\": false, \"tickfont\": {\"color\": \"#4D5663\"}, \"title\": {\"font\": {\"color\": \"#4D5663\"}, \"text\": \"\"}, \"zerolinecolor\": \"#E1E5ED\"}, \"xaxis7\": {\"anchor\": \"y7\", \"domain\": [0.525, 0.7375], \"gridcolor\": \"#E1E5ED\", \"showgrid\": false, \"tickfont\": {\"color\": \"#4D5663\"}, \"title\": {\"font\": {\"color\": \"#4D5663\"}, \"text\": \"\"}, \"zerolinecolor\": \"#E1E5ED\"}, \"xaxis8\": {\"anchor\": \"y8\", \"domain\": [0.7875, 1.0], \"gridcolor\": \"#E1E5ED\", \"showgrid\": false, \"tickfont\": {\"color\": \"#4D5663\"}, \"title\": {\"font\": {\"color\": \"#4D5663\"}, \"text\": \"\"}, \"zerolinecolor\": \"#E1E5ED\"}, \"xaxis9\": {\"anchor\": \"y9\", \"domain\": [0.0, 0.2125], \"gridcolor\": \"#E1E5ED\", \"showgrid\": false, \"tickfont\": {\"color\": \"#4D5663\"}, \"title\": {\"font\": {\"color\": \"#4D5663\"}, \"text\": \"\"}, \"zerolinecolor\": \"#E1E5ED\"}, \"yaxis\": {\"anchor\": \"x\", \"domain\": [0.8025, 1.0], \"gridcolor\": \"#E1E5ED\", \"showgrid\": false, \"tickfont\": {\"color\": \"#4D5663\"}, \"title\": {\"font\": {\"color\": \"#4D5663\"}, \"text\": \"\"}, \"zerolinecolor\": \"#E1E5ED\"}, \"yaxis10\": {\"anchor\": \"x10\", \"domain\": [0.2675, 0.465], \"gridcolor\": \"#E1E5ED\", \"showgrid\": false, \"tickfont\": {\"color\": \"#4D5663\"}, \"title\": {\"font\": {\"color\": \"#4D5663\"}, \"text\": \"\"}, \"zerolinecolor\": \"#E1E5ED\"}, \"yaxis11\": {\"anchor\": \"x11\", \"domain\": [0.2675, 0.465], \"gridcolor\": \"#E1E5ED\", \"showgrid\": false, \"tickfont\": {\"color\": \"#4D5663\"}, \"title\": {\"font\": {\"color\": \"#4D5663\"}, \"text\": \"\"}, \"zerolinecolor\": \"#E1E5ED\"}, \"yaxis12\": {\"anchor\": \"x12\", \"domain\": [0.2675, 0.465], \"gridcolor\": \"#E1E5ED\", \"showgrid\": false, \"tickfont\": {\"color\": \"#4D5663\"}, \"title\": {\"font\": {\"color\": \"#4D5663\"}, \"text\": \"\"}, \"zerolinecolor\": \"#E1E5ED\"}, \"yaxis13\": {\"anchor\": \"x13\", \"domain\": [0.0, 0.1975], \"gridcolor\": \"#E1E5ED\", \"showgrid\": false, \"tickfont\": {\"color\": \"#4D5663\"}, \"title\": {\"font\": {\"color\": \"#4D5663\"}, \"text\": \"\"}, \"zerolinecolor\": \"#E1E5ED\"}, \"yaxis14\": {\"anchor\": \"x14\", \"domain\": [0.0, 0.1975], \"gridcolor\": \"#E1E5ED\", \"showgrid\": false, \"tickfont\": {\"color\": \"#4D5663\"}, \"title\": {\"font\": {\"color\": \"#4D5663\"}, \"text\": \"\"}, \"zerolinecolor\": \"#E1E5ED\"}, \"yaxis15\": {\"anchor\": \"x15\", \"domain\": [0.0, 0.1975], \"gridcolor\": \"#E1E5ED\", \"showgrid\": false, \"tickfont\": {\"color\": \"#4D5663\"}, \"title\": {\"font\": {\"color\": \"#4D5663\"}, \"text\": \"\"}, \"zerolinecolor\": \"#E1E5ED\"}, \"yaxis16\": {\"anchor\": \"x16\", \"domain\": [0.0, 0.1975], \"gridcolor\": \"#E1E5ED\", \"showgrid\": false, \"tickfont\": {\"color\": \"#4D5663\"}, \"title\": {\"font\": {\"color\": \"#4D5663\"}, \"text\": \"\"}, \"zerolinecolor\": \"#E1E5ED\"}, \"yaxis2\": {\"anchor\": \"x2\", \"domain\": [0.8025, 1.0], \"gridcolor\": \"#E1E5ED\", \"showgrid\": false, \"tickfont\": {\"color\": \"#4D5663\"}, \"title\": {\"font\": {\"color\": \"#4D5663\"}, \"text\": \"\"}, \"zerolinecolor\": \"#E1E5ED\"}, \"yaxis3\": {\"anchor\": \"x3\", \"domain\": [0.8025, 1.0], \"gridcolor\": \"#E1E5ED\", \"showgrid\": false, \"tickfont\": {\"color\": \"#4D5663\"}, \"title\": {\"font\": {\"color\": \"#4D5663\"}, \"text\": \"\"}, \"zerolinecolor\": \"#E1E5ED\"}, \"yaxis4\": {\"anchor\": \"x4\", \"domain\": [0.8025, 1.0], \"gridcolor\": \"#E1E5ED\", \"showgrid\": false, \"tickfont\": {\"color\": \"#4D5663\"}, \"title\": {\"font\": {\"color\": \"#4D5663\"}, \"text\": \"\"}, \"zerolinecolor\": \"#E1E5ED\"}, \"yaxis5\": {\"anchor\": \"x5\", \"domain\": [0.535, 0.7325], \"gridcolor\": \"#E1E5ED\", \"showgrid\": false, \"tickfont\": {\"color\": \"#4D5663\"}, \"title\": {\"font\": {\"color\": \"#4D5663\"}, \"text\": \"\"}, \"zerolinecolor\": \"#E1E5ED\"}, \"yaxis6\": {\"anchor\": \"x6\", \"domain\": [0.535, 0.7325], \"gridcolor\": \"#E1E5ED\", \"showgrid\": false, \"tickfont\": {\"color\": \"#4D5663\"}, \"title\": {\"font\": {\"color\": \"#4D5663\"}, \"text\": \"\"}, \"zerolinecolor\": \"#E1E5ED\"}, \"yaxis7\": {\"anchor\": \"x7\", \"domain\": [0.535, 0.7325], \"gridcolor\": \"#E1E5ED\", \"showgrid\": false, \"tickfont\": {\"color\": \"#4D5663\"}, \"title\": {\"font\": {\"color\": \"#4D5663\"}, \"text\": \"\"}, \"zerolinecolor\": \"#E1E5ED\"}, \"yaxis8\": {\"anchor\": \"x8\", \"domain\": [0.535, 0.7325], \"gridcolor\": \"#E1E5ED\", \"showgrid\": false, \"tickfont\": {\"color\": \"#4D5663\"}, \"title\": {\"font\": {\"color\": \"#4D5663\"}, \"text\": \"\"}, \"zerolinecolor\": \"#E1E5ED\"}, \"yaxis9\": {\"anchor\": \"x9\", \"domain\": [0.2675, 0.465], \"gridcolor\": \"#E1E5ED\", \"showgrid\": false, \"tickfont\": {\"color\": \"#4D5663\"}, \"title\": {\"font\": {\"color\": \"#4D5663\"}, \"text\": \"\"}, \"zerolinecolor\": \"#E1E5ED\"}},\n",
       "                        {\"showLink\": true, \"linkText\": \"Export to plot.ly\", \"plotlyServerURL\": \"https://plot.ly\", \"responsive\": true}\n",
       "                    ).then(function(){\n",
       "                            \n",
       "var gd = document.getElementById('59fef4af-5cb7-476b-bede-9496b340321d');\n",
       "var x = new MutationObserver(function (mutations, observer) {{\n",
       "        var display = window.getComputedStyle(gd).display;\n",
       "        if (!display || display === 'none') {{\n",
       "            console.log([gd, 'removed!']);\n",
       "            Plotly.purge(gd);\n",
       "            observer.disconnect();\n",
       "        }}\n",
       "}});\n",
       "\n",
       "// Listen for the removal of the full notebook cells\n",
       "var notebookContainer = gd.closest('#notebook-container');\n",
       "if (notebookContainer) {{\n",
       "    x.observe(notebookContainer, {childList: true});\n",
       "}}\n",
       "\n",
       "// Listen for the clearing of the current output cell\n",
       "var outputEl = gd.closest('.output');\n",
       "if (outputEl) {{\n",
       "    x.observe(outputEl, {childList: true});\n",
       "}}\n",
       "\n",
       "                        })\n",
       "                };\n",
       "                });\n",
       "            </script>\n",
       "        </div>"
      ]
     },
     "metadata": {},
     "output_type": "display_data"
    }
   ],
   "source": [
    "df.scatter_matrix()"
   ]
  },
  {
   "cell_type": "markdown",
   "metadata": {
    "collapsed": true
   },
   "source": [
    "# Official Documentation\n",
    "\n",
    "https://plotly.com/python/\n",
    "\n"
   ]
  },
  {
   "cell_type": "code",
   "execution_count": null,
   "metadata": {},
   "outputs": [],
   "source": []
  }
 ],
 "metadata": {
  "kernelspec": {
   "display_name": "Python 3",
   "language": "python",
   "name": "python3"
  },
  "language_info": {
   "codemirror_mode": {
    "name": "ipython",
    "version": 3
   },
   "file_extension": ".py",
   "mimetype": "text/x-python",
   "name": "python",
   "nbconvert_exporter": "python",
   "pygments_lexer": "ipython3",
   "version": "3.8.1"
  }
 },
 "nbformat": 4,
 "nbformat_minor": 1
}
